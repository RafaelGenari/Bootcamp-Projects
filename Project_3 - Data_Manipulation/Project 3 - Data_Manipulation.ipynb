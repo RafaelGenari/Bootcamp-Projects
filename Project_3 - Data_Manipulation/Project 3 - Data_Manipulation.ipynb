{
 "cells": [
  {
   "cell_type": "markdown",
   "id": "3Xg_RQfnafXz",
   "metadata": {
    "id": "3Xg_RQfnafXz"
   },
   "source": [
    "# Let's fill the trolley!\n",
    "\n",
    "==============================================================\n",
    "\n",
    "# Vamos encher o carrinho!"
   ]
  },
  {
   "cell_type": "markdown",
   "id": "mhIvmmkW414q",
   "metadata": {
    "id": "mhIvmmkW414q"
   },
   "source": [
    "# Introduction\n",
    "\n",
    "Instacart is a supermarket delivery platform where customers can place an order at the supermarket and then receive their purchase, similar to how Uber Eats and iFood work. The data set we provided was modified from the original. We've reduced its size so that its calculations run more quickly and included missing and duplicate values. We were also careful to preserve the distributions of the original data when we made the changes.\n",
    "\n",
    "You need to complete three steps. For each one, write a brief introduction describing how you intend to complete the step and justify your decisions in explanatory paragraphs as you progress through the solution. Also write a conclusion to summarize your findings and choices.\n",
    "\n",
    "==============================================================\n",
    "\n",
    "# Introdução\n",
    "\n",
    "O Instacart é uma plataforma de entrega de supermercado onde os clientes podem fazer um pedido no supermercado e depois receber sua compra, semelhante ao funcionamento do Uber Eats e do iFood. O conjunto de dados que fornecemos foi modificado a partir do original. Reduzimos o tamanho dele para que seus cálculos sejam executados mais rapidamente e incluímos valores ausentes e duplicados. Também tivemos o cuidado de preservar as distribuições dos dados originais quando fizemos as alterações.\n",
    "\n",
    "Você precisa completar três etapas. Para cada uma delas, escreva uma breve introdução descrevendo como você pretende concluir a etapa e justifique suas decisões em parágrafos explicativos a medida que você avança na solução. Escreva também uma conclusão para resumir suas conclusões e escolhas.\n",
    "\n"
   ]
  },
  {
   "cell_type": "markdown",
   "id": "3MbyzpOQZ5Or",
   "metadata": {
    "id": "3MbyzpOQZ5Or"
   },
   "source": [
    "## Data dictionary\n",
    "\n",
    "There are five tables in the dataset, and you'll need to use all of them to pre-process your data and do AED. Below is a dictionary that lists the columns of each table and describes the data contained in them.\n",
    "\n",
    "- `instacart_orders.csv`: each row corresponds to an order in the Instacart application\n",
    "    - `'order_id'`: is the number that uniquely identifies each order\n",
    "    - `'user_id'`: is the unique identification number of each customer's account\n",
    "    - `'order_number'`: is the number of times the customer has placed an order\n",
    "    - `'order_dow'`: is the day of the week on which the order was placed (0 is Sunday)\n",
    "    - `'order_hour_of_day'`: is the time of day the order was placed\n",
    "    - `'days_since_prior_order'`: is the number of days since the customer placed their previous order\n",
    "\n",
    "\n",
    "\n",
    "\n",
    "- `products.csv`: each line corresponds to a unique product that customers can buy\n",
    "    - `'product_id'`: is the unique identification number of each product\n",
    "    - `'product_name'`: is the name of the product\n",
    "    - `'aisle_id'`: is the unique identification number of each aisle category in the supermarket\n",
    "    - `'department_id'`: is the unique identification number of each department category in the supermarket\n",
    "    \n",
    "\n",
    "\n",
    "\n",
    "- `order_products.csv`: each line corresponds to an item included in an order\n",
    "    - `'order_id'`: is the number that uniquely identifies each order\n",
    "    - `'product_id'`: is the unique identification number of each product\n",
    "    - `'add_to_cart_order'`: is the sequential order in which each item was placed in the cart\n",
    "    - `'reordered'`: 0 if the customer has never bought the product before, 1 if they have already bought it\n",
    "\n",
    "\n",
    "\n",
    "\n",
    "- `aisles.csv`\n",
    "    - `'aisle_id'`: is the unique identification number of each aisle category in the supermarket\n",
    "    - `'aisle'`: is the name of the aisle\n",
    "\n",
    "\n",
    "\n",
    "- `departments.csv`\n",
    "    - `'department_id'`: is the unique identification number of each department category in the supermarket\n",
    "    - `'department'`: is the name of the department\n",
    "    \n",
    "==============================================================\n",
    "\n",
    "`Dicionário de dados`\n",
    "\n",
    "Há cinco tabelas no conjunto de dados, e você vai precisar usar todas elas para pré-processar seus dados e fazer AED. Abaixo está um dicionário que lista as colunas de cada tabela e descreve os dados contidos nelas.\n",
    "\n",
    "- `instacart_orders.csv`: cada linha corresponde a um pedido no aplicativo da Instacart\n",
    "    - `'order_id'`: é o número que identifica cada pedido de forma exclusiva\n",
    "    - `'user_id'`: é o número de identificação exclusivo da conta de cada cliente\n",
    "    - `'order_number'`: é o número de vezes que o cliente fez um pedido\n",
    "    - `'order_dow'`: é o dia da semana em que o pedido foi feito (0 é domingo)\n",
    "    - `'order_hour_of_day'`: é a hora do dia em que o pedido foi feito\n",
    "    - `'days_since_prior_order'`: é o número de dias desde que o cliente fez seu pedido anterior\n",
    "\n",
    "\n",
    "\n",
    "\n",
    "- `products.csv`: cada linha corresponde a um produto exclusivo que os clientes podem comprar\n",
    "    - `'product_id'`: é o número de identificação unívoco de cada produto\n",
    "    - `'product_name'`: é o nome do produto\n",
    "    - `'aisle_id'`: é o número de identificação exclusivo de cada categoria de corredor do supermercado\n",
    "    - `'department_id'`: é o número de identificação exclusivo de cada categoria de departamento do supermercado\n",
    "\n",
    "\n",
    "\n",
    "\n",
    "-\t`order_products.csv`: cada linha corresponde a um item incluído em um pedido\n",
    "    -\t`'order_id'`: é o número que identifica cada pedido de forma exclusiva\n",
    "    -\t`'product_id'`: é o número de identificação exclusivo de cada produto\n",
    "    -\t`'add_to_cart_order'`: é a ordem sequencial em que cada item foi colocado no carrinho\n",
    "    -\t`'reordered'`: 0 se o cliente nunca comprou o produto antes, 1 se já o comprou\n",
    "\n",
    "\n",
    "\n",
    "\n",
    "-\t`aisles.csv`\n",
    "    -\t`'aisle_id'`: é o número de identificação exclusivo de cada categoria de corredor do supermercado\n",
    "    -\t`'aisle'`: é o nome do corredor\n",
    "\n",
    "\n",
    "\n",
    "-\t`departments.csv`\n",
    "    -\t`'department_id'`: é o número de identificação exclusivo de cada categoria de departamento do supermercado\n",
    "    -\t`'department'`: é o nome do departamento\n"
   ]
  },
  {
   "cell_type": "markdown",
   "id": "n3Ha_cNSZ8lK",
   "metadata": {
    "id": "n3Ha_cNSZ8lK"
   },
   "source": [
    "# Step 1. Overview of the data\n",
    "\n",
    "Read the data files (/datasets/instacart_orders.csv, /datasets/products.csv, /datasets/aisles.csv, /datasets/departments.csv and /datasets/order_products.csv) with `pd.read_csv()` using the appropriate parameters to do this correctly. Check the information for each DataFrame created.\n",
    "\n",
    "==============================================================\n",
    "\n",
    "# Etapa 1. Visão geral dos dados\n",
    "\n",
    "Leia os arquivos de dados (/datasets/instacart_orders.csv, /datasets/products.csv, /datasets/aisles.csv, /datasets/departments.csv e /datasets/order_products.csv) com `pd.read_csv()` usando os parâmetros apropriados para fazer isso corretamente. Verifique as informações para cada DataFrame criado.\n"
   ]
  },
  {
   "cell_type": "markdown",
   "id": "OmlQPLlyaAfR",
   "metadata": {
    "id": "OmlQPLlyaAfR"
   },
   "source": [
    "## Solution plan\n",
    "\n",
    "First it's necessary to clean the data, which means checking and removing missing and duplicate values, so that once the information is more correct and easier to analyze, you can start evaluating all the necessary points.\n",
    "\n",
    "==============================================================\n",
    "\n",
    "## Plano de solução\n",
    "\n",
    "Primeiro será preciso fazer a limpeza dos dados, que será verificar e remover valores ausentes e duplicados, para que uma vez que as informações estejam mais corretas e simples para análise, iniciar a avaliação de todos os pontos necessários."
   ]
  },
  {
   "cell_type": "code",
   "execution_count": 1,
   "id": "fbf1adab",
   "metadata": {
    "id": "fbf1adab"
   },
   "outputs": [],
   "source": [
    "# Import the libraries / Importe as bibliotecas\n",
    "\n",
    "import pandas as pd # standard \"libraries\" / bibliotecas \"padrões\"\n",
    "import numpy as np # standard \"libraries\" / bibliotecas \"padrões\"\n",
    "from matplotlib import pyplot as plt # standard \"libraries\" / bibliotecas \"padrões\"\n",
    "import seaborn as sns"
   ]
  },
  {
   "cell_type": "code",
   "execution_count": 2,
   "id": "ad36396d",
   "metadata": {
    "id": "ad36396d"
   },
   "outputs": [],
   "source": [
    "# read the datasets in DataFrames / leia os conjuntos de dados em DataFrames\n",
    "\n",
    "df_instacart_orders = pd.read_csv('/datasets/instacart_orders.csv', sep = ';')\n",
    "df_products = pd.read_csv('/datasets/products.csv', sep = ';')\n",
    "df_aisles = pd.read_csv('/datasets/aisles.csv', sep = ';')\n",
    "df_departments = pd.read_csv('/datasets/departments.csv', sep = ';')\n",
    "df_order_products = pd.read_csv('/datasets/order_products.csv', sep = ';')\n",
    "\n",
    "# after checking the data, sep = ';' was added to make the data display more organized / após verificação dos dados, foi adicionado o sep = ';' para deixar a visualização dos dados mais organizada\n",
    "\n",
    "# read the data in the VSCode below / leitudas dados no VSCode abaixo:\n",
    "\n",
    "# df_instacart_orders = pd.read_csv(r'datasets\\instacart_orders.csv', sep = ';')\n",
    "# df_products = pd.read_csv(r'datasets\\products.csv', sep = ';')\n",
    "# df_aisles = pd.read_csv(r'datasets\\aisles.csv', sep = ';')\n",
    "# df_departments = pd.read_csv(r'datasets\\departments.csv', sep = ';')\n",
    "# df_order_products = pd.read_csv(r'datasets\\order_products.csv', sep = ';')"
   ]
  },
  {
   "cell_type": "code",
   "execution_count": 3,
   "id": "ad6a1efa",
   "metadata": {
    "id": "ad6a1efa"
   },
   "outputs": [
    {
     "name": "stdout",
     "output_type": "stream",
     "text": [
      "<class 'pandas.core.frame.DataFrame'>\n",
      "RangeIndex: 478967 entries, 0 to 478966\n",
      "Data columns (total 6 columns):\n",
      " #   Column                  Non-Null Count   Dtype  \n",
      "---  ------                  --------------   -----  \n",
      " 0   order_id                478967 non-null  int64  \n",
      " 1   user_id                 478967 non-null  int64  \n",
      " 2   order_number            478967 non-null  int64  \n",
      " 3   order_dow               478967 non-null  int64  \n",
      " 4   order_hour_of_day       478967 non-null  int64  \n",
      " 5   days_since_prior_order  450148 non-null  float64\n",
      "dtypes: float64(1), int64(5)\n",
      "memory usage: 21.9 MB\n",
      "\n"
     ]
    },
    {
     "data": {
      "text/html": [
       "<div>\n",
       "<style scoped>\n",
       "    .dataframe tbody tr th:only-of-type {\n",
       "        vertical-align: middle;\n",
       "    }\n",
       "\n",
       "    .dataframe tbody tr th {\n",
       "        vertical-align: top;\n",
       "    }\n",
       "\n",
       "    .dataframe thead th {\n",
       "        text-align: right;\n",
       "    }\n",
       "</style>\n",
       "<table border=\"1\" class=\"dataframe\">\n",
       "  <thead>\n",
       "    <tr style=\"text-align: right;\">\n",
       "      <th></th>\n",
       "      <th>order_id</th>\n",
       "      <th>user_id</th>\n",
       "      <th>order_number</th>\n",
       "      <th>order_dow</th>\n",
       "      <th>order_hour_of_day</th>\n",
       "      <th>days_since_prior_order</th>\n",
       "    </tr>\n",
       "  </thead>\n",
       "  <tbody>\n",
       "    <tr>\n",
       "      <th>0</th>\n",
       "      <td>1515936</td>\n",
       "      <td>183418</td>\n",
       "      <td>11</td>\n",
       "      <td>6</td>\n",
       "      <td>13</td>\n",
       "      <td>30.0</td>\n",
       "    </tr>\n",
       "    <tr>\n",
       "      <th>1</th>\n",
       "      <td>1690866</td>\n",
       "      <td>163593</td>\n",
       "      <td>5</td>\n",
       "      <td>5</td>\n",
       "      <td>12</td>\n",
       "      <td>9.0</td>\n",
       "    </tr>\n",
       "    <tr>\n",
       "      <th>2</th>\n",
       "      <td>1454967</td>\n",
       "      <td>39980</td>\n",
       "      <td>4</td>\n",
       "      <td>5</td>\n",
       "      <td>19</td>\n",
       "      <td>2.0</td>\n",
       "    </tr>\n",
       "    <tr>\n",
       "      <th>3</th>\n",
       "      <td>1768857</td>\n",
       "      <td>82516</td>\n",
       "      <td>56</td>\n",
       "      <td>0</td>\n",
       "      <td>20</td>\n",
       "      <td>10.0</td>\n",
       "    </tr>\n",
       "    <tr>\n",
       "      <th>4</th>\n",
       "      <td>3007858</td>\n",
       "      <td>196724</td>\n",
       "      <td>2</td>\n",
       "      <td>4</td>\n",
       "      <td>12</td>\n",
       "      <td>17.0</td>\n",
       "    </tr>\n",
       "  </tbody>\n",
       "</table>\n",
       "</div>"
      ],
      "text/plain": [
       "   order_id  user_id  order_number  order_dow  order_hour_of_day  \\\n",
       "0   1515936   183418            11          6                 13   \n",
       "1   1690866   163593             5          5                 12   \n",
       "2   1454967    39980             4          5                 19   \n",
       "3   1768857    82516            56          0                 20   \n",
       "4   3007858   196724             2          4                 12   \n",
       "\n",
       "   days_since_prior_order  \n",
       "0                    30.0  \n",
       "1                     9.0  \n",
       "2                     2.0  \n",
       "3                    10.0  \n",
       "4                    17.0  "
      ]
     },
     "execution_count": 3,
     "metadata": {},
     "output_type": "execute_result"
    }
   ],
   "source": [
    "# information about DataFrame / informações sobre o DataFrame\n",
    "\n",
    "df_instacart_orders.info() # prints general information / imprime informações gerais\n",
    "print() # spacing line / linha de espaçamento\n",
    "df_instacart_orders.head() # print the first 5 lines / imprime as 5 linhas iniciais"
   ]
  },
  {
   "cell_type": "code",
   "execution_count": 4,
   "id": "5130e05e",
   "metadata": {
    "id": "5130e05e"
   },
   "outputs": [
    {
     "name": "stdout",
     "output_type": "stream",
     "text": [
      "<class 'pandas.core.frame.DataFrame'>\n",
      "RangeIndex: 49694 entries, 0 to 49693\n",
      "Data columns (total 4 columns):\n",
      " #   Column         Non-Null Count  Dtype \n",
      "---  ------         --------------  ----- \n",
      " 0   product_id     49694 non-null  int64 \n",
      " 1   product_name   48436 non-null  object\n",
      " 2   aisle_id       49694 non-null  int64 \n",
      " 3   department_id  49694 non-null  int64 \n",
      "dtypes: int64(3), object(1)\n",
      "memory usage: 1.5+ MB\n",
      "\n"
     ]
    },
    {
     "data": {
      "text/html": [
       "<div>\n",
       "<style scoped>\n",
       "    .dataframe tbody tr th:only-of-type {\n",
       "        vertical-align: middle;\n",
       "    }\n",
       "\n",
       "    .dataframe tbody tr th {\n",
       "        vertical-align: top;\n",
       "    }\n",
       "\n",
       "    .dataframe thead th {\n",
       "        text-align: right;\n",
       "    }\n",
       "</style>\n",
       "<table border=\"1\" class=\"dataframe\">\n",
       "  <thead>\n",
       "    <tr style=\"text-align: right;\">\n",
       "      <th></th>\n",
       "      <th>product_id</th>\n",
       "      <th>product_name</th>\n",
       "      <th>aisle_id</th>\n",
       "      <th>department_id</th>\n",
       "    </tr>\n",
       "  </thead>\n",
       "  <tbody>\n",
       "    <tr>\n",
       "      <th>0</th>\n",
       "      <td>1</td>\n",
       "      <td>Chocolate Sandwich Cookies</td>\n",
       "      <td>61</td>\n",
       "      <td>19</td>\n",
       "    </tr>\n",
       "    <tr>\n",
       "      <th>1</th>\n",
       "      <td>2</td>\n",
       "      <td>All-Seasons Salt</td>\n",
       "      <td>104</td>\n",
       "      <td>13</td>\n",
       "    </tr>\n",
       "    <tr>\n",
       "      <th>2</th>\n",
       "      <td>3</td>\n",
       "      <td>Robust Golden Unsweetened Oolong Tea</td>\n",
       "      <td>94</td>\n",
       "      <td>7</td>\n",
       "    </tr>\n",
       "    <tr>\n",
       "      <th>3</th>\n",
       "      <td>4</td>\n",
       "      <td>Smart Ones Classic Favorites Mini Rigatoni Wit...</td>\n",
       "      <td>38</td>\n",
       "      <td>1</td>\n",
       "    </tr>\n",
       "    <tr>\n",
       "      <th>4</th>\n",
       "      <td>5</td>\n",
       "      <td>Green Chile Anytime Sauce</td>\n",
       "      <td>5</td>\n",
       "      <td>13</td>\n",
       "    </tr>\n",
       "  </tbody>\n",
       "</table>\n",
       "</div>"
      ],
      "text/plain": [
       "   product_id                                       product_name  aisle_id  \\\n",
       "0           1                         Chocolate Sandwich Cookies        61   \n",
       "1           2                                   All-Seasons Salt       104   \n",
       "2           3               Robust Golden Unsweetened Oolong Tea        94   \n",
       "3           4  Smart Ones Classic Favorites Mini Rigatoni Wit...        38   \n",
       "4           5                          Green Chile Anytime Sauce         5   \n",
       "\n",
       "   department_id  \n",
       "0             19  \n",
       "1             13  \n",
       "2              7  \n",
       "3              1  \n",
       "4             13  "
      ]
     },
     "execution_count": 4,
     "metadata": {},
     "output_type": "execute_result"
    }
   ],
   "source": [
    "# information about DataFrame / informações sobre o DataFrame\n",
    "\n",
    "df_products.info()\n",
    "print()\n",
    "df_products.head()"
   ]
  },
  {
   "cell_type": "code",
   "execution_count": 5,
   "id": "d8370c05",
   "metadata": {
    "id": "d8370c05"
   },
   "outputs": [
    {
     "name": "stdout",
     "output_type": "stream",
     "text": [
      "<class 'pandas.core.frame.DataFrame'>\n",
      "RangeIndex: 134 entries, 0 to 133\n",
      "Data columns (total 2 columns):\n",
      " #   Column    Non-Null Count  Dtype \n",
      "---  ------    --------------  ----- \n",
      " 0   aisle_id  134 non-null    int64 \n",
      " 1   aisle     134 non-null    object\n",
      "dtypes: int64(1), object(1)\n",
      "memory usage: 2.2+ KB\n",
      "\n"
     ]
    },
    {
     "data": {
      "text/html": [
       "<div>\n",
       "<style scoped>\n",
       "    .dataframe tbody tr th:only-of-type {\n",
       "        vertical-align: middle;\n",
       "    }\n",
       "\n",
       "    .dataframe tbody tr th {\n",
       "        vertical-align: top;\n",
       "    }\n",
       "\n",
       "    .dataframe thead th {\n",
       "        text-align: right;\n",
       "    }\n",
       "</style>\n",
       "<table border=\"1\" class=\"dataframe\">\n",
       "  <thead>\n",
       "    <tr style=\"text-align: right;\">\n",
       "      <th></th>\n",
       "      <th>aisle_id</th>\n",
       "      <th>aisle</th>\n",
       "    </tr>\n",
       "  </thead>\n",
       "  <tbody>\n",
       "    <tr>\n",
       "      <th>0</th>\n",
       "      <td>1</td>\n",
       "      <td>prepared soups salads</td>\n",
       "    </tr>\n",
       "    <tr>\n",
       "      <th>1</th>\n",
       "      <td>2</td>\n",
       "      <td>specialty cheeses</td>\n",
       "    </tr>\n",
       "    <tr>\n",
       "      <th>2</th>\n",
       "      <td>3</td>\n",
       "      <td>energy granola bars</td>\n",
       "    </tr>\n",
       "    <tr>\n",
       "      <th>3</th>\n",
       "      <td>4</td>\n",
       "      <td>instant foods</td>\n",
       "    </tr>\n",
       "    <tr>\n",
       "      <th>4</th>\n",
       "      <td>5</td>\n",
       "      <td>marinades meat preparation</td>\n",
       "    </tr>\n",
       "  </tbody>\n",
       "</table>\n",
       "</div>"
      ],
      "text/plain": [
       "   aisle_id                       aisle\n",
       "0         1       prepared soups salads\n",
       "1         2           specialty cheeses\n",
       "2         3         energy granola bars\n",
       "3         4               instant foods\n",
       "4         5  marinades meat preparation"
      ]
     },
     "execution_count": 5,
     "metadata": {},
     "output_type": "execute_result"
    }
   ],
   "source": [
    "# information about DataFrame / informações sobre o DataFrame\n",
    "\n",
    "df_aisles.info()\n",
    "print()\n",
    "df_aisles.head()"
   ]
  },
  {
   "cell_type": "code",
   "execution_count": 6,
   "id": "59e2090f",
   "metadata": {
    "id": "59e2090f"
   },
   "outputs": [
    {
     "name": "stdout",
     "output_type": "stream",
     "text": [
      "<class 'pandas.core.frame.DataFrame'>\n",
      "RangeIndex: 21 entries, 0 to 20\n",
      "Data columns (total 2 columns):\n",
      " #   Column         Non-Null Count  Dtype \n",
      "---  ------         --------------  ----- \n",
      " 0   department_id  21 non-null     int64 \n",
      " 1   department     21 non-null     object\n",
      "dtypes: int64(1), object(1)\n",
      "memory usage: 464.0+ bytes\n",
      "\n"
     ]
    },
    {
     "data": {
      "text/html": [
       "<div>\n",
       "<style scoped>\n",
       "    .dataframe tbody tr th:only-of-type {\n",
       "        vertical-align: middle;\n",
       "    }\n",
       "\n",
       "    .dataframe tbody tr th {\n",
       "        vertical-align: top;\n",
       "    }\n",
       "\n",
       "    .dataframe thead th {\n",
       "        text-align: right;\n",
       "    }\n",
       "</style>\n",
       "<table border=\"1\" class=\"dataframe\">\n",
       "  <thead>\n",
       "    <tr style=\"text-align: right;\">\n",
       "      <th></th>\n",
       "      <th>department_id</th>\n",
       "      <th>department</th>\n",
       "    </tr>\n",
       "  </thead>\n",
       "  <tbody>\n",
       "    <tr>\n",
       "      <th>0</th>\n",
       "      <td>1</td>\n",
       "      <td>frozen</td>\n",
       "    </tr>\n",
       "    <tr>\n",
       "      <th>1</th>\n",
       "      <td>2</td>\n",
       "      <td>other</td>\n",
       "    </tr>\n",
       "    <tr>\n",
       "      <th>2</th>\n",
       "      <td>3</td>\n",
       "      <td>bakery</td>\n",
       "    </tr>\n",
       "    <tr>\n",
       "      <th>3</th>\n",
       "      <td>4</td>\n",
       "      <td>produce</td>\n",
       "    </tr>\n",
       "    <tr>\n",
       "      <th>4</th>\n",
       "      <td>5</td>\n",
       "      <td>alcohol</td>\n",
       "    </tr>\n",
       "  </tbody>\n",
       "</table>\n",
       "</div>"
      ],
      "text/plain": [
       "   department_id department\n",
       "0              1     frozen\n",
       "1              2      other\n",
       "2              3     bakery\n",
       "3              4    produce\n",
       "4              5    alcohol"
      ]
     },
     "execution_count": 6,
     "metadata": {},
     "output_type": "execute_result"
    }
   ],
   "source": [
    "# information about DataFrame / informações sobre o DataFrame\n",
    "\n",
    "df_departments.info()\n",
    "print()\n",
    "df_departments.head()"
   ]
  },
  {
   "cell_type": "code",
   "execution_count": 7,
   "id": "6fc81694",
   "metadata": {
    "id": "6fc81694"
   },
   "outputs": [
    {
     "name": "stdout",
     "output_type": "stream",
     "text": [
      "<class 'pandas.core.frame.DataFrame'>\n",
      "RangeIndex: 4545007 entries, 0 to 4545006\n",
      "Data columns (total 4 columns):\n",
      " #   Column             Non-Null Count    Dtype  \n",
      "---  ------             --------------    -----  \n",
      " 0   order_id           4545007 non-null  int64  \n",
      " 1   product_id         4545007 non-null  int64  \n",
      " 2   add_to_cart_order  4544171 non-null  float64\n",
      " 3   reordered          4545007 non-null  int64  \n",
      "dtypes: float64(1), int64(3)\n",
      "memory usage: 138.7 MB\n",
      "\n"
     ]
    },
    {
     "data": {
      "text/html": [
       "<div>\n",
       "<style scoped>\n",
       "    .dataframe tbody tr th:only-of-type {\n",
       "        vertical-align: middle;\n",
       "    }\n",
       "\n",
       "    .dataframe tbody tr th {\n",
       "        vertical-align: top;\n",
       "    }\n",
       "\n",
       "    .dataframe thead th {\n",
       "        text-align: right;\n",
       "    }\n",
       "</style>\n",
       "<table border=\"1\" class=\"dataframe\">\n",
       "  <thead>\n",
       "    <tr style=\"text-align: right;\">\n",
       "      <th></th>\n",
       "      <th>order_id</th>\n",
       "      <th>product_id</th>\n",
       "      <th>add_to_cart_order</th>\n",
       "      <th>reordered</th>\n",
       "    </tr>\n",
       "  </thead>\n",
       "  <tbody>\n",
       "    <tr>\n",
       "      <th>0</th>\n",
       "      <td>2141543</td>\n",
       "      <td>11440</td>\n",
       "      <td>17.0</td>\n",
       "      <td>0</td>\n",
       "    </tr>\n",
       "    <tr>\n",
       "      <th>1</th>\n",
       "      <td>567889</td>\n",
       "      <td>1560</td>\n",
       "      <td>1.0</td>\n",
       "      <td>1</td>\n",
       "    </tr>\n",
       "    <tr>\n",
       "      <th>2</th>\n",
       "      <td>2261212</td>\n",
       "      <td>26683</td>\n",
       "      <td>1.0</td>\n",
       "      <td>1</td>\n",
       "    </tr>\n",
       "    <tr>\n",
       "      <th>3</th>\n",
       "      <td>491251</td>\n",
       "      <td>8670</td>\n",
       "      <td>35.0</td>\n",
       "      <td>1</td>\n",
       "    </tr>\n",
       "    <tr>\n",
       "      <th>4</th>\n",
       "      <td>2571142</td>\n",
       "      <td>1940</td>\n",
       "      <td>5.0</td>\n",
       "      <td>1</td>\n",
       "    </tr>\n",
       "  </tbody>\n",
       "</table>\n",
       "</div>"
      ],
      "text/plain": [
       "   order_id  product_id  add_to_cart_order  reordered\n",
       "0   2141543       11440               17.0          0\n",
       "1    567889        1560                1.0          1\n",
       "2   2261212       26683                1.0          1\n",
       "3    491251        8670               35.0          1\n",
       "4   2571142        1940                5.0          1"
      ]
     },
     "execution_count": 7,
     "metadata": {},
     "output_type": "execute_result"
    }
   ],
   "source": [
    "# information about DataFrame / informações sobre o DataFrame\n",
    "\n",
    "df_order_products.info(show_counts=True)\n",
    "print()\n",
    "df_order_products.head()"
   ]
  },
  {
   "cell_type": "markdown",
   "id": "t75BD19oaR5f",
   "metadata": {
    "id": "t75BD19oaR5f"
   },
   "source": [
    "## Conclusions\n",
    "\n",
    "Write your intermediate conclusions from Step 1 here. Overview of the data\n",
    "\n",
    "\n",
    "\n",
    "In the initial analysis we can see the following characteristics in each file:\n",
    "\n",
    "Instacart_orders:\n",
    "        - We have a total of entries = 478967;\n",
    "        - We have 6 columns (order_id, user_id, order_number, order_dow, order_hour_of_day, days_since_prior_order)\n",
    "        - In the days_since_prior_order column we have 28,819 missing values, the rest are complete on first analysis\n",
    "        - The columns are of type integer or float\n",
    "\n",
    "Products:\n",
    "        - We have a total of entries = 49694;\n",
    "        - We have 4 columns (product_id, product_name, aisle_id, department_id)\n",
    "        - At first, there are no missing values, so this is an initial analysis.\n",
    "        - The columns are of type integer or object\n",
    "\n",
    "Aisles:\n",
    "        - We have a total of entries = 134;\n",
    "        - We have 2 columns (aisle_id, aisle)\n",
    "        - At first there are no missing values, this is a first analysis\n",
    "        - The columns are of type integer or object\n",
    "\n",
    "Departments:\n",
    "        - We have a total of entries = 21;\n",
    "        - We have 2 columns (department_id, department)\n",
    "        - At first, there are no missing values, so this is an initial analysis\n",
    "        - The columns are of type integer or object\n",
    "    \n",
    "Order_products:\n",
    "        - We have a total of entries = 4545007;\n",
    "        - We have 4 columns (order_id, product_id, add_to_cart_order, reordered)\n",
    "        - In the add_to_cart_order column we have 836 missing values, the rest are complete on first analysis.\n",
    "        - The columns are of type integer or float\n",
    "        \n",
    "==============================================================        \n",
    "\n",
    "`Conclusões`\n",
    "\n",
    "Escreva aqui suas conclusões intermediárias da Etapa 1. Visão geral dos dados\n",
    "\n",
    "\n",
    "\n",
    "Na análise inicial podemos perceber as seguintes características em cada arquivo:\n",
    "\n",
    "Instacart_orders:\n",
    "        - Temos um total de entradas = 478967;\n",
    "        - Temos 6 colunas (order_id, user_id, order_number, order_dow, order_hour_of_day, days_since_prior_order)\n",
    "        - Na coluna days_since_prior_order  temos 28.819 valores ausentes, as restantes estão completas em uma primeira análise\n",
    "        - As colunas são do tipo inteiro ou float\n",
    "\n",
    "Products:\n",
    "        - Temos um total de entradas = 49694;\n",
    "        - Temos 4 colunas (product_id, product_name, aisle_id, department_id)\n",
    "        - A princípio não tem valores ausentes, sendo essa uma primeira análise\n",
    "        - As colunas são do tipo inteiro ou object\n",
    "\n",
    "Aisles:\n",
    "        - Temos um total de entradas = 134;\n",
    "        - Temos 2 colunas (aisle_id, aisle)\n",
    "        - A princípio não tem valores ausentes, sendo essa uma primeira análise\n",
    "        - As colunas são do tipo inteiro ou object\n",
    "    \n",
    "Departments:\n",
    "        - Temos um total de entradas = 21;\n",
    "        - Temos 2 colunas (department_id, department)\n",
    "        - A princípio não tem valores ausentes, sendo essa uma primeira análise\n",
    "        - As colunas são do tipo inteiro ou object\n",
    "    \n",
    "Order_products:\n",
    "        - Temos um total de entradas = 4545007;\n",
    "        - Temos 4 colunas (order_id, product_id, add_to_cart_order, reordered)\n",
    "        - Na coluna add_to_cart_order  temos 836 valores ausentes, as restantes estão completas em uma primeira análise\n",
    "        - As colunas são do tipo inteiro ou float"
   ]
  },
  {
   "cell_type": "markdown",
   "id": "8RJHqxVmaVsF",
   "metadata": {
    "id": "8RJHqxVmaVsF"
   },
   "source": [
    "# Step 2. Data preparation\n",
    "\n",
    "Pre-process the data as follows:\n",
    "\n",
    "- Check and correct the data types (for example, make sure the ID columns are whole numbers).\n",
    "- Identify and fill in missing values\n",
    "- Identify and remove duplicate values\n",
    "\n",
    "Make sure you explain what types of missing and duplicate values you found, how you filled or removed them, why you chose these methods and why you think these missing and duplicate values were present in the dataset.\n",
    "\n",
    "==============================================================\n",
    "\n",
    "`Etapa 2. Preparação de dados`\n",
    "\n",
    "Faça o pré-processamento dos dados da seguinte maneira:\n",
    "\n",
    "-\tVerifique e corrija os tipos de dados (por exemplo, certifique-se de que as colunas de ID sejam números inteiros)\n",
    "-\tIdentifique e preencha valores ausentes\n",
    "-\tIdentifique e remova valores duplicados\n",
    "\n",
    "Certifique-se de explicar que tipos de valores ausentes e duplicados você encontrou, como você os preencheu ou removeu, por que escolheu esses métodos e por que você acha que esses valores ausentes e duplicados estavam presentes no conjunto de dados."
   ]
  },
  {
   "cell_type": "markdown",
   "id": "p6poABZQaZYb",
   "metadata": {
    "id": "p6poABZQaZYb"
   },
   "source": [
    "## Solution plan\n",
    "\n",
    "For step 2 I have already checked, with the information requested before, that the columns are all lowercase, separated by _ and the ID columns are all as int. I'll also check that there are no trailing spaces to ensure that the columns are named correctly.\n",
    "\n",
    "After that, I'll check to see whether or not there are any missing/duplicate values and clean up as necessary, either by removing the information from the dataframe or by replacing it.\n",
    "\n",
    "==============================================================\n",
    "\n",
    "`Plano de solução`\n",
    "\n",
    "Para a etapa 2 já verifiquei, com as informaçõe solicitadas antes, de que as colunas estão todas com letras minúsculas, separadas por _ e as colunas de ID estão todas como int. Além disso, vou verificar se não existe espaços final para garantir que as colunas estão nomeadas corretamente.\n",
    "\n",
    "Depois disso, irei verificar identificar se há ou não valores ausentes/duplicados e limpar tudo o que for preciso, seja removendo as informações do dataframe ou substituindo."
   ]
  },
  {
   "cell_type": "markdown",
   "id": "07357848-dc64-4156-9cc3-01ff4365226d",
   "metadata": {
    "id": "07357848-dc64-4156-9cc3-01ff4365226d"
   },
   "source": [
    "## Find and remove duplicate values (and describe why you are making your choices)\n",
    "\n",
    "==============================================================\n",
    "\n",
    "`Encontre e remova valores duplicados (e descreva por que você está fazendo suas escolhas)`"
   ]
  },
  {
   "cell_type": "markdown",
   "id": "f179f0a9",
   "metadata": {
    "id": "f179f0a9"
   },
   "source": [
    "### DataFrame `instacart_orders`"
   ]
  },
  {
   "cell_type": "code",
   "execution_count": 59,
   "id": "b99297a5-405a-463d-8535-9adc3da4ad74",
   "metadata": {
    "id": "b99297a5-405a-463d-8535-9adc3da4ad74"
   },
   "outputs": [
    {
     "name": "stdout",
     "output_type": "stream",
     "text": [
      "Empty DataFrame\n",
      "Columns: [order_id, user_id, order_number, order_dow, order_hour_of_day, days_since_prior_order]\n",
      "Index: []\n",
      "\n",
      "0\n"
     ]
    }
   ],
   "source": [
    "# Check for duplicate orders / Verificar se há pedidos duplicados\n",
    "\n",
    "print(df_instacart_orders[df_instacart_orders.duplicated()]) # prints all duplicate values / imprime todos valores duplicados\n",
    "print() # blank space to skip 1 line and facilitate visualization / espaço em branco para saltar 1 linha e facilitar visualização\n",
    "print(df_instacart_orders.duplicated().sum()) # sum of duplicate values / soma dos valores duplicados"
   ]
  },
  {
   "cell_type": "markdown",
   "id": "PEkwUX_gvt5A",
   "metadata": {
    "id": "PEkwUX_gvt5A"
   },
   "source": [
    "Are there duplicate lines? If so, what do they have in common?\n",
    "\n",
    "Yes, we have 15 rows with duplicate values. They have duplicate data in the 'order_dow' and 'order_hour_of_day' columns.\n",
    "\n",
    "==============================================================\n",
    "\n",
    "Há linhas duplicadas? Se sim, o que elas têm em comum?\n",
    "\n",
    "Sim, temos 15 linhas com valores duplicados. Elas têm em comum dados duplicados na coluna 'order_dow' e 'order_hour_of_day'."
   ]
  },
  {
   "cell_type": "code",
   "execution_count": 9,
   "id": "0d44de5d",
   "metadata": {
    "id": "0d44de5d"
   },
   "outputs": [
    {
     "data": {
      "text/html": [
       "<div>\n",
       "<style scoped>\n",
       "    .dataframe tbody tr th:only-of-type {\n",
       "        vertical-align: middle;\n",
       "    }\n",
       "\n",
       "    .dataframe tbody tr th {\n",
       "        vertical-align: top;\n",
       "    }\n",
       "\n",
       "    .dataframe thead th {\n",
       "        text-align: right;\n",
       "    }\n",
       "</style>\n",
       "<table border=\"1\" class=\"dataframe\">\n",
       "  <thead>\n",
       "    <tr style=\"text-align: right;\">\n",
       "      <th></th>\n",
       "      <th>order_id</th>\n",
       "      <th>user_id</th>\n",
       "      <th>order_number</th>\n",
       "      <th>order_dow</th>\n",
       "      <th>order_hour_of_day</th>\n",
       "      <th>days_since_prior_order</th>\n",
       "    </tr>\n",
       "  </thead>\n",
       "  <tbody>\n",
       "    <tr>\n",
       "      <th>4838</th>\n",
       "      <td>2766110</td>\n",
       "      <td>162084</td>\n",
       "      <td>41</td>\n",
       "      <td>3</td>\n",
       "      <td>2</td>\n",
       "      <td>16.0</td>\n",
       "    </tr>\n",
       "    <tr>\n",
       "      <th>5156</th>\n",
       "      <td>2190225</td>\n",
       "      <td>138285</td>\n",
       "      <td>18</td>\n",
       "      <td>3</td>\n",
       "      <td>2</td>\n",
       "      <td>11.0</td>\n",
       "    </tr>\n",
       "    <tr>\n",
       "      <th>15506</th>\n",
       "      <td>553049</td>\n",
       "      <td>58599</td>\n",
       "      <td>13</td>\n",
       "      <td>3</td>\n",
       "      <td>2</td>\n",
       "      <td>7.0</td>\n",
       "    </tr>\n",
       "    <tr>\n",
       "      <th>18420</th>\n",
       "      <td>382357</td>\n",
       "      <td>120200</td>\n",
       "      <td>19</td>\n",
       "      <td>3</td>\n",
       "      <td>2</td>\n",
       "      <td>11.0</td>\n",
       "    </tr>\n",
       "    <tr>\n",
       "      <th>24691</th>\n",
       "      <td>690242</td>\n",
       "      <td>77357</td>\n",
       "      <td>2</td>\n",
       "      <td>3</td>\n",
       "      <td>2</td>\n",
       "      <td>9.0</td>\n",
       "    </tr>\n",
       "    <tr>\n",
       "      <th>...</th>\n",
       "      <td>...</td>\n",
       "      <td>...</td>\n",
       "      <td>...</td>\n",
       "      <td>...</td>\n",
       "      <td>...</td>\n",
       "      <td>...</td>\n",
       "    </tr>\n",
       "    <tr>\n",
       "      <th>457013</th>\n",
       "      <td>3384021</td>\n",
       "      <td>14881</td>\n",
       "      <td>6</td>\n",
       "      <td>3</td>\n",
       "      <td>2</td>\n",
       "      <td>30.0</td>\n",
       "    </tr>\n",
       "    <tr>\n",
       "      <th>458816</th>\n",
       "      <td>910166</td>\n",
       "      <td>164782</td>\n",
       "      <td>18</td>\n",
       "      <td>3</td>\n",
       "      <td>2</td>\n",
       "      <td>4.0</td>\n",
       "    </tr>\n",
       "    <tr>\n",
       "      <th>459635</th>\n",
       "      <td>1680532</td>\n",
       "      <td>106435</td>\n",
       "      <td>6</td>\n",
       "      <td>3</td>\n",
       "      <td>2</td>\n",
       "      <td>21.0</td>\n",
       "    </tr>\n",
       "    <tr>\n",
       "      <th>468324</th>\n",
       "      <td>222962</td>\n",
       "      <td>54979</td>\n",
       "      <td>59</td>\n",
       "      <td>3</td>\n",
       "      <td>2</td>\n",
       "      <td>3.0</td>\n",
       "    </tr>\n",
       "    <tr>\n",
       "      <th>477526</th>\n",
       "      <td>2592344</td>\n",
       "      <td>46860</td>\n",
       "      <td>38</td>\n",
       "      <td>3</td>\n",
       "      <td>2</td>\n",
       "      <td>3.0</td>\n",
       "    </tr>\n",
       "  </tbody>\n",
       "</table>\n",
       "<p>121 rows × 6 columns</p>\n",
       "</div>"
      ],
      "text/plain": [
       "        order_id  user_id  order_number  order_dow  order_hour_of_day  \\\n",
       "4838     2766110   162084            41          3                  2   \n",
       "5156     2190225   138285            18          3                  2   \n",
       "15506     553049    58599            13          3                  2   \n",
       "18420     382357   120200            19          3                  2   \n",
       "24691     690242    77357             2          3                  2   \n",
       "...          ...      ...           ...        ...                ...   \n",
       "457013   3384021    14881             6          3                  2   \n",
       "458816    910166   164782            18          3                  2   \n",
       "459635   1680532   106435             6          3                  2   \n",
       "468324    222962    54979            59          3                  2   \n",
       "477526   2592344    46860            38          3                  2   \n",
       "\n",
       "        days_since_prior_order  \n",
       "4838                      16.0  \n",
       "5156                      11.0  \n",
       "15506                      7.0  \n",
       "18420                     11.0  \n",
       "24691                      9.0  \n",
       "...                        ...  \n",
       "457013                    30.0  \n",
       "458816                     4.0  \n",
       "459635                    21.0  \n",
       "468324                     3.0  \n",
       "477526                     3.0  \n",
       "\n",
       "[121 rows x 6 columns]"
      ]
     },
     "execution_count": 9,
     "metadata": {},
     "output_type": "execute_result"
    }
   ],
   "source": [
    "# Based on your findings / Com base nas suas conclusões,\n",
    "\n",
    "# check all orders placed at 2 a.m. on Wednesdays / verifique todos os pedidos feitos às 2h da manhã nas quartas-feiras\n",
    "\n",
    "orders_2am_wednesday = df_instacart_orders[(df_instacart_orders['order_hour_of_day'] == 2) & (df_instacart_orders['order_dow'] == 3)] # filter for orders placed at 2 a.m. on Wednesdays / filtro para pedidos feitos às 2h da manhã nas quartas-feiras\n",
    "\n",
    "orders_2am_wednesday"
   ]
  },
  {
   "cell_type": "markdown",
   "id": "vu2OWyoqwOx5",
   "metadata": {
    "id": "vu2OWyoqwOx5"
   },
   "source": [
    "What does this result mean?\n",
    "\n",
    "We have a total of 121 requests made at 2am on Wednesday morning\n",
    "\n",
    "==============================================================\n",
    "\n",
    "O que esse resultado quer dizer?\n",
    "\n",
    "Temos um total de 121 pedidos feitos às 2h da manhã de quarta-feira"
   ]
  },
  {
   "cell_type": "code",
   "execution_count": 10,
   "id": "480563c7",
   "metadata": {
    "id": "480563c7"
   },
   "outputs": [],
   "source": [
    "# Remove duplicate orders / Remova pedidos duplicados\n",
    "\n",
    "df_instacart_orders = df_instacart_orders.drop_duplicates()"
   ]
  },
  {
   "cell_type": "code",
   "execution_count": 11,
   "id": "0b2396a2",
   "metadata": {
    "id": "0b2396a2"
   },
   "outputs": [
    {
     "data": {
      "text/plain": [
       "0"
      ]
     },
     "execution_count": 11,
     "metadata": {},
     "output_type": "execute_result"
    }
   ],
   "source": [
    "# Check the duplicate lines one more time / Verifique as linhas duplicadas mais uma vez\n",
    "\n",
    "df_instacart_orders.duplicated().sum()"
   ]
  },
  {
   "cell_type": "code",
   "execution_count": 12,
   "id": "f6113ef1",
   "metadata": {
    "id": "f6113ef1"
   },
   "outputs": [
    {
     "data": {
      "text/html": [
       "<div>\n",
       "<style scoped>\n",
       "    .dataframe tbody tr th:only-of-type {\n",
       "        vertical-align: middle;\n",
       "    }\n",
       "\n",
       "    .dataframe tbody tr th {\n",
       "        vertical-align: top;\n",
       "    }\n",
       "\n",
       "    .dataframe thead th {\n",
       "        text-align: right;\n",
       "    }\n",
       "</style>\n",
       "<table border=\"1\" class=\"dataframe\">\n",
       "  <thead>\n",
       "    <tr style=\"text-align: right;\">\n",
       "      <th></th>\n",
       "      <th>order_id</th>\n",
       "      <th>user_id</th>\n",
       "      <th>order_number</th>\n",
       "      <th>order_dow</th>\n",
       "      <th>order_hour_of_day</th>\n",
       "      <th>days_since_prior_order</th>\n",
       "    </tr>\n",
       "  </thead>\n",
       "  <tbody>\n",
       "    <tr>\n",
       "      <th>4838</th>\n",
       "      <td>2766110</td>\n",
       "      <td>162084</td>\n",
       "      <td>41</td>\n",
       "      <td>3</td>\n",
       "      <td>2</td>\n",
       "      <td>16.0</td>\n",
       "    </tr>\n",
       "    <tr>\n",
       "      <th>5156</th>\n",
       "      <td>2190225</td>\n",
       "      <td>138285</td>\n",
       "      <td>18</td>\n",
       "      <td>3</td>\n",
       "      <td>2</td>\n",
       "      <td>11.0</td>\n",
       "    </tr>\n",
       "    <tr>\n",
       "      <th>15506</th>\n",
       "      <td>553049</td>\n",
       "      <td>58599</td>\n",
       "      <td>13</td>\n",
       "      <td>3</td>\n",
       "      <td>2</td>\n",
       "      <td>7.0</td>\n",
       "    </tr>\n",
       "    <tr>\n",
       "      <th>18420</th>\n",
       "      <td>382357</td>\n",
       "      <td>120200</td>\n",
       "      <td>19</td>\n",
       "      <td>3</td>\n",
       "      <td>2</td>\n",
       "      <td>11.0</td>\n",
       "    </tr>\n",
       "    <tr>\n",
       "      <th>24691</th>\n",
       "      <td>690242</td>\n",
       "      <td>77357</td>\n",
       "      <td>2</td>\n",
       "      <td>3</td>\n",
       "      <td>2</td>\n",
       "      <td>9.0</td>\n",
       "    </tr>\n",
       "    <tr>\n",
       "      <th>...</th>\n",
       "      <td>...</td>\n",
       "      <td>...</td>\n",
       "      <td>...</td>\n",
       "      <td>...</td>\n",
       "      <td>...</td>\n",
       "      <td>...</td>\n",
       "    </tr>\n",
       "    <tr>\n",
       "      <th>457013</th>\n",
       "      <td>3384021</td>\n",
       "      <td>14881</td>\n",
       "      <td>6</td>\n",
       "      <td>3</td>\n",
       "      <td>2</td>\n",
       "      <td>30.0</td>\n",
       "    </tr>\n",
       "    <tr>\n",
       "      <th>458816</th>\n",
       "      <td>910166</td>\n",
       "      <td>164782</td>\n",
       "      <td>18</td>\n",
       "      <td>3</td>\n",
       "      <td>2</td>\n",
       "      <td>4.0</td>\n",
       "    </tr>\n",
       "    <tr>\n",
       "      <th>459635</th>\n",
       "      <td>1680532</td>\n",
       "      <td>106435</td>\n",
       "      <td>6</td>\n",
       "      <td>3</td>\n",
       "      <td>2</td>\n",
       "      <td>21.0</td>\n",
       "    </tr>\n",
       "    <tr>\n",
       "      <th>468324</th>\n",
       "      <td>222962</td>\n",
       "      <td>54979</td>\n",
       "      <td>59</td>\n",
       "      <td>3</td>\n",
       "      <td>2</td>\n",
       "      <td>3.0</td>\n",
       "    </tr>\n",
       "    <tr>\n",
       "      <th>477526</th>\n",
       "      <td>2592344</td>\n",
       "      <td>46860</td>\n",
       "      <td>38</td>\n",
       "      <td>3</td>\n",
       "      <td>2</td>\n",
       "      <td>3.0</td>\n",
       "    </tr>\n",
       "  </tbody>\n",
       "</table>\n",
       "<p>106 rows × 6 columns</p>\n",
       "</div>"
      ],
      "text/plain": [
       "        order_id  user_id  order_number  order_dow  order_hour_of_day  \\\n",
       "4838     2766110   162084            41          3                  2   \n",
       "5156     2190225   138285            18          3                  2   \n",
       "15506     553049    58599            13          3                  2   \n",
       "18420     382357   120200            19          3                  2   \n",
       "24691     690242    77357             2          3                  2   \n",
       "...          ...      ...           ...        ...                ...   \n",
       "457013   3384021    14881             6          3                  2   \n",
       "458816    910166   164782            18          3                  2   \n",
       "459635   1680532   106435             6          3                  2   \n",
       "468324    222962    54979            59          3                  2   \n",
       "477526   2592344    46860            38          3                  2   \n",
       "\n",
       "        days_since_prior_order  \n",
       "4838                      16.0  \n",
       "5156                      11.0  \n",
       "15506                      7.0  \n",
       "18420                     11.0  \n",
       "24691                      9.0  \n",
       "...                        ...  \n",
       "457013                    30.0  \n",
       "458816                     4.0  \n",
       "459635                    21.0  \n",
       "468324                     3.0  \n",
       "477526                     3.0  \n",
       "\n",
       "[106 rows x 6 columns]"
      ]
     },
     "execution_count": 12,
     "metadata": {},
     "output_type": "execute_result"
    }
   ],
   "source": [
    "# Recheck only duplicate order IDs / Verifique novamente apenas os IDs de pedidos duplicados\n",
    "\n",
    "orders_2am_wednesday = df_instacart_orders[(df_instacart_orders['order_hour_of_day'] == 2) & (df_instacart_orders['order_dow'] == 3)]\n",
    "\n",
    "orders_2am_wednesday"
   ]
  },
  {
   "cell_type": "markdown",
   "id": "5e8905ae",
   "metadata": {
    "id": "5e8905ae"
   },
   "source": [
    "Briefly describe your findings and what you did with them.\n",
    "\n",
    "In this step we found that the instacart_orders dataframe had a total of 15 rows with duplicate values. We ran an analysis of the orders placed at 2 a.m. on Wednesday (assuming Sunday is 0, Wednesday will be 3 as used, corresponding to the 'order_dow' column) which returned 121 rows on this day and time. After this process, the duplicate values were cleaned up and, as expected, the result was 106 rows.\n",
    "\n",
    "==============================================================\n",
    "\n",
    "Descreva brevemente suas conclusões e o que você fez com elas.\n",
    "\n",
    "Neste passo verificamos que o dataframe instacart_orders tinha um total de 15 linhas com valores duplicados. Fizemos uma análise dos pedidos feitos às 2h da manhã de quarta-feira (assumindo que domingo ser]a 0, quarta-feira será 3 como utilizado, correspondente a coluna 'order_dow') em que retornou 121 linhas neste dia e hora. Após este processo, foi feita a limpeza dos valores duplicados e como esperado o resultou foi manter 106 linhas."
   ]
  },
  {
   "cell_type": "markdown",
   "id": "45e6bc46",
   "metadata": {
    "id": "45e6bc46"
   },
   "source": [
    "### DataFrame `products`"
   ]
  },
  {
   "cell_type": "code",
   "execution_count": 60,
   "id": "5f526b5b-8175-46fa-a0fd-441767d50e64",
   "metadata": {
    "id": "5f526b5b-8175-46fa-a0fd-441767d50e64"
   },
   "outputs": [
    {
     "name": "stdout",
     "output_type": "stream",
     "text": [
      "Empty DataFrame\n",
      "Columns: [product_id, product_name, aisle_id, department_id]\n",
      "Index: []\n",
      "\n",
      "0\n"
     ]
    }
   ],
   "source": [
    "# Check for completely duplicated lines / Verifique se há linhas completamente duplicadas\n",
    "\n",
    "print(df_products[df_products.duplicated()])\n",
    "print()\n",
    "print(df_products.duplicated().sum())"
   ]
  },
  {
   "cell_type": "code",
   "execution_count": 63,
   "id": "88daa4f4",
   "metadata": {
    "id": "88daa4f4"
   },
   "outputs": [
    {
     "data": {
      "text/html": [
       "<div>\n",
       "<style scoped>\n",
       "    .dataframe tbody tr th:only-of-type {\n",
       "        vertical-align: middle;\n",
       "    }\n",
       "\n",
       "    .dataframe tbody tr th {\n",
       "        vertical-align: top;\n",
       "    }\n",
       "\n",
       "    .dataframe thead th {\n",
       "        text-align: right;\n",
       "    }\n",
       "</style>\n",
       "<table border=\"1\" class=\"dataframe\">\n",
       "  <thead>\n",
       "    <tr style=\"text-align: right;\">\n",
       "      <th></th>\n",
       "      <th>product_id</th>\n",
       "      <th>product_name</th>\n",
       "      <th>aisle_id</th>\n",
       "      <th>department_id</th>\n",
       "    </tr>\n",
       "  </thead>\n",
       "  <tbody>\n",
       "  </tbody>\n",
       "</table>\n",
       "</div>"
      ],
      "text/plain": [
       "Empty DataFrame\n",
       "Columns: [product_id, product_name, aisle_id, department_id]\n",
       "Index: []"
      ]
     },
     "execution_count": 63,
     "metadata": {},
     "output_type": "execute_result"
    }
   ],
   "source": [
    "# Check only duplicate product IDs / Verifique apenas IDs dos produtos duplicados\n",
    "\n",
    "duplicated_product_id = df_products[df_products.duplicated(subset = ['product_id'])] # created variable that will access the 'products' dataframe and the product_id column with order / criada variável que irá acessar o dataframe 'products' e a coluna product_id com pedido\n",
    "duplicated_product_id"
   ]
  },
  {
   "cell_type": "code",
   "execution_count": 15,
   "id": "c773f0bf",
   "metadata": {
    "id": "c773f0bf"
   },
   "outputs": [
    {
     "data": {
      "text/plain": [
       "0        False\n",
       "1        False\n",
       "2        False\n",
       "3        False\n",
       "4        False\n",
       "         ...  \n",
       "49689    False\n",
       "49690    False\n",
       "49691    False\n",
       "49692    False\n",
       "49693    False\n",
       "Length: 49694, dtype: bool"
      ]
     },
     "execution_count": 15,
     "metadata": {},
     "output_type": "execute_result"
    }
   ],
   "source": [
    "# Check only duplicate product names (convert names to lower case for a better comparison) / Verifique apenas nomes de produtos duplicados (converta os nomes para minúsculas para uma comparação melhor)\n",
    "\n",
    "df_products['product_name'].str.lower() # turns letters into lower case / transforma letras em minúsculas\n",
    "duplicated_product_name = df_products.duplicated(subset = ['product_name']) # filter for 'product_name' column / filtro para coluna 'product_name'\n",
    "duplicated_product_name"
   ]
  },
  {
   "cell_type": "code",
   "execution_count": 16,
   "id": "01efd02e",
   "metadata": {
    "id": "01efd02e"
   },
   "outputs": [
    {
     "data": {
      "text/plain": [
       "product_id       0.0\n",
       "product_name     0.0\n",
       "aisle_id         0.0\n",
       "department_id    0.0\n",
       "dtype: float64"
      ]
     },
     "execution_count": 16,
     "metadata": {},
     "output_type": "execute_result"
    }
   ],
   "source": [
    "# Check for duplicate product names that are not missing / Verifique os nomes de produtos duplicados que não estão faltando\n",
    "\n",
    "missing_names = df_products[df_products['product_name'].notna()] # filter that checks for values that are not NaN and returns False if it finds NaN values / filtro que verifica valores que não são NaN e retorna False em caso de encontrar valores NaN\n",
    "duplicated_names = missing_names[missing_names.duplicated('product_name', keep=False)] # analyze duplicates in the 'product_name' column, together with the filter above / analisar duplicados na coluna 'product_name', juntamente com o filtro acima\n",
    "\n",
    "duplicated_names.sum()"
   ]
  },
  {
   "cell_type": "markdown",
   "id": "9da8d293",
   "metadata": {
    "id": "9da8d293"
   },
   "source": [
    "Briefly describe your conclusions and what you did with them.\n",
    "\n",
    "For the products dataframe we can see that there are no duplicate values, and we can also conclude that there are no missing values. To reach this conclusion I first checked for duplicate values in the dataframe in general and then performed a sub-analysis on the 'product_id' and 'product_name' columns.\n",
    "\n",
    "==============================================================\n",
    "\n",
    "Descreva brevemente suas conclusões e o que você fez com elas.\n",
    "\n",
    "Para o dataframa products podemos verificar que não existem valores em duplicados, além de também podemos concluir que não há valores em falta/ausentes. Para chegar a essa conclusão primeiro verifiquei se existia valores em duplicados no dataframe de modo geral e após isso feita uma sub-análise nas colunas 'product_id' e 'product_name'."
   ]
  },
  {
   "cell_type": "markdown",
   "id": "60f30db1",
   "metadata": {
    "id": "60f30db1"
   },
   "source": [
    "### DataFrame `departments`"
   ]
  },
  {
   "cell_type": "code",
   "execution_count": 64,
   "id": "fb410ad4-0fbf-4b80-bb09-23fdea79afe3",
   "metadata": {
    "id": "fb410ad4-0fbf-4b80-bb09-23fdea79afe3"
   },
   "outputs": [
    {
     "name": "stdout",
     "output_type": "stream",
     "text": [
      "Empty DataFrame\n",
      "Columns: [department_id, department]\n",
      "Index: []\n",
      "\n"
     ]
    },
    {
     "data": {
      "text/plain": [
       "0"
      ]
     },
     "execution_count": 64,
     "metadata": {},
     "output_type": "execute_result"
    }
   ],
   "source": [
    "# Check for completely duplicated lines / Verifique se há linhas completamente duplicadas\n",
    "\n",
    "print(df_departments[df_departments.duplicated()])\n",
    "print()\n",
    "df_departments.duplicated().sum()"
   ]
  },
  {
   "cell_type": "code",
   "execution_count": 18,
   "id": "332b12bb",
   "metadata": {
    "id": "332b12bb"
   },
   "outputs": [
    {
     "data": {
      "text/plain": [
       "department_id    0.0\n",
       "department       0.0\n",
       "dtype: float64"
      ]
     },
     "execution_count": 18,
     "metadata": {},
     "output_type": "execute_result"
    }
   ],
   "source": [
    "# Check only for duplicate product IDs / Verifique apenas se há IDs dos produtos duplicados\n",
    "\n",
    "duplicated_departament_id_departament = df_departments[df_departments.duplicated(subset = ['department_id'])]\n",
    "duplicated_departament_id_departament.sum()"
   ]
  },
  {
   "cell_type": "markdown",
   "id": "bd30d78e",
   "metadata": {
    "id": "bd30d78e"
   },
   "source": [
    "Briefly describe your conclusions and what you did with them.\n",
    "\n",
    "As with 'products', the 'departments' dataframe also has no duplicate data. To reach this conclusion, I first checked for duplicate values in the dataframe in general and then performed a sub-analysis on the 'product_id' column.\n",
    "\n",
    "==============================================================\n",
    "\n",
    "Descreva brevemente suas conclusões e o que você fez com elas.\n",
    "\n",
    "Assim como em 'products', o dataframe 'departments' também não tem nenhum dado duplicado. Para chegar a essa conclusão primeiro verifiquei se existia valores em duplicados no dataframe de modo geral e após isso feita uma sub-análise na coluna 'product_id'."
   ]
  },
  {
   "cell_type": "markdown",
   "id": "889349c1",
   "metadata": {
    "id": "889349c1"
   },
   "source": [
    "### DataFrame `aisles`"
   ]
  },
  {
   "cell_type": "code",
   "execution_count": 65,
   "id": "9da89fb9-4679-40f5-ad0d-c34df753a3f8",
   "metadata": {
    "id": "9da89fb9-4679-40f5-ad0d-c34df753a3f8"
   },
   "outputs": [
    {
     "name": "stdout",
     "output_type": "stream",
     "text": [
      "Empty DataFrame\n",
      "Columns: [aisle_id, aisle]\n",
      "Index: []\n",
      "\n"
     ]
    },
    {
     "data": {
      "text/plain": [
       "0"
      ]
     },
     "execution_count": 65,
     "metadata": {},
     "output_type": "execute_result"
    }
   ],
   "source": [
    "# Check for completely duplicate lines / Verifique se há linhas completamente duplicadas\n",
    "\n",
    "print(df_aisles[df_aisles.duplicated()])\n",
    "print()\n",
    "df_aisles.duplicated().sum()"
   ]
  },
  {
   "cell_type": "code",
   "execution_count": 20,
   "id": "da7c2822",
   "metadata": {
    "id": "da7c2822"
   },
   "outputs": [
    {
     "data": {
      "text/plain": [
       "aisle_id    0.0\n",
       "aisle       0.0\n",
       "dtype: float64"
      ]
     },
     "execution_count": 20,
     "metadata": {},
     "output_type": "execute_result"
    }
   ],
   "source": [
    "# Check only for duplicate product IDs / Verifique apenas se há IDs dos produtos duplicados\n",
    "\n",
    "duplicated_aisles_id = df_aisles[df_aisles.duplicated(subset = ['aisle_id'])]\n",
    "duplicated_aisles_id.sum()"
   ]
  },
  {
   "cell_type": "markdown",
   "id": "ac63826f",
   "metadata": {
    "id": "ac63826f"
   },
   "source": [
    "Briefly describe your conclusions and what you did with them.\n",
    "\n",
    "This is another dataframe that has no duplicates in its data, so there is no need to clean it up. To reach this conclusion, we checked the dataframe in general and then directly in the 'aisle_id' column, which also returned no duplicate values.\n",
    "\n",
    "==============================================================\n",
    "\n",
    "Descreva brevemente suas conclusões e o que você fez com elas.\n",
    "\n",
    "Este é mais um dataframe que não tem duplicados em seus dados, não sendo preciso limpeza dos mesmo. Para chegar a essa conclusão foi feita uma verificação de modo geral do dataframe e depois diretamente na coluna 'aisle_id', que também retornou sem valores duplicados."
   ]
  },
  {
   "cell_type": "markdown",
   "id": "274cd06a",
   "metadata": {
    "id": "274cd06a"
   },
   "source": [
    "### DataFrame `order_products`"
   ]
  },
  {
   "cell_type": "code",
   "execution_count": 66,
   "id": "52326689-84a8-4b8f-a881-7c68780f62c9",
   "metadata": {
    "id": "52326689-84a8-4b8f-a881-7c68780f62c9"
   },
   "outputs": [
    {
     "name": "stdout",
     "output_type": "stream",
     "text": [
      "Empty DataFrame\n",
      "Columns: [order_id, product_id, add_to_cart_order, reordered]\n",
      "Index: []\n",
      "\n",
      "0\n"
     ]
    }
   ],
   "source": [
    "# Check for completely duplicate lines / Verifique se há linhas completamente duplicadas\n",
    "\n",
    "print(df_order_products[df_order_products.duplicated()])\n",
    "print()\n",
    "print(df_order_products.duplicated().sum())"
   ]
  },
  {
   "cell_type": "code",
   "execution_count": 22,
   "id": "7b861391",
   "metadata": {
    "id": "7b861391"
   },
   "outputs": [
    {
     "name": "stdout",
     "output_type": "stream",
     "text": [
      "order_id             0.0\n",
      "product_id           0.0\n",
      "add_to_cart_order    0.0\n",
      "reordered            0.0\n",
      "dtype: float64\n"
     ]
    }
   ],
   "source": [
    "# Check again for other complicated cases of duplicates / Verifique mais uma vez se há outros casos complicados de duplicados\n",
    "\n",
    "duplicated_order_id = df_order_products[df_order_products.duplicated(subset = ['order_id', 'product_id', 'add_to_cart_order', 'reordered'])]\n",
    "print(duplicated_order_id.sum())"
   ]
  },
  {
   "cell_type": "markdown",
   "id": "0b890492",
   "metadata": {
    "id": "0b890492"
   },
   "source": [
    "Briefly describe your conclusions and what you did with them.\n",
    "\n",
    "Again, another dataframe that has no duplicates in its data, so there's no need to clean it up. To reach this conclusion, a general check was made of the dataframe and then directly on the 'order_id', 'product_id', 'add_to_cart_order', 'reordered' columns, which also returned no duplicate values.\n",
    "\n",
    "==============================================================\n",
    "\n",
    "Descreva brevemente suas conclusões e o que você fez com elas.\n",
    "\n",
    "Novamente outro dataframe que não tem duplicados em seus dados, não sendo preciso limpeza dos mesmo. Para chegar a essa conclusão foi feita uma verificação de modo geral do dataframe e depois diretamente nas colunas 'order_id', 'product_id', 'add_to_cart_order', 'reordered', que também retornou sem valores duplicados."
   ]
  },
  {
   "cell_type": "markdown",
   "id": "1e46de76",
   "metadata": {
    "id": "1e46de76"
   },
   "source": [
    "## Find and remove missing values\n",
    "\n",
    "\n",
    "As we process duplicate values, we notice that we also have missing values that we need to investigate in the following columns:\n",
    "\n",
    "* The `'product_name'` column from the products table.\n",
    "* The `'days_since_prior_order'` column in the orders table.\n",
    "* The `'add_to_cart_order'` column in the order_products table.\n",
    "\n",
    "==============================================================\n",
    "\n",
    "`Encontre e remova valores ausentes`\n",
    "\n",
    "\n",
    "Ao processarmos valores duplicados, observamos que também temos valores ausentes que precisamos investigar nas seguintes colunas:\n",
    "\n",
    "*\tA coluna `'product_name'` da tabela products.\n",
    "*\tA coluna `'days_since_prior_order'` da tabela orders.\n",
    "*\tA coluna `'add_to_cart_order'` da tabela order_products.\n"
   ]
  },
  {
   "cell_type": "markdown",
   "id": "c0aebd78",
   "metadata": {
    "id": "c0aebd78"
   },
   "source": [
    "### DataFrame `products`"
   ]
  },
  {
   "cell_type": "code",
   "execution_count": 23,
   "id": "fe4a8b0f",
   "metadata": {
    "id": "fe4a8b0f"
   },
   "outputs": [
    {
     "name": "stdout",
     "output_type": "stream",
     "text": [
      "1258\n",
      "\n"
     ]
    },
    {
     "data": {
      "text/html": [
       "<div>\n",
       "<style scoped>\n",
       "    .dataframe tbody tr th:only-of-type {\n",
       "        vertical-align: middle;\n",
       "    }\n",
       "\n",
       "    .dataframe tbody tr th {\n",
       "        vertical-align: top;\n",
       "    }\n",
       "\n",
       "    .dataframe thead th {\n",
       "        text-align: right;\n",
       "    }\n",
       "</style>\n",
       "<table border=\"1\" class=\"dataframe\">\n",
       "  <thead>\n",
       "    <tr style=\"text-align: right;\">\n",
       "      <th></th>\n",
       "      <th>product_id</th>\n",
       "      <th>product_name</th>\n",
       "      <th>aisle_id</th>\n",
       "      <th>department_id</th>\n",
       "    </tr>\n",
       "  </thead>\n",
       "  <tbody>\n",
       "    <tr>\n",
       "      <th>37</th>\n",
       "      <td>38</td>\n",
       "      <td>NaN</td>\n",
       "      <td>100</td>\n",
       "      <td>21</td>\n",
       "    </tr>\n",
       "    <tr>\n",
       "      <th>71</th>\n",
       "      <td>72</td>\n",
       "      <td>NaN</td>\n",
       "      <td>100</td>\n",
       "      <td>21</td>\n",
       "    </tr>\n",
       "    <tr>\n",
       "      <th>109</th>\n",
       "      <td>110</td>\n",
       "      <td>NaN</td>\n",
       "      <td>100</td>\n",
       "      <td>21</td>\n",
       "    </tr>\n",
       "    <tr>\n",
       "      <th>296</th>\n",
       "      <td>297</td>\n",
       "      <td>NaN</td>\n",
       "      <td>100</td>\n",
       "      <td>21</td>\n",
       "    </tr>\n",
       "    <tr>\n",
       "      <th>416</th>\n",
       "      <td>417</td>\n",
       "      <td>NaN</td>\n",
       "      <td>100</td>\n",
       "      <td>21</td>\n",
       "    </tr>\n",
       "    <tr>\n",
       "      <th>...</th>\n",
       "      <td>...</td>\n",
       "      <td>...</td>\n",
       "      <td>...</td>\n",
       "      <td>...</td>\n",
       "    </tr>\n",
       "    <tr>\n",
       "      <th>49552</th>\n",
       "      <td>49553</td>\n",
       "      <td>NaN</td>\n",
       "      <td>100</td>\n",
       "      <td>21</td>\n",
       "    </tr>\n",
       "    <tr>\n",
       "      <th>49574</th>\n",
       "      <td>49575</td>\n",
       "      <td>NaN</td>\n",
       "      <td>100</td>\n",
       "      <td>21</td>\n",
       "    </tr>\n",
       "    <tr>\n",
       "      <th>49640</th>\n",
       "      <td>49641</td>\n",
       "      <td>NaN</td>\n",
       "      <td>100</td>\n",
       "      <td>21</td>\n",
       "    </tr>\n",
       "    <tr>\n",
       "      <th>49663</th>\n",
       "      <td>49664</td>\n",
       "      <td>NaN</td>\n",
       "      <td>100</td>\n",
       "      <td>21</td>\n",
       "    </tr>\n",
       "    <tr>\n",
       "      <th>49668</th>\n",
       "      <td>49669</td>\n",
       "      <td>NaN</td>\n",
       "      <td>100</td>\n",
       "      <td>21</td>\n",
       "    </tr>\n",
       "  </tbody>\n",
       "</table>\n",
       "<p>1258 rows × 4 columns</p>\n",
       "</div>"
      ],
      "text/plain": [
       "       product_id product_name  aisle_id  department_id\n",
       "37             38          NaN       100             21\n",
       "71             72          NaN       100             21\n",
       "109           110          NaN       100             21\n",
       "296           297          NaN       100             21\n",
       "416           417          NaN       100             21\n",
       "...           ...          ...       ...            ...\n",
       "49552       49553          NaN       100             21\n",
       "49574       49575          NaN       100             21\n",
       "49640       49641          NaN       100             21\n",
       "49663       49664          NaN       100             21\n",
       "49668       49669          NaN       100             21\n",
       "\n",
       "[1258 rows x 4 columns]"
      ]
     },
     "execution_count": 23,
     "metadata": {},
     "output_type": "execute_result"
    }
   ],
   "source": [
    "# Find missing values in the 'product_name' column / Encontre valores ausentes na coluna 'product_name'\n",
    "\n",
    "print(df_products['product_name'].isna().sum()) # check the number of absentees / verificar número de ausentes\n",
    "print()\n",
    "df_products[df_products['product_name'].isna()] # prints all missing values / imprime todos valores ausentes"
   ]
  },
  {
   "cell_type": "markdown",
   "id": "-A6x1AbJhjkp",
   "metadata": {
    "id": "-A6x1AbJhjkp"
   },
   "source": [
    "Descreva brevemente suas conclusões.\n",
    "\n",
    "Para a coluna 'product_name' do dataframe 'products' temos um total de 1258 valores ausentes (NaN), onde podemos também perceber que estes valores ausentes tem todos valores iguals nas colunas 'aisle_id' e 'department_id'."
   ]
  },
  {
   "cell_type": "code",
   "execution_count": 24,
   "id": "e96167bc",
   "metadata": {
    "id": "e96167bc"
   },
   "outputs": [
    {
     "data": {
      "text/html": [
       "<div>\n",
       "<style scoped>\n",
       "    .dataframe tbody tr th:only-of-type {\n",
       "        vertical-align: middle;\n",
       "    }\n",
       "\n",
       "    .dataframe tbody tr th {\n",
       "        vertical-align: top;\n",
       "    }\n",
       "\n",
       "    .dataframe thead th {\n",
       "        text-align: right;\n",
       "    }\n",
       "</style>\n",
       "<table border=\"1\" class=\"dataframe\">\n",
       "  <thead>\n",
       "    <tr style=\"text-align: right;\">\n",
       "      <th></th>\n",
       "      <th>product_id</th>\n",
       "      <th>product_name</th>\n",
       "      <th>aisle_id</th>\n",
       "      <th>department_id</th>\n",
       "    </tr>\n",
       "  </thead>\n",
       "  <tbody>\n",
       "    <tr>\n",
       "      <th>37</th>\n",
       "      <td>38</td>\n",
       "      <td>NaN</td>\n",
       "      <td>100</td>\n",
       "      <td>21</td>\n",
       "    </tr>\n",
       "    <tr>\n",
       "      <th>71</th>\n",
       "      <td>72</td>\n",
       "      <td>NaN</td>\n",
       "      <td>100</td>\n",
       "      <td>21</td>\n",
       "    </tr>\n",
       "    <tr>\n",
       "      <th>109</th>\n",
       "      <td>110</td>\n",
       "      <td>NaN</td>\n",
       "      <td>100</td>\n",
       "      <td>21</td>\n",
       "    </tr>\n",
       "    <tr>\n",
       "      <th>296</th>\n",
       "      <td>297</td>\n",
       "      <td>NaN</td>\n",
       "      <td>100</td>\n",
       "      <td>21</td>\n",
       "    </tr>\n",
       "    <tr>\n",
       "      <th>416</th>\n",
       "      <td>417</td>\n",
       "      <td>NaN</td>\n",
       "      <td>100</td>\n",
       "      <td>21</td>\n",
       "    </tr>\n",
       "    <tr>\n",
       "      <th>...</th>\n",
       "      <td>...</td>\n",
       "      <td>...</td>\n",
       "      <td>...</td>\n",
       "      <td>...</td>\n",
       "    </tr>\n",
       "    <tr>\n",
       "      <th>49552</th>\n",
       "      <td>49553</td>\n",
       "      <td>NaN</td>\n",
       "      <td>100</td>\n",
       "      <td>21</td>\n",
       "    </tr>\n",
       "    <tr>\n",
       "      <th>49574</th>\n",
       "      <td>49575</td>\n",
       "      <td>NaN</td>\n",
       "      <td>100</td>\n",
       "      <td>21</td>\n",
       "    </tr>\n",
       "    <tr>\n",
       "      <th>49640</th>\n",
       "      <td>49641</td>\n",
       "      <td>NaN</td>\n",
       "      <td>100</td>\n",
       "      <td>21</td>\n",
       "    </tr>\n",
       "    <tr>\n",
       "      <th>49663</th>\n",
       "      <td>49664</td>\n",
       "      <td>NaN</td>\n",
       "      <td>100</td>\n",
       "      <td>21</td>\n",
       "    </tr>\n",
       "    <tr>\n",
       "      <th>49668</th>\n",
       "      <td>49669</td>\n",
       "      <td>NaN</td>\n",
       "      <td>100</td>\n",
       "      <td>21</td>\n",
       "    </tr>\n",
       "  </tbody>\n",
       "</table>\n",
       "<p>1258 rows × 4 columns</p>\n",
       "</div>"
      ],
      "text/plain": [
       "       product_id product_name  aisle_id  department_id\n",
       "37             38          NaN       100             21\n",
       "71             72          NaN       100             21\n",
       "109           110          NaN       100             21\n",
       "296           297          NaN       100             21\n",
       "416           417          NaN       100             21\n",
       "...           ...          ...       ...            ...\n",
       "49552       49553          NaN       100             21\n",
       "49574       49575          NaN       100             21\n",
       "49640       49641          NaN       100             21\n",
       "49663       49664          NaN       100             21\n",
       "49668       49669          NaN       100             21\n",
       "\n",
       "[1258 rows x 4 columns]"
      ]
     },
     "execution_count": 24,
     "metadata": {},
     "output_type": "execute_result"
    }
   ],
   "source": [
    "# Are all the missing product names associated with aisle ID 100? / Todos os nomes de produtos ausentes estão associados com o corredor de ID 100?\n",
    "\n",
    "check_ID_21 = df_products[(df_products['product_name'].isna()) & ~(df_products['department_id'].isna())]\n",
    "check_ID_21"
   ]
  },
  {
   "cell_type": "markdown",
   "id": "WRpIfXRphpSL",
   "metadata": {
    "id": "WRpIfXRphpSL"
   },
   "source": [
    "Briefly describe your conclusions.\n",
    "\n",
    "Yes, all the missing products are associated with the 'aisle_id / 100' column. We can conclude this since the numbers from this check match the previous check.\n",
    "\n",
    "==============================================================\n",
    "\n",
    "Descreva brevemente suas conclusões.\n",
    "\n",
    "Sim, todos os produtos ausentes estão associados com o a coluna 'aisle_id / 100'. Podemos concluir isso umas vez que os números dessa checagem batem com a checagem anterior."
   ]
  },
  {
   "cell_type": "code",
   "execution_count": 25,
   "id": "8fd0a541",
   "metadata": {
    "id": "8fd0a541"
   },
   "outputs": [
    {
     "data": {
      "text/html": [
       "<div>\n",
       "<style scoped>\n",
       "    .dataframe tbody tr th:only-of-type {\n",
       "        vertical-align: middle;\n",
       "    }\n",
       "\n",
       "    .dataframe tbody tr th {\n",
       "        vertical-align: top;\n",
       "    }\n",
       "\n",
       "    .dataframe thead th {\n",
       "        text-align: right;\n",
       "    }\n",
       "</style>\n",
       "<table border=\"1\" class=\"dataframe\">\n",
       "  <thead>\n",
       "    <tr style=\"text-align: right;\">\n",
       "      <th></th>\n",
       "      <th>product_id</th>\n",
       "      <th>product_name</th>\n",
       "      <th>aisle_id</th>\n",
       "      <th>department_id</th>\n",
       "    </tr>\n",
       "  </thead>\n",
       "  <tbody>\n",
       "    <tr>\n",
       "      <th>37</th>\n",
       "      <td>38</td>\n",
       "      <td>NaN</td>\n",
       "      <td>100</td>\n",
       "      <td>21</td>\n",
       "    </tr>\n",
       "    <tr>\n",
       "      <th>71</th>\n",
       "      <td>72</td>\n",
       "      <td>NaN</td>\n",
       "      <td>100</td>\n",
       "      <td>21</td>\n",
       "    </tr>\n",
       "    <tr>\n",
       "      <th>109</th>\n",
       "      <td>110</td>\n",
       "      <td>NaN</td>\n",
       "      <td>100</td>\n",
       "      <td>21</td>\n",
       "    </tr>\n",
       "    <tr>\n",
       "      <th>296</th>\n",
       "      <td>297</td>\n",
       "      <td>NaN</td>\n",
       "      <td>100</td>\n",
       "      <td>21</td>\n",
       "    </tr>\n",
       "    <tr>\n",
       "      <th>416</th>\n",
       "      <td>417</td>\n",
       "      <td>NaN</td>\n",
       "      <td>100</td>\n",
       "      <td>21</td>\n",
       "    </tr>\n",
       "    <tr>\n",
       "      <th>...</th>\n",
       "      <td>...</td>\n",
       "      <td>...</td>\n",
       "      <td>...</td>\n",
       "      <td>...</td>\n",
       "    </tr>\n",
       "    <tr>\n",
       "      <th>49552</th>\n",
       "      <td>49553</td>\n",
       "      <td>NaN</td>\n",
       "      <td>100</td>\n",
       "      <td>21</td>\n",
       "    </tr>\n",
       "    <tr>\n",
       "      <th>49574</th>\n",
       "      <td>49575</td>\n",
       "      <td>NaN</td>\n",
       "      <td>100</td>\n",
       "      <td>21</td>\n",
       "    </tr>\n",
       "    <tr>\n",
       "      <th>49640</th>\n",
       "      <td>49641</td>\n",
       "      <td>NaN</td>\n",
       "      <td>100</td>\n",
       "      <td>21</td>\n",
       "    </tr>\n",
       "    <tr>\n",
       "      <th>49663</th>\n",
       "      <td>49664</td>\n",
       "      <td>NaN</td>\n",
       "      <td>100</td>\n",
       "      <td>21</td>\n",
       "    </tr>\n",
       "    <tr>\n",
       "      <th>49668</th>\n",
       "      <td>49669</td>\n",
       "      <td>NaN</td>\n",
       "      <td>100</td>\n",
       "      <td>21</td>\n",
       "    </tr>\n",
       "  </tbody>\n",
       "</table>\n",
       "<p>1258 rows × 4 columns</p>\n",
       "</div>"
      ],
      "text/plain": [
       "       product_id product_name  aisle_id  department_id\n",
       "37             38          NaN       100             21\n",
       "71             72          NaN       100             21\n",
       "109           110          NaN       100             21\n",
       "296           297          NaN       100             21\n",
       "416           417          NaN       100             21\n",
       "...           ...          ...       ...            ...\n",
       "49552       49553          NaN       100             21\n",
       "49574       49575          NaN       100             21\n",
       "49640       49641          NaN       100             21\n",
       "49663       49664          NaN       100             21\n",
       "49668       49669          NaN       100             21\n",
       "\n",
       "[1258 rows x 4 columns]"
      ]
     },
     "execution_count": 25,
     "metadata": {},
     "output_type": "execute_result"
    }
   ],
   "source": [
    "# Are all the missing product names associated with department ID 21? / Todos os nomes de produtos ausentes estão associados com o departamento de ID 21?\n",
    "\n",
    "check_ID_21 = df_products[(df_products['product_name'].isna()) & ~(df_products['department_id'].isna())]\n",
    "check_ID_21"
   ]
  },
  {
   "cell_type": "markdown",
   "id": "qDpdYn1Fht_I",
   "metadata": {
    "id": "qDpdYn1Fht_I"
   },
   "source": [
    "Briefly describe your findings.\n",
    "\n",
    "Like the previous one, all the missing products are associated with the 'department_id / 21' column. We can conclude this since the numbers in this check are from the 'aisle_id / 100' column and the initial check.\n",
    "\n",
    "==============================================================\n",
    "\n",
    "Descreva brevemente suas conclusões.\n",
    "\n",
    "Assim como o anterior, todos os produtos ausentes estão associados com o a coluna 'department_id / 21'. Podemos concluir isso umas vez que os números dessa checagem feita da coluna 'aisle_id / 100' e com a checagem inicial."
   ]
  },
  {
   "cell_type": "code",
   "execution_count": 68,
   "id": "325c3464",
   "metadata": {
    "id": "325c3464"
   },
   "outputs": [
    {
     "name": "stdout",
     "output_type": "stream",
     "text": [
      "Informações do corredor com ID 100:\n",
      "    aisle_id    aisle\n",
      "99       100  missing\n",
      "\n",
      "Informações do corredor com ID 21:\n",
      "    department_id department\n",
      "20             21    missing\n"
     ]
    }
   ],
   "source": [
    "# Use the department and aisle tables to check the data for the corridor with ID 100 and the department with ID 21. / Use as tabelas department e aisle para verificar os dados do corredor com ID 100 e do departamento com ID 21.\n",
    "\n",
    "aisle_info = df_aisles[df_aisles['aisle_id'] == 100] # filter to access column 'aisle_id' and if it is = 100 return information / filtro para acessar coluna 'aisle_id' e se for = 100 retornar informação\n",
    "print(\"Informações do corredor com ID 100:\") # writing to make the print more visual / escrita para deixar mais visual a impressão\n",
    "print(aisle_info) # feedback filter done / retorno informação filtro feito\n",
    "\n",
    "print()\n",
    "\n",
    "departament_info = df_departments[df_departments['department_id'] == 21] # filter to access column 'department_id' and if = 21 return information / filtro para acessar coluna 'department_id' e se for = 21 retornar informação\n",
    "print(\"Informações do corredor com ID 21:\") # writing to make the print more visual / escrita para deixar mais visual a impressão\n",
    "print(departament_info) # feedback filter done / retorno informação filtro feito"
   ]
  },
  {
   "cell_type": "markdown",
   "id": "nqhSTUPhhvEJ",
   "metadata": {
    "id": "nqhSTUPhhvEJ"
   },
   "source": [
    "Briefly describe your conclusions.\n",
    "\n",
    "We can see that the information corresponding to ID 100 in aisle and ID 21 in department is missing.\n",
    "\n",
    "==============================================================\n",
    "\n",
    "Descreva brevemente suas conclusões.\n",
    "\n",
    "Podemos ver que as informações correspondente ao ID 100 em aisle e ID 21 em department estão em falta."
   ]
  },
  {
   "cell_type": "code",
   "execution_count": 27,
   "id": "6b295120",
   "metadata": {
    "id": "6b295120"
   },
   "outputs": [
    {
     "data": {
      "text/html": [
       "<div>\n",
       "<style scoped>\n",
       "    .dataframe tbody tr th:only-of-type {\n",
       "        vertical-align: middle;\n",
       "    }\n",
       "\n",
       "    .dataframe tbody tr th {\n",
       "        vertical-align: top;\n",
       "    }\n",
       "\n",
       "    .dataframe thead th {\n",
       "        text-align: right;\n",
       "    }\n",
       "</style>\n",
       "<table border=\"1\" class=\"dataframe\">\n",
       "  <thead>\n",
       "    <tr style=\"text-align: right;\">\n",
       "      <th></th>\n",
       "      <th>product_id</th>\n",
       "      <th>product_name</th>\n",
       "      <th>aisle_id</th>\n",
       "      <th>department_id</th>\n",
       "    </tr>\n",
       "  </thead>\n",
       "  <tbody>\n",
       "    <tr>\n",
       "      <th>37</th>\n",
       "      <td>38</td>\n",
       "      <td>Unknown</td>\n",
       "      <td>100</td>\n",
       "      <td>21</td>\n",
       "    </tr>\n",
       "    <tr>\n",
       "      <th>71</th>\n",
       "      <td>72</td>\n",
       "      <td>Unknown</td>\n",
       "      <td>100</td>\n",
       "      <td>21</td>\n",
       "    </tr>\n",
       "    <tr>\n",
       "      <th>109</th>\n",
       "      <td>110</td>\n",
       "      <td>Unknown</td>\n",
       "      <td>100</td>\n",
       "      <td>21</td>\n",
       "    </tr>\n",
       "    <tr>\n",
       "      <th>296</th>\n",
       "      <td>297</td>\n",
       "      <td>Unknown</td>\n",
       "      <td>100</td>\n",
       "      <td>21</td>\n",
       "    </tr>\n",
       "    <tr>\n",
       "      <th>416</th>\n",
       "      <td>417</td>\n",
       "      <td>Unknown</td>\n",
       "      <td>100</td>\n",
       "      <td>21</td>\n",
       "    </tr>\n",
       "    <tr>\n",
       "      <th>...</th>\n",
       "      <td>...</td>\n",
       "      <td>...</td>\n",
       "      <td>...</td>\n",
       "      <td>...</td>\n",
       "    </tr>\n",
       "    <tr>\n",
       "      <th>49552</th>\n",
       "      <td>49553</td>\n",
       "      <td>Unknown</td>\n",
       "      <td>100</td>\n",
       "      <td>21</td>\n",
       "    </tr>\n",
       "    <tr>\n",
       "      <th>49574</th>\n",
       "      <td>49575</td>\n",
       "      <td>Unknown</td>\n",
       "      <td>100</td>\n",
       "      <td>21</td>\n",
       "    </tr>\n",
       "    <tr>\n",
       "      <th>49640</th>\n",
       "      <td>49641</td>\n",
       "      <td>Unknown</td>\n",
       "      <td>100</td>\n",
       "      <td>21</td>\n",
       "    </tr>\n",
       "    <tr>\n",
       "      <th>49663</th>\n",
       "      <td>49664</td>\n",
       "      <td>Unknown</td>\n",
       "      <td>100</td>\n",
       "      <td>21</td>\n",
       "    </tr>\n",
       "    <tr>\n",
       "      <th>49668</th>\n",
       "      <td>49669</td>\n",
       "      <td>Unknown</td>\n",
       "      <td>100</td>\n",
       "      <td>21</td>\n",
       "    </tr>\n",
       "  </tbody>\n",
       "</table>\n",
       "<p>1258 rows × 4 columns</p>\n",
       "</div>"
      ],
      "text/plain": [
       "       product_id product_name  aisle_id  department_id\n",
       "37             38      Unknown       100             21\n",
       "71             72      Unknown       100             21\n",
       "109           110      Unknown       100             21\n",
       "296           297      Unknown       100             21\n",
       "416           417      Unknown       100             21\n",
       "...           ...          ...       ...            ...\n",
       "49552       49553      Unknown       100             21\n",
       "49574       49575      Unknown       100             21\n",
       "49640       49641      Unknown       100             21\n",
       "49663       49664      Unknown       100             21\n",
       "49668       49669      Unknown       100             21\n",
       "\n",
       "[1258 rows x 4 columns]"
      ]
     },
     "execution_count": 27,
     "metadata": {},
     "output_type": "execute_result"
    }
   ],
   "source": [
    "# Fill in missing product names with 'Unknown' / Preencha nomes de produtos ausentes com 'Unknown'\n",
    "\n",
    "df_products['product_name'] = df_products['product_name'].fillna('Unknown') # replace missing values with 'Unknown' / substituir valores ausente por 'Unknown'\n",
    "\n",
    "product_Unknown = df_products[df_products['product_name'] == 'Unknown'] # filter for values equal to 'Unknown' in the 'product_name' column / filtro para valores que sejam iguais a 'Unknown' na coluna 'product_name'\n",
    "\n",
    "product_Unknown # print result filter / impressão resultado filtro"
   ]
  },
  {
   "cell_type": "markdown",
   "id": "fc70e5ad",
   "metadata": {
    "id": "fc70e5ad"
   },
   "source": [
    "Briefly describe your conclusions and what you did with them.\n",
    "\n",
    "You have replaced the missing values with 'Unknown' and you can see that you have changed all the values as they are the same 1258 initial values.\n",
    "\n",
    "==============================================================\n",
    "\n",
    "Descreva brevemente suas conclusões e o que você fez com elas.\n",
    "\n",
    "Feita substituição dos valores ausente por 'Unknown' e pode verificar que foi alterado todos os valores pois são os mesmos 1258 valores iniciais."
   ]
  },
  {
   "cell_type": "markdown",
   "id": "7eb45c86",
   "metadata": {
    "id": "7eb45c86"
   },
   "source": [
    "### DataFrame `orders`"
   ]
  },
  {
   "cell_type": "code",
   "execution_count": 28,
   "id": "93e41d96",
   "metadata": {
    "id": "93e41d96"
   },
   "outputs": [
    {
     "data": {
      "text/plain": [
       "order_id                      0\n",
       "user_id                       0\n",
       "order_number                  0\n",
       "order_dow                     0\n",
       "order_hour_of_day             0\n",
       "days_since_prior_order    28817\n",
       "dtype: int64"
      ]
     },
     "execution_count": 28,
     "metadata": {},
     "output_type": "execute_result"
    }
   ],
   "source": [
    "# Find the missing values / Encontre os valores ausentes\n",
    "\n",
    "df_instacart_orders.isna().sum()"
   ]
  },
  {
   "cell_type": "code",
   "execution_count": 29,
   "id": "166e5a86",
   "metadata": {
    "id": "166e5a86"
   },
   "outputs": [
    {
     "data": {
      "text/plain": [
       "order_id                  0.0\n",
       "user_id                   0.0\n",
       "order_number              0.0\n",
       "order_dow                 0.0\n",
       "order_hour_of_day         0.0\n",
       "days_since_prior_order    0.0\n",
       "dtype: float64"
      ]
     },
     "execution_count": 29,
     "metadata": {},
     "output_type": "execute_result"
    }
   ],
   "source": [
    "# Are there missing values for customers who are not placing their first order? / Há valores ausentes para os clientes que não estão fazendo o primeiro pedido?\n",
    "\n",
    "check_first_order = df_instacart_orders[(df_instacart_orders['days_since_prior_order'].isna()) & (df_instacart_orders['order_number'] != 1)] # the first filter checks for missing values and the second checks for orders other than 1, the first not being ordered / primeiro filtro verifica valores ausentes e o segundo verifica ordens diferentes de 1, não sendo o primeiro pedido\n",
    "check_first_order.sum()                                       "
   ]
  },
  {
   "cell_type": "markdown",
   "id": "4e23d089",
   "metadata": {
    "id": "4e23d089"
   },
   "source": [
    "Briefly describe your conclusions and what you did with them.\n",
    "\n",
    "For the 'df_instacart_orders' dataframe we can see that we have 28817 missing values in the 'days_since_prior_order' column, however, none of these missing values are customers who are not placing their first order.\n",
    "\n",
    "==============================================================\n",
    "\n",
    "Descreva brevemente suas conclusões e o que você fez com elas.\n",
    "\n",
    "Para o dataframe 'df_instacart_orders' podemos verificar que temos 28817 valores ausentes na coluna 'days_since_prior_order', contudo, nenhum destes valores ausentes são clientes que não estão fazendo o primeiro pedido."
   ]
  },
  {
   "cell_type": "markdown",
   "id": "69dc9ca4",
   "metadata": {
    "id": "69dc9ca4"
   },
   "source": [
    "### DataFrame `order_products`"
   ]
  },
  {
   "cell_type": "code",
   "execution_count": 30,
   "id": "b8240253",
   "metadata": {
    "id": "b8240253"
   },
   "outputs": [
    {
     "data": {
      "text/plain": [
       "order_id               0\n",
       "product_id             0\n",
       "add_to_cart_order    836\n",
       "reordered              0\n",
       "dtype: int64"
      ]
     },
     "execution_count": 30,
     "metadata": {},
     "output_type": "execute_result"
    }
   ],
   "source": [
    "# Find the missing values / Encontre os valores ausentes\n",
    "\n",
    "df_order_products.isna().sum()"
   ]
  },
  {
   "cell_type": "code",
   "execution_count": 31,
   "id": "9a78e5ee",
   "metadata": {
    "id": "9a78e5ee"
   },
   "outputs": [
    {
     "name": "stdout",
     "output_type": "stream",
     "text": [
      "O valor máximo da coluna \"add_to_cart_order\" é: 64.0\n",
      "O valor mínimo da coluna \"add_to_cart_order\" é: 1.0\n"
     ]
    }
   ],
   "source": [
    "# What are the minimum and maximum values of this column? / Quais são os valores mínimo e máximo dessa coluna?\n",
    "\n",
    "max_value = df_order_products['add_to_cart_order'].max()\n",
    "min_value = df_order_products['add_to_cart_order'].min()\n",
    "\n",
    "print('O valor máximo da coluna \"add_to_cart_order\" é: {}'.format(max_value))\n",
    "print('O valor mínimo da coluna \"add_to_cart_order\" é: {}'.format(min_value))"
   ]
  },
  {
   "cell_type": "markdown",
   "id": "-Z2Ja215jW78",
   "metadata": {
    "id": "-Z2Ja215jW78"
   },
   "source": [
    "Briefly describe your findings.\n",
    "\n",
    "We have identified that the 'add_to_cart_order' column has a total of 836 missing values, where the maximum value of items added to the shopping cart is 64 and the minimum is 1.\n",
    "\n",
    "==============================================================\n",
    "\n",
    "Descreva brevemente suas conclusões.\n",
    "\n",
    "Identificamos que a coluna 'add_to_cart_order' tem um total de 836 valores ausentes, onde o valor máximo de itens adicionados ao carrinho de compra são 64 e o mínimo é 1."
   ]
  },
  {
   "cell_type": "code",
   "execution_count": 32,
   "id": "ab9d0c2b",
   "metadata": {
    "id": "ab9d0c2b"
   },
   "outputs": [
    {
     "data": {
      "text/html": [
       "<div>\n",
       "<style scoped>\n",
       "    .dataframe tbody tr th:only-of-type {\n",
       "        vertical-align: middle;\n",
       "    }\n",
       "\n",
       "    .dataframe tbody tr th {\n",
       "        vertical-align: top;\n",
       "    }\n",
       "\n",
       "    .dataframe thead th {\n",
       "        text-align: right;\n",
       "    }\n",
       "</style>\n",
       "<table border=\"1\" class=\"dataframe\">\n",
       "  <thead>\n",
       "    <tr style=\"text-align: right;\">\n",
       "      <th></th>\n",
       "      <th>order_id</th>\n",
       "      <th>product_id</th>\n",
       "      <th>add_to_cart_order</th>\n",
       "      <th>reordered</th>\n",
       "    </tr>\n",
       "  </thead>\n",
       "  <tbody>\n",
       "    <tr>\n",
       "      <th>737</th>\n",
       "      <td>2449164</td>\n",
       "      <td>5068</td>\n",
       "      <td>NaN</td>\n",
       "      <td>0</td>\n",
       "    </tr>\n",
       "    <tr>\n",
       "      <th>9926</th>\n",
       "      <td>1968313</td>\n",
       "      <td>43867</td>\n",
       "      <td>NaN</td>\n",
       "      <td>0</td>\n",
       "    </tr>\n",
       "    <tr>\n",
       "      <th>14394</th>\n",
       "      <td>2926893</td>\n",
       "      <td>11688</td>\n",
       "      <td>NaN</td>\n",
       "      <td>0</td>\n",
       "    </tr>\n",
       "    <tr>\n",
       "      <th>16418</th>\n",
       "      <td>1717990</td>\n",
       "      <td>4142</td>\n",
       "      <td>NaN</td>\n",
       "      <td>0</td>\n",
       "    </tr>\n",
       "    <tr>\n",
       "      <th>30114</th>\n",
       "      <td>1959075</td>\n",
       "      <td>42828</td>\n",
       "      <td>NaN</td>\n",
       "      <td>1</td>\n",
       "    </tr>\n",
       "    <tr>\n",
       "      <th>...</th>\n",
       "      <td>...</td>\n",
       "      <td>...</td>\n",
       "      <td>...</td>\n",
       "      <td>...</td>\n",
       "    </tr>\n",
       "    <tr>\n",
       "      <th>4505662</th>\n",
       "      <td>1800005</td>\n",
       "      <td>7411</td>\n",
       "      <td>NaN</td>\n",
       "      <td>0</td>\n",
       "    </tr>\n",
       "    <tr>\n",
       "      <th>4511400</th>\n",
       "      <td>1633337</td>\n",
       "      <td>260</td>\n",
       "      <td>NaN</td>\n",
       "      <td>0</td>\n",
       "    </tr>\n",
       "    <tr>\n",
       "      <th>4517562</th>\n",
       "      <td>404157</td>\n",
       "      <td>9517</td>\n",
       "      <td>NaN</td>\n",
       "      <td>0</td>\n",
       "    </tr>\n",
       "    <tr>\n",
       "      <th>4534112</th>\n",
       "      <td>1673227</td>\n",
       "      <td>17835</td>\n",
       "      <td>NaN</td>\n",
       "      <td>0</td>\n",
       "    </tr>\n",
       "    <tr>\n",
       "      <th>4535739</th>\n",
       "      <td>1832957</td>\n",
       "      <td>17949</td>\n",
       "      <td>NaN</td>\n",
       "      <td>1</td>\n",
       "    </tr>\n",
       "  </tbody>\n",
       "</table>\n",
       "<p>836 rows × 4 columns</p>\n",
       "</div>"
      ],
      "text/plain": [
       "         order_id  product_id  add_to_cart_order  reordered\n",
       "737       2449164        5068                NaN          0\n",
       "9926      1968313       43867                NaN          0\n",
       "14394     2926893       11688                NaN          0\n",
       "16418     1717990        4142                NaN          0\n",
       "30114     1959075       42828                NaN          1\n",
       "...           ...         ...                ...        ...\n",
       "4505662   1800005        7411                NaN          0\n",
       "4511400   1633337         260                NaN          0\n",
       "4517562    404157        9517                NaN          0\n",
       "4534112   1673227       17835                NaN          0\n",
       "4535739   1832957       17949                NaN          1\n",
       "\n",
       "[836 rows x 4 columns]"
      ]
     },
     "execution_count": 32,
     "metadata": {},
     "output_type": "execute_result"
    }
   ],
   "source": [
    "# Save all order IDs with at least one missing value in 'add_to_cart_order' / Salve todos os IDs dos pedidos com pelo menos um valor ausente em 'add_to_cart_order'\n",
    "\n",
    "ids_nan = df_order_products[df_order_products['add_to_cart_order'].isna()]\n",
    "orders_id_with_nan = ids_nan['order_id']\n",
    "ids_nan"
   ]
  },
  {
   "cell_type": "code",
   "execution_count": 33,
   "id": "54c31695",
   "metadata": {
    "id": "54c31695"
   },
   "outputs": [
    {
     "name": "stdout",
     "output_type": "stream",
     "text": [
      "1\n"
     ]
    }
   ],
   "source": [
    "# Do all orders with missing values contain more than 64 products? / Todos os pedidos com valores ausentes contêm mais de 64 produtos?\n",
    "# Group orders with missing data by order ID / Agrupe os pedidos com dados ausentes por ID de pedido\n",
    "# Count the number of 'product_id' in each order and check the minimum value of the count / Conte o número de 'product_id' em cada pedido e verifique o valor mínimo da contagem\n",
    "\n",
    "ids_nan = df_order_products[df_order_products['add_to_cart_order'].isna()]\n",
    "new_ids_nan = ids_nan.groupby('order_id')['product_id'].count()\n",
    "all_orders_64 = (new_ids_nan > 64).all()\n",
    "all_orders_64\n",
    "print(new_ids_nan.min())"
   ]
  },
  {
   "cell_type": "markdown",
   "id": "p9V6pddtjglj",
   "metadata": {
    "id": "p9V6pddtjglj"
   },
   "source": [
    "Briefly describe your conclusions.\n",
    "\n",
    "Through our analysis, we were able to identify that not all orders contain more than 64 products, and that the minimum value in 'product_id' is 1.\n",
    "\n",
    "==============================================================\n",
    "\n",
    "Descreva brevemente suas conclusões.\n",
    "\n",
    "Com a análise feita conseguirmos identificar que não são todos os pedidos que contêm mais de 64 produtos, além de que o valor mínimo em 'product_id' é 1."
   ]
  },
  {
   "cell_type": "code",
   "execution_count": 34,
   "id": "7a987d08",
   "metadata": {
    "id": "7a987d08"
   },
   "outputs": [
    {
     "name": "stdout",
     "output_type": "stream",
     "text": [
      "order_id             0\n",
      "product_id           0\n",
      "add_to_cart_order    0\n",
      "reordered            0\n",
      "dtype: int64\n"
     ]
    },
    {
     "data": {
      "text/html": [
       "<div>\n",
       "<style scoped>\n",
       "    .dataframe tbody tr th:only-of-type {\n",
       "        vertical-align: middle;\n",
       "    }\n",
       "\n",
       "    .dataframe tbody tr th {\n",
       "        vertical-align: top;\n",
       "    }\n",
       "\n",
       "    .dataframe thead th {\n",
       "        text-align: right;\n",
       "    }\n",
       "</style>\n",
       "<table border=\"1\" class=\"dataframe\">\n",
       "  <thead>\n",
       "    <tr style=\"text-align: right;\">\n",
       "      <th></th>\n",
       "      <th>order_id</th>\n",
       "      <th>product_id</th>\n",
       "      <th>add_to_cart_order</th>\n",
       "      <th>reordered</th>\n",
       "    </tr>\n",
       "  </thead>\n",
       "  <tbody>\n",
       "    <tr>\n",
       "      <th>737</th>\n",
       "      <td>2449164</td>\n",
       "      <td>5068</td>\n",
       "      <td>999</td>\n",
       "      <td>0</td>\n",
       "    </tr>\n",
       "    <tr>\n",
       "      <th>9926</th>\n",
       "      <td>1968313</td>\n",
       "      <td>43867</td>\n",
       "      <td>999</td>\n",
       "      <td>0</td>\n",
       "    </tr>\n",
       "    <tr>\n",
       "      <th>14394</th>\n",
       "      <td>2926893</td>\n",
       "      <td>11688</td>\n",
       "      <td>999</td>\n",
       "      <td>0</td>\n",
       "    </tr>\n",
       "    <tr>\n",
       "      <th>16418</th>\n",
       "      <td>1717990</td>\n",
       "      <td>4142</td>\n",
       "      <td>999</td>\n",
       "      <td>0</td>\n",
       "    </tr>\n",
       "    <tr>\n",
       "      <th>30114</th>\n",
       "      <td>1959075</td>\n",
       "      <td>42828</td>\n",
       "      <td>999</td>\n",
       "      <td>1</td>\n",
       "    </tr>\n",
       "    <tr>\n",
       "      <th>...</th>\n",
       "      <td>...</td>\n",
       "      <td>...</td>\n",
       "      <td>...</td>\n",
       "      <td>...</td>\n",
       "    </tr>\n",
       "    <tr>\n",
       "      <th>4505662</th>\n",
       "      <td>1800005</td>\n",
       "      <td>7411</td>\n",
       "      <td>999</td>\n",
       "      <td>0</td>\n",
       "    </tr>\n",
       "    <tr>\n",
       "      <th>4511400</th>\n",
       "      <td>1633337</td>\n",
       "      <td>260</td>\n",
       "      <td>999</td>\n",
       "      <td>0</td>\n",
       "    </tr>\n",
       "    <tr>\n",
       "      <th>4517562</th>\n",
       "      <td>404157</td>\n",
       "      <td>9517</td>\n",
       "      <td>999</td>\n",
       "      <td>0</td>\n",
       "    </tr>\n",
       "    <tr>\n",
       "      <th>4534112</th>\n",
       "      <td>1673227</td>\n",
       "      <td>17835</td>\n",
       "      <td>999</td>\n",
       "      <td>0</td>\n",
       "    </tr>\n",
       "    <tr>\n",
       "      <th>4535739</th>\n",
       "      <td>1832957</td>\n",
       "      <td>17949</td>\n",
       "      <td>999</td>\n",
       "      <td>1</td>\n",
       "    </tr>\n",
       "  </tbody>\n",
       "</table>\n",
       "<p>836 rows × 4 columns</p>\n",
       "</div>"
      ],
      "text/plain": [
       "         order_id  product_id  add_to_cart_order  reordered\n",
       "737       2449164        5068                999          0\n",
       "9926      1968313       43867                999          0\n",
       "14394     2926893       11688                999          0\n",
       "16418     1717990        4142                999          0\n",
       "30114     1959075       42828                999          1\n",
       "...           ...         ...                ...        ...\n",
       "4505662   1800005        7411                999          0\n",
       "4511400   1633337         260                999          0\n",
       "4517562    404157        9517                999          0\n",
       "4534112   1673227       17835                999          0\n",
       "4535739   1832957       17949                999          1\n",
       "\n",
       "[836 rows x 4 columns]"
      ]
     },
     "execution_count": 34,
     "metadata": {},
     "output_type": "execute_result"
    }
   ],
   "source": [
    "# Replace missing values in the 'add_to_cart_order' column with 999 and convert the column to integer type / Substitua valores ausentes na coluna 'add_to_cart_order' por 999 e converta a coluna para o tipo integer\n",
    "\n",
    "df_order_products['add_to_cart_order'] = df_order_products['add_to_cart_order'].fillna('999').astype('int') # replacing the missing values with 999 and changing the column to type int / substituição dos valores ausentes por 999 e alteração para o tipo int a coluna\n",
    "changed_values = df_order_products[df_order_products['add_to_cart_order'] == 999] # filter to print all data that has 999 in the 'add_to_cart_order' column / filtro para imprimir todos os dados que tem 999 na coluna 'add_to_cart_order'\n",
    "print(changed_values.isna().sum()) # check missing values for confirmation / checagem valores ausentes para confirmação\n",
    "changed_values"
   ]
  },
  {
   "cell_type": "markdown",
   "id": "fea4bcc7",
   "metadata": {
    "id": "fea4bcc7"
   },
   "source": [
    "Briefly describe your conclusions and what you did with them.\n",
    "\n",
    "Replaced the 'NaN' values with 999 as requested and confirmed that all NaN values (836) were changed\n",
    "\n",
    "==============================================================\n",
    "\n",
    "Descreva brevemente suas conclusões e o que você fez com elas.\n",
    "\n",
    "Feita substituição dos valores 'NaN' por 999 como solicitado e confirmado que todos os valores NaN (836) foram alterados"
   ]
  },
  {
   "cell_type": "markdown",
   "id": "RnplPFY1gSrb",
   "metadata": {
    "id": "RnplPFY1gSrb"
   },
   "source": [
    "## Conclusions\n",
    "\n",
    "All the duplicate and missing values were checked, and the duplicate data was cleaned, for example in the 'instacart_orders' dataframe there were initially a total of 121 orders in the orders at 2 a.m., but only 106 after cleaning, and replacement of the NaN values that were necessary (changed to 'Unknown' and '999').\n",
    "\n",
    "We also found that in the 'products' dataframe, before the missing values were replaced, they were all related to the 'aisle_id' and 'department_id' columns.\n",
    "\n",
    "In the 'instacart_orders' dataframe, none of the missing values correspond to customers who are in the first order\n",
    "\n",
    "And for the 'order_products' dataframe we have a maximum value of items added to the cart of 64 and a minimum value of 1.\n",
    "\n",
    "==============================================================\n",
    "\n",
    "`Conclusões`\n",
    "\n",
    "Foi feita toda a verificação de valores duplicados e ausentes, sendo feita a limpeza dos dados duplicados, como por exemplo no dataframe 'instacart_orders' nos pedidos às 2h da manhã tinha inicialmente um total de 121 pedidos que ficaram vapenas 106 após a limpeza, e substituição dos valores NaN que eram necessário (alterados para 'Unknown' e '999').\n",
    "\n",
    "Além disso também identificamos que no dataframe 'products', antes de ser feita a substituição dos valores ausentes, estes estão todos relacionados com as colunas 'aisle_id' e 'department_id'.\n",
    "\n",
    "Já no dataframe 'instacart_orders' nenhum dos valores ausentes correspondem a clientes que estão no primeiro pedido\n",
    "\n",
    "E para o dataframe 'order_products' temos um valor máximo de itens adicionados ao carrinho de 64 e um valor mínimo de 1."
   ]
  },
  {
   "cell_type": "markdown",
   "id": "UjrOIwTcz3ri",
   "metadata": {
    "id": "UjrOIwTcz3ri"
   },
   "source": [
    "# Step 3. Data analysis\n",
    "\n",
    "When the data is processed and ready, run the following analysis:\n",
    "\n",
    "==============================================================\n",
    "\n",
    "`Etapa 3. Análise de dados`\n",
    "\n",
    "Quando os dados estiverem processados ​​e prontos, execute a seguinte análise:"
   ]
  },
  {
   "cell_type": "markdown",
   "id": "turkish-kidney",
   "metadata": {
    "id": "turkish-kidney"
   },
   "source": [
    "# [A] Easy (you must complete everything to pass)\n",
    "\n",
    "1.\tCheck that the values in the `'order_hour_of_day'` and `'order_dow'` columns in the `orders` table make sense (i.e. the values in the `'order_hour_of_day'` column range from 0 to 23 and those in `'order_dow'` range from 0 to 6).\n",
    "2.\tCreate a graph showing how many people place orders at each hour of the day.\n",
    "3.\tCreate a graph showing which day of the week people shop.\n",
    "4.\tCreate a graph showing how long people wait before placing their next order and comment on the minimum and maximum values.\n",
    "\n",
    "==============================================================\n",
    "\n",
    "`[A] Fácil (é necessário concluir tudo para passar)`\n",
    "\n",
    "1.\tVerifique se os valores nas colunas `'order_hour_of_day'` e `'order_dow'` na tabela `orders` fazem sentido (ou seja, os valores da coluna  `'order_hour_of_day'` variam de 0 a 23 e os da `'order_dow'` variam de 0 a 6).\n",
    "2.\tCrie um gráfico que mostre quantas pessoas fazem pedidos a cada hora do dia.\n",
    "3.\tCrie um gráfico que mostre em que dia da semana as pessoas fazem compras.\n",
    "4.\tCrie um gráfico que mostre quanto tempo as pessoas esperam até fazer seu próximo pedido e comente sobre os valores mínimo e máximo.\n"
   ]
  },
  {
   "cell_type": "markdown",
   "id": "short-capability",
   "metadata": {
    "id": "short-capability"
   },
   "source": [
    "### [A1] Check that the values make sense\n",
    "\n",
    "==============================================================\n",
    "\n",
    "`[A1] Verifique se os valores fazem sentido`"
   ]
  },
  {
   "cell_type": "code",
   "execution_count": 35,
   "id": "growing-fruit",
   "metadata": {
    "id": "growing-fruit"
   },
   "outputs": [
    {
     "data": {
      "text/plain": [
       "True"
      ]
     },
     "execution_count": 35,
     "metadata": {},
     "output_type": "execute_result"
    }
   ],
   "source": [
    "check_order_hour_of_day = ((df_instacart_orders['order_hour_of_day'] >= 0) & (df_instacart_orders['order_hour_of_day'] <= 23)).all() # checking if values are within the desired parameters, if all are returns True, otherwise False / verificando se valores estão dentro dos parâmetros desejados, se todos estiverem retorna True, caso contrário False\n",
    "check_order_hour_of_day"
   ]
  },
  {
   "cell_type": "code",
   "execution_count": 36,
   "id": "accessory-malaysia",
   "metadata": {
    "id": "accessory-malaysia"
   },
   "outputs": [
    {
     "data": {
      "text/plain": [
       "True"
      ]
     },
     "execution_count": 36,
     "metadata": {},
     "output_type": "execute_result"
    }
   ],
   "source": [
    "check_order_dow = ((df_instacart_orders['order_dow'] >= 0) & (df_instacart_orders['order_dow'] <= 6)).all()\n",
    "check_order_dow"
   ]
  },
  {
   "cell_type": "markdown",
   "id": "hmR2GNQ6lCsX",
   "metadata": {
    "id": "hmR2GNQ6lCsX"
   },
   "source": [
    "Write your conclusions here\n",
    "\n",
    "We can see that the information returned is 'True' and so the values in the 'order_hour_of_day' and 'order_dow' columns make sense and are within the correct values.\n",
    "\n",
    "==============================================================\n",
    "\n",
    "Escreva suas conclusões aqui\n",
    "\n",
    "Podemos ver que a informação retornada é 'True' e sendo assim os valores existentes nas colunas 'order_hour_of_day' e 'order_dow' fazem sentido e estão dentro dos valores corretos."
   ]
  },
  {
   "cell_type": "markdown",
   "id": "a6743a70",
   "metadata": {
    "id": "a6743a70"
   },
   "source": [
    "### [A2] How many people place orders every hour of the day?\n",
    "\n",
    "==============================================================\n",
    "\n",
    "`[A2] Quantas pessoas fazem pedidos a cada hora do dia?`"
   ]
  },
  {
   "cell_type": "code",
   "execution_count": 37,
   "id": "a36cca27",
   "metadata": {
    "id": "a36cca27"
   },
   "outputs": [
    {
     "data": {
      "image/png": "[encoded data removed]",
      "text/plain": [
       "<Figure size 640x480 with 1 Axes>"
      ]
     },
     "metadata": {},
     "output_type": "display_data"
    }
   ],
   "source": [
    "df_instacart_orders['order_hour_of_day'].value_counts().sort_index().plot(\n",
    "    kind = 'bar',\n",
    "    title = 'Orders by Hours',\n",
    "    style = 'bar',\n",
    "    xlabel = 'Hours of Day',\n",
    "    ylabel = 'Number of Orders') # code to count values from the 'order_hour_of_day' column and sort the index in the chart, then print the data in a bar chart / código para contar valores da coluna 'order_hour_of_day' e ordenar o index no gráfico, depois imprimir os dados em um gráfico de barras\n",
    "plt.show()"
   ]
  },
  {
   "cell_type": "markdown",
   "id": "11270eed",
   "metadata": {
    "id": "11270eed"
   },
   "source": [
    "Write your conclusions here\n",
    "\n",
    "According to the graph, there is a large volume of purchases between 10 a.m. and 4 p.m., with 10 a.m. being the main purchase time with the highest volume of orders. In addition, I can see an average volume of purchases at 07:00 / 08:00 / 18:00 / 19:00. In the early hours of the morning, the volume of purchases is very small, with the lowest levels at 03:00 and 04:00.\n",
    "\n",
    "==============================================================\n",
    "\n",
    "Escreva suas conclusões aqui\n",
    "\n",
    "Conforme o gráfico, existe um grande volume de compras entre às 10h e 16h, tendo o horário das 10h como o principal horário de compra com um maior volume de ordens. Além disso, identifico um volume de compra médios nos horários: 07h / 08h / 18h / 19h. Já na madrugada o volume de compras é muito pequeno, tendo o menor índice nos horários das 03h e 04h."
   ]
  },
  {
   "cell_type": "markdown",
   "id": "documented-command",
   "metadata": {
    "id": "documented-command"
   },
   "source": [
    "### [A3] What day of the week do people buy food?\n",
    "\n",
    "==============================================================\n",
    "\n",
    "`[A3] Em que dia da semana as pessoas compram produtos alimentícios?`"
   ]
  },
  {
   "cell_type": "code",
   "execution_count": 38,
   "id": "chief-digit",
   "metadata": {
    "id": "chief-digit"
   },
   "outputs": [
    {
     "data": {
      "image/png": "[encoded data removed]",
      "text/plain": [
       "<Figure size 640x480 with 1 Axes>"
      ]
     },
     "metadata": {},
     "output_type": "display_data"
    }
   ],
   "source": [
    "days_of_week = ['Domingo', 'Segunda-feira', 'Terça-feira', 'Quarta-feira', 'Quinta-feira', 'Sexta-feira', 'Sábado']\n",
    "\n",
    "df_instacart_orders['order_dow'].value_counts().sort_index().plot(\n",
    "    kind = 'bar',\n",
    "    title = 'Orders by Day',\n",
    "    style = 'bar',\n",
    "    xlabel = 'Days of Week',\n",
    "    ylabel = 'Number of Orders') # code to count values from the 'order_dow' column and sort the index in the chart, then print the data in a bar chart / código para contar valores da coluna 'order_dow' e ordenar o index no gráfico, depois imprimir os dados em um gráfico de barras\n",
    "\n",
    "plt.xticks(ticks=range(7), labels=days_of_week, rotation=75)\n",
    "plt.show()"
   ]
  },
  {
   "cell_type": "markdown",
   "id": "dominant-lightning",
   "metadata": {
    "id": "dominant-lightning"
   },
   "source": [
    "Write your conclusions here\n",
    "\n",
    "According to the graph above, the days with the highest volume of food purchases are Sunday and Monday, with a slight difference between these days, the former being the day with the highest number of purchases respectively.\n",
    "\n",
    "==============================================================\n",
    "\n",
    "Escreva suas conclusões aqui\n",
    "\n",
    "Conforme o gráfico acima, os dias com maior volume de compras de produtos alimentícios é no domingo e segunda, tendo uma pequena diferença entre estes dias sendo o primeiro o dia com maior número de compras respectivamente."
   ]
  },
  {
   "cell_type": "markdown",
   "id": "cutting-concert",
   "metadata": {
    "id": "cutting-concert"
   },
   "source": [
    "### [A4] How long do people wait before placing another order?\n",
    "\n",
    "==============================================================\n",
    "\n",
    "`[A4] Quanto tempo as pessoas esperam até fazer outro pedido?`"
   ]
  },
  {
   "cell_type": "code",
   "execution_count": 39,
   "id": "gMOIimGd5VNb",
   "metadata": {
    "id": "gMOIimGd5VNb",
    "scrolled": true
   },
   "outputs": [
    {
     "data": {
      "image/png": "[encoded data removed]",
      "text/plain": [
       "<Figure size 640x480 with 1 Axes>"
      ]
     },
     "metadata": {},
     "output_type": "display_data"
    }
   ],
   "source": [
    "df_instacart_orders['days_since_prior_order'].value_counts().sort_index().plot(\n",
    "    kind = 'bar',\n",
    "    title = 'Orders by day',\n",
    "    style = 'bar',\n",
    "    xlabel = 'Days Until New Order',\n",
    "    ylabel = 'Number of Order') # code to count values from the 'days_since_prior_order' column and sort the index in the chart, then print the data in a bar chart / código para contar valores da coluna 'days_since_prior_order' e ordenar o index no gráfico, depois imprimir os dados em um gráfico de barras\n",
    "plt.show()"
   ]
  },
  {
   "cell_type": "markdown",
   "id": "discrete-vertex",
   "metadata": {
    "id": "discrete-vertex"
   },
   "source": [
    "Write your conclusions here\n",
    "\n",
    "We can see that most people wait 30 days to place another order, however, we can see that between 2 and 8 days there is a considerable number of people who place another order, with the second highest peak on the 7th day.\n",
    "\n",
    "==============================================================\n",
    "\n",
    "Escreva suas conclusões aqui\n",
    "\n",
    "Podemos ver que a maioria das pessoas esperam 30 dias para fazer um outro pedido, contudo, podemos perceber que entre 2 a 8 dias existe um número considerável de pessoas que fazem outro pedido, sendo o segundo maior pico no 7º dia."
   ]
  },
  {
   "cell_type": "markdown",
   "id": "tight-staff",
   "metadata": {
    "id": "tight-staff"
   },
   "source": [
    "# [B] Medium (it is necessary to complete everything to pass)\n",
    "\n",
    "1.\tIs there any difference in the distribution of `'order_hour_of_day'` on Wednesdays and Saturdays? Build bar charts for both days on the same chart and describe the differences you noticed.\n",
    "2.\tBuild a distribution chart for the number of orders customers make (ou seja, quantos clientes fizeram apenas 1 pedido, quantos fizeram apenas 2, quantos apenas 3, etc.)\n",
    "3.\tWhat are the 20 most frequently purchased products? Show IDs and names.\n",
    "\n",
    "==============================================================\n",
    "\n",
    "`[B] Médio (é necessário concluir tudo para passar)`\n",
    "\n",
    "1.\tHá alguma diferença nas distribuições de `'order_hour_of_day'` nas quartas e sábados? Construa gráficos de barras para ambos os dias no mesmo gráfico e descreva as diferenças que você notou.\n",
    "2.\tConstrua um gráfico de distribuição para o número de pedidos que os clientes fazem (ou seja, quantos clientes fizeram apenas 1 pedido, quantos fizeram apenas 2, quantos apenas 3, etc.)\n",
    "3.\tQuais são os 20 produtos comprados com mais frequência? Exiba os IDs e nomes.\n"
   ]
  },
  {
   "cell_type": "markdown",
   "id": "packed-classic",
   "metadata": {
    "id": "packed-classic"
   },
   "source": [
    "### [B1] Differences on Wednesdays and Saturdays in `'order_hour_of_day'`. Create bar charts for both days and describe the differences.\n",
    "\n",
    "==============================================================\n",
    "\n",
    "`[B1] Diferenças nas quartas e sábados em `'order_hour_of_day'`. Crie gráficos de barras para ambos os dias e descreva as diferenças.`"
   ]
  },
  {
   "cell_type": "code",
   "execution_count": 40,
   "id": "94e54e8a",
   "metadata": {
    "id": "94e54e8a"
   },
   "outputs": [
    {
     "data": {
      "image/png": "[encoded data removed]",
      "text/plain": [
       "<Figure size 640x480 with 1 Axes>"
      ]
     },
     "metadata": {},
     "output_type": "display_data"
    }
   ],
   "source": [
    "wednesday = df_instacart_orders[df_instacart_orders['order_dow'] == 3] # filter for wednesday / filtro para quarta-feira\n",
    "wednesday_orders = wednesday['order_hour_of_day'].value_counts().sort_index() # counting of values corresponding to this day / contagem dos valores correspondente a este dia\n",
    "\n",
    "wednesday_orders.plot(\n",
    "    kind = 'bar',\n",
    "    title = 'Orders on Wednesday',\n",
    "    xlabel = 'Hour of the Day',\n",
    "    ylabel = 'Number of Orders') # graph for data display / gráfico para exibição dos dados\n",
    "\n",
    "plt.show()"
   ]
  },
  {
   "cell_type": "code",
   "execution_count": 41,
   "id": "797c90a8",
   "metadata": {
    "id": "797c90a8"
   },
   "outputs": [
    {
     "data": {
      "image/png": "[encoded data removed]",
      "text/plain": [
       "<Figure size 640x480 with 1 Axes>"
      ]
     },
     "metadata": {},
     "output_type": "display_data"
    }
   ],
   "source": [
    "saturday = df_instacart_orders[df_instacart_orders['order_dow'] == 6] # filter for saturday / filtro para sábado\n",
    "saturday_orders = saturday['order_hour_of_day'].value_counts().sort_index() # counting of values corresponding to this day / contagem dos valores correspondente a este dia\n",
    "\n",
    "saturday_orders.plot(\n",
    "    kind = 'bar',\n",
    "    title = 'Orders on Saturday',\n",
    "    xlabel = 'Hour of the Day',\n",
    "    ylabel = 'Number of Orders') # graph for data display / gráfico para exibição dos dados\n",
    "\n",
    "plt.show()"
   ]
  },
  {
   "cell_type": "code",
   "execution_count": 42,
   "id": "35bcea30",
   "metadata": {
    "id": "35bcea30"
   },
   "outputs": [
    {
     "data": {
      "image/png": "[encoded data removed]",
      "text/plain": [
       "<Figure size 640x480 with 1 Axes>"
      ]
     },
     "metadata": {},
     "output_type": "display_data"
    }
   ],
   "source": [
    "combined_orders = pd.DataFrame({'Wednesday': wednesday_orders, 'Saturday': saturday_orders}) # combination of days we want to analyze / combinação dos dias que desejamos analisar\n",
    "\n",
    "combined_orders.plot(\n",
    "    kind = 'bar',\n",
    "    title = 'Orders by Hour: Wednesday vs. Saturday',\n",
    "    xlabel = 'Hour of the Day',\n",
    "    ylabel = 'Number of Orders') # chart to be displayed / gráfico a ser apresentado\n",
    "\n",
    "plt.legend(['Wednesday', 'Saturday']) # chart legend / legenda do gráfico\n",
    "\n",
    "plt.show()"
   ]
  },
  {
   "cell_type": "markdown",
   "id": "charitable-congo",
   "metadata": {
    "id": "charitable-congo"
   },
   "source": [
    "Write your conclusions here\n",
    "\n",
    "There is some difference in the distribution between Wednesday and Saturday, this being greater and more noticeable in the time from 10 a.m. to 3 p.m., however, in the other hours and even in the early part of the morning the values are similar goods with differences that are not so big / considerable.\n",
    "\n",
    "==============================================================\n",
    "\n",
    "Escreva suas conclusões aqui\n",
    "\n",
    "Existe sim alguma diferença na distribuição entre quarta e sábado, sendo essa maior e mais notável no horário das 10h às 15h, contudo, nos demais horários e até mesmo na parte da madrugada os valores são bens semelhantes com diferenças que não são tão grandes/consideráveis."
   ]
  },
  {
   "cell_type": "markdown",
   "id": "e3891143",
   "metadata": {
    "id": "e3891143"
   },
   "source": [
    "### [B2] What is the distribution of the number of orders per customer?\n",
    "\n",
    "==============================================================\n",
    "\n",
    "`[B2] Qual é a distribuição do número de pedidos por cliente?`"
   ]
  },
  {
   "cell_type": "code",
   "execution_count": 43,
   "id": "d8c26c23",
   "metadata": {
    "id": "d8c26c23"
   },
   "outputs": [
    {
     "data": {
      "image/png": "[encoded data removed]",
      "text/plain": [
       "<Figure size 640x480 with 1 Axes>"
      ]
     },
     "metadata": {},
     "output_type": "display_data"
    }
   ],
   "source": [
    "order_per_client = df_instacart_orders['user_id'].value_counts() # counting the values in the 'user_id' column / contagem dos valores na coluna 'user_id'\n",
    "\n",
    "order_per_client.plot(\n",
    "    kind = 'hist',\n",
    "    bins = 30,\n",
    "    title = 'Distribution of Orders by Customer',\n",
    "    xlabel = 'Number of orders',\n",
    "    ylabel = 'Number of Customers')\n",
    "\n",
    "\n",
    "plt.show()"
   ]
  },
  {
   "cell_type": "markdown",
   "id": "d2eff7d5",
   "metadata": {
    "id": "d2eff7d5"
   },
   "source": [
    "Write your conclusions here\n",
    "\n",
    "We can note that the vast majority of customers make few orders, as more data volume at the beginning of the chart, having a very large drop as the number of orders increases.\n",
    "\n",
    "==============================================================\n",
    "\n",
    "Escreva suas conclusões aqui\n",
    "\n",
    "Podemos notar que a grande maioria dos clientes fazem poucos pedidos, conforme maior volume de dados ao início do gráfico, tendo uma queda muito grande conforme o número de pedidos aumenta."
   ]
  },
  {
   "cell_type": "markdown",
   "id": "54a0319c",
   "metadata": {
    "id": "54a0319c"
   },
   "source": [
    "### [B3] What are the 20 most popular products? Show IDs and names.\n",
    "\n",
    "==============================================================\n",
    "\n",
    "`[B3] Quais são os 20 produtos mais populares? Exiba os IDs e nomes.`"
   ]
  },
  {
   "cell_type": "code",
   "execution_count": 44,
   "id": "exterior-arizona",
   "metadata": {
    "id": "exterior-arizona",
    "scrolled": true
   },
   "outputs": [],
   "source": [
    "count_products = df_order_products['product_id'].value_counts() # counting values in the 'product_id' column in the dataframe 'order_products' / contagem dos valores na coluna 'product_id' no dataframe 'order_products'"
   ]
  },
  {
   "cell_type": "code",
   "execution_count": 45,
   "id": "universal-facial",
   "metadata": {
    "id": "universal-facial"
   },
   "outputs": [],
   "source": [
    "product_counts_df = count_products.reset_index() # index correction after previous count / correção do index após contagem anterior\n",
    "product_counts_df.columns = ['product_id', 'order_count'] # columns name definition / definição nome colunas\n",
    "merged_df = product_counts_df.merge(\n",
    "                                    df_products,\n",
    "                                    left_on = 'product_id',\n",
    "                                    right_on = 'product_id'\n",
    "                                    ) # combination of the 'order_products' dataframe with the 'products 'dataframe / combinação do dataframe 'order_products' com o dataframe 'products'"
   ]
  },
  {
   "cell_type": "code",
   "execution_count": 46,
   "id": "bbcdd20b",
   "metadata": {
    "id": "bbcdd20b"
   },
   "outputs": [
    {
     "data": {
      "image/png": "[encoded data removed]",
      "text/plain": [
       "<Figure size 640x480 with 1 Axes>"
      ]
     },
     "metadata": {},
     "output_type": "display_data"
    }
   ],
   "source": [
    "top_20_products = merged_df.sort_values(by='order_count', ascending=False).head(20) # checking the 20 most popular products / verificação dos 20 produtos mais populares\n",
    "\n",
    "top_20_products[['product_id', 'product_name', 'order_count']] # print the 20 most popular products / imprime os 20 produtos mais populares\n",
    "\n",
    "top_20_products.plot(\n",
    "    kind = 'bar',\n",
    "    title = 'Top 20 Most Popular Products',\n",
    "    x = 'product_name',\n",
    "    y = 'order_count',\n",
    "    xlabel = 'Product Name',\n",
    "    ylabel = 'Number of Orders',\n",
    "    rot = 90\n",
    ")\n",
    "\n",
    "plt.show()"
   ]
  },
  {
   "cell_type": "markdown",
   "id": "7df00f47",
   "metadata": {
    "id": "7df00f47"
   },
   "source": [
    "Write your conclusions here\n",
    "\n",
    "We managed to identify that the best-selling item, taking the first and second place, are bananas, the first lines being the indication of only Banana while the second is Organic Banana, and that the last item of our list Tomato Organic Grape (o famoso Tomate Cereja). However, it is interesting to note that the vast majority of the list of purchased items are vegetables or fruits.\n",
    "\n",
    "==============================================================\n",
    "\n",
    "Escreva suas conclusões aqui\n",
    "\n",
    "Conseguimos identificar que o item mais vendido, tendo o primeiro e segundo lugar, são bananas, sendo a primeira linhas a indicação de apenas Banana enquanto o segundo é Banana Orgânica,  e que o último item da nossa lista Tomate Grape Orgânico (o famoso Tomate Cereja). Porém é interessante perceber que a grande maioria da lista dos itens comprados são verduras ou frutas."
   ]
  },
  {
   "cell_type": "markdown",
   "id": "gross-theme",
   "metadata": {
    "id": "gross-theme"
   },
   "source": [
    "# [C] Difficult (it is necessary to complete at least two questions to pass)\n",
    "\n",
    "1.\tHow many items do people normally buy in one order? How's the distribution?\n",
    "2.\tWhat are the top 20 items most often included in repeated requests? Show IDs and names.\n",
    "3.\tFor each product, what percentage of your orders are repeated? Create a table with columns of ID and product name and the ratio of repeated orders.\n",
    "4.\tFor each customer, what percentage of all your orders are repeated?\n",
    "5.\tWhat are the top 20 items that people put in carts before everyone else? Display the product ID, name and the number of times it was first added to a cart.\n",
    "\n",
    "==============================================================\n",
    "\n",
    "`[C] Difícil (é necessário concluir pelo menos duas perguntas para passar)`\n",
    "\n",
    "1.\tQuantos itens as pessoas normalmente compram em um pedido? Como fica a distribuição?\n",
    "2.\tQuais são os 20 principais itens incluídos mais frequentemente em pedidos repetidos? Exiba os IDs e nomes.\n",
    "3.\tPara cada produto, qual parcela de seus pedidos são repetidos? Crie uma tabela com colunas de ID e nome do produto e a proporção de pedidos repetidos.\n",
    "4.\tPara cada cliente, qual proporção de todos os seus pedidos são repetidos?\n",
    "5.\tQuais são os 20 principais itens que as pessoas colocam nos carrinhos antes de todos os outros? Exiba o ID do produto, nome e o número de vezes que ele foi o primeiro a ser adicionado a um carrinho.\n"
   ]
  },
  {
   "cell_type": "markdown",
   "id": "romantic-deposit",
   "metadata": {
    "id": "romantic-deposit"
   },
   "source": [
    "### [C1] How many items do people normally buy in one order? How's the distribution?\n",
    "\n",
    "==============================================================\n",
    "\n",
    "`[C1] Quantos itens as pessoas normalmente compram em um pedido? Como fica a distribuição?`"
   ]
  },
  {
   "cell_type": "code",
   "execution_count": 47,
   "id": "virtual-punch",
   "metadata": {
    "id": "virtual-punch"
   },
   "outputs": [],
   "source": [
    "count_products_ordered = df_order_products.groupby('order_id')['product_id'].count() # counting of products for each order made / contagem dos produtos por cada ordem feita"
   ]
  },
  {
   "cell_type": "code",
   "execution_count": 48,
   "id": "sensitive-breathing",
   "metadata": {
    "id": "sensitive-breathing"
   },
   "outputs": [
    {
     "name": "stdout",
     "output_type": "stream",
     "text": [
      "A média dos produtos comprados é de 10 itens por pedido.\n"
     ]
    }
   ],
   "source": [
    "print(\"A média dos produtos comprados é de {:.0f} itens por pedido.\".format(count_products_ordered.mean())) # print the average of products per order / imprime a média dos produtos por pedido"
   ]
  },
  {
   "cell_type": "code",
   "execution_count": 49,
   "id": "completed-frank",
   "metadata": {
    "id": "completed-frank"
   },
   "outputs": [
    {
     "data": {
      "image/png": "[encoded data removed]",
      "text/plain": [
       "<Figure size 1000x600 with 1 Axes>"
      ]
     },
     "metadata": {},
     "output_type": "display_data"
    }
   ],
   "source": [
    "count_products_ordered.plot(\n",
    "    kind = 'hist',\n",
    "    title = 'Mean Products per Orders',\n",
    "    bins = range(count_products_ordered.max()),\n",
    "    figsize = (10, 6),\n",
    "    edgecolor='black', # serves to add a edge of the chosen color to the bars of the graph / adicionar uma borda da cor escolhida às barras do gráfico\n",
    "    color='skyblue' # change the color of the bars of the chart / alterar cor das barras do gráfico\n",
    "    )\n",
    "\n",
    "plt.xticks(range(0, 70, 5)) # define the beginning and end values of the 'x' axis in this case, as well as what the size of spacing in the values we want that was chosen from 10 in 10 / definir os valores de início e fim do eixo 'x' neste caso, bem como qual o tamanho de espaçamento nos valores que queremos que foi escolhido de 10 em 10\n",
    "plt.xlabel('Number of Items per Order')\n",
    "plt.ylabel('Number of orders')\n",
    "plt.show()"
   ]
  },
  {
   "cell_type": "markdown",
   "id": "designed-mortality",
   "metadata": {
    "id": "designed-mortality"
   },
   "source": [
    "Write your conclusions here\n",
    "\n",
    "We were able to identify that on average an order will have 10 items, however, as the graph made we can notice that the orders have a higher volume when made up to 10 to 13 and has a very large drop when orders 15 or more items.\n",
    "\n",
    "==============================================================\n",
    "\n",
    "Escreva suas conclusões aqui\n",
    "\n",
    "Conseguimos identificar que em médio um pedido terá 10 itens, contudo, conforme o gráfico feito podemos notar que os pedidos tem um maior volume quando feito até 10 a 13 e tem uma queda muito grande quando são pedidos 15 ou mais itens."
   ]
  },
  {
   "cell_type": "markdown",
   "id": "5e6b5537",
   "metadata": {
    "id": "5e6b5537"
   },
   "source": [
    "### [C2] What are the top 20 items most often included in repeat requests? Show IDs and names.\n",
    "\n",
    "==============================================================\n",
    "\n",
    "`[C2] Quais são os 20 principais itens incluídos com mais frequência em pedidos repetidos? Exiba os IDs e nomes.`"
   ]
  },
  {
   "cell_type": "code",
   "execution_count": 50,
   "id": "9374e55a",
   "metadata": {
    "id": "9374e55a"
   },
   "outputs": [],
   "source": [
    "count_20_products_ordered = df_order_products.groupby('order_id')['reordered'].count() # count of products that are ordered again / contagem dos produtos que são pedidos novamente"
   ]
  },
  {
   "cell_type": "code",
   "execution_count": 51,
   "id": "possible-change",
   "metadata": {
    "id": "possible-change",
    "scrolled": true
   },
   "outputs": [],
   "source": [
    "top_20_product_counts_df = count_20_products_ordered.reset_index() # index correction after previous count / correção do index após contagem anterior\n",
    "top_20_product_counts_df.columns = ['product_id', 'reordered'] # columns name definition / definição nome colunas\n",
    "merged_df_20_products = top_20_product_counts_df.merge(\n",
    "                                                        df_products,\n",
    "                                                        left_on = 'product_id',\n",
    "                                                        right_on = 'product_id'\n",
    "                                                        ) # combination of the 'order_products' dataframe with the 'products 'dataframe / combinação do dataframe 'order_products' com o dataframe 'products'"
   ]
  },
  {
   "cell_type": "code",
   "execution_count": 70,
   "id": "professional-surfing",
   "metadata": {
    "id": "professional-surfing",
    "scrolled": true
   },
   "outputs": [
    {
     "data": {
      "image/png": "[encoded data removed]",
      "text/plain": [
       "<Figure size 640x480 with 1 Axes>"
      ]
     },
     "metadata": {},
     "output_type": "display_data"
    }
   ],
   "source": [
    "top_20_products_repeated = merged_df_20_products.sort_values(by='reordered', ascending=False).head(20) # checking the 20 most popular products / verificação dos 20 produtos mais populares\n",
    "\n",
    "top_20_products_repeated[['product_id', 'product_name', 'reordered']] # print the 20 most popular products / imprime os 20 produtos mais populares\n",
    "\n",
    "top_20_products_repeated.plot(\n",
    "    kind = 'barh',\n",
    "    title = 'Top 20 Most Products Reordered',\n",
    "    x = 'product_name',\n",
    "    y = 'reordered',\n",
    "    xlabel = 'Product Name',\n",
    "    ylabel = 'Number of Orders',\n",
    "    edgecolor='black', # adicionar uma borda da cor escolhida às barras do gráfico / add a edge of the chosen color to the bars of the graph\n",
    "    color='skyblue',\n",
    "    legend = False\n",
    ")\n",
    "\n",
    "plt.show()"
   ]
  },
  {
   "cell_type": "markdown",
   "id": "80e70c74",
   "metadata": {
    "id": "80e70c74"
   },
   "source": [
    "Write your conclusions here\n",
    "\n",
    "The difference between the first item that is requested again most often and the second is a minimal difference, being the Natural Chicken Bowl the first place. Above we can see the complete list of the 20 items and also note that there are several items of different categories such as food, candles and dog snacks, for example.\n",
    "\n",
    "==============================================================\n",
    "\n",
    "Escreva suas conclusões aqui\n",
    "\n",
    "A diferença entre o primeiro item que é pedido novamente com mais frequência e o segundo é uma diferença mínima, sendo o Caldo de Galinha Natural o primeiro lugar. Acima podemos ver a lista completa dos 20 itens e também notar que existem diversos itens de categorias diferentes como alimento, velas e petiscos de cachorros, por exemplo."
   ]
  },
  {
   "cell_type": "markdown",
   "id": "9d312b14",
   "metadata": {
    "id": "9d312b14"
   },
   "source": [
    "### [C3] For each product, what percentage of all his orders are repeated?\n",
    "\n",
    "==============================================================\n",
    "\n",
    "`[C3] Para cada produto, qual parcela de todos os pedidos dele são repetidos?`"
   ]
  },
  {
   "cell_type": "code",
   "execution_count": 53,
   "id": "8ae9f4b1",
   "metadata": {
    "id": "8ae9f4b1"
   },
   "outputs": [],
   "source": [
    "count_products = df_order_products.groupby('product_id') # product grouping / agrupamento por produtos"
   ]
  },
  {
   "cell_type": "code",
   "execution_count": 54,
   "id": "103e7fe1",
   "metadata": {
    "id": "103e7fe1"
   },
   "outputs": [
    {
     "data": {
      "text/html": [
       "<div>\n",
       "<style scoped>\n",
       "    .dataframe tbody tr th:only-of-type {\n",
       "        vertical-align: middle;\n",
       "    }\n",
       "\n",
       "    .dataframe tbody tr th {\n",
       "        vertical-align: top;\n",
       "    }\n",
       "\n",
       "    .dataframe thead th {\n",
       "        text-align: right;\n",
       "    }\n",
       "</style>\n",
       "<table border=\"1\" class=\"dataframe\">\n",
       "  <thead>\n",
       "    <tr style=\"text-align: right;\">\n",
       "      <th></th>\n",
       "      <th>product_id</th>\n",
       "      <th>reorder_proportion</th>\n",
       "      <th>product_name</th>\n",
       "    </tr>\n",
       "  </thead>\n",
       "  <tbody>\n",
       "    <tr>\n",
       "      <th>0</th>\n",
       "      <td>1</td>\n",
       "      <td>0.564286</td>\n",
       "      <td>Chocolate Sandwich Cookies</td>\n",
       "    </tr>\n",
       "    <tr>\n",
       "      <th>1</th>\n",
       "      <td>2</td>\n",
       "      <td>0.000000</td>\n",
       "      <td>All-Seasons Salt</td>\n",
       "    </tr>\n",
       "    <tr>\n",
       "      <th>2</th>\n",
       "      <td>3</td>\n",
       "      <td>0.738095</td>\n",
       "      <td>Robust Golden Unsweetened Oolong Tea</td>\n",
       "    </tr>\n",
       "    <tr>\n",
       "      <th>3</th>\n",
       "      <td>4</td>\n",
       "      <td>0.510204</td>\n",
       "      <td>Smart Ones Classic Favorites Mini Rigatoni Wit...</td>\n",
       "    </tr>\n",
       "    <tr>\n",
       "      <th>4</th>\n",
       "      <td>7</td>\n",
       "      <td>0.500000</td>\n",
       "      <td>Pure Coconut Water With Orange</td>\n",
       "    </tr>\n",
       "    <tr>\n",
       "      <th>5</th>\n",
       "      <td>8</td>\n",
       "      <td>0.315789</td>\n",
       "      <td>Cut Russet Potatoes Steam N' Mash</td>\n",
       "    </tr>\n",
       "    <tr>\n",
       "      <th>6</th>\n",
       "      <td>9</td>\n",
       "      <td>0.761905</td>\n",
       "      <td>Light Strawberry Blueberry Yogurt</td>\n",
       "    </tr>\n",
       "    <tr>\n",
       "      <th>7</th>\n",
       "      <td>10</td>\n",
       "      <td>0.448071</td>\n",
       "      <td>Sparkling Orange Juice &amp; Prickly Pear Beverage</td>\n",
       "    </tr>\n",
       "    <tr>\n",
       "      <th>8</th>\n",
       "      <td>11</td>\n",
       "      <td>0.625000</td>\n",
       "      <td>Peach Mango Juice</td>\n",
       "    </tr>\n",
       "    <tr>\n",
       "      <th>9</th>\n",
       "      <td>12</td>\n",
       "      <td>0.390244</td>\n",
       "      <td>Chocolate Fudge Layer Cake</td>\n",
       "    </tr>\n",
       "  </tbody>\n",
       "</table>\n",
       "</div>"
      ],
      "text/plain": [
       "   product_id  reorder_proportion  \\\n",
       "0           1            0.564286   \n",
       "1           2            0.000000   \n",
       "2           3            0.738095   \n",
       "3           4            0.510204   \n",
       "4           7            0.500000   \n",
       "5           8            0.315789   \n",
       "6           9            0.761905   \n",
       "7          10            0.448071   \n",
       "8          11            0.625000   \n",
       "9          12            0.390244   \n",
       "\n",
       "                                        product_name  \n",
       "0                         Chocolate Sandwich Cookies  \n",
       "1                                   All-Seasons Salt  \n",
       "2               Robust Golden Unsweetened Oolong Tea  \n",
       "3  Smart Ones Classic Favorites Mini Rigatoni Wit...  \n",
       "4                     Pure Coconut Water With Orange  \n",
       "5                  Cut Russet Potatoes Steam N' Mash  \n",
       "6                  Light Strawberry Blueberry Yogurt  \n",
       "7     Sparkling Orange Juice & Prickly Pear Beverage  \n",
       "8                                  Peach Mango Juice  \n",
       "9                         Chocolate Fudge Layer Cake  "
      ]
     },
     "execution_count": 54,
     "metadata": {},
     "output_type": "execute_result"
    }
   ],
   "source": [
    "total_products = count_products['order_id'].count() # total product count / contagem total de produtos\n",
    "total_reordered_products = count_products['reordered'].sum() # sum of repurchased products / soma produtos recomprados\n",
    "proportion = total_reordered_products / total_products # ratio calculation for each repeated request / cálculo proporção para cada pedido repetido\n",
    "\n",
    "reorder_proportion_df = pd.DataFrame({\n",
    "    'product_id': proportion.index,\n",
    "    'reorder_proportion': proportion.values\n",
    "    }) # new dataframe for the ratio, so that the values can be printed / novo dataframe referente a proporção, para ser possível imprimir os valores\n",
    "\n",
    "\n",
    "reorder_proportion_df = reorder_proportion_df.merge(df_products[['product_id', 'product_name']], \n",
    "                                                    on='product_id', \n",
    "                                                    how='left') # new dataframe to print the data / novo dataframe para imprimir os dados\n",
    "\n",
    "reorder_proportion_df.head(10)"
   ]
  },
  {
   "cell_type": "code",
   "execution_count": 55,
   "id": "683bba5a",
   "metadata": {},
   "outputs": [
    {
     "data": {
      "image/png": "[encoded data removed]",
      "text/plain": [
       "<Figure size 640x480 with 1 Axes>"
      ]
     },
     "metadata": {},
     "output_type": "display_data"
    }
   ],
   "source": [
    "sns.barplot(\n",
    "    data = reorder_proportion_df.head(20),\n",
    "    x = 'product_id',\n",
    "    y = 'reorder_proportion',\n",
    ") \n",
    "\n",
    "plt.title('Top 20 Products by Reorder Proportion')\n",
    "plt.xlabel('Product ID')\n",
    "plt.ylabel('Reorder Proportion')\n",
    "plt.show()"
   ]
  },
  {
   "cell_type": "markdown",
   "id": "I10dEIAyldcO",
   "metadata": {
    "id": "I10dEIAyldcO"
   },
   "source": [
    "Write your conclusions here\n",
    "\n",
    "With the above code we were able to check the proportion of all orders, but for better viewing was printed only the first 10 items, where we can see that we have products that are ordered frequently while others the purchase proportion is much lower.\n",
    "\n",
    "==============================================================\n",
    "\n",
    "Escreva suas conclusões aqui\n",
    "\n",
    "Com o código acima conseguimos verificar a proporção de todos os pedidos, porém para melhor visualização foi printado apenas os 10 primeiros itens, onde podemos perceber que temos produtos que são pedidos com frequência enquanto outros a proporção de compra é muito menor."
   ]
  },
  {
   "cell_type": "markdown",
   "id": "subject-boxing",
   "metadata": {
    "id": "subject-boxing"
   },
   "source": [
    "### [C4] For each customer, what percentage of all their orders are repeated?\n",
    "\n",
    "==============================================================\n",
    "\n",
    "`[C4] Para cada cliente, qual proporção de todos os seus pedidos são repetidos?`"
   ]
  },
  {
   "cell_type": "code",
   "execution_count": 56,
   "id": "medical-couple",
   "metadata": {
    "id": "medical-couple",
    "scrolled": true
   },
   "outputs": [],
   "source": [
    "merge_df = df_instacart_orders.merge(df_order_products, on = 'order_id', how = 'inner') # merge of dataframe df_instacart_orders with df _order_products by user_id data / merge do dataframe df_instacart_orders com df_order_products pelos dados de user_id\n",
    "reorder_proportion_per_client = merge_df.groupby('user_id').agg(total_orders = ('order_id', 'count'), total_reorders = ('reordered', 'sum')) # calculation of purchased and repurchased products / cálculo dos produtos comprados e dos recomprados"
   ]
  },
  {
   "cell_type": "code",
   "execution_count": 57,
   "id": "8892e4b4",
   "metadata": {
    "id": "8892e4b4"
   },
   "outputs": [
    {
     "data": {
      "text/html": [
       "<div>\n",
       "<style scoped>\n",
       "    .dataframe tbody tr th:only-of-type {\n",
       "        vertical-align: middle;\n",
       "    }\n",
       "\n",
       "    .dataframe tbody tr th {\n",
       "        vertical-align: top;\n",
       "    }\n",
       "\n",
       "    .dataframe thead th {\n",
       "        text-align: right;\n",
       "    }\n",
       "</style>\n",
       "<table border=\"1\" class=\"dataframe\">\n",
       "  <thead>\n",
       "    <tr style=\"text-align: right;\">\n",
       "      <th></th>\n",
       "      <th>total_orders</th>\n",
       "      <th>total_reorders</th>\n",
       "      <th>reorder_proportion</th>\n",
       "    </tr>\n",
       "    <tr>\n",
       "      <th>user_id</th>\n",
       "      <th></th>\n",
       "      <th></th>\n",
       "      <th></th>\n",
       "    </tr>\n",
       "  </thead>\n",
       "  <tbody>\n",
       "    <tr>\n",
       "      <th>2</th>\n",
       "      <td>26</td>\n",
       "      <td>1</td>\n",
       "      <td>0.038462</td>\n",
       "    </tr>\n",
       "    <tr>\n",
       "      <th>4</th>\n",
       "      <td>2</td>\n",
       "      <td>0</td>\n",
       "      <td>0.000000</td>\n",
       "    </tr>\n",
       "    <tr>\n",
       "      <th>5</th>\n",
       "      <td>12</td>\n",
       "      <td>8</td>\n",
       "      <td>0.666667</td>\n",
       "    </tr>\n",
       "    <tr>\n",
       "      <th>6</th>\n",
       "      <td>4</td>\n",
       "      <td>0</td>\n",
       "      <td>0.000000</td>\n",
       "    </tr>\n",
       "    <tr>\n",
       "      <th>7</th>\n",
       "      <td>14</td>\n",
       "      <td>13</td>\n",
       "      <td>0.928571</td>\n",
       "    </tr>\n",
       "    <tr>\n",
       "      <th>11</th>\n",
       "      <td>15</td>\n",
       "      <td>3</td>\n",
       "      <td>0.200000</td>\n",
       "    </tr>\n",
       "    <tr>\n",
       "      <th>12</th>\n",
       "      <td>12</td>\n",
       "      <td>3</td>\n",
       "      <td>0.250000</td>\n",
       "    </tr>\n",
       "    <tr>\n",
       "      <th>13</th>\n",
       "      <td>23</td>\n",
       "      <td>13</td>\n",
       "      <td>0.565217</td>\n",
       "    </tr>\n",
       "    <tr>\n",
       "      <th>14</th>\n",
       "      <td>61</td>\n",
       "      <td>22</td>\n",
       "      <td>0.360656</td>\n",
       "    </tr>\n",
       "    <tr>\n",
       "      <th>15</th>\n",
       "      <td>13</td>\n",
       "      <td>7</td>\n",
       "      <td>0.538462</td>\n",
       "    </tr>\n",
       "    <tr>\n",
       "      <th>16</th>\n",
       "      <td>32</td>\n",
       "      <td>17</td>\n",
       "      <td>0.531250</td>\n",
       "    </tr>\n",
       "    <tr>\n",
       "      <th>17</th>\n",
       "      <td>53</td>\n",
       "      <td>38</td>\n",
       "      <td>0.716981</td>\n",
       "    </tr>\n",
       "    <tr>\n",
       "      <th>19</th>\n",
       "      <td>48</td>\n",
       "      <td>14</td>\n",
       "      <td>0.291667</td>\n",
       "    </tr>\n",
       "    <tr>\n",
       "      <th>20</th>\n",
       "      <td>4</td>\n",
       "      <td>0</td>\n",
       "      <td>0.000000</td>\n",
       "    </tr>\n",
       "    <tr>\n",
       "      <th>21</th>\n",
       "      <td>20</td>\n",
       "      <td>8</td>\n",
       "      <td>0.400000</td>\n",
       "    </tr>\n",
       "    <tr>\n",
       "      <th>22</th>\n",
       "      <td>6</td>\n",
       "      <td>6</td>\n",
       "      <td>1.000000</td>\n",
       "    </tr>\n",
       "    <tr>\n",
       "      <th>24</th>\n",
       "      <td>2</td>\n",
       "      <td>1</td>\n",
       "      <td>0.500000</td>\n",
       "    </tr>\n",
       "    <tr>\n",
       "      <th>26</th>\n",
       "      <td>16</td>\n",
       "      <td>7</td>\n",
       "      <td>0.437500</td>\n",
       "    </tr>\n",
       "    <tr>\n",
       "      <th>27</th>\n",
       "      <td>85</td>\n",
       "      <td>56</td>\n",
       "      <td>0.658824</td>\n",
       "    </tr>\n",
       "    <tr>\n",
       "      <th>28</th>\n",
       "      <td>44</td>\n",
       "      <td>22</td>\n",
       "      <td>0.500000</td>\n",
       "    </tr>\n",
       "  </tbody>\n",
       "</table>\n",
       "</div>"
      ],
      "text/plain": [
       "         total_orders  total_reorders  reorder_proportion\n",
       "user_id                                                  \n",
       "2                  26               1            0.038462\n",
       "4                   2               0            0.000000\n",
       "5                  12               8            0.666667\n",
       "6                   4               0            0.000000\n",
       "7                  14              13            0.928571\n",
       "11                 15               3            0.200000\n",
       "12                 12               3            0.250000\n",
       "13                 23              13            0.565217\n",
       "14                 61              22            0.360656\n",
       "15                 13               7            0.538462\n",
       "16                 32              17            0.531250\n",
       "17                 53              38            0.716981\n",
       "19                 48              14            0.291667\n",
       "20                  4               0            0.000000\n",
       "21                 20               8            0.400000\n",
       "22                  6               6            1.000000\n",
       "24                  2               1            0.500000\n",
       "26                 16               7            0.437500\n",
       "27                 85              56            0.658824\n",
       "28                 44              22            0.500000"
      ]
     },
     "execution_count": 57,
     "metadata": {},
     "output_type": "execute_result"
    }
   ],
   "source": [
    "reorder_proportion_per_client['reorder_proportion'] = reorder_proportion_per_client['total_reorders'] / reorder_proportion_per_client['total_orders'] # repurchase ratio per customer / proporção de recompra por cliente\n",
    "\n",
    "reorder_proportion_per_client.head(20)"
   ]
  },
  {
   "cell_type": "markdown",
   "id": "1c7ec2a6",
   "metadata": {},
   "source": [
    "Write your conclusions here\n",
    "\n",
    "Within the top 20 we have different types of customers that are: there are no repeat orders, there is some percentage of repeated orders and customers that almost always buy the same items.\n",
    "\n",
    "==============================================================\n",
    "\n",
    "Escreva suas conclusões aqui\n",
    "\n",
    "Dentro dos 20 primeiros temos diferentes tipos de clientes que são: não tem pedidos repetidos, tem alguma porcentagem de pedidos repetidos e clientes que quase sempre compram os mesmos itens."
   ]
  },
  {
   "cell_type": "markdown",
   "id": "92d35137",
   "metadata": {
    "id": "92d35137"
   },
   "source": [
    "### [C5] What are the top 20 items that people put in carts before everyone else?\n",
    "\n",
    "==============================================================\n",
    "\n",
    "`[C5] Quais são os 20 principais itens que as pessoas colocam nos carrinhos antes de todos os outros?`"
   ]
  },
  {
   "cell_type": "code",
   "execution_count": 58,
   "id": "0ae57274",
   "metadata": {
    "id": "0ae57274",
    "scrolled": true
   },
   "outputs": [
    {
     "data": {
      "text/html": [
       "<div>\n",
       "<style scoped>\n",
       "    .dataframe tbody tr th:only-of-type {\n",
       "        vertical-align: middle;\n",
       "    }\n",
       "\n",
       "    .dataframe tbody tr th {\n",
       "        vertical-align: top;\n",
       "    }\n",
       "\n",
       "    .dataframe thead th {\n",
       "        text-align: right;\n",
       "    }\n",
       "</style>\n",
       "<table border=\"1\" class=\"dataframe\">\n",
       "  <thead>\n",
       "    <tr style=\"text-align: right;\">\n",
       "      <th></th>\n",
       "      <th>product_id</th>\n",
       "      <th>product_name</th>\n",
       "      <th>count</th>\n",
       "    </tr>\n",
       "  </thead>\n",
       "  <tbody>\n",
       "    <tr>\n",
       "      <th>0</th>\n",
       "      <td>24852</td>\n",
       "      <td>Banana</td>\n",
       "      <td>15562</td>\n",
       "    </tr>\n",
       "    <tr>\n",
       "      <th>1</th>\n",
       "      <td>13176</td>\n",
       "      <td>Bag of Organic Bananas</td>\n",
       "      <td>11026</td>\n",
       "    </tr>\n",
       "    <tr>\n",
       "      <th>2</th>\n",
       "      <td>27845</td>\n",
       "      <td>Organic Whole Milk</td>\n",
       "      <td>4363</td>\n",
       "    </tr>\n",
       "    <tr>\n",
       "      <th>3</th>\n",
       "      <td>21137</td>\n",
       "      <td>Organic Strawberries</td>\n",
       "      <td>3946</td>\n",
       "    </tr>\n",
       "    <tr>\n",
       "      <th>4</th>\n",
       "      <td>47209</td>\n",
       "      <td>Organic Hass Avocado</td>\n",
       "      <td>3390</td>\n",
       "    </tr>\n",
       "    <tr>\n",
       "      <th>5</th>\n",
       "      <td>21903</td>\n",
       "      <td>Organic Baby Spinach</td>\n",
       "      <td>3336</td>\n",
       "    </tr>\n",
       "    <tr>\n",
       "      <th>6</th>\n",
       "      <td>47766</td>\n",
       "      <td>Organic Avocado</td>\n",
       "      <td>3044</td>\n",
       "    </tr>\n",
       "    <tr>\n",
       "      <th>7</th>\n",
       "      <td>19660</td>\n",
       "      <td>Spring Water</td>\n",
       "      <td>2336</td>\n",
       "    </tr>\n",
       "    <tr>\n",
       "      <th>8</th>\n",
       "      <td>16797</td>\n",
       "      <td>Strawberries</td>\n",
       "      <td>2308</td>\n",
       "    </tr>\n",
       "    <tr>\n",
       "      <th>9</th>\n",
       "      <td>27966</td>\n",
       "      <td>Organic Raspberries</td>\n",
       "      <td>2024</td>\n",
       "    </tr>\n",
       "    <tr>\n",
       "      <th>10</th>\n",
       "      <td>44632</td>\n",
       "      <td>Sparkling Water Grapefruit</td>\n",
       "      <td>1914</td>\n",
       "    </tr>\n",
       "    <tr>\n",
       "      <th>11</th>\n",
       "      <td>49235</td>\n",
       "      <td>Organic Half &amp; Half</td>\n",
       "      <td>1797</td>\n",
       "    </tr>\n",
       "    <tr>\n",
       "      <th>12</th>\n",
       "      <td>47626</td>\n",
       "      <td>Large Lemon</td>\n",
       "      <td>1737</td>\n",
       "    </tr>\n",
       "    <tr>\n",
       "      <th>13</th>\n",
       "      <td>196</td>\n",
       "      <td>Soda</td>\n",
       "      <td>1733</td>\n",
       "    </tr>\n",
       "    <tr>\n",
       "      <th>14</th>\n",
       "      <td>38689</td>\n",
       "      <td>Organic Reduced Fat Milk</td>\n",
       "      <td>1397</td>\n",
       "    </tr>\n",
       "    <tr>\n",
       "      <th>15</th>\n",
       "      <td>26209</td>\n",
       "      <td>Limes</td>\n",
       "      <td>1370</td>\n",
       "    </tr>\n",
       "    <tr>\n",
       "      <th>16</th>\n",
       "      <td>12341</td>\n",
       "      <td>Hass Avocados</td>\n",
       "      <td>1340</td>\n",
       "    </tr>\n",
       "    <tr>\n",
       "      <th>17</th>\n",
       "      <td>5785</td>\n",
       "      <td>Organic Reduced Fat 2% Milk</td>\n",
       "      <td>1310</td>\n",
       "    </tr>\n",
       "    <tr>\n",
       "      <th>18</th>\n",
       "      <td>27086</td>\n",
       "      <td>Half &amp; Half</td>\n",
       "      <td>1309</td>\n",
       "    </tr>\n",
       "    <tr>\n",
       "      <th>19</th>\n",
       "      <td>43352</td>\n",
       "      <td>Raspberries</td>\n",
       "      <td>1246</td>\n",
       "    </tr>\n",
       "  </tbody>\n",
       "</table>\n",
       "</div>"
      ],
      "text/plain": [
       "    product_id                 product_name  count\n",
       "0        24852                       Banana  15562\n",
       "1        13176       Bag of Organic Bananas  11026\n",
       "2        27845           Organic Whole Milk   4363\n",
       "3        21137         Organic Strawberries   3946\n",
       "4        47209         Organic Hass Avocado   3390\n",
       "5        21903         Organic Baby Spinach   3336\n",
       "6        47766              Organic Avocado   3044\n",
       "7        19660                 Spring Water   2336\n",
       "8        16797                 Strawberries   2308\n",
       "9        27966          Organic Raspberries   2024\n",
       "10       44632   Sparkling Water Grapefruit   1914\n",
       "11       49235          Organic Half & Half   1797\n",
       "12       47626                  Large Lemon   1737\n",
       "13         196                         Soda   1733\n",
       "14       38689     Organic Reduced Fat Milk   1397\n",
       "15       26209                        Limes   1370\n",
       "16       12341                Hass Avocados   1340\n",
       "17        5785  Organic Reduced Fat 2% Milk   1310\n",
       "18       27086                  Half & Half   1309\n",
       "19       43352                  Raspberries   1246"
      ]
     },
     "execution_count": 58,
     "metadata": {},
     "output_type": "execute_result"
    }
   ],
   "source": [
    "df_merge = df_order_products.merge(df_products)\n",
    "\n",
    "first_in_cart = df_merge[df_merge['add_to_cart_order'] == 1]\n",
    "first_count = first_in_cart.groupby(['product_id', 'product_name'])['product_id'].count().sort_values(ascending=False)\n",
    "first_count_as_df = first_count.reset_index(name='count')\n",
    "\n",
    "first_count_as_df.head(20)\n"
   ]
  },
  {
   "cell_type": "markdown",
   "id": "28ce9872",
   "metadata": {
    "id": "28ce9872"
   },
   "source": [
    "Write your conclusions here\n",
    "\n",
    "We can identify that once again the product \"Bananas\" and \"Organic Banana Bag\" are at the top of the list, these being the ones that are selected for the shopping cart before any other. In addition, we can note that we have in the list various types of milk, as well as other fruits.\n",
    "\n",
    "==============================================================\n",
    "\n",
    "Escreva suas conclusões aqui\n",
    "\n",
    "Podemos identificar que mais uma vez o produto \"Banana\" e o \"Saco de Bananas Orgânico\" estão em primeiro da lista, sendo estes os que são selecionados para o carrinho de compras antes de qualquer outro. Além disso, podemos notar que temos na listagem diversos tipos de leites, bem como outras frutas."
   ]
  },
  {
   "cell_type": "markdown",
   "id": "TisH_5Cp3wAi",
   "metadata": {
    "id": "TisH_5Cp3wAi"
   },
   "source": [
    "# Overall project conclusion:\n",
    "\n",
    "==============================================================\n",
    "\n",
    "`Conclusão geral do projeto:`"
   ]
  },
  {
   "cell_type": "markdown",
   "id": "cfa63482",
   "metadata": {},
   "source": [
    "After a general analysis of the data, the volume of purchases is higher on Sunday and Monday, as well as we can see that there is a large volume of shopping between 10h and 16h, an average volume of purchase in the hours: 07h / 08h / 18h / 19h and little movement in the other hours, having the lowest index in the times of 03h and 04h. Also related to days and times, it was possible to identify a difference in distribution between Wednesday and Saturday, being noticeable between 10h and 15h.\n",
    "\n",
    "Please also note that most customers make few orders, the number of customers with recurring orders being lower and we can add to this information that on average there is a difference of 30 days between one order and another made by the same customer.\n",
    "\n",
    "On the products, on average 10 products are ordered per purchase, there are different types of products that are requested and as seen in the B3 analysis most of the items on the list are vegetables or fruits. In addition, in the top 20 products we have products that are purchased with recurrence.\n",
    "\n",
    "==============================================================\n",
    "\n",
    "Após uma análise geral dos dados, o o volume de compras é maior no domingo e na segunda-feira, bem como conseguimos perceber que existe um grande volume de compras entre às 10h e 16h, um volume de compra médios nos horários: 07h / 08h / 18h / 19h e pouco movimento nos demais horários, tendo o menor índice nos horários das 03h e 04h. Ainda relacionado a dias e horários, foi possível identificar uma diferença na distribuição entre quartafeira e sábado, sendo notável entre 10h às 15h.\n",
    "\n",
    "Percebesse também de que a maioria dos clientes fazem poucos pedidos, sendo menor o número de clientes com pedidos recorrentes e podemos adicionar a essa informação que em média existe uma diferença de 30 dias entre um pedido e outro feito por um mesmo cliente.\n",
    "\n",
    "Sobre os produtos, em média são pedidos 10 produtos por compra, há diferentes tipos de produtos que são pedidos e como visto na análise B3 a maioria dos itens na lista são verduras ou frutas. Além disso, no top 20 produtos temos produtos que são comprados com recorrência."
   ]
  }
 ],
 "metadata": {
  "ExecuteTimeLog": [
   {
    "duration": 12,
    "start_time": "2024-08-14T13:48:59.131Z"
   },
   {
    "duration": 4234,
    "start_time": "2024-08-14T13:49:10.163Z"
   },
   {
    "duration": 3936,
    "start_time": "2024-08-14T13:51:09.289Z"
   },
   {
    "duration": 32,
    "start_time": "2024-08-14T13:52:14.970Z"
   },
   {
    "duration": 15,
    "start_time": "2024-08-14T13:52:16.590Z"
   },
   {
    "duration": 12,
    "start_time": "2024-08-14T13:52:17.829Z"
   },
   {
    "duration": 12,
    "start_time": "2024-08-14T13:52:19.245Z"
   },
   {
    "duration": 196,
    "start_time": "2024-08-14T13:52:20.517Z"
   },
   {
    "duration": 301,
    "start_time": "2024-08-14T14:13:45.019Z"
   },
   {
    "duration": 21,
    "start_time": "2024-08-14T14:13:54.466Z"
   },
   {
    "duration": 22,
    "start_time": "2024-08-14T14:13:59.357Z"
   },
   {
    "duration": 4306,
    "start_time": "2024-08-14T14:14:01.916Z"
   },
   {
    "duration": 3931,
    "start_time": "2024-08-14T14:14:06.226Z"
   },
   {
    "duration": 48,
    "start_time": "2024-08-14T14:14:10.160Z"
   },
   {
    "duration": 32,
    "start_time": "2024-08-14T14:14:39.645Z"
   },
   {
    "duration": 9,
    "start_time": "2024-08-14T14:17:25.178Z"
   },
   {
    "duration": 7,
    "start_time": "2024-08-14T14:17:41.176Z"
   },
   {
    "duration": 3600,
    "start_time": "2024-08-14T14:17:49.662Z"
   },
   {
    "duration": 21,
    "start_time": "2024-08-14T14:17:53.265Z"
   },
   {
    "duration": 17,
    "start_time": "2024-08-14T14:22:34.950Z"
   },
   {
    "duration": 1546,
    "start_time": "2024-08-14T14:22:42.802Z"
   },
   {
    "duration": 20,
    "start_time": "2024-08-14T14:22:44.821Z"
   },
   {
    "duration": 18,
    "start_time": "2024-08-14T14:22:47.583Z"
   },
   {
    "duration": 16,
    "start_time": "2024-08-14T14:22:54.515Z"
   },
   {
    "duration": 15,
    "start_time": "2024-08-14T14:22:58.732Z"
   },
   {
    "duration": 38,
    "start_time": "2024-08-14T14:23:03.075Z"
   },
   {
    "duration": 142,
    "start_time": "2024-08-14T14:56:37.392Z"
   },
   {
    "duration": 134,
    "start_time": "2024-08-14T14:56:52.441Z"
   },
   {
    "duration": 133,
    "start_time": "2024-08-14T14:57:00.082Z"
   },
   {
    "duration": 11,
    "start_time": "2024-08-14T15:01:41.972Z"
   },
   {
    "duration": 134,
    "start_time": "2024-08-14T15:02:32.754Z"
   },
   {
    "duration": 150,
    "start_time": "2024-08-14T15:02:41.868Z"
   },
   {
    "duration": 141,
    "start_time": "2024-08-14T15:02:59.926Z"
   },
   {
    "duration": 140,
    "start_time": "2024-08-14T15:03:08.488Z"
   },
   {
    "duration": 3,
    "start_time": "2024-08-14T15:04:58.239Z"
   },
   {
    "duration": 1448,
    "start_time": "2024-08-14T15:04:58.610Z"
   },
   {
    "duration": 19,
    "start_time": "2024-08-14T15:05:00.061Z"
   },
   {
    "duration": 34,
    "start_time": "2024-08-14T15:05:00.083Z"
   },
   {
    "duration": 19,
    "start_time": "2024-08-14T15:05:04.394Z"
   },
   {
    "duration": 18,
    "start_time": "2024-08-14T15:05:05.990Z"
   },
   {
    "duration": 14,
    "start_time": "2024-08-14T15:05:07.414Z"
   },
   {
    "duration": 18,
    "start_time": "2024-08-14T15:05:08.554Z"
   },
   {
    "duration": 41,
    "start_time": "2024-08-14T15:05:09.443Z"
   },
   {
    "duration": 146,
    "start_time": "2024-08-14T15:05:38.956Z"
   },
   {
    "duration": 260,
    "start_time": "2024-08-14T15:06:06.740Z"
   },
   {
    "duration": 260,
    "start_time": "2024-08-14T15:06:21.309Z"
   },
   {
    "duration": 889,
    "start_time": "2024-08-14T15:08:10.023Z"
   },
   {
    "duration": 257,
    "start_time": "2024-08-14T15:08:21.116Z"
   },
   {
    "duration": 313,
    "start_time": "2024-08-14T15:08:40.300Z"
   },
   {
    "duration": 6,
    "start_time": "2024-08-14T15:11:19.994Z"
   },
   {
    "duration": 310,
    "start_time": "2024-08-14T15:11:31.597Z"
   },
   {
    "duration": 5,
    "start_time": "2024-08-14T15:11:40.063Z"
   },
   {
    "duration": 22,
    "start_time": "2024-08-14T15:11:45.179Z"
   },
   {
    "duration": 14,
    "start_time": "2024-08-14T15:12:22.621Z"
   },
   {
    "duration": 6,
    "start_time": "2024-08-14T15:12:56.702Z"
   },
   {
    "duration": 5,
    "start_time": "2024-08-14T15:13:15.609Z"
   },
   {
    "duration": 7,
    "start_time": "2024-08-14T15:13:23.855Z"
   },
   {
    "duration": 6,
    "start_time": "2024-08-14T15:14:54.769Z"
   },
   {
    "duration": 9,
    "start_time": "2024-08-14T15:15:02.801Z"
   },
   {
    "duration": 12,
    "start_time": "2024-08-14T15:15:54.171Z"
   },
   {
    "duration": 12,
    "start_time": "2024-08-14T15:16:50.617Z"
   },
   {
    "duration": 156,
    "start_time": "2024-08-14T15:19:43.994Z"
   },
   {
    "duration": 172,
    "start_time": "2024-08-14T15:20:47.051Z"
   },
   {
    "duration": 22,
    "start_time": "2024-08-14T15:20:53.961Z"
   },
   {
    "duration": 23,
    "start_time": "2024-08-14T15:21:08.155Z"
   },
   {
    "duration": 23,
    "start_time": "2024-08-14T15:21:13.228Z"
   },
   {
    "duration": 4,
    "start_time": "2024-08-14T15:21:24.952Z"
   },
   {
    "duration": 1450,
    "start_time": "2024-08-14T15:21:25.659Z"
   },
   {
    "duration": 22,
    "start_time": "2024-08-14T15:21:27.113Z"
   },
   {
    "duration": 18,
    "start_time": "2024-08-14T15:21:27.978Z"
   },
   {
    "duration": 15,
    "start_time": "2024-08-14T15:21:28.956Z"
   },
   {
    "duration": 16,
    "start_time": "2024-08-14T15:21:29.789Z"
   },
   {
    "duration": 40,
    "start_time": "2024-08-14T15:21:30.620Z"
   },
   {
    "duration": 262,
    "start_time": "2024-08-14T15:21:35.313Z"
   },
   {
    "duration": 11,
    "start_time": "2024-08-14T15:21:39.330Z"
   },
   {
    "duration": 160,
    "start_time": "2024-08-14T15:21:41.835Z"
   },
   {
    "duration": 21,
    "start_time": "2024-08-14T15:21:50.100Z"
   },
   {
    "duration": 22,
    "start_time": "2024-08-14T15:21:53.991Z"
   },
   {
    "duration": 28,
    "start_time": "2024-08-14T15:22:00.567Z"
   },
   {
    "duration": 1452,
    "start_time": "2024-08-14T15:22:09.626Z"
   },
   {
    "duration": 28,
    "start_time": "2024-08-14T15:22:11.081Z"
   },
   {
    "duration": 18,
    "start_time": "2024-08-14T15:22:15.316Z"
   },
   {
    "duration": 15,
    "start_time": "2024-08-14T15:22:15.689Z"
   },
   {
    "duration": 15,
    "start_time": "2024-08-14T15:22:16.008Z"
   },
   {
    "duration": 39,
    "start_time": "2024-08-14T15:22:16.317Z"
   },
   {
    "duration": 276,
    "start_time": "2024-08-14T15:22:18.410Z"
   },
   {
    "duration": 12,
    "start_time": "2024-08-14T15:22:21.348Z"
   },
   {
    "duration": 152,
    "start_time": "2024-08-14T15:22:25.806Z"
   },
   {
    "duration": 22,
    "start_time": "2024-08-14T15:22:53.614Z"
   },
   {
    "duration": 23,
    "start_time": "2024-08-14T15:22:57.520Z"
   },
   {
    "duration": 1455,
    "start_time": "2024-08-14T15:23:09.372Z"
   },
   {
    "duration": 20,
    "start_time": "2024-08-14T15:23:10.831Z"
   },
   {
    "duration": 20,
    "start_time": "2024-08-14T15:23:10.854Z"
   },
   {
    "duration": 16,
    "start_time": "2024-08-14T15:23:10.906Z"
   },
   {
    "duration": 15,
    "start_time": "2024-08-14T15:23:10.927Z"
   },
   {
    "duration": 72,
    "start_time": "2024-08-14T15:23:10.945Z"
   },
   {
    "duration": 265,
    "start_time": "2024-08-14T15:23:14.233Z"
   },
   {
    "duration": 11,
    "start_time": "2024-08-14T15:23:15.577Z"
   },
   {
    "duration": 143,
    "start_time": "2024-08-14T15:23:16.805Z"
   },
   {
    "duration": 21,
    "start_time": "2024-08-14T15:23:18.283Z"
   },
   {
    "duration": 21,
    "start_time": "2024-08-14T15:23:34.175Z"
   },
   {
    "duration": 22,
    "start_time": "2024-08-14T15:23:36.453Z"
   },
   {
    "duration": 23,
    "start_time": "2024-08-14T15:23:38.952Z"
   },
   {
    "duration": 1445,
    "start_time": "2024-08-14T15:23:42.349Z"
   },
   {
    "duration": 23,
    "start_time": "2024-08-14T15:23:43.797Z"
   },
   {
    "duration": 19,
    "start_time": "2024-08-14T15:23:43.823Z"
   },
   {
    "duration": 16,
    "start_time": "2024-08-14T15:23:44.540Z"
   },
   {
    "duration": 15,
    "start_time": "2024-08-14T15:23:45.306Z"
   },
   {
    "duration": 38,
    "start_time": "2024-08-14T15:23:45.754Z"
   },
   {
    "duration": 273,
    "start_time": "2024-08-14T15:23:48.235Z"
   },
   {
    "duration": 14,
    "start_time": "2024-08-14T15:23:50.943Z"
   },
   {
    "duration": 12,
    "start_time": "2024-08-14T15:23:55.184Z"
   },
   {
    "duration": 150,
    "start_time": "2024-08-14T15:23:58.436Z"
   },
   {
    "duration": 151,
    "start_time": "2024-08-14T15:23:59.690Z"
   },
   {
    "duration": 12,
    "start_time": "2024-08-14T15:24:16.304Z"
   },
   {
    "duration": 22,
    "start_time": "2024-08-14T15:34:58.176Z"
   },
   {
    "duration": 5,
    "start_time": "2024-08-14T15:35:04.626Z"
   },
   {
    "duration": 1436,
    "start_time": "2024-08-14T15:35:04.938Z"
   },
   {
    "duration": 32,
    "start_time": "2024-08-14T15:35:06.377Z"
   },
   {
    "duration": 18,
    "start_time": "2024-08-14T15:35:06.412Z"
   },
   {
    "duration": 16,
    "start_time": "2024-08-14T15:35:06.433Z"
   },
   {
    "duration": 16,
    "start_time": "2024-08-14T15:35:06.522Z"
   },
   {
    "duration": 39,
    "start_time": "2024-08-14T15:35:11.606Z"
   },
   {
    "duration": 267,
    "start_time": "2024-08-14T15:35:14.994Z"
   },
   {
    "duration": 13,
    "start_time": "2024-08-14T15:35:16.648Z"
   },
   {
    "duration": 162,
    "start_time": "2024-08-14T15:35:17.873Z"
   },
   {
    "duration": 155,
    "start_time": "2024-08-14T15:35:18.415Z"
   },
   {
    "duration": 11,
    "start_time": "2024-08-14T15:35:19.606Z"
   },
   {
    "duration": 22,
    "start_time": "2024-08-14T15:35:22.654Z"
   },
   {
    "duration": 37,
    "start_time": "2024-08-14T15:35:37.207Z"
   },
   {
    "duration": 19,
    "start_time": "2024-08-14T15:36:22.959Z"
   },
   {
    "duration": 20,
    "start_time": "2024-08-14T15:36:31.826Z"
   },
   {
    "duration": 35,
    "start_time": "2024-08-14T15:36:56.719Z"
   },
   {
    "duration": 35,
    "start_time": "2024-08-14T15:37:08.540Z"
   },
   {
    "duration": 24,
    "start_time": "2024-08-14T15:37:14.775Z"
   },
   {
    "duration": 41,
    "start_time": "2024-08-14T15:37:19.893Z"
   },
   {
    "duration": 35,
    "start_time": "2024-08-14T16:10:50.018Z"
   },
   {
    "duration": 7,
    "start_time": "2024-08-14T16:13:16.931Z"
   },
   {
    "duration": 5,
    "start_time": "2024-08-14T16:13:33.316Z"
   },
   {
    "duration": 360,
    "start_time": "2024-08-14T16:13:38.304Z"
   },
   {
    "duration": 7,
    "start_time": "2024-08-14T16:13:53.446Z"
   },
   {
    "duration": 6,
    "start_time": "2024-08-14T16:14:29.013Z"
   },
   {
    "duration": 9,
    "start_time": "2024-08-14T16:14:34.558Z"
   },
   {
    "duration": 3,
    "start_time": "2024-08-14T16:14:44.898Z"
   },
   {
    "duration": 9,
    "start_time": "2024-08-14T16:38:16.120Z"
   },
   {
    "duration": 155,
    "start_time": "2024-08-14T16:38:37.186Z"
   },
   {
    "duration": 3,
    "start_time": "2024-08-14T16:39:01.215Z"
   },
   {
    "duration": 10,
    "start_time": "2024-08-14T16:39:03.422Z"
   },
   {
    "duration": 360,
    "start_time": "2024-08-14T16:39:27.588Z"
   },
   {
    "duration": 4,
    "start_time": "2024-08-14T16:39:47.881Z"
   },
   {
    "duration": 1505,
    "start_time": "2024-08-14T16:39:48.634Z"
   },
   {
    "duration": 22,
    "start_time": "2024-08-14T16:39:50.145Z"
   },
   {
    "duration": 37,
    "start_time": "2024-08-14T16:39:50.170Z"
   },
   {
    "duration": 17,
    "start_time": "2024-08-14T16:39:50.211Z"
   },
   {
    "duration": 16,
    "start_time": "2024-08-14T16:39:50.231Z"
   },
   {
    "duration": 83,
    "start_time": "2024-08-14T16:39:50.251Z"
   },
   {
    "duration": 282,
    "start_time": "2024-08-14T16:39:52.043Z"
   },
   {
    "duration": 12,
    "start_time": "2024-08-14T16:39:52.775Z"
   },
   {
    "duration": 147,
    "start_time": "2024-08-14T16:39:54.046Z"
   },
   {
    "duration": 153,
    "start_time": "2024-08-14T16:39:54.496Z"
   },
   {
    "duration": 13,
    "start_time": "2024-08-14T16:39:55.004Z"
   },
   {
    "duration": 44,
    "start_time": "2024-08-14T16:39:57.928Z"
   },
   {
    "duration": 4,
    "start_time": "2024-08-14T16:39:58.647Z"
   },
   {
    "duration": 5,
    "start_time": "2024-08-14T16:39:59.020Z"
   },
   {
    "duration": 3,
    "start_time": "2024-08-14T16:39:59.434Z"
   },
   {
    "duration": 9,
    "start_time": "2024-08-14T16:40:00.560Z"
   },
   {
    "duration": 7,
    "start_time": "2024-08-14T16:40:01.102Z"
   },
   {
    "duration": 3,
    "start_time": "2024-08-14T16:40:02.023Z"
   },
   {
    "duration": 3,
    "start_time": "2024-08-14T16:40:02.298Z"
   },
   {
    "duration": 353,
    "start_time": "2024-08-14T16:40:03.742Z"
   },
   {
    "duration": 4,
    "start_time": "2024-08-14T16:40:09.956Z"
   },
   {
    "duration": 10,
    "start_time": "2024-08-14T16:41:07.061Z"
   },
   {
    "duration": 8,
    "start_time": "2024-08-14T16:41:15.698Z"
   },
   {
    "duration": 12,
    "start_time": "2024-08-14T16:42:23.760Z"
   },
   {
    "duration": 41,
    "start_time": "2024-08-14T16:45:31.283Z"
   },
   {
    "duration": 23,
    "start_time": "2024-08-14T16:45:45.822Z"
   },
   {
    "duration": 12,
    "start_time": "2024-08-14T16:46:01.833Z"
   },
   {
    "duration": 11,
    "start_time": "2024-08-14T16:46:11.350Z"
   },
   {
    "duration": 3,
    "start_time": "2024-08-14T16:46:21.984Z"
   },
   {
    "duration": 1431,
    "start_time": "2024-08-14T16:46:22.392Z"
   },
   {
    "duration": 20,
    "start_time": "2024-08-14T16:46:23.827Z"
   },
   {
    "duration": 20,
    "start_time": "2024-08-14T16:46:23.850Z"
   },
   {
    "duration": 43,
    "start_time": "2024-08-14T16:46:23.873Z"
   },
   {
    "duration": 16,
    "start_time": "2024-08-14T16:46:23.920Z"
   },
   {
    "duration": 68,
    "start_time": "2024-08-14T16:46:23.942Z"
   },
   {
    "duration": 265,
    "start_time": "2024-08-14T16:46:24.681Z"
   },
   {
    "duration": 14,
    "start_time": "2024-08-14T16:46:25.266Z"
   },
   {
    "duration": 140,
    "start_time": "2024-08-14T16:46:25.770Z"
   },
   {
    "duration": 128,
    "start_time": "2024-08-14T16:46:26.008Z"
   },
   {
    "duration": 12,
    "start_time": "2024-08-14T16:46:26.243Z"
   },
   {
    "duration": 39,
    "start_time": "2024-08-14T16:46:27.053Z"
   },
   {
    "duration": 3,
    "start_time": "2024-08-14T16:46:27.450Z"
   },
   {
    "duration": 3,
    "start_time": "2024-08-14T16:46:27.842Z"
   },
   {
    "duration": 4,
    "start_time": "2024-08-14T16:46:28.155Z"
   },
   {
    "duration": 8,
    "start_time": "2024-08-14T16:46:29.159Z"
   },
   {
    "duration": 7,
    "start_time": "2024-08-14T16:46:29.499Z"
   },
   {
    "duration": 4,
    "start_time": "2024-08-14T16:46:30.181Z"
   },
   {
    "duration": 3,
    "start_time": "2024-08-14T16:46:30.371Z"
   },
   {
    "duration": 3,
    "start_time": "2024-08-14T16:46:31.005Z"
   },
   {
    "duration": 3,
    "start_time": "2024-08-14T16:46:31.250Z"
   },
   {
    "duration": 11,
    "start_time": "2024-08-14T16:46:32.614Z"
   },
   {
    "duration": 11,
    "start_time": "2024-08-14T17:05:13.049Z"
   },
   {
    "duration": 43,
    "start_time": "2024-08-14T17:06:12.242Z"
   },
   {
    "duration": 9,
    "start_time": "2024-08-14T17:07:09.533Z"
   },
   {
    "duration": 10,
    "start_time": "2024-08-14T17:07:14.757Z"
   },
   {
    "duration": 45,
    "start_time": "2024-08-14T17:07:26.662Z"
   },
   {
    "duration": 10,
    "start_time": "2024-08-14T17:08:08.780Z"
   },
   {
    "duration": 11,
    "start_time": "2024-08-14T17:08:15.733Z"
   },
   {
    "duration": 36,
    "start_time": "2024-08-14T17:08:19.661Z"
   },
   {
    "duration": 9,
    "start_time": "2024-08-14T17:09:57.534Z"
   },
   {
    "duration": 15,
    "start_time": "2024-08-14T17:16:29.165Z"
   },
   {
    "duration": 7,
    "start_time": "2024-08-14T18:34:47.759Z"
   },
   {
    "duration": 76,
    "start_time": "2024-08-14T18:35:11.226Z"
   },
   {
    "duration": 6,
    "start_time": "2024-08-14T18:35:34.605Z"
   },
   {
    "duration": 14,
    "start_time": "2024-08-14T18:35:44.336Z"
   },
   {
    "duration": 36,
    "start_time": "2024-08-14T18:36:08.715Z"
   },
   {
    "duration": 46,
    "start_time": "2024-08-14T18:36:18.602Z"
   },
   {
    "duration": 15,
    "start_time": "2024-08-14T18:36:32.587Z"
   },
   {
    "duration": 21,
    "start_time": "2024-08-14T18:38:25.830Z"
   },
   {
    "duration": 4,
    "start_time": "2024-08-14T18:38:35.243Z"
   },
   {
    "duration": 1421,
    "start_time": "2024-08-14T18:38:35.504Z"
   },
   {
    "duration": 22,
    "start_time": "2024-08-14T18:38:36.929Z"
   },
   {
    "duration": 21,
    "start_time": "2024-08-14T18:38:36.954Z"
   },
   {
    "duration": 40,
    "start_time": "2024-08-14T18:38:36.978Z"
   },
   {
    "duration": 17,
    "start_time": "2024-08-14T18:38:37.149Z"
   },
   {
    "duration": 37,
    "start_time": "2024-08-14T18:38:37.602Z"
   },
   {
    "duration": 322,
    "start_time": "2024-08-14T18:38:40.813Z"
   },
   {
    "duration": 11,
    "start_time": "2024-08-14T18:38:42.158Z"
   },
   {
    "duration": 143,
    "start_time": "2024-08-14T18:38:43.179Z"
   },
   {
    "duration": 156,
    "start_time": "2024-08-14T18:38:43.975Z"
   },
   {
    "duration": 13,
    "start_time": "2024-08-14T18:38:57.051Z"
   },
   {
    "duration": 35,
    "start_time": "2024-08-14T18:39:01.176Z"
   },
   {
    "duration": 10,
    "start_time": "2024-08-14T18:39:02.167Z"
   },
   {
    "duration": 36,
    "start_time": "2024-08-14T18:39:06.294Z"
   },
   {
    "duration": 8,
    "start_time": "2024-08-14T18:39:07.871Z"
   },
   {
    "duration": 8,
    "start_time": "2024-08-14T18:39:12.100Z"
   },
   {
    "duration": 22,
    "start_time": "2024-08-14T18:39:13.056Z"
   },
   {
    "duration": 10,
    "start_time": "2024-08-14T18:39:51.588Z"
   },
   {
    "duration": 4315,
    "start_time": "2024-08-14T19:01:15.791Z"
   },
   {
    "duration": 1657,
    "start_time": "2024-08-14T19:01:20.109Z"
   },
   {
    "duration": 22,
    "start_time": "2024-08-14T19:01:21.768Z"
   },
   {
    "duration": 19,
    "start_time": "2024-08-14T19:01:21.807Z"
   },
   {
    "duration": 17,
    "start_time": "2024-08-14T19:01:21.829Z"
   },
   {
    "duration": 17,
    "start_time": "2024-08-14T19:01:21.849Z"
   },
   {
    "duration": 41,
    "start_time": "2024-08-14T19:01:21.909Z"
   },
   {
    "duration": 326,
    "start_time": "2024-08-14T19:01:29.053Z"
   },
   {
    "duration": 14,
    "start_time": "2024-08-14T19:01:30.608Z"
   },
   {
    "duration": 179,
    "start_time": "2024-08-14T19:01:32.485Z"
   },
   {
    "duration": 158,
    "start_time": "2024-08-14T19:01:33.903Z"
   },
   {
    "duration": 11,
    "start_time": "2024-08-14T19:01:34.937Z"
   },
   {
    "duration": 36,
    "start_time": "2024-08-14T19:01:39.386Z"
   },
   {
    "duration": 9,
    "start_time": "2024-08-14T19:01:40.383Z"
   },
   {
    "duration": 36,
    "start_time": "2024-08-14T19:01:42.801Z"
   },
   {
    "duration": 376,
    "start_time": "2024-08-14T19:03:29.843Z"
   },
   {
    "duration": 26,
    "start_time": "2024-08-14T19:04:11.731Z"
   },
   {
    "duration": 28,
    "start_time": "2024-08-14T19:04:27.716Z"
   },
   {
    "duration": 8,
    "start_time": "2024-08-14T19:04:49.824Z"
   },
   {
    "duration": 27,
    "start_time": "2024-08-14T19:04:58.406Z"
   },
   {
    "duration": 9,
    "start_time": "2024-08-14T19:05:32.124Z"
   },
   {
    "duration": 24,
    "start_time": "2024-08-14T19:06:56.250Z"
   },
   {
    "duration": 10,
    "start_time": "2024-08-14T19:07:12.678Z"
   },
   {
    "duration": 26,
    "start_time": "2024-08-14T19:07:43.330Z"
   },
   {
    "duration": 9,
    "start_time": "2024-08-14T19:12:43.010Z"
   },
   {
    "duration": 12,
    "start_time": "2024-08-14T19:13:43.855Z"
   },
   {
    "duration": 15,
    "start_time": "2024-08-14T19:14:06.320Z"
   },
   {
    "duration": 8,
    "start_time": "2024-08-14T19:15:07.477Z"
   },
   {
    "duration": 420,
    "start_time": "2024-08-14T19:16:31.042Z"
   },
   {
    "duration": 6,
    "start_time": "2024-08-14T19:17:05.104Z"
   },
   {
    "duration": 12,
    "start_time": "2024-08-14T19:17:21.813Z"
   },
   {
    "duration": 27,
    "start_time": "2024-08-14T19:17:32.952Z"
   },
   {
    "duration": 2668,
    "start_time": "2024-08-14T19:26:02.203Z"
   },
   {
    "duration": 8,
    "start_time": "2024-08-14T19:27:06.097Z"
   },
   {
    "duration": 931,
    "start_time": "2024-08-14T19:28:22.607Z"
   },
   {
    "duration": 908,
    "start_time": "2024-08-14T19:28:33.522Z"
   },
   {
    "duration": 530,
    "start_time": "2024-08-14T19:29:03.985Z"
   },
   {
    "duration": 851,
    "start_time": "2024-08-14T19:29:10.849Z"
   },
   {
    "duration": 1220,
    "start_time": "2024-08-14T19:33:52.345Z"
   },
   {
    "duration": 4302,
    "start_time": "2024-08-15T00:01:37.149Z"
   },
   {
    "duration": 1687,
    "start_time": "2024-08-15T00:01:41.455Z"
   },
   {
    "duration": 23,
    "start_time": "2024-08-15T00:01:43.145Z"
   },
   {
    "duration": 17,
    "start_time": "2024-08-15T00:01:43.173Z"
   },
   {
    "duration": 44,
    "start_time": "2024-08-15T00:01:43.193Z"
   },
   {
    "duration": 16,
    "start_time": "2024-08-15T00:01:43.239Z"
   },
   {
    "duration": 73,
    "start_time": "2024-08-15T00:01:43.258Z"
   },
   {
    "duration": 320,
    "start_time": "2024-08-15T00:01:43.334Z"
   },
   {
    "duration": 13,
    "start_time": "2024-08-15T00:01:44.051Z"
   },
   {
    "duration": 167,
    "start_time": "2024-08-15T00:01:45.618Z"
   },
   {
    "duration": 151,
    "start_time": "2024-08-15T00:01:45.987Z"
   },
   {
    "duration": 13,
    "start_time": "2024-08-15T00:01:46.642Z"
   },
   {
    "duration": 40,
    "start_time": "2024-08-15T00:01:50.353Z"
   },
   {
    "duration": 11,
    "start_time": "2024-08-15T00:01:51.711Z"
   },
   {
    "duration": 45,
    "start_time": "2024-08-15T00:01:53.167Z"
   },
   {
    "duration": 30,
    "start_time": "2024-08-15T00:01:54.400Z"
   },
   {
    "duration": 10,
    "start_time": "2024-08-15T00:02:01.776Z"
   },
   {
    "duration": 8,
    "start_time": "2024-08-15T00:02:03.378Z"
   },
   {
    "duration": 9,
    "start_time": "2024-08-15T00:02:05.177Z"
   },
   {
    "duration": 9,
    "start_time": "2024-08-15T00:02:06.663Z"
   },
   {
    "duration": 2627,
    "start_time": "2024-08-15T00:02:08.820Z"
   },
   {
    "duration": 1362,
    "start_time": "2024-08-15T00:02:11.450Z"
   },
   {
    "duration": 6,
    "start_time": "2024-08-15T00:11:21.171Z"
   },
   {
    "duration": 4,
    "start_time": "2024-08-15T00:11:52.744Z"
   },
   {
    "duration": 956,
    "start_time": "2024-08-15T00:15:28.517Z"
   },
   {
    "duration": 6,
    "start_time": "2024-08-15T00:16:28.792Z"
   },
   {
    "duration": 8,
    "start_time": "2024-08-15T00:16:54.412Z"
   },
   {
    "duration": 13,
    "start_time": "2024-08-15T00:17:43.818Z"
   },
   {
    "duration": 11,
    "start_time": "2024-08-15T00:17:56.188Z"
   },
   {
    "duration": 13,
    "start_time": "2024-08-15T00:18:09.200Z"
   },
   {
    "duration": 13,
    "start_time": "2024-08-15T00:18:57.680Z"
   },
   {
    "duration": 13,
    "start_time": "2024-08-15T00:21:51.496Z"
   },
   {
    "duration": 5,
    "start_time": "2024-08-15T00:30:18.163Z"
   },
   {
    "duration": 8,
    "start_time": "2024-08-15T00:30:28.933Z"
   },
   {
    "duration": 9,
    "start_time": "2024-08-15T00:30:40.205Z"
   },
   {
    "duration": 13,
    "start_time": "2024-08-15T00:31:59.450Z"
   },
   {
    "duration": 10,
    "start_time": "2024-08-15T00:35:07.588Z"
   },
   {
    "duration": 9,
    "start_time": "2024-08-15T00:35:29.873Z"
   },
   {
    "duration": 8,
    "start_time": "2024-08-15T00:37:11.111Z"
   },
   {
    "duration": 9,
    "start_time": "2024-08-15T00:38:35.087Z"
   },
   {
    "duration": 32,
    "start_time": "2024-08-15T00:38:54.228Z"
   },
   {
    "duration": 29,
    "start_time": "2024-08-15T00:39:01.018Z"
   },
   {
    "duration": 9,
    "start_time": "2024-08-15T00:40:34.397Z"
   },
   {
    "duration": 29,
    "start_time": "2024-08-15T00:40:40.408Z"
   },
   {
    "duration": 31,
    "start_time": "2024-08-15T00:40:50.469Z"
   },
   {
    "duration": 8,
    "start_time": "2024-08-15T00:40:58.731Z"
   },
   {
    "duration": 19,
    "start_time": "2024-08-15T00:43:29.522Z"
   },
   {
    "duration": 18,
    "start_time": "2024-08-15T00:44:12.122Z"
   },
   {
    "duration": 13,
    "start_time": "2024-08-15T00:44:14.500Z"
   },
   {
    "duration": 11,
    "start_time": "2024-08-15T00:47:31.181Z"
   },
   {
    "duration": 20,
    "start_time": "2024-08-15T00:48:17.285Z"
   },
   {
    "duration": 7,
    "start_time": "2024-08-15T00:58:45.663Z"
   },
   {
    "duration": 7,
    "start_time": "2024-08-15T00:59:11.969Z"
   },
   {
    "duration": 27,
    "start_time": "2024-08-15T00:59:16.296Z"
   },
   {
    "duration": 10,
    "start_time": "2024-08-15T00:59:24.434Z"
   },
   {
    "duration": 533,
    "start_time": "2024-08-15T00:59:59.391Z"
   },
   {
    "duration": 10,
    "start_time": "2024-08-15T01:00:17.683Z"
   },
   {
    "duration": 10,
    "start_time": "2024-08-15T01:00:59.358Z"
   },
   {
    "duration": 10,
    "start_time": "2024-08-15T01:01:05.855Z"
   },
   {
    "duration": 11,
    "start_time": "2024-08-15T01:02:53.807Z"
   },
   {
    "duration": 4,
    "start_time": "2024-08-15T01:08:15.202Z"
   },
   {
    "duration": 3,
    "start_time": "2024-08-15T01:08:16.064Z"
   },
   {
    "duration": 4309,
    "start_time": "2024-08-15T12:28:31.153Z"
   },
   {
    "duration": 1692,
    "start_time": "2024-08-15T12:28:35.466Z"
   },
   {
    "duration": 35,
    "start_time": "2024-08-15T12:28:37.160Z"
   },
   {
    "duration": 19,
    "start_time": "2024-08-15T12:28:37.200Z"
   },
   {
    "duration": 18,
    "start_time": "2024-08-15T12:28:37.221Z"
   },
   {
    "duration": 48,
    "start_time": "2024-08-15T12:28:37.242Z"
   },
   {
    "duration": 40,
    "start_time": "2024-08-15T12:28:37.293Z"
   },
   {
    "duration": 335,
    "start_time": "2024-08-15T12:28:37.336Z"
   },
   {
    "duration": 23,
    "start_time": "2024-08-15T12:28:37.674Z"
   },
   {
    "duration": 179,
    "start_time": "2024-08-15T12:28:37.702Z"
   },
   {
    "duration": 167,
    "start_time": "2024-08-15T12:28:37.884Z"
   },
   {
    "duration": 12,
    "start_time": "2024-08-15T12:28:38.054Z"
   },
   {
    "duration": 55,
    "start_time": "2024-08-15T12:28:38.068Z"
   },
   {
    "duration": 9,
    "start_time": "2024-08-15T12:28:38.126Z"
   },
   {
    "duration": 64,
    "start_time": "2024-08-15T12:28:38.138Z"
   },
   {
    "duration": 26,
    "start_time": "2024-08-15T12:28:38.207Z"
   },
   {
    "duration": 7,
    "start_time": "2024-08-15T12:28:39.191Z"
   },
   {
    "duration": 10,
    "start_time": "2024-08-15T12:28:39.563Z"
   },
   {
    "duration": 8,
    "start_time": "2024-08-15T12:28:40.417Z"
   },
   {
    "duration": 12,
    "start_time": "2024-08-15T12:28:40.712Z"
   },
   {
    "duration": 2656,
    "start_time": "2024-08-15T12:28:41.530Z"
   },
   {
    "duration": 1320,
    "start_time": "2024-08-15T12:28:44.188Z"
   },
   {
    "duration": 16,
    "start_time": "2024-08-15T12:28:45.511Z"
   },
   {
    "duration": 15,
    "start_time": "2024-08-15T12:28:45.530Z"
   },
   {
    "duration": 45,
    "start_time": "2024-08-15T12:28:45.548Z"
   },
   {
    "duration": 11,
    "start_time": "2024-08-15T12:28:46.554Z"
   },
   {
    "duration": 18,
    "start_time": "2024-08-15T12:28:48.278Z"
   },
   {
    "duration": 26,
    "start_time": "2024-08-15T12:30:03.156Z"
   },
   {
    "duration": 34,
    "start_time": "2024-08-15T12:30:33.702Z"
   },
   {
    "duration": 27,
    "start_time": "2024-08-15T12:31:02.096Z"
   },
   {
    "duration": 9,
    "start_time": "2024-08-15T12:31:36.589Z"
   },
   {
    "duration": 9,
    "start_time": "2024-08-15T12:34:05.444Z"
   },
   {
    "duration": 1219,
    "start_time": "2024-08-15T12:34:19.167Z"
   },
   {
    "duration": 6,
    "start_time": "2024-08-15T12:34:33.285Z"
   },
   {
    "duration": 7,
    "start_time": "2024-08-15T12:34:59.986Z"
   },
   {
    "duration": 26,
    "start_time": "2024-08-15T12:35:06.653Z"
   },
   {
    "duration": 27,
    "start_time": "2024-08-15T12:35:11.500Z"
   },
   {
    "duration": 9,
    "start_time": "2024-08-15T12:35:16.720Z"
   },
   {
    "duration": 7,
    "start_time": "2024-08-15T12:36:51.612Z"
   },
   {
    "duration": 11,
    "start_time": "2024-08-15T12:36:58.267Z"
   },
   {
    "duration": 7,
    "start_time": "2024-08-15T12:39:49.144Z"
   },
   {
    "duration": 6,
    "start_time": "2024-08-15T12:40:54.254Z"
   },
   {
    "duration": 9,
    "start_time": "2024-08-15T12:41:16.103Z"
   },
   {
    "duration": 8,
    "start_time": "2024-08-15T12:41:25.146Z"
   },
   {
    "duration": 10,
    "start_time": "2024-08-15T12:41:36.687Z"
   },
   {
    "duration": 9,
    "start_time": "2024-08-15T12:41:43.405Z"
   },
   {
    "duration": 9,
    "start_time": "2024-08-15T12:43:09.845Z"
   },
   {
    "duration": 67,
    "start_time": "2024-08-15T12:46:08.268Z"
   },
   {
    "duration": 67,
    "start_time": "2024-08-15T12:47:09.464Z"
   },
   {
    "duration": 51,
    "start_time": "2024-08-15T12:47:16.109Z"
   },
   {
    "duration": 36,
    "start_time": "2024-08-15T12:56:42.467Z"
   },
   {
    "duration": 34,
    "start_time": "2024-08-15T12:57:02.510Z"
   },
   {
    "duration": 304,
    "start_time": "2024-08-15T12:58:37.071Z"
   },
   {
    "duration": 304,
    "start_time": "2024-08-15T12:58:40.437Z"
   },
   {
    "duration": 51,
    "start_time": "2024-08-15T12:58:41.667Z"
   },
   {
    "duration": 304,
    "start_time": "2024-08-15T12:58:43.828Z"
   },
   {
    "duration": 304,
    "start_time": "2024-08-15T12:58:45.982Z"
   },
   {
    "duration": 304,
    "start_time": "2024-08-15T12:58:49.158Z"
   },
   {
    "duration": 303,
    "start_time": "2024-08-15T12:58:51.451Z"
   },
   {
    "duration": 304,
    "start_time": "2024-08-15T12:58:56.875Z"
   },
   {
    "duration": 308,
    "start_time": "2024-08-15T12:59:03.645Z"
   },
   {
    "duration": 305,
    "start_time": "2024-08-15T12:59:06.780Z"
   },
   {
    "duration": 306,
    "start_time": "2024-08-15T12:59:17.166Z"
   },
   {
    "duration": 317,
    "start_time": "2024-08-15T12:59:21.971Z"
   },
   {
    "duration": 303,
    "start_time": "2024-08-15T12:59:25.928Z"
   },
   {
    "duration": 35,
    "start_time": "2024-08-15T12:59:34.138Z"
   },
   {
    "duration": 26,
    "start_time": "2024-08-15T12:59:37.861Z"
   },
   {
    "duration": 14,
    "start_time": "2024-08-15T13:02:31.766Z"
   },
   {
    "duration": 15,
    "start_time": "2024-08-15T13:04:16.336Z"
   },
   {
    "duration": 778,
    "start_time": "2024-08-15T13:12:08.553Z"
   },
   {
    "duration": 617,
    "start_time": "2024-08-15T13:12:53.173Z"
   },
   {
    "duration": 608,
    "start_time": "2024-08-15T13:13:02.409Z"
   },
   {
    "duration": 976,
    "start_time": "2024-08-15T13:13:59.779Z"
   },
   {
    "duration": 594,
    "start_time": "2024-08-15T13:14:54.542Z"
   },
   {
    "duration": 44,
    "start_time": "2024-08-15T13:17:30.461Z"
   },
   {
    "duration": 45,
    "start_time": "2024-08-15T13:17:58.648Z"
   },
   {
    "duration": 8,
    "start_time": "2024-08-15T13:30:28.397Z"
   },
   {
    "duration": 7,
    "start_time": "2024-08-15T13:33:57.562Z"
   },
   {
    "duration": 6,
    "start_time": "2024-08-15T13:34:02.970Z"
   },
   {
    "duration": 6,
    "start_time": "2024-08-15T13:34:06.424Z"
   },
   {
    "duration": 26,
    "start_time": "2024-08-15T13:34:17.606Z"
   },
   {
    "duration": 9,
    "start_time": "2024-08-15T13:34:25.682Z"
   },
   {
    "duration": 8,
    "start_time": "2024-08-15T13:34:37.238Z"
   },
   {
    "duration": 29,
    "start_time": "2024-08-15T13:35:55.444Z"
   },
   {
    "duration": 76,
    "start_time": "2024-08-15T13:37:51.548Z"
   },
   {
    "duration": 27,
    "start_time": "2024-08-15T13:38:20.349Z"
   },
   {
    "duration": 40,
    "start_time": "2024-08-15T13:39:48.069Z"
   },
   {
    "duration": 40,
    "start_time": "2024-08-15T13:40:07.105Z"
   },
   {
    "duration": 38,
    "start_time": "2024-08-15T13:40:30.585Z"
   },
   {
    "duration": 7,
    "start_time": "2024-08-15T13:40:46.631Z"
   },
   {
    "duration": 8,
    "start_time": "2024-08-15T13:40:49.357Z"
   },
   {
    "duration": 8,
    "start_time": "2024-08-15T13:42:09.037Z"
   },
   {
    "duration": 39,
    "start_time": "2024-08-15T13:50:55.462Z"
   },
   {
    "duration": 8,
    "start_time": "2024-08-15T13:50:58.765Z"
   },
   {
    "duration": 171,
    "start_time": "2024-08-15T13:51:10.480Z"
   },
   {
    "duration": 29,
    "start_time": "2024-08-15T13:52:58.029Z"
   },
   {
    "duration": 34,
    "start_time": "2024-08-15T13:53:08.632Z"
   },
   {
    "duration": 39,
    "start_time": "2024-08-15T13:53:20.195Z"
   },
   {
    "duration": 11,
    "start_time": "2024-08-15T13:53:35.391Z"
   },
   {
    "duration": 10,
    "start_time": "2024-08-15T16:32:35.689Z"
   },
   {
    "duration": 10,
    "start_time": "2024-08-15T16:32:57.388Z"
   },
   {
    "duration": 4,
    "start_time": "2024-08-15T16:33:38.952Z"
   },
   {
    "duration": 41,
    "start_time": "2024-08-15T16:33:47.096Z"
   },
   {
    "duration": 339,
    "start_time": "2024-08-15T16:33:47.141Z"
   },
   {
    "duration": 16,
    "start_time": "2024-08-15T16:33:47.483Z"
   },
   {
    "duration": 175,
    "start_time": "2024-08-15T16:33:47.502Z"
   },
   {
    "duration": 151,
    "start_time": "2024-08-15T16:33:47.682Z"
   },
   {
    "duration": 13,
    "start_time": "2024-08-15T16:33:47.836Z"
   },
   {
    "duration": 61,
    "start_time": "2024-08-15T16:33:47.852Z"
   },
   {
    "duration": 10,
    "start_time": "2024-08-15T16:33:47.916Z"
   },
   {
    "duration": 62,
    "start_time": "2024-08-15T16:33:47.929Z"
   },
   {
    "duration": 29,
    "start_time": "2024-08-15T16:33:47.994Z"
   },
   {
    "duration": 8,
    "start_time": "2024-08-15T16:33:48.026Z"
   },
   {
    "duration": 10,
    "start_time": "2024-08-15T16:33:48.037Z"
   },
   {
    "duration": 9,
    "start_time": "2024-08-15T16:33:48.090Z"
   },
   {
    "duration": 9,
    "start_time": "2024-08-15T16:33:48.108Z"
   },
   {
    "duration": 2672,
    "start_time": "2024-08-15T16:33:49.152Z"
   },
   {
    "duration": 1387,
    "start_time": "2024-08-15T16:33:51.827Z"
   },
   {
    "duration": 15,
    "start_time": "2024-08-15T16:33:53.249Z"
   },
   {
    "duration": 13,
    "start_time": "2024-08-15T16:33:54.426Z"
   },
   {
    "duration": 12,
    "start_time": "2024-08-15T16:33:55.656Z"
   },
   {
    "duration": 10,
    "start_time": "2024-08-15T16:33:57.096Z"
   },
   {
    "duration": 19,
    "start_time": "2024-08-15T16:33:58.090Z"
   },
   {
    "duration": 11,
    "start_time": "2024-08-15T16:33:59.924Z"
   },
   {
    "duration": 9,
    "start_time": "2024-08-15T16:34:00.401Z"
   },
   {
    "duration": 27,
    "start_time": "2024-08-15T16:34:01.791Z"
   },
   {
    "duration": 50,
    "start_time": "2024-08-15T16:34:02.216Z"
   },
   {
    "duration": 14,
    "start_time": "2024-08-15T16:34:02.874Z"
   },
   {
    "duration": 17,
    "start_time": "2024-08-15T16:34:03.219Z"
   },
   {
    "duration": 874,
    "start_time": "2024-08-15T16:34:04.245Z"
   },
   {
    "duration": 10,
    "start_time": "2024-08-15T16:34:21.087Z"
   },
   {
    "duration": 11,
    "start_time": "2024-08-15T16:34:27.880Z"
   },
   {
    "duration": 4,
    "start_time": "2024-08-15T16:34:39.388Z"
   },
   {
    "duration": 1497,
    "start_time": "2024-08-15T16:34:39.396Z"
   },
   {
    "duration": 20,
    "start_time": "2024-08-15T16:34:40.896Z"
   },
   {
    "duration": 18,
    "start_time": "2024-08-15T16:34:40.919Z"
   },
   {
    "duration": 15,
    "start_time": "2024-08-15T16:34:40.941Z"
   },
   {
    "duration": 17,
    "start_time": "2024-08-15T16:34:40.992Z"
   },
   {
    "duration": 39,
    "start_time": "2024-08-15T16:34:41.012Z"
   },
   {
    "duration": 326,
    "start_time": "2024-08-15T16:34:41.054Z"
   },
   {
    "duration": 18,
    "start_time": "2024-08-15T16:34:41.383Z"
   },
   {
    "duration": 178,
    "start_time": "2024-08-15T16:34:41.405Z"
   },
   {
    "duration": 153,
    "start_time": "2024-08-15T16:34:41.590Z"
   },
   {
    "duration": 13,
    "start_time": "2024-08-15T16:34:41.746Z"
   },
   {
    "duration": 55,
    "start_time": "2024-08-15T16:34:41.762Z"
   },
   {
    "duration": 9,
    "start_time": "2024-08-15T16:34:41.821Z"
   },
   {
    "duration": 66,
    "start_time": "2024-08-15T16:34:41.833Z"
   },
   {
    "duration": 28,
    "start_time": "2024-08-15T16:34:41.902Z"
   },
   {
    "duration": 8,
    "start_time": "2024-08-15T16:34:41.933Z"
   },
   {
    "duration": 9,
    "start_time": "2024-08-15T16:34:41.944Z"
   },
   {
    "duration": 10,
    "start_time": "2024-08-15T16:34:41.992Z"
   },
   {
    "duration": 8,
    "start_time": "2024-08-15T16:34:42.005Z"
   },
   {
    "duration": 2630,
    "start_time": "2024-08-15T16:34:42.016Z"
   },
   {
    "duration": 1299,
    "start_time": "2024-08-15T16:34:44.649Z"
   },
   {
    "duration": 18,
    "start_time": "2024-08-15T16:34:45.951Z"
   },
   {
    "duration": 31,
    "start_time": "2024-08-15T16:34:45.971Z"
   },
   {
    "duration": 14,
    "start_time": "2024-08-15T16:34:46.006Z"
   },
   {
    "duration": 13,
    "start_time": "2024-08-15T16:34:46.022Z"
   },
   {
    "duration": 59,
    "start_time": "2024-08-15T16:34:46.038Z"
   },
   {
    "duration": 9,
    "start_time": "2024-08-15T16:34:46.100Z"
   },
   {
    "duration": 9,
    "start_time": "2024-08-15T16:34:46.116Z"
   },
   {
    "duration": 63,
    "start_time": "2024-08-15T16:34:46.128Z"
   },
   {
    "duration": 54,
    "start_time": "2024-08-15T16:34:46.193Z"
   },
   {
    "duration": 43,
    "start_time": "2024-08-15T16:34:46.249Z"
   },
   {
    "duration": 17,
    "start_time": "2024-08-15T16:34:46.295Z"
   },
   {
    "duration": 16,
    "start_time": "2024-08-15T16:35:52.806Z"
   },
   {
    "duration": 15,
    "start_time": "2024-08-15T16:37:03.679Z"
   },
   {
    "duration": 14,
    "start_time": "2024-08-15T16:37:45.328Z"
   },
   {
    "duration": 15,
    "start_time": "2024-08-15T16:44:22.009Z"
   },
   {
    "duration": 8,
    "start_time": "2024-08-15T16:44:31.650Z"
   },
   {
    "duration": 15,
    "start_time": "2024-08-15T16:44:34.112Z"
   },
   {
    "duration": 18,
    "start_time": "2024-08-15T16:45:13.486Z"
   },
   {
    "duration": 12,
    "start_time": "2024-08-15T16:45:34.986Z"
   },
   {
    "duration": 12,
    "start_time": "2024-08-15T16:45:35.358Z"
   },
   {
    "duration": 13,
    "start_time": "2024-08-15T16:45:40.177Z"
   },
   {
    "duration": 999,
    "start_time": "2024-08-15T17:02:24.919Z"
   },
   {
    "duration": 787,
    "start_time": "2024-08-15T17:03:04.760Z"
   },
   {
    "duration": 756,
    "start_time": "2024-08-15T17:04:45.140Z"
   },
   {
    "duration": 227,
    "start_time": "2024-08-15T17:06:01.506Z"
   },
   {
    "duration": 307,
    "start_time": "2024-08-15T17:06:27.983Z"
   },
   {
    "duration": 326,
    "start_time": "2024-08-15T17:08:24.610Z"
   },
   {
    "duration": 22,
    "start_time": "2024-08-15T17:08:25.138Z"
   },
   {
    "duration": 717,
    "start_time": "2024-08-15T17:08:28.337Z"
   },
   {
    "duration": 1661,
    "start_time": "2024-08-15T17:08:29.058Z"
   },
   {
    "duration": 22,
    "start_time": "2024-08-15T17:08:30.721Z"
   },
   {
    "duration": 19,
    "start_time": "2024-08-15T17:08:30.746Z"
   },
   {
    "duration": 16,
    "start_time": "2024-08-15T17:08:30.794Z"
   },
   {
    "duration": 16,
    "start_time": "2024-08-15T17:08:30.813Z"
   },
   {
    "duration": 79,
    "start_time": "2024-08-15T17:08:30.832Z"
   },
   {
    "duration": 352,
    "start_time": "2024-08-15T17:08:30.914Z"
   },
   {
    "duration": 22,
    "start_time": "2024-08-15T17:08:31.270Z"
   },
   {
    "duration": 190,
    "start_time": "2024-08-15T17:08:31.295Z"
   },
   {
    "duration": 173,
    "start_time": "2024-08-15T17:08:31.487Z"
   },
   {
    "duration": 13,
    "start_time": "2024-08-15T17:08:31.663Z"
   },
   {
    "duration": 36,
    "start_time": "2024-08-15T17:08:31.692Z"
   },
   {
    "duration": 9,
    "start_time": "2024-08-15T17:08:31.735Z"
   },
   {
    "duration": 70,
    "start_time": "2024-08-15T17:08:31.747Z"
   },
   {
    "duration": 28,
    "start_time": "2024-08-15T17:08:31.820Z"
   },
   {
    "duration": 7,
    "start_time": "2024-08-15T17:08:31.852Z"
   },
   {
    "duration": 9,
    "start_time": "2024-08-15T17:08:31.891Z"
   },
   {
    "duration": 9,
    "start_time": "2024-08-15T17:08:31.903Z"
   },
   {
    "duration": 9,
    "start_time": "2024-08-15T17:08:31.915Z"
   },
   {
    "duration": 2801,
    "start_time": "2024-08-15T17:08:31.927Z"
   },
   {
    "duration": 1371,
    "start_time": "2024-08-15T17:08:34.734Z"
   },
   {
    "duration": 17,
    "start_time": "2024-08-15T17:08:36.108Z"
   },
   {
    "duration": 14,
    "start_time": "2024-08-15T17:08:36.128Z"
   },
   {
    "duration": 50,
    "start_time": "2024-08-15T17:08:36.144Z"
   },
   {
    "duration": 12,
    "start_time": "2024-08-15T17:08:36.197Z"
   },
   {
    "duration": 19,
    "start_time": "2024-08-15T17:08:36.212Z"
   },
   {
    "duration": 9,
    "start_time": "2024-08-15T17:08:36.234Z"
   },
   {
    "duration": 49,
    "start_time": "2024-08-15T17:08:36.247Z"
   },
   {
    "duration": 27,
    "start_time": "2024-08-15T17:08:36.299Z"
   },
   {
    "duration": 90,
    "start_time": "2024-08-15T17:08:36.329Z"
   },
   {
    "duration": 13,
    "start_time": "2024-08-15T17:08:36.422Z"
   },
   {
    "duration": 12,
    "start_time": "2024-08-15T17:08:36.439Z"
   },
   {
    "duration": 887,
    "start_time": "2024-08-15T17:08:36.454Z"
   },
   {
    "duration": 278,
    "start_time": "2024-08-15T17:08:37.344Z"
   },
   {
    "duration": 287,
    "start_time": "2024-08-15T17:08:37.626Z"
   },
   {
    "duration": 239,
    "start_time": "2024-08-15T17:10:12.223Z"
   },
   {
    "duration": 252,
    "start_time": "2024-08-15T17:10:41.918Z"
   },
   {
    "duration": 1514,
    "start_time": "2024-08-15T17:10:55.476Z"
   },
   {
    "duration": 255,
    "start_time": "2024-08-15T17:11:04.978Z"
   },
   {
    "duration": 284,
    "start_time": "2024-08-15T17:11:09.840Z"
   },
   {
    "duration": 255,
    "start_time": "2024-08-15T17:11:17.344Z"
   },
   {
    "duration": 260,
    "start_time": "2024-08-15T17:11:22.735Z"
   },
   {
    "duration": 286,
    "start_time": "2024-08-15T17:11:26.846Z"
   },
   {
    "duration": 247,
    "start_time": "2024-08-15T17:12:08.362Z"
   },
   {
    "duration": 767,
    "start_time": "2024-08-15T17:12:24.453Z"
   },
   {
    "duration": 247,
    "start_time": "2024-08-15T17:12:40.099Z"
   },
   {
    "duration": 288,
    "start_time": "2024-08-15T17:13:10.661Z"
   },
   {
    "duration": 284,
    "start_time": "2024-08-15T17:13:23.242Z"
   },
   {
    "duration": 274,
    "start_time": "2024-08-15T17:13:43.578Z"
   },
   {
    "duration": 297,
    "start_time": "2024-08-15T17:14:29.540Z"
   },
   {
    "duration": 332,
    "start_time": "2024-08-15T17:14:42.406Z"
   },
   {
    "duration": 261,
    "start_time": "2024-08-15T17:17:09.364Z"
   },
   {
    "duration": 1835,
    "start_time": "2024-08-15T17:23:57.466Z"
   },
   {
    "duration": 268,
    "start_time": "2024-08-15T17:24:03.530Z"
   },
   {
    "duration": 274,
    "start_time": "2024-08-15T17:24:54.692Z"
   },
   {
    "duration": 26,
    "start_time": "2024-08-15T17:37:53.076Z"
   },
   {
    "duration": 28,
    "start_time": "2024-08-15T17:39:23.950Z"
   },
   {
    "duration": 33,
    "start_time": "2024-08-15T17:39:45.588Z"
   },
   {
    "duration": 27,
    "start_time": "2024-08-15T17:40:24.576Z"
   },
   {
    "duration": 574,
    "start_time": "2024-08-15T17:40:44.132Z"
   },
   {
    "duration": 8,
    "start_time": "2024-08-15T17:41:03.352Z"
   },
   {
    "duration": 5,
    "start_time": "2024-08-15T17:42:05.827Z"
   },
   {
    "duration": 5,
    "start_time": "2024-08-15T17:42:09.077Z"
   },
   {
    "duration": 7,
    "start_time": "2024-08-15T17:44:08.316Z"
   },
   {
    "duration": 7,
    "start_time": "2024-08-15T17:44:35.244Z"
   },
   {
    "duration": 24,
    "start_time": "2024-08-15T18:04:15.034Z"
   },
   {
    "duration": 24,
    "start_time": "2024-08-15T18:05:04.868Z"
   },
   {
    "duration": 24,
    "start_time": "2024-08-15T18:05:19.486Z"
   },
   {
    "duration": 25,
    "start_time": "2024-08-15T18:06:37.881Z"
   },
   {
    "duration": 327,
    "start_time": "2024-08-15T18:07:33.516Z"
   },
   {
    "duration": 331,
    "start_time": "2024-08-15T18:07:41.703Z"
   },
   {
    "duration": 339,
    "start_time": "2024-08-15T18:07:50.136Z"
   },
   {
    "duration": 4302,
    "start_time": "2024-08-15T21:27:45.506Z"
   },
   {
    "duration": 1752,
    "start_time": "2024-08-15T21:27:49.812Z"
   },
   {
    "duration": 23,
    "start_time": "2024-08-15T21:27:51.566Z"
   },
   {
    "duration": 19,
    "start_time": "2024-08-15T21:27:51.606Z"
   },
   {
    "duration": 14,
    "start_time": "2024-08-15T21:27:51.628Z"
   },
   {
    "duration": 15,
    "start_time": "2024-08-15T21:27:51.646Z"
   },
   {
    "duration": 78,
    "start_time": "2024-08-15T21:27:51.665Z"
   },
   {
    "duration": 326,
    "start_time": "2024-08-15T21:27:51.746Z"
   },
   {
    "duration": 14,
    "start_time": "2024-08-15T21:27:52.075Z"
   },
   {
    "duration": 184,
    "start_time": "2024-08-15T21:27:52.110Z"
   },
   {
    "duration": 163,
    "start_time": "2024-08-15T21:27:52.297Z"
   },
   {
    "duration": 12,
    "start_time": "2024-08-15T21:27:52.463Z"
   },
   {
    "duration": 59,
    "start_time": "2024-08-15T21:27:52.478Z"
   },
   {
    "duration": 10,
    "start_time": "2024-08-15T21:27:52.540Z"
   },
   {
    "duration": 64,
    "start_time": "2024-08-15T21:27:52.553Z"
   },
   {
    "duration": 27,
    "start_time": "2024-08-15T21:27:52.620Z"
   },
   {
    "duration": 8,
    "start_time": "2024-08-15T21:27:52.650Z"
   },
   {
    "duration": 45,
    "start_time": "2024-08-15T21:27:52.662Z"
   },
   {
    "duration": 9,
    "start_time": "2024-08-15T21:27:52.710Z"
   },
   {
    "duration": 10,
    "start_time": "2024-08-15T21:27:52.722Z"
   },
   {
    "duration": 2727,
    "start_time": "2024-08-15T21:27:52.735Z"
   },
   {
    "duration": 1341,
    "start_time": "2024-08-15T21:27:55.465Z"
   },
   {
    "duration": 17,
    "start_time": "2024-08-15T21:27:56.809Z"
   },
   {
    "duration": 14,
    "start_time": "2024-08-15T21:27:56.829Z"
   },
   {
    "duration": 14,
    "start_time": "2024-08-15T21:27:56.846Z"
   },
   {
    "duration": 51,
    "start_time": "2024-08-15T21:27:56.862Z"
   },
   {
    "duration": 19,
    "start_time": "2024-08-15T21:27:56.916Z"
   },
   {
    "duration": 10,
    "start_time": "2024-08-15T21:27:56.945Z"
   },
   {
    "duration": 48,
    "start_time": "2024-08-15T21:27:56.958Z"
   },
   {
    "duration": 27,
    "start_time": "2024-08-15T21:27:57.008Z"
   },
   {
    "duration": 73,
    "start_time": "2024-08-15T21:27:57.039Z"
   },
   {
    "duration": 14,
    "start_time": "2024-08-15T21:27:57.115Z"
   },
   {
    "duration": 12,
    "start_time": "2024-08-15T21:27:57.134Z"
   },
   {
    "duration": 875,
    "start_time": "2024-08-15T21:27:57.149Z"
   },
   {
    "duration": 7,
    "start_time": "2024-08-15T21:27:58.028Z"
   },
   {
    "duration": 8,
    "start_time": "2024-08-15T21:27:58.038Z"
   },
   {
    "duration": 0,
    "start_time": "2024-08-15T21:27:58.051Z"
   },
   {
    "duration": 9,
    "start_time": "2024-08-15T21:28:04.725Z"
   },
   {
    "duration": 6,
    "start_time": "2024-08-15T21:28:14.089Z"
   },
   {
    "duration": 10,
    "start_time": "2024-08-15T21:28:35.910Z"
   },
   {
    "duration": 9,
    "start_time": "2024-08-15T21:28:59.043Z"
   },
   {
    "duration": 8,
    "start_time": "2024-08-15T21:29:09.647Z"
   },
   {
    "duration": 8,
    "start_time": "2024-08-15T21:29:44.128Z"
   },
   {
    "duration": 409,
    "start_time": "2024-08-15T21:29:47.837Z"
   },
   {
    "duration": 4,
    "start_time": "2024-08-15T23:48:31.567Z"
   },
   {
    "duration": 1557,
    "start_time": "2024-08-15T23:48:31.575Z"
   },
   {
    "duration": 22,
    "start_time": "2024-08-15T23:48:33.134Z"
   },
   {
    "duration": 18,
    "start_time": "2024-08-15T23:48:33.160Z"
   },
   {
    "duration": 40,
    "start_time": "2024-08-15T23:48:33.181Z"
   },
   {
    "duration": 16,
    "start_time": "2024-08-15T23:48:33.224Z"
   },
   {
    "duration": 72,
    "start_time": "2024-08-15T23:48:33.243Z"
   },
   {
    "duration": 295,
    "start_time": "2024-08-15T23:48:33.318Z"
   },
   {
    "duration": 11,
    "start_time": "2024-08-15T23:48:33.619Z"
   },
   {
    "duration": 174,
    "start_time": "2024-08-15T23:48:33.633Z"
   },
   {
    "duration": 169,
    "start_time": "2024-08-15T23:48:33.810Z"
   },
   {
    "duration": 25,
    "start_time": "2024-08-15T23:48:33.982Z"
   },
   {
    "duration": 35,
    "start_time": "2024-08-15T23:48:34.010Z"
   },
   {
    "duration": 9,
    "start_time": "2024-08-15T23:48:34.048Z"
   },
   {
    "duration": 63,
    "start_time": "2024-08-15T23:48:34.060Z"
   },
   {
    "duration": 30,
    "start_time": "2024-08-15T23:48:34.125Z"
   },
   {
    "duration": 8,
    "start_time": "2024-08-15T23:48:34.158Z"
   },
   {
    "duration": 40,
    "start_time": "2024-08-15T23:48:34.170Z"
   },
   {
    "duration": 8,
    "start_time": "2024-08-15T23:48:34.214Z"
   },
   {
    "duration": 9,
    "start_time": "2024-08-15T23:48:34.225Z"
   },
   {
    "duration": 2667,
    "start_time": "2024-08-15T23:48:34.238Z"
   },
   {
    "duration": 1353,
    "start_time": "2024-08-15T23:48:36.908Z"
   },
   {
    "duration": 18,
    "start_time": "2024-08-15T23:48:38.264Z"
   },
   {
    "duration": 17,
    "start_time": "2024-08-15T23:48:38.306Z"
   },
   {
    "duration": 16,
    "start_time": "2024-08-15T23:48:38.326Z"
   },
   {
    "duration": 11,
    "start_time": "2024-08-15T23:48:38.345Z"
   },
   {
    "duration": 62,
    "start_time": "2024-08-15T23:48:38.359Z"
   },
   {
    "duration": 10,
    "start_time": "2024-08-15T23:48:38.424Z"
   },
   {
    "duration": 11,
    "start_time": "2024-08-15T23:48:38.437Z"
   },
   {
    "duration": 65,
    "start_time": "2024-08-15T23:48:38.451Z"
   },
   {
    "duration": 50,
    "start_time": "2024-08-15T23:48:38.519Z"
   },
   {
    "duration": 40,
    "start_time": "2024-08-15T23:48:38.572Z"
   },
   {
    "duration": 14,
    "start_time": "2024-08-15T23:48:38.615Z"
   },
   {
    "duration": 868,
    "start_time": "2024-08-15T23:48:38.631Z"
   },
   {
    "duration": 7,
    "start_time": "2024-08-15T23:48:39.507Z"
   },
   {
    "duration": 8,
    "start_time": "2024-08-15T23:48:39.517Z"
   },
   {
    "duration": 369,
    "start_time": "2024-08-15T23:48:39.528Z"
   },
   {
    "duration": 267,
    "start_time": "2024-08-15T23:51:34.847Z"
   },
   {
    "duration": 232,
    "start_time": "2024-08-15T23:58:38.762Z"
   },
   {
    "duration": 6,
    "start_time": "2024-08-15T23:59:10.710Z"
   },
   {
    "duration": 209,
    "start_time": "2024-08-15T23:59:19.548Z"
   },
   {
    "duration": 402,
    "start_time": "2024-08-16T00:02:29.299Z"
   },
   {
    "duration": 372,
    "start_time": "2024-08-16T00:02:47.104Z"
   },
   {
    "duration": 370,
    "start_time": "2024-08-16T00:03:06.239Z"
   },
   {
    "duration": 226,
    "start_time": "2024-08-16T00:13:13.612Z"
   },
   {
    "duration": 241,
    "start_time": "2024-08-16T00:13:23.825Z"
   },
   {
    "duration": 372,
    "start_time": "2024-08-16T00:13:27.197Z"
   },
   {
    "duration": 5,
    "start_time": "2024-08-16T00:14:57.829Z"
   },
   {
    "duration": 233,
    "start_time": "2024-08-16T00:15:32.191Z"
   },
   {
    "duration": 261,
    "start_time": "2024-08-16T00:15:39.377Z"
   },
   {
    "duration": 262,
    "start_time": "2024-08-16T00:15:48.066Z"
   },
   {
    "duration": 256,
    "start_time": "2024-08-16T00:16:43.239Z"
   },
   {
    "duration": 186,
    "start_time": "2024-08-16T00:19:39.426Z"
   },
   {
    "duration": 265,
    "start_time": "2024-08-16T00:19:54.904Z"
   },
   {
    "duration": 283,
    "start_time": "2024-08-16T00:21:21.092Z"
   },
   {
    "duration": 409,
    "start_time": "2024-08-16T00:22:09.297Z"
   },
   {
    "duration": 404,
    "start_time": "2024-08-16T00:22:19.463Z"
   },
   {
    "duration": 366,
    "start_time": "2024-08-16T00:22:42.928Z"
   },
   {
    "duration": 971,
    "start_time": "2024-08-16T00:22:55.264Z"
   },
   {
    "duration": 401,
    "start_time": "2024-08-16T00:23:06.556Z"
   },
   {
    "duration": 448,
    "start_time": "2024-08-16T00:23:18.678Z"
   },
   {
    "duration": 8,
    "start_time": "2024-08-16T00:26:11.381Z"
   },
   {
    "duration": 7,
    "start_time": "2024-08-16T00:26:21.432Z"
   },
   {
    "duration": 429,
    "start_time": "2024-08-16T00:31:51.752Z"
   },
   {
    "duration": 301,
    "start_time": "2024-08-16T00:45:23.818Z"
   },
   {
    "duration": 302,
    "start_time": "2024-08-16T00:45:57.499Z"
   },
   {
    "duration": 493,
    "start_time": "2024-08-16T00:46:16.488Z"
   },
   {
    "duration": 304,
    "start_time": "2024-08-16T00:48:33.666Z"
   },
   {
    "duration": 660,
    "start_time": "2024-08-16T00:55:11.530Z"
   },
   {
    "duration": 1764,
    "start_time": "2024-08-16T00:55:12.194Z"
   },
   {
    "duration": 4,
    "start_time": "2024-08-16T00:55:25.375Z"
   },
   {
    "duration": 1528,
    "start_time": "2024-08-16T00:55:25.383Z"
   },
   {
    "duration": 25,
    "start_time": "2024-08-16T00:55:26.914Z"
   },
   {
    "duration": 18,
    "start_time": "2024-08-16T00:55:26.943Z"
   },
   {
    "duration": 47,
    "start_time": "2024-08-16T00:55:26.965Z"
   },
   {
    "duration": 16,
    "start_time": "2024-08-16T00:55:27.015Z"
   },
   {
    "duration": 42,
    "start_time": "2024-08-16T00:55:27.034Z"
   },
   {
    "duration": 316,
    "start_time": "2024-08-16T00:55:27.107Z"
   },
   {
    "duration": 20,
    "start_time": "2024-08-16T00:55:27.425Z"
   },
   {
    "duration": 185,
    "start_time": "2024-08-16T00:55:27.451Z"
   },
   {
    "duration": 172,
    "start_time": "2024-08-16T00:55:27.639Z"
   },
   {
    "duration": 12,
    "start_time": "2024-08-16T00:55:27.814Z"
   },
   {
    "duration": 36,
    "start_time": "2024-08-16T00:55:27.829Z"
   },
   {
    "duration": 41,
    "start_time": "2024-08-16T00:55:27.868Z"
   },
   {
    "duration": 45,
    "start_time": "2024-08-16T00:55:27.912Z"
   },
   {
    "duration": 54,
    "start_time": "2024-08-16T00:55:27.959Z"
   },
   {
    "duration": 8,
    "start_time": "2024-08-16T00:55:28.017Z"
   },
   {
    "duration": 9,
    "start_time": "2024-08-16T00:55:28.029Z"
   },
   {
    "duration": 9,
    "start_time": "2024-08-16T00:55:28.041Z"
   },
   {
    "duration": 53,
    "start_time": "2024-08-16T00:55:28.053Z"
   },
   {
    "duration": 2723,
    "start_time": "2024-08-16T00:55:28.110Z"
   },
   {
    "duration": 1331,
    "start_time": "2024-08-16T00:55:30.836Z"
   },
   {
    "duration": 15,
    "start_time": "2024-08-16T00:55:32.170Z"
   },
   {
    "duration": 14,
    "start_time": "2024-08-16T00:55:32.207Z"
   },
   {
    "duration": 14,
    "start_time": "2024-08-16T00:55:32.224Z"
   },
   {
    "duration": 11,
    "start_time": "2024-08-16T00:55:32.241Z"
   },
   {
    "duration": 54,
    "start_time": "2024-08-16T00:55:32.255Z"
   },
   {
    "duration": 11,
    "start_time": "2024-08-16T00:55:32.319Z"
   },
   {
    "duration": 10,
    "start_time": "2024-08-16T00:55:32.333Z"
   },
   {
    "duration": 66,
    "start_time": "2024-08-16T00:55:32.346Z"
   },
   {
    "duration": 51,
    "start_time": "2024-08-16T00:55:32.415Z"
   },
   {
    "duration": 38,
    "start_time": "2024-08-16T00:55:32.468Z"
   },
   {
    "duration": 13,
    "start_time": "2024-08-16T00:55:32.510Z"
   },
   {
    "duration": 897,
    "start_time": "2024-08-16T00:55:32.527Z"
   },
   {
    "duration": 8,
    "start_time": "2024-08-16T00:55:33.427Z"
   },
   {
    "duration": 7,
    "start_time": "2024-08-16T00:55:33.438Z"
   },
   {
    "duration": 382,
    "start_time": "2024-08-16T00:55:33.448Z"
   },
   {
    "duration": 216,
    "start_time": "2024-08-16T00:55:33.833Z"
   },
   {
    "duration": 368,
    "start_time": "2024-08-16T00:55:34.053Z"
   },
   {
    "duration": 334,
    "start_time": "2024-08-16T00:55:34.424Z"
   },
   {
    "duration": 313,
    "start_time": "2024-08-16T00:55:34.761Z"
   },
   {
    "duration": 417,
    "start_time": "2024-08-16T00:55:35.076Z"
   },
   {
    "duration": 661,
    "start_time": "2024-08-16T01:01:58.865Z"
   },
   {
    "duration": 1711,
    "start_time": "2024-08-16T01:01:59.529Z"
   },
   {
    "duration": 24,
    "start_time": "2024-08-16T01:02:01.243Z"
   },
   {
    "duration": 47,
    "start_time": "2024-08-16T01:02:01.271Z"
   },
   {
    "duration": 21,
    "start_time": "2024-08-16T01:02:01.322Z"
   },
   {
    "duration": 18,
    "start_time": "2024-08-16T01:02:01.348Z"
   },
   {
    "duration": 82,
    "start_time": "2024-08-16T01:02:01.369Z"
   },
   {
    "duration": 373,
    "start_time": "2024-08-16T01:02:01.455Z"
   },
   {
    "duration": 14,
    "start_time": "2024-08-16T01:02:01.831Z"
   },
   {
    "duration": 196,
    "start_time": "2024-08-16T01:02:01.851Z"
   },
   {
    "duration": 168,
    "start_time": "2024-08-16T01:02:02.049Z"
   },
   {
    "duration": 11,
    "start_time": "2024-08-16T01:02:02.221Z"
   },
   {
    "duration": 38,
    "start_time": "2024-08-16T01:02:02.235Z"
   },
   {
    "duration": 10,
    "start_time": "2024-08-16T01:02:02.307Z"
   },
   {
    "duration": 39,
    "start_time": "2024-08-16T01:02:02.320Z"
   },
   {
    "duration": 59,
    "start_time": "2024-08-16T01:02:02.362Z"
   },
   {
    "duration": 9,
    "start_time": "2024-08-16T01:02:02.424Z"
   },
   {
    "duration": 8,
    "start_time": "2024-08-16T01:02:02.436Z"
   },
   {
    "duration": 59,
    "start_time": "2024-08-16T01:02:02.447Z"
   },
   {
    "duration": 9,
    "start_time": "2024-08-16T01:02:02.510Z"
   },
   {
    "duration": 2725,
    "start_time": "2024-08-16T01:02:02.522Z"
   },
   {
    "duration": 1342,
    "start_time": "2024-08-16T01:02:05.250Z"
   },
   {
    "duration": 24,
    "start_time": "2024-08-16T01:02:06.596Z"
   },
   {
    "duration": 14,
    "start_time": "2024-08-16T01:02:06.622Z"
   },
   {
    "duration": 14,
    "start_time": "2024-08-16T01:02:06.639Z"
   },
   {
    "duration": 63,
    "start_time": "2024-08-16T01:02:06.656Z"
   },
   {
    "duration": 21,
    "start_time": "2024-08-16T01:02:06.722Z"
   },
   {
    "duration": 9,
    "start_time": "2024-08-16T01:02:06.751Z"
   },
   {
    "duration": 46,
    "start_time": "2024-08-16T01:02:06.763Z"
   },
   {
    "duration": 27,
    "start_time": "2024-08-16T01:02:06.812Z"
   },
   {
    "duration": 92,
    "start_time": "2024-08-16T01:02:06.841Z"
   },
   {
    "duration": 14,
    "start_time": "2024-08-16T01:02:06.941Z"
   },
   {
    "duration": 15,
    "start_time": "2024-08-16T01:02:06.958Z"
   },
   {
    "duration": 871,
    "start_time": "2024-08-16T01:02:07.007Z"
   },
   {
    "duration": 7,
    "start_time": "2024-08-16T01:02:07.881Z"
   },
   {
    "duration": 10,
    "start_time": "2024-08-16T01:02:07.915Z"
   },
   {
    "duration": 381,
    "start_time": "2024-08-16T01:02:07.929Z"
   },
   {
    "duration": 224,
    "start_time": "2024-08-16T01:02:08.315Z"
   },
   {
    "duration": 391,
    "start_time": "2024-08-16T01:02:08.541Z"
   },
   {
    "duration": 325,
    "start_time": "2024-08-16T01:02:08.935Z"
   },
   {
    "duration": 324,
    "start_time": "2024-08-16T01:02:09.263Z"
   },
   {
    "duration": 419,
    "start_time": "2024-08-16T01:02:09.591Z"
   },
   {
    "duration": 318,
    "start_time": "2024-08-16T01:06:34.494Z"
   },
   {
    "duration": 720,
    "start_time": "2024-08-16T01:06:44.737Z"
   },
   {
    "duration": 1674,
    "start_time": "2024-08-16T01:06:45.460Z"
   },
   {
    "duration": 24,
    "start_time": "2024-08-16T01:06:47.136Z"
   },
   {
    "duration": 45,
    "start_time": "2024-08-16T01:06:47.164Z"
   },
   {
    "duration": 16,
    "start_time": "2024-08-16T01:06:47.212Z"
   },
   {
    "duration": 16,
    "start_time": "2024-08-16T01:06:47.231Z"
   },
   {
    "duration": 88,
    "start_time": "2024-08-16T01:06:47.250Z"
   },
   {
    "duration": 352,
    "start_time": "2024-08-16T01:06:47.341Z"
   },
   {
    "duration": 13,
    "start_time": "2024-08-16T01:06:47.706Z"
   },
   {
    "duration": 216,
    "start_time": "2024-08-16T01:06:47.725Z"
   },
   {
    "duration": 174,
    "start_time": "2024-08-16T01:06:47.944Z"
   },
   {
    "duration": 12,
    "start_time": "2024-08-16T01:06:48.121Z"
   },
   {
    "duration": 75,
    "start_time": "2024-08-16T01:06:48.137Z"
   },
   {
    "duration": 10,
    "start_time": "2024-08-16T01:06:48.216Z"
   },
   {
    "duration": 36,
    "start_time": "2024-08-16T01:06:48.229Z"
   },
   {
    "duration": 62,
    "start_time": "2024-08-16T01:06:48.268Z"
   },
   {
    "duration": 8,
    "start_time": "2024-08-16T01:06:48.333Z"
   },
   {
    "duration": 8,
    "start_time": "2024-08-16T01:06:48.344Z"
   },
   {
    "duration": 56,
    "start_time": "2024-08-16T01:06:48.355Z"
   },
   {
    "duration": 9,
    "start_time": "2024-08-16T01:06:48.416Z"
   },
   {
    "duration": 2709,
    "start_time": "2024-08-16T01:06:48.429Z"
   },
   {
    "duration": 1330,
    "start_time": "2024-08-16T01:06:51.142Z"
   },
   {
    "duration": 31,
    "start_time": "2024-08-16T01:06:52.475Z"
   },
   {
    "duration": 16,
    "start_time": "2024-08-16T01:06:52.508Z"
   },
   {
    "duration": 15,
    "start_time": "2024-08-16T01:06:52.528Z"
   },
   {
    "duration": 10,
    "start_time": "2024-08-16T01:06:52.546Z"
   },
   {
    "duration": 64,
    "start_time": "2024-08-16T01:06:52.559Z"
   },
   {
    "duration": 9,
    "start_time": "2024-08-16T01:06:52.631Z"
   },
   {
    "duration": 10,
    "start_time": "2024-08-16T01:06:52.642Z"
   },
   {
    "duration": 72,
    "start_time": "2024-08-16T01:06:52.655Z"
   },
   {
    "duration": 51,
    "start_time": "2024-08-16T01:06:52.730Z"
   },
   {
    "duration": 15,
    "start_time": "2024-08-16T01:06:52.808Z"
   },
   {
    "duration": 12,
    "start_time": "2024-08-16T01:06:52.826Z"
   },
   {
    "duration": 906,
    "start_time": "2024-08-16T01:06:52.841Z"
   },
   {
    "duration": 6,
    "start_time": "2024-08-16T01:06:53.751Z"
   },
   {
    "duration": 8,
    "start_time": "2024-08-16T01:06:53.760Z"
   },
   {
    "duration": 387,
    "start_time": "2024-08-16T01:06:53.770Z"
   },
   {
    "duration": 220,
    "start_time": "2024-08-16T01:06:54.161Z"
   },
   {
    "duration": 399,
    "start_time": "2024-08-16T01:06:54.384Z"
   },
   {
    "duration": 318,
    "start_time": "2024-08-16T01:06:54.786Z"
   },
   {
    "duration": 314,
    "start_time": "2024-08-16T01:06:55.107Z"
   },
   {
    "duration": 500,
    "start_time": "2024-08-16T01:06:55.424Z"
   },
   {
    "duration": 1582,
    "start_time": "2024-08-16T01:06:55.927Z"
   },
   {
    "duration": 1569,
    "start_time": "2024-08-16T01:10:22.511Z"
   },
   {
    "duration": 215,
    "start_time": "2024-08-16T01:12:26.491Z"
   },
   {
    "duration": 366,
    "start_time": "2024-08-16T01:16:09.179Z"
   },
   {
    "duration": 213,
    "start_time": "2024-08-16T01:16:11.666Z"
   },
   {
    "duration": 363,
    "start_time": "2024-08-16T01:16:13.044Z"
   },
   {
    "duration": 433,
    "start_time": "2024-08-16T01:16:14.073Z"
   },
   {
    "duration": 318,
    "start_time": "2024-08-16T01:16:14.509Z"
   },
   {
    "duration": 430,
    "start_time": "2024-08-16T01:16:14.967Z"
   },
   {
    "duration": 253,
    "start_time": "2024-08-16T01:16:49.125Z"
   },
   {
    "duration": 7,
    "start_time": "2024-08-16T01:17:29.138Z"
   },
   {
    "duration": 286,
    "start_time": "2024-08-16T01:17:35.431Z"
   },
   {
    "duration": 253,
    "start_time": "2024-08-16T01:17:55.642Z"
   },
   {
    "duration": 288,
    "start_time": "2024-08-16T01:18:00.894Z"
   },
   {
    "duration": 260,
    "start_time": "2024-08-16T01:18:07.217Z"
   },
   {
    "duration": 279,
    "start_time": "2024-08-16T01:18:12.785Z"
   },
   {
    "duration": 274,
    "start_time": "2024-08-16T01:18:18.295Z"
   },
   {
    "duration": 199,
    "start_time": "2024-08-16T01:19:14.429Z"
   },
   {
    "duration": 356,
    "start_time": "2024-08-16T01:19:25.272Z"
   },
   {
    "duration": 250,
    "start_time": "2024-08-16T01:19:42.525Z"
   },
   {
    "duration": 300,
    "start_time": "2024-08-16T01:22:20.680Z"
   },
   {
    "duration": 367,
    "start_time": "2024-08-16T01:22:28.972Z"
   },
   {
    "duration": 230,
    "start_time": "2024-08-16T01:22:36.588Z"
   },
   {
    "duration": 251,
    "start_time": "2024-08-16T01:22:42.991Z"
   },
   {
    "duration": 266,
    "start_time": "2024-08-16T01:22:47.791Z"
   },
   {
    "duration": 230,
    "start_time": "2024-08-16T01:22:52.289Z"
   },
   {
    "duration": 289,
    "start_time": "2024-08-16T01:22:57.635Z"
   },
   {
    "duration": 381,
    "start_time": "2024-08-16T01:23:03.417Z"
   },
   {
    "duration": 262,
    "start_time": "2024-08-16T01:23:09.840Z"
   },
   {
    "duration": 264,
    "start_time": "2024-08-16T01:23:15.867Z"
   },
   {
    "duration": 267,
    "start_time": "2024-08-16T01:23:20.260Z"
   },
   {
    "duration": 245,
    "start_time": "2024-08-16T01:23:39.979Z"
   },
   {
    "duration": 261,
    "start_time": "2024-08-16T01:23:50.141Z"
   },
   {
    "duration": 308,
    "start_time": "2024-08-16T01:24:05.215Z"
   },
   {
    "duration": 248,
    "start_time": "2024-08-16T01:24:12.411Z"
   },
   {
    "duration": 311,
    "start_time": "2024-08-16T01:24:20.295Z"
   },
   {
    "duration": 293,
    "start_time": "2024-08-16T01:24:33.685Z"
   },
   {
    "duration": 171,
    "start_time": "2024-08-16T01:39:25.426Z"
   },
   {
    "duration": 154,
    "start_time": "2024-08-16T01:40:22.043Z"
   },
   {
    "duration": 1623,
    "start_time": "2024-08-16T01:40:45.757Z"
   },
   {
    "duration": 1008,
    "start_time": "2024-08-16T01:40:57.473Z"
   },
   {
    "duration": 149,
    "start_time": "2024-08-16T01:41:06.470Z"
   },
   {
    "duration": 156,
    "start_time": "2024-08-16T01:41:10.271Z"
   },
   {
    "duration": 301,
    "start_time": "2024-08-16T01:45:55.755Z"
   },
   {
    "duration": 1772,
    "start_time": "2024-08-16T01:46:58.034Z"
   },
   {
    "duration": 703,
    "start_time": "2024-08-16T01:47:15.858Z"
   },
   {
    "duration": 799,
    "start_time": "2024-08-16T01:48:13.560Z"
   },
   {
    "duration": 333,
    "start_time": "2024-08-16T01:53:06.673Z"
   },
   {
    "duration": 394,
    "start_time": "2024-08-16T01:53:09.835Z"
   },
   {
    "duration": 303,
    "start_time": "2024-08-16T01:53:15.664Z"
   },
   {
    "duration": 302,
    "start_time": "2024-08-16T01:53:16.973Z"
   },
   {
    "duration": 401,
    "start_time": "2024-08-16T01:53:17.557Z"
   },
   {
    "duration": 2445,
    "start_time": "2024-08-16T01:56:22.663Z"
   },
   {
    "duration": 312,
    "start_time": "2024-08-16T01:56:39.695Z"
   },
   {
    "duration": 743,
    "start_time": "2024-08-16T01:56:46.124Z"
   },
   {
    "duration": 1696,
    "start_time": "2024-08-16T01:56:46.871Z"
   },
   {
    "duration": 22,
    "start_time": "2024-08-16T01:56:48.571Z"
   },
   {
    "duration": 20,
    "start_time": "2024-08-16T01:56:48.609Z"
   },
   {
    "duration": 16,
    "start_time": "2024-08-16T01:56:48.632Z"
   },
   {
    "duration": 57,
    "start_time": "2024-08-16T01:56:48.651Z"
   },
   {
    "duration": 47,
    "start_time": "2024-08-16T01:56:48.714Z"
   },
   {
    "duration": 349,
    "start_time": "2024-08-16T01:56:48.763Z"
   },
   {
    "duration": 13,
    "start_time": "2024-08-16T01:56:49.116Z"
   },
   {
    "duration": 187,
    "start_time": "2024-08-16T01:56:49.135Z"
   },
   {
    "duration": 170,
    "start_time": "2024-08-16T01:56:49.325Z"
   },
   {
    "duration": 17,
    "start_time": "2024-08-16T01:56:49.498Z"
   },
   {
    "duration": 40,
    "start_time": "2024-08-16T01:56:49.518Z"
   },
   {
    "duration": 9,
    "start_time": "2024-08-16T01:56:49.561Z"
   },
   {
    "duration": 36,
    "start_time": "2024-08-16T01:56:49.606Z"
   },
   {
    "duration": 28,
    "start_time": "2024-08-16T01:56:49.645Z"
   },
   {
    "duration": 34,
    "start_time": "2024-08-16T01:56:49.675Z"
   },
   {
    "duration": 8,
    "start_time": "2024-08-16T01:56:49.712Z"
   },
   {
    "duration": 9,
    "start_time": "2024-08-16T01:56:49.723Z"
   },
   {
    "duration": 9,
    "start_time": "2024-08-16T01:56:49.736Z"
   },
   {
    "duration": 2692,
    "start_time": "2024-08-16T01:56:49.749Z"
   },
   {
    "duration": 1321,
    "start_time": "2024-08-16T01:56:52.444Z"
   },
   {
    "duration": 15,
    "start_time": "2024-08-16T01:56:53.768Z"
   },
   {
    "duration": 30,
    "start_time": "2024-08-16T01:56:53.786Z"
   },
   {
    "duration": 14,
    "start_time": "2024-08-16T01:56:53.819Z"
   },
   {
    "duration": 10,
    "start_time": "2024-08-16T01:56:53.836Z"
   },
   {
    "duration": 62,
    "start_time": "2024-08-16T01:56:53.850Z"
   },
   {
    "duration": 9,
    "start_time": "2024-08-16T01:56:53.919Z"
   },
   {
    "duration": 9,
    "start_time": "2024-08-16T01:56:53.932Z"
   },
   {
    "duration": 26,
    "start_time": "2024-08-16T01:56:53.944Z"
   },
   {
    "duration": 54,
    "start_time": "2024-08-16T01:56:54.008Z"
   },
   {
    "duration": 41,
    "start_time": "2024-08-16T01:56:54.065Z"
   },
   {
    "duration": 13,
    "start_time": "2024-08-16T01:56:54.108Z"
   },
   {
    "duration": 885,
    "start_time": "2024-08-16T01:56:54.123Z"
   },
   {
    "duration": 7,
    "start_time": "2024-08-16T01:56:55.013Z"
   },
   {
    "duration": 7,
    "start_time": "2024-08-16T01:56:55.023Z"
   },
   {
    "duration": 380,
    "start_time": "2024-08-16T01:56:55.033Z"
   },
   {
    "duration": 220,
    "start_time": "2024-08-16T01:56:55.416Z"
   },
   {
    "duration": 374,
    "start_time": "2024-08-16T01:56:55.638Z"
   },
   {
    "duration": 323,
    "start_time": "2024-08-16T01:56:56.015Z"
   },
   {
    "duration": 318,
    "start_time": "2024-08-16T01:56:56.341Z"
   },
   {
    "duration": 479,
    "start_time": "2024-08-16T01:56:56.662Z"
   },
   {
    "duration": 279,
    "start_time": "2024-08-16T01:56:57.144Z"
   },
   {
    "duration": 170,
    "start_time": "2024-08-16T01:56:57.426Z"
   },
   {
    "duration": 833,
    "start_time": "2024-08-16T01:56:57.599Z"
   },
   {
    "duration": 2454,
    "start_time": "2024-08-16T01:56:58.435Z"
   },
   {
    "duration": 318,
    "start_time": "2024-08-16T02:03:18.251Z"
   },
   {
    "duration": 26,
    "start_time": "2024-08-16T02:03:27.408Z"
   },
   {
    "duration": 732,
    "start_time": "2024-08-16T02:03:36.823Z"
   },
   {
    "duration": 1699,
    "start_time": "2024-08-16T02:03:37.559Z"
   },
   {
    "duration": 22,
    "start_time": "2024-08-16T02:03:39.261Z"
   },
   {
    "duration": 33,
    "start_time": "2024-08-16T02:03:39.288Z"
   },
   {
    "duration": 16,
    "start_time": "2024-08-16T02:03:39.325Z"
   },
   {
    "duration": 15,
    "start_time": "2024-08-16T02:03:39.344Z"
   },
   {
    "duration": 75,
    "start_time": "2024-08-16T02:03:39.362Z"
   },
   {
    "duration": 349,
    "start_time": "2024-08-16T02:03:39.440Z"
   },
   {
    "duration": 22,
    "start_time": "2024-08-16T02:03:39.792Z"
   },
   {
    "duration": 192,
    "start_time": "2024-08-16T02:03:39.820Z"
   },
   {
    "duration": 167,
    "start_time": "2024-08-16T02:03:40.015Z"
   },
   {
    "duration": 21,
    "start_time": "2024-08-16T02:03:40.185Z"
   },
   {
    "duration": 38,
    "start_time": "2024-08-16T02:03:40.209Z"
   },
   {
    "duration": 9,
    "start_time": "2024-08-16T02:03:40.250Z"
   },
   {
    "duration": 66,
    "start_time": "2024-08-16T02:03:40.262Z"
   },
   {
    "duration": 28,
    "start_time": "2024-08-16T02:03:40.331Z"
   },
   {
    "duration": 7,
    "start_time": "2024-08-16T02:03:40.362Z"
   },
   {
    "duration": 9,
    "start_time": "2024-08-16T02:03:40.405Z"
   },
   {
    "duration": 9,
    "start_time": "2024-08-16T02:03:40.417Z"
   },
   {
    "duration": 8,
    "start_time": "2024-08-16T02:03:40.430Z"
   },
   {
    "duration": 2725,
    "start_time": "2024-08-16T02:03:40.441Z"
   },
   {
    "duration": 1338,
    "start_time": "2024-08-16T02:03:43.168Z"
   },
   {
    "duration": 16,
    "start_time": "2024-08-16T02:03:44.509Z"
   },
   {
    "duration": 13,
    "start_time": "2024-08-16T02:03:44.530Z"
   },
   {
    "duration": 14,
    "start_time": "2024-08-16T02:03:44.546Z"
   },
   {
    "duration": 10,
    "start_time": "2024-08-16T02:03:44.606Z"
   },
   {
    "duration": 19,
    "start_time": "2024-08-16T02:03:44.620Z"
   },
   {
    "duration": 9,
    "start_time": "2024-08-16T02:03:44.647Z"
   },
   {
    "duration": 49,
    "start_time": "2024-08-16T02:03:44.659Z"
   },
   {
    "duration": 27,
    "start_time": "2024-08-16T02:03:44.712Z"
   },
   {
    "duration": 79,
    "start_time": "2024-08-16T02:03:44.744Z"
   },
   {
    "duration": 14,
    "start_time": "2024-08-16T02:03:44.826Z"
   },
   {
    "duration": 13,
    "start_time": "2024-08-16T02:03:44.843Z"
   },
   {
    "duration": 885,
    "start_time": "2024-08-16T02:03:44.859Z"
   },
   {
    "duration": 7,
    "start_time": "2024-08-16T02:03:45.747Z"
   },
   {
    "duration": 7,
    "start_time": "2024-08-16T02:03:45.758Z"
   },
   {
    "duration": 378,
    "start_time": "2024-08-16T02:03:45.769Z"
   },
   {
    "duration": 240,
    "start_time": "2024-08-16T02:03:46.149Z"
   },
   {
    "duration": 379,
    "start_time": "2024-08-16T02:03:46.392Z"
   },
   {
    "duration": 324,
    "start_time": "2024-08-16T02:03:46.774Z"
   },
   {
    "duration": 317,
    "start_time": "2024-08-16T02:03:47.106Z"
   },
   {
    "duration": 482,
    "start_time": "2024-08-16T02:03:47.427Z"
   },
   {
    "duration": 287,
    "start_time": "2024-08-16T02:03:47.914Z"
   },
   {
    "duration": 179,
    "start_time": "2024-08-16T02:03:48.207Z"
   },
   {
    "duration": 796,
    "start_time": "2024-08-16T02:03:48.390Z"
   },
   {
    "duration": 2474,
    "start_time": "2024-08-16T02:03:49.190Z"
   },
   {
    "duration": 97,
    "start_time": "2024-08-16T02:07:05.604Z"
   },
   {
    "duration": 165,
    "start_time": "2024-08-16T02:07:45.437Z"
   },
   {
    "duration": 804,
    "start_time": "2024-08-16T02:07:48.159Z"
   },
   {
    "duration": 29,
    "start_time": "2024-08-16T02:08:51.209Z"
   },
   {
    "duration": 160,
    "start_time": "2024-08-16T02:09:07.984Z"
   },
   {
    "duration": 41,
    "start_time": "2024-08-16T02:09:12.218Z"
   },
   {
    "duration": 15,
    "start_time": "2024-08-16T02:09:16.528Z"
   },
   {
    "duration": 25,
    "start_time": "2024-08-16T02:10:19.556Z"
   },
   {
    "duration": 14,
    "start_time": "2024-08-16T02:10:21.405Z"
   },
   {
    "duration": 376,
    "start_time": "2024-08-16T02:15:40.959Z"
   },
   {
    "duration": 758,
    "start_time": "2024-08-16T02:17:32.251Z"
   },
   {
    "duration": 374,
    "start_time": "2024-08-16T02:17:59.124Z"
   },
   {
    "duration": 378,
    "start_time": "2024-08-16T02:18:15.028Z"
   },
   {
    "duration": 449,
    "start_time": "2024-08-16T02:18:19.908Z"
   },
   {
    "duration": 394,
    "start_time": "2024-08-16T02:18:24.715Z"
   },
   {
    "duration": 373,
    "start_time": "2024-08-16T02:18:30.854Z"
   },
   {
    "duration": 4744,
    "start_time": "2024-08-16T15:19:22.169Z"
   },
   {
    "duration": 1861,
    "start_time": "2024-08-16T15:19:26.916Z"
   },
   {
    "duration": 25,
    "start_time": "2024-08-16T15:19:28.781Z"
   },
   {
    "duration": 20,
    "start_time": "2024-08-16T15:19:28.810Z"
   },
   {
    "duration": 46,
    "start_time": "2024-08-16T15:19:28.833Z"
   },
   {
    "duration": 17,
    "start_time": "2024-08-16T15:19:28.882Z"
   },
   {
    "duration": 71,
    "start_time": "2024-08-16T15:19:28.903Z"
   },
   {
    "duration": 366,
    "start_time": "2024-08-16T15:19:28.978Z"
   },
   {
    "duration": 25,
    "start_time": "2024-08-16T15:19:29.347Z"
   },
   {
    "duration": 197,
    "start_time": "2024-08-16T15:19:29.377Z"
   },
   {
    "duration": 171,
    "start_time": "2024-08-16T15:19:29.576Z"
   },
   {
    "duration": 24,
    "start_time": "2024-08-16T15:19:29.751Z"
   },
   {
    "duration": 38,
    "start_time": "2024-08-16T15:19:29.778Z"
   },
   {
    "duration": 11,
    "start_time": "2024-08-16T15:19:29.818Z"
   },
   {
    "duration": 69,
    "start_time": "2024-08-16T15:19:29.832Z"
   },
   {
    "duration": 27,
    "start_time": "2024-08-16T15:19:29.906Z"
   },
   {
    "duration": 33,
    "start_time": "2024-08-16T15:19:29.936Z"
   },
   {
    "duration": 10,
    "start_time": "2024-08-16T15:19:29.971Z"
   },
   {
    "duration": 8,
    "start_time": "2024-08-16T15:19:29.985Z"
   },
   {
    "duration": 8,
    "start_time": "2024-08-16T15:19:29.997Z"
   },
   {
    "duration": 2819,
    "start_time": "2024-08-16T15:19:30.008Z"
   },
   {
    "duration": 1334,
    "start_time": "2024-08-16T15:19:32.830Z"
   },
   {
    "duration": 16,
    "start_time": "2024-08-16T15:19:34.169Z"
   },
   {
    "duration": 14,
    "start_time": "2024-08-16T15:19:34.188Z"
   },
   {
    "duration": 14,
    "start_time": "2024-08-16T15:19:34.204Z"
   },
   {
    "duration": 52,
    "start_time": "2024-08-16T15:19:34.222Z"
   },
   {
    "duration": 31,
    "start_time": "2024-08-16T15:19:34.277Z"
   },
   {
    "duration": 10,
    "start_time": "2024-08-16T15:19:34.315Z"
   },
   {
    "duration": 9,
    "start_time": "2024-08-16T15:19:34.328Z"
   },
   {
    "duration": 51,
    "start_time": "2024-08-16T15:19:34.340Z"
   },
   {
    "duration": 74,
    "start_time": "2024-08-16T15:19:34.394Z"
   },
   {
    "duration": 16,
    "start_time": "2024-08-16T15:19:34.471Z"
   },
   {
    "duration": 11,
    "start_time": "2024-08-16T15:19:34.490Z"
   },
   {
    "duration": 881,
    "start_time": "2024-08-16T15:19:34.505Z"
   },
   {
    "duration": 7,
    "start_time": "2024-08-16T15:19:35.388Z"
   },
   {
    "duration": 8,
    "start_time": "2024-08-16T15:19:35.398Z"
   },
   {
    "duration": 392,
    "start_time": "2024-08-16T15:19:35.408Z"
   },
   {
    "duration": 236,
    "start_time": "2024-08-16T15:19:35.803Z"
   },
   {
    "duration": 441,
    "start_time": "2024-08-16T15:19:36.042Z"
   },
   {
    "duration": 341,
    "start_time": "2024-08-16T15:19:36.486Z"
   },
   {
    "duration": 326,
    "start_time": "2024-08-16T15:19:36.831Z"
   },
   {
    "duration": 421,
    "start_time": "2024-08-16T15:19:37.160Z"
   },
   {
    "duration": 290,
    "start_time": "2024-08-16T15:19:37.585Z"
   },
   {
    "duration": 181,
    "start_time": "2024-08-16T15:19:37.880Z"
   },
   {
    "duration": 34,
    "start_time": "2024-08-16T15:19:38.064Z"
   },
   {
    "duration": 431,
    "start_time": "2024-08-16T15:19:38.101Z"
   },
   {
    "duration": 359,
    "start_time": "2024-08-16T15:29:29.269Z"
   },
   {
    "duration": 22,
    "start_time": "2024-08-16T15:29:47.713Z"
   },
   {
    "duration": 23,
    "start_time": "2024-08-16T15:30:09.875Z"
   },
   {
    "duration": 24,
    "start_time": "2024-08-16T15:30:13.185Z"
   },
   {
    "duration": 26,
    "start_time": "2024-08-16T15:30:18.615Z"
   },
   {
    "duration": 544,
    "start_time": "2024-08-16T15:30:47.557Z"
   },
   {
    "duration": 5,
    "start_time": "2024-08-16T15:31:12.819Z"
   },
   {
    "duration": 7,
    "start_time": "2024-08-16T15:31:36.605Z"
   },
   {
    "duration": 19,
    "start_time": "2024-08-16T15:31:43.330Z"
   },
   {
    "duration": 540,
    "start_time": "2024-08-16T15:32:15.123Z"
   },
   {
    "duration": 6,
    "start_time": "2024-08-16T15:32:15.667Z"
   },
   {
    "duration": 165,
    "start_time": "2024-08-16T15:32:39.419Z"
   },
   {
    "duration": 5,
    "start_time": "2024-08-16T15:32:40.184Z"
   },
   {
    "duration": 101,
    "start_time": "2024-08-16T15:33:10.199Z"
   },
   {
    "duration": 311,
    "start_time": "2024-08-16T15:35:29.780Z"
   },
   {
    "duration": 0,
    "start_time": "2024-08-16T15:35:30.094Z"
   },
   {
    "duration": 0,
    "start_time": "2024-08-16T15:35:30.096Z"
   },
   {
    "duration": 797,
    "start_time": "2024-08-16T15:36:57.847Z"
   },
   {
    "duration": 1667,
    "start_time": "2024-08-16T15:36:58.647Z"
   },
   {
    "duration": 23,
    "start_time": "2024-08-16T15:37:00.317Z"
   },
   {
    "duration": 36,
    "start_time": "2024-08-16T15:37:00.344Z"
   },
   {
    "duration": 15,
    "start_time": "2024-08-16T15:37:00.383Z"
   },
   {
    "duration": 16,
    "start_time": "2024-08-16T15:37:00.401Z"
   },
   {
    "duration": 78,
    "start_time": "2024-08-16T15:37:00.420Z"
   },
   {
    "duration": 353,
    "start_time": "2024-08-16T15:37:00.501Z"
   },
   {
    "duration": 21,
    "start_time": "2024-08-16T15:37:00.857Z"
   },
   {
    "duration": 193,
    "start_time": "2024-08-16T15:37:00.884Z"
   },
   {
    "duration": 163,
    "start_time": "2024-08-16T15:37:01.080Z"
   },
   {
    "duration": 25,
    "start_time": "2024-08-16T15:37:01.246Z"
   },
   {
    "duration": 39,
    "start_time": "2024-08-16T15:37:01.273Z"
   },
   {
    "duration": 10,
    "start_time": "2024-08-16T15:37:01.315Z"
   },
   {
    "duration": 71,
    "start_time": "2024-08-16T15:37:01.327Z"
   },
   {
    "duration": 30,
    "start_time": "2024-08-16T15:37:01.401Z"
   },
   {
    "duration": 8,
    "start_time": "2024-08-16T15:37:01.433Z"
   },
   {
    "duration": 9,
    "start_time": "2024-08-16T15:37:01.468Z"
   },
   {
    "duration": 8,
    "start_time": "2024-08-16T15:37:01.481Z"
   },
   {
    "duration": 8,
    "start_time": "2024-08-16T15:37:01.493Z"
   },
   {
    "duration": 2718,
    "start_time": "2024-08-16T15:37:01.504Z"
   },
   {
    "duration": 1344,
    "start_time": "2024-08-16T15:37:04.224Z"
   },
   {
    "duration": 15,
    "start_time": "2024-08-16T15:37:05.572Z"
   },
   {
    "duration": 14,
    "start_time": "2024-08-16T15:37:05.590Z"
   },
   {
    "duration": 14,
    "start_time": "2024-08-16T15:37:05.607Z"
   },
   {
    "duration": 52,
    "start_time": "2024-08-16T15:37:05.624Z"
   },
   {
    "duration": 20,
    "start_time": "2024-08-16T15:37:05.679Z"
   },
   {
    "duration": 9,
    "start_time": "2024-08-16T15:37:05.708Z"
   },
   {
    "duration": 52,
    "start_time": "2024-08-16T15:37:05.719Z"
   },
   {
    "duration": 27,
    "start_time": "2024-08-16T15:37:05.774Z"
   },
   {
    "duration": 85,
    "start_time": "2024-08-16T15:37:05.803Z"
   },
   {
    "duration": 18,
    "start_time": "2024-08-16T15:37:05.892Z"
   },
   {
    "duration": 14,
    "start_time": "2024-08-16T15:37:05.913Z"
   },
   {
    "duration": 886,
    "start_time": "2024-08-16T15:37:05.929Z"
   },
   {
    "duration": 6,
    "start_time": "2024-08-16T15:37:06.818Z"
   },
   {
    "duration": 7,
    "start_time": "2024-08-16T15:37:06.828Z"
   },
   {
    "duration": 360,
    "start_time": "2024-08-16T15:37:06.868Z"
   },
   {
    "duration": 237,
    "start_time": "2024-08-16T15:37:07.231Z"
   },
   {
    "duration": 387,
    "start_time": "2024-08-16T15:37:07.471Z"
   },
   {
    "duration": 333,
    "start_time": "2024-08-16T15:37:07.867Z"
   },
   {
    "duration": 317,
    "start_time": "2024-08-16T15:37:08.203Z"
   },
   {
    "duration": 484,
    "start_time": "2024-08-16T15:37:08.523Z"
   },
   {
    "duration": 272,
    "start_time": "2024-08-16T15:37:09.010Z"
   },
   {
    "duration": 165,
    "start_time": "2024-08-16T15:37:09.285Z"
   },
   {
    "duration": 33,
    "start_time": "2024-08-16T15:37:09.453Z"
   },
   {
    "duration": 408,
    "start_time": "2024-08-16T15:37:09.488Z"
   },
   {
    "duration": 517,
    "start_time": "2024-08-16T15:37:09.900Z"
   },
   {
    "duration": 6,
    "start_time": "2024-08-16T15:37:10.419Z"
   },
   {
    "duration": 2092,
    "start_time": "2024-08-16T15:37:10.428Z"
   },
   {
    "duration": 68,
    "start_time": "2024-08-16T15:37:47.573Z"
   },
   {
    "duration": 5,
    "start_time": "2024-08-16T15:37:55.378Z"
   },
   {
    "duration": 7,
    "start_time": "2024-08-16T15:40:26.877Z"
   },
   {
    "duration": 9,
    "start_time": "2024-08-16T15:40:35.851Z"
   },
   {
    "duration": 6,
    "start_time": "2024-08-16T15:40:50.526Z"
   },
   {
    "duration": 22,
    "start_time": "2024-08-16T15:41:23.472Z"
   },
   {
    "duration": 6,
    "start_time": "2024-08-16T15:41:29.807Z"
   },
   {
    "duration": 4,
    "start_time": "2024-08-16T15:41:34.904Z"
   },
   {
    "duration": 5,
    "start_time": "2024-08-16T15:41:56.882Z"
   },
   {
    "duration": 24,
    "start_time": "2024-08-16T15:45:03.220Z"
   },
   {
    "duration": 26,
    "start_time": "2024-08-16T15:46:11.477Z"
   },
   {
    "duration": 24,
    "start_time": "2024-08-16T15:46:20.638Z"
   },
   {
    "duration": 6,
    "start_time": "2024-08-16T15:46:25.006Z"
   },
   {
    "duration": 1500,
    "start_time": "2024-08-16T15:46:25.016Z"
   },
   {
    "duration": 21,
    "start_time": "2024-08-16T15:46:26.519Z"
   },
   {
    "duration": 20,
    "start_time": "2024-08-16T15:46:26.567Z"
   },
   {
    "duration": 19,
    "start_time": "2024-08-16T15:46:26.590Z"
   },
   {
    "duration": 16,
    "start_time": "2024-08-16T15:46:26.614Z"
   },
   {
    "duration": 75,
    "start_time": "2024-08-16T15:46:26.633Z"
   },
   {
    "duration": 323,
    "start_time": "2024-08-16T15:46:26.711Z"
   },
   {
    "duration": 12,
    "start_time": "2024-08-16T15:46:27.038Z"
   },
   {
    "duration": 160,
    "start_time": "2024-08-16T15:46:27.072Z"
   },
   {
    "duration": 171,
    "start_time": "2024-08-16T15:46:27.235Z"
   },
   {
    "duration": 12,
    "start_time": "2024-08-16T15:46:27.410Z"
   },
   {
    "duration": 60,
    "start_time": "2024-08-16T15:46:27.424Z"
   },
   {
    "duration": 9,
    "start_time": "2024-08-16T15:46:27.487Z"
   },
   {
    "duration": 37,
    "start_time": "2024-08-16T15:46:27.499Z"
   },
   {
    "duration": 55,
    "start_time": "2024-08-16T15:46:27.539Z"
   },
   {
    "duration": 9,
    "start_time": "2024-08-16T15:46:27.597Z"
   },
   {
    "duration": 8,
    "start_time": "2024-08-16T15:46:27.609Z"
   },
   {
    "duration": 53,
    "start_time": "2024-08-16T15:46:27.621Z"
   },
   {
    "duration": 11,
    "start_time": "2024-08-16T15:46:27.677Z"
   },
   {
    "duration": 2704,
    "start_time": "2024-08-16T15:46:27.692Z"
   },
   {
    "duration": 1311,
    "start_time": "2024-08-16T15:46:30.399Z"
   },
   {
    "duration": 16,
    "start_time": "2024-08-16T15:46:31.713Z"
   },
   {
    "duration": 36,
    "start_time": "2024-08-16T15:46:31.732Z"
   },
   {
    "duration": 14,
    "start_time": "2024-08-16T15:46:31.771Z"
   },
   {
    "duration": 11,
    "start_time": "2024-08-16T15:46:31.788Z"
   },
   {
    "duration": 19,
    "start_time": "2024-08-16T15:46:31.802Z"
   },
   {
    "duration": 10,
    "start_time": "2024-08-16T15:46:31.867Z"
   },
   {
    "duration": 11,
    "start_time": "2024-08-16T15:46:31.880Z"
   },
   {
    "duration": 27,
    "start_time": "2024-08-16T15:46:31.894Z"
   },
   {
    "duration": 82,
    "start_time": "2024-08-16T15:46:31.924Z"
   },
   {
    "duration": 15,
    "start_time": "2024-08-16T15:46:32.010Z"
   },
   {
    "duration": 40,
    "start_time": "2024-08-16T15:46:32.028Z"
   },
   {
    "duration": 852,
    "start_time": "2024-08-16T15:46:32.072Z"
   },
   {
    "duration": 7,
    "start_time": "2024-08-16T15:46:32.927Z"
   },
   {
    "duration": 30,
    "start_time": "2024-08-16T15:46:32.937Z"
   },
   {
    "duration": 337,
    "start_time": "2024-08-16T15:46:32.970Z"
   },
   {
    "duration": 219,
    "start_time": "2024-08-16T15:46:33.311Z"
   },
   {
    "duration": 373,
    "start_time": "2024-08-16T15:46:33.533Z"
   },
   {
    "duration": 404,
    "start_time": "2024-08-16T15:46:33.910Z"
   },
   {
    "duration": 329,
    "start_time": "2024-08-16T15:46:34.317Z"
   },
   {
    "duration": 422,
    "start_time": "2024-08-16T15:46:34.649Z"
   },
   {
    "duration": 287,
    "start_time": "2024-08-16T15:46:35.075Z"
   },
   {
    "duration": 170,
    "start_time": "2024-08-16T15:46:35.364Z"
   },
   {
    "duration": 39,
    "start_time": "2024-08-16T15:46:35.536Z"
   },
   {
    "duration": 408,
    "start_time": "2024-08-16T15:46:35.578Z"
   },
   {
    "duration": 546,
    "start_time": "2024-08-16T15:46:35.989Z"
   },
   {
    "duration": 5,
    "start_time": "2024-08-16T15:46:36.538Z"
   },
   {
    "duration": 45,
    "start_time": "2024-08-16T15:46:36.546Z"
   },
   {
    "duration": 48,
    "start_time": "2024-08-16T15:47:54.595Z"
   },
   {
    "duration": 36,
    "start_time": "2024-08-16T15:48:02.711Z"
   },
   {
    "duration": 181,
    "start_time": "2024-08-16T15:48:09.827Z"
   },
   {
    "duration": 33,
    "start_time": "2024-08-16T15:48:40.669Z"
   },
   {
    "duration": 2288,
    "start_time": "2024-08-16T15:49:37.801Z"
   },
   {
    "duration": 9,
    "start_time": "2024-08-16T15:54:47.518Z"
   },
   {
    "duration": 5,
    "start_time": "2024-08-16T15:54:55.721Z"
   },
   {
    "duration": 14,
    "start_time": "2024-08-16T15:55:02.806Z"
   },
   {
    "duration": 152,
    "start_time": "2024-08-16T15:55:40.132Z"
   },
   {
    "duration": 24,
    "start_time": "2024-08-16T15:57:02.281Z"
   },
   {
    "duration": 675,
    "start_time": "2024-08-16T15:58:50.208Z"
   },
   {
    "duration": 1739,
    "start_time": "2024-08-16T15:58:50.886Z"
   },
   {
    "duration": 23,
    "start_time": "2024-08-16T15:58:52.628Z"
   },
   {
    "duration": 20,
    "start_time": "2024-08-16T15:58:52.668Z"
   },
   {
    "duration": 15,
    "start_time": "2024-08-16T15:58:52.692Z"
   },
   {
    "duration": 17,
    "start_time": "2024-08-16T15:58:52.710Z"
   },
   {
    "duration": 43,
    "start_time": "2024-08-16T15:58:52.767Z"
   },
   {
    "duration": 350,
    "start_time": "2024-08-16T15:58:52.813Z"
   },
   {
    "duration": 14,
    "start_time": "2024-08-16T15:58:53.168Z"
   },
   {
    "duration": 191,
    "start_time": "2024-08-16T15:58:53.188Z"
   },
   {
    "duration": 173,
    "start_time": "2024-08-16T15:58:53.383Z"
   },
   {
    "duration": 20,
    "start_time": "2024-08-16T15:58:53.558Z"
   },
   {
    "duration": 36,
    "start_time": "2024-08-16T15:58:53.581Z"
   },
   {
    "duration": 10,
    "start_time": "2024-08-16T15:58:53.624Z"
   },
   {
    "duration": 68,
    "start_time": "2024-08-16T15:58:53.637Z"
   },
   {
    "duration": 26,
    "start_time": "2024-08-16T15:58:53.708Z"
   },
   {
    "duration": 32,
    "start_time": "2024-08-16T15:58:53.737Z"
   },
   {
    "duration": 11,
    "start_time": "2024-08-16T15:58:53.773Z"
   },
   {
    "duration": 9,
    "start_time": "2024-08-16T15:58:53.787Z"
   },
   {
    "duration": 9,
    "start_time": "2024-08-16T15:58:53.799Z"
   },
   {
    "duration": 2806,
    "start_time": "2024-08-16T15:58:53.811Z"
   },
   {
    "duration": 1396,
    "start_time": "2024-08-16T15:58:56.620Z"
   },
   {
    "duration": 17,
    "start_time": "2024-08-16T15:58:58.019Z"
   },
   {
    "duration": 42,
    "start_time": "2024-08-16T15:58:58.039Z"
   },
   {
    "duration": 14,
    "start_time": "2024-08-16T15:58:58.085Z"
   },
   {
    "duration": 10,
    "start_time": "2024-08-16T15:58:58.103Z"
   },
   {
    "duration": 52,
    "start_time": "2024-08-16T15:58:58.116Z"
   },
   {
    "duration": 10,
    "start_time": "2024-08-16T15:58:58.172Z"
   },
   {
    "duration": 10,
    "start_time": "2024-08-16T15:58:58.186Z"
   },
   {
    "duration": 74,
    "start_time": "2024-08-16T15:58:58.199Z"
   },
   {
    "duration": 57,
    "start_time": "2024-08-16T15:58:58.276Z"
   },
   {
    "duration": 35,
    "start_time": "2024-08-16T15:58:58.335Z"
   },
   {
    "duration": 15,
    "start_time": "2024-08-16T15:58:58.374Z"
   },
   {
    "duration": 894,
    "start_time": "2024-08-16T15:58:58.392Z"
   },
   {
    "duration": 8,
    "start_time": "2024-08-16T15:58:59.289Z"
   },
   {
    "duration": 7,
    "start_time": "2024-08-16T15:58:59.300Z"
   },
   {
    "duration": 379,
    "start_time": "2024-08-16T15:58:59.309Z"
   },
   {
    "duration": 218,
    "start_time": "2024-08-16T15:58:59.692Z"
   },
   {
    "duration": 376,
    "start_time": "2024-08-16T15:58:59.913Z"
   },
   {
    "duration": 320,
    "start_time": "2024-08-16T15:59:00.292Z"
   },
   {
    "duration": 323,
    "start_time": "2024-08-16T15:59:00.621Z"
   },
   {
    "duration": 410,
    "start_time": "2024-08-16T15:59:00.947Z"
   },
   {
    "duration": 261,
    "start_time": "2024-08-16T15:59:01.367Z"
   },
   {
    "duration": 183,
    "start_time": "2024-08-16T15:59:01.631Z"
   },
   {
    "duration": 24,
    "start_time": "2024-08-16T15:59:01.817Z"
   },
   {
    "duration": 421,
    "start_time": "2024-08-16T15:59:01.843Z"
   },
   {
    "duration": 513,
    "start_time": "2024-08-16T15:59:02.267Z"
   },
   {
    "duration": 6,
    "start_time": "2024-08-16T15:59:02.783Z"
   },
   {
    "duration": 451,
    "start_time": "2024-08-16T15:59:20.065Z"
   },
   {
    "duration": 4,
    "start_time": "2024-08-16T15:59:38.470Z"
   },
   {
    "duration": 1505,
    "start_time": "2024-08-16T15:59:38.479Z"
   },
   {
    "duration": 20,
    "start_time": "2024-08-16T15:59:39.986Z"
   },
   {
    "duration": 19,
    "start_time": "2024-08-16T15:59:40.011Z"
   },
   {
    "duration": 44,
    "start_time": "2024-08-16T15:59:40.034Z"
   },
   {
    "duration": 16,
    "start_time": "2024-08-16T15:59:40.081Z"
   },
   {
    "duration": 68,
    "start_time": "2024-08-16T15:59:40.100Z"
   },
   {
    "duration": 299,
    "start_time": "2024-08-16T15:59:40.170Z"
   },
   {
    "duration": 13,
    "start_time": "2024-08-16T15:59:40.472Z"
   },
   {
    "duration": 174,
    "start_time": "2024-08-16T15:59:40.488Z"
   },
   {
    "duration": 142,
    "start_time": "2024-08-16T15:59:40.668Z"
   },
   {
    "duration": 13,
    "start_time": "2024-08-16T15:59:40.813Z"
   },
   {
    "duration": 56,
    "start_time": "2024-08-16T15:59:40.829Z"
   },
   {
    "duration": 9,
    "start_time": "2024-08-16T15:59:40.893Z"
   },
   {
    "duration": 37,
    "start_time": "2024-08-16T15:59:40.904Z"
   },
   {
    "duration": 29,
    "start_time": "2024-08-16T15:59:40.969Z"
   },
   {
    "duration": 7,
    "start_time": "2024-08-16T15:59:41.001Z"
   },
   {
    "duration": 9,
    "start_time": "2024-08-16T15:59:41.011Z"
   },
   {
    "duration": 46,
    "start_time": "2024-08-16T15:59:41.024Z"
   },
   {
    "duration": 11,
    "start_time": "2024-08-16T15:59:41.074Z"
   },
   {
    "duration": 2564,
    "start_time": "2024-08-16T15:59:41.089Z"
   },
   {
    "duration": 1265,
    "start_time": "2024-08-16T15:59:43.657Z"
   },
   {
    "duration": 16,
    "start_time": "2024-08-16T15:59:44.925Z"
   },
   {
    "duration": 34,
    "start_time": "2024-08-16T15:59:44.944Z"
   },
   {
    "duration": 15,
    "start_time": "2024-08-16T15:59:44.981Z"
   },
   {
    "duration": 12,
    "start_time": "2024-08-16T15:59:45.000Z"
   },
   {
    "duration": 63,
    "start_time": "2024-08-16T15:59:45.016Z"
   },
   {
    "duration": 11,
    "start_time": "2024-08-16T15:59:45.083Z"
   },
   {
    "duration": 11,
    "start_time": "2024-08-16T15:59:45.097Z"
   },
   {
    "duration": 72,
    "start_time": "2024-08-16T15:59:45.111Z"
   },
   {
    "duration": 52,
    "start_time": "2024-08-16T15:59:45.187Z"
   },
   {
    "duration": 35,
    "start_time": "2024-08-16T15:59:45.242Z"
   },
   {
    "duration": 12,
    "start_time": "2024-08-16T15:59:45.281Z"
   },
   {
    "duration": 892,
    "start_time": "2024-08-16T15:59:45.297Z"
   },
   {
    "duration": 7,
    "start_time": "2024-08-16T15:59:46.193Z"
   },
   {
    "duration": 9,
    "start_time": "2024-08-16T15:59:46.204Z"
   },
   {
    "duration": 377,
    "start_time": "2024-08-16T15:59:46.217Z"
   },
   {
    "duration": 237,
    "start_time": "2024-08-16T15:59:46.598Z"
   },
   {
    "duration": 388,
    "start_time": "2024-08-16T15:59:46.838Z"
   },
   {
    "duration": 330,
    "start_time": "2024-08-16T15:59:47.230Z"
   },
   {
    "duration": 342,
    "start_time": "2024-08-16T15:59:47.573Z"
   },
   {
    "duration": 453,
    "start_time": "2024-08-16T15:59:47.918Z"
   },
   {
    "duration": 361,
    "start_time": "2024-08-16T15:59:48.374Z"
   },
   {
    "duration": 184,
    "start_time": "2024-08-16T15:59:48.738Z"
   },
   {
    "duration": 27,
    "start_time": "2024-08-16T15:59:48.925Z"
   },
   {
    "duration": 426,
    "start_time": "2024-08-16T15:59:48.954Z"
   },
   {
    "duration": 538,
    "start_time": "2024-08-16T15:59:49.383Z"
   },
   {
    "duration": 6,
    "start_time": "2024-08-16T15:59:49.923Z"
   },
   {
    "duration": 57,
    "start_time": "2024-08-16T15:59:49.933Z"
   },
   {
    "duration": 194,
    "start_time": "2024-08-16T16:00:35.573Z"
   },
   {
    "duration": 174,
    "start_time": "2024-08-16T16:00:59.562Z"
   },
   {
    "duration": 152,
    "start_time": "2024-08-16T16:04:06.106Z"
   },
   {
    "duration": 165,
    "start_time": "2024-08-16T16:06:13.669Z"
   },
   {
    "duration": 314,
    "start_time": "2024-08-16T16:06:31.560Z"
   },
   {
    "duration": 750,
    "start_time": "2024-08-16T16:11:26.902Z"
   },
   {
    "duration": 1797,
    "start_time": "2024-08-16T16:11:27.657Z"
   },
   {
    "duration": 32,
    "start_time": "2024-08-16T16:11:29.457Z"
   },
   {
    "duration": 22,
    "start_time": "2024-08-16T16:11:29.493Z"
   },
   {
    "duration": 46,
    "start_time": "2024-08-16T16:11:29.521Z"
   },
   {
    "duration": 18,
    "start_time": "2024-08-16T16:11:29.571Z"
   },
   {
    "duration": 42,
    "start_time": "2024-08-16T16:11:29.592Z"
   },
   {
    "duration": 355,
    "start_time": "2024-08-16T16:11:29.667Z"
   },
   {
    "duration": 16,
    "start_time": "2024-08-16T16:11:30.025Z"
   },
   {
    "duration": 206,
    "start_time": "2024-08-16T16:11:30.044Z"
   },
   {
    "duration": 174,
    "start_time": "2024-08-16T16:11:30.254Z"
   },
   {
    "duration": 14,
    "start_time": "2024-08-16T16:11:30.431Z"
   },
   {
    "duration": 55,
    "start_time": "2024-08-16T16:11:30.448Z"
   },
   {
    "duration": 10,
    "start_time": "2024-08-16T16:11:30.512Z"
   },
   {
    "duration": 62,
    "start_time": "2024-08-16T16:11:30.526Z"
   },
   {
    "duration": 34,
    "start_time": "2024-08-16T16:11:30.591Z"
   },
   {
    "duration": 9,
    "start_time": "2024-08-16T16:11:30.629Z"
   },
   {
    "duration": 9,
    "start_time": "2024-08-16T16:11:30.672Z"
   },
   {
    "duration": 10,
    "start_time": "2024-08-16T16:11:30.685Z"
   },
   {
    "duration": 9,
    "start_time": "2024-08-16T16:11:30.698Z"
   },
   {
    "duration": 2776,
    "start_time": "2024-08-16T16:11:30.710Z"
   },
   {
    "duration": 1395,
    "start_time": "2024-08-16T16:11:33.490Z"
   },
   {
    "duration": 21,
    "start_time": "2024-08-16T16:11:34.888Z"
   },
   {
    "duration": 16,
    "start_time": "2024-08-16T16:11:34.912Z"
   },
   {
    "duration": 47,
    "start_time": "2024-08-16T16:11:34.932Z"
   },
   {
    "duration": 11,
    "start_time": "2024-08-16T16:11:34.984Z"
   },
   {
    "duration": 24,
    "start_time": "2024-08-16T16:11:34.998Z"
   },
   {
    "duration": 49,
    "start_time": "2024-08-16T16:11:35.025Z"
   },
   {
    "duration": 13,
    "start_time": "2024-08-16T16:11:35.077Z"
   },
   {
    "duration": 34,
    "start_time": "2024-08-16T16:11:35.094Z"
   },
   {
    "duration": 80,
    "start_time": "2024-08-16T16:11:35.131Z"
   },
   {
    "duration": 14,
    "start_time": "2024-08-16T16:11:35.216Z"
   },
   {
    "duration": 34,
    "start_time": "2024-08-16T16:11:35.235Z"
   },
   {
    "duration": 900,
    "start_time": "2024-08-16T16:11:35.273Z"
   },
   {
    "duration": 8,
    "start_time": "2024-08-16T16:11:36.177Z"
   },
   {
    "duration": 7,
    "start_time": "2024-08-16T16:11:36.190Z"
   },
   {
    "duration": 398,
    "start_time": "2024-08-16T16:11:36.201Z"
   },
   {
    "duration": 230,
    "start_time": "2024-08-16T16:11:36.603Z"
   },
   {
    "duration": 400,
    "start_time": "2024-08-16T16:11:36.839Z"
   },
   {
    "duration": 371,
    "start_time": "2024-08-16T16:11:37.242Z"
   },
   {
    "duration": 364,
    "start_time": "2024-08-16T16:11:37.623Z"
   },
   {
    "duration": 447,
    "start_time": "2024-08-16T16:11:37.990Z"
   },
   {
    "duration": 284,
    "start_time": "2024-08-16T16:11:38.441Z"
   },
   {
    "duration": 180,
    "start_time": "2024-08-16T16:11:38.730Z"
   },
   {
    "duration": 27,
    "start_time": "2024-08-16T16:11:38.913Z"
   },
   {
    "duration": 453,
    "start_time": "2024-08-16T16:11:38.943Z"
   },
   {
    "duration": 531,
    "start_time": "2024-08-16T16:11:39.399Z"
   },
   {
    "duration": 8,
    "start_time": "2024-08-16T16:11:39.932Z"
   },
   {
    "duration": 358,
    "start_time": "2024-08-16T16:15:40.011Z"
   },
   {
    "duration": 780,
    "start_time": "2024-08-16T16:15:48.118Z"
   },
   {
    "duration": 1830,
    "start_time": "2024-08-16T16:15:48.902Z"
   },
   {
    "duration": 36,
    "start_time": "2024-08-16T16:15:50.735Z"
   },
   {
    "duration": 20,
    "start_time": "2024-08-16T16:15:50.776Z"
   },
   {
    "duration": 15,
    "start_time": "2024-08-16T16:15:50.799Z"
   },
   {
    "duration": 16,
    "start_time": "2024-08-16T16:15:50.817Z"
   },
   {
    "duration": 60,
    "start_time": "2024-08-16T16:15:50.869Z"
   },
   {
    "duration": 385,
    "start_time": "2024-08-16T16:15:50.931Z"
   },
   {
    "duration": 14,
    "start_time": "2024-08-16T16:15:51.319Z"
   },
   {
    "duration": 223,
    "start_time": "2024-08-16T16:15:51.339Z"
   },
   {
    "duration": 179,
    "start_time": "2024-08-16T16:15:51.565Z"
   },
   {
    "duration": 23,
    "start_time": "2024-08-16T16:15:51.747Z"
   },
   {
    "duration": 46,
    "start_time": "2024-08-16T16:15:51.777Z"
   },
   {
    "duration": 10,
    "start_time": "2024-08-16T16:15:51.826Z"
   },
   {
    "duration": 71,
    "start_time": "2024-08-16T16:15:51.839Z"
   },
   {
    "duration": 27,
    "start_time": "2024-08-16T16:15:51.913Z"
   },
   {
    "duration": 8,
    "start_time": "2024-08-16T16:15:51.943Z"
   },
   {
    "duration": 16,
    "start_time": "2024-08-16T16:15:51.969Z"
   },
   {
    "duration": 14,
    "start_time": "2024-08-16T16:15:51.987Z"
   },
   {
    "duration": 9,
    "start_time": "2024-08-16T16:15:52.005Z"
   },
   {
    "duration": 2793,
    "start_time": "2024-08-16T16:15:52.017Z"
   },
   {
    "duration": 1385,
    "start_time": "2024-08-16T16:15:54.815Z"
   },
   {
    "duration": 16,
    "start_time": "2024-08-16T16:15:56.204Z"
   },
   {
    "duration": 15,
    "start_time": "2024-08-16T16:15:56.224Z"
   },
   {
    "duration": 21,
    "start_time": "2024-08-16T16:15:56.267Z"
   },
   {
    "duration": 14,
    "start_time": "2024-08-16T16:15:56.293Z"
   },
   {
    "duration": 21,
    "start_time": "2024-08-16T16:15:56.311Z"
   },
   {
    "duration": 15,
    "start_time": "2024-08-16T16:15:56.367Z"
   },
   {
    "duration": 14,
    "start_time": "2024-08-16T16:15:56.384Z"
   },
   {
    "duration": 31,
    "start_time": "2024-08-16T16:15:56.401Z"
   },
   {
    "duration": 95,
    "start_time": "2024-08-16T16:15:56.435Z"
   },
   {
    "duration": 14,
    "start_time": "2024-08-16T16:15:56.533Z"
   },
   {
    "duration": 22,
    "start_time": "2024-08-16T16:15:56.569Z"
   },
   {
    "duration": 967,
    "start_time": "2024-08-16T16:15:56.596Z"
   },
   {
    "duration": 8,
    "start_time": "2024-08-16T16:15:57.569Z"
   },
   {
    "duration": 7,
    "start_time": "2024-08-16T16:15:57.580Z"
   },
   {
    "duration": 427,
    "start_time": "2024-08-16T16:15:57.590Z"
   },
   {
    "duration": 252,
    "start_time": "2024-08-16T16:15:58.020Z"
   },
   {
    "duration": 411,
    "start_time": "2024-08-16T16:15:58.281Z"
   },
   {
    "duration": 339,
    "start_time": "2024-08-16T16:15:58.695Z"
   },
   {
    "duration": 341,
    "start_time": "2024-08-16T16:15:59.037Z"
   },
   {
    "duration": 502,
    "start_time": "2024-08-16T16:15:59.381Z"
   },
   {
    "duration": 315,
    "start_time": "2024-08-16T16:15:59.886Z"
   },
   {
    "duration": 163,
    "start_time": "2024-08-16T16:16:00.204Z"
   },
   {
    "duration": 33,
    "start_time": "2024-08-16T16:16:00.370Z"
   },
   {
    "duration": 442,
    "start_time": "2024-08-16T16:16:00.406Z"
   },
   {
    "duration": 182,
    "start_time": "2024-08-16T16:16:00.852Z"
   },
   {
    "duration": 5,
    "start_time": "2024-08-16T16:16:01.039Z"
   },
   {
    "duration": 158758,
    "start_time": "2024-08-16T16:16:01.047Z"
   },
   {
    "duration": 649,
    "start_time": "2024-08-16T16:18:39.813Z"
   },
   {
    "duration": 21,
    "start_time": "2024-08-16T16:18:40.468Z"
   },
   {
    "duration": 4,
    "start_time": "2024-08-16T16:19:09.009Z"
   },
   {
    "duration": 424,
    "start_time": "2024-08-16T16:20:29.495Z"
   },
   {
    "duration": 0,
    "start_time": "2024-08-16T16:20:29.922Z"
   },
   {
    "duration": 752,
    "start_time": "2024-08-16T16:20:36.403Z"
   },
   {
    "duration": 1806,
    "start_time": "2024-08-16T16:20:37.168Z"
   },
   {
    "duration": 33,
    "start_time": "2024-08-16T16:20:38.977Z"
   },
   {
    "duration": 25,
    "start_time": "2024-08-16T16:20:39.016Z"
   },
   {
    "duration": 19,
    "start_time": "2024-08-16T16:20:39.070Z"
   },
   {
    "duration": 19,
    "start_time": "2024-08-16T16:20:39.093Z"
   },
   {
    "duration": 84,
    "start_time": "2024-08-16T16:20:39.116Z"
   },
   {
    "duration": 439,
    "start_time": "2024-08-16T16:20:39.204Z"
   },
   {
    "duration": 22,
    "start_time": "2024-08-16T16:20:39.650Z"
   },
   {
    "duration": 198,
    "start_time": "2024-08-16T16:20:39.679Z"
   },
   {
    "duration": 183,
    "start_time": "2024-08-16T16:20:39.880Z"
   },
   {
    "duration": 13,
    "start_time": "2024-08-16T16:20:40.070Z"
   },
   {
    "duration": 41,
    "start_time": "2024-08-16T16:20:40.086Z"
   },
   {
    "duration": 38,
    "start_time": "2024-08-16T16:20:40.131Z"
   },
   {
    "duration": 50,
    "start_time": "2024-08-16T16:20:40.172Z"
   },
   {
    "duration": 55,
    "start_time": "2024-08-16T16:20:40.226Z"
   },
   {
    "duration": 8,
    "start_time": "2024-08-16T16:20:40.284Z"
   },
   {
    "duration": 8,
    "start_time": "2024-08-16T16:20:40.296Z"
   },
   {
    "duration": 9,
    "start_time": "2024-08-16T16:20:40.308Z"
   },
   {
    "duration": 48,
    "start_time": "2024-08-16T16:20:40.320Z"
   },
   {
    "duration": 2894,
    "start_time": "2024-08-16T16:20:40.371Z"
   },
   {
    "duration": 1360,
    "start_time": "2024-08-16T16:20:43.268Z"
   },
   {
    "duration": 18,
    "start_time": "2024-08-16T16:20:44.632Z"
   },
   {
    "duration": 16,
    "start_time": "2024-08-16T16:20:44.669Z"
   },
   {
    "duration": 16,
    "start_time": "2024-08-16T16:20:44.688Z"
   },
   {
    "duration": 10,
    "start_time": "2024-08-16T16:20:44.707Z"
   },
   {
    "duration": 57,
    "start_time": "2024-08-16T16:20:44.721Z"
   },
   {
    "duration": 10,
    "start_time": "2024-08-16T16:20:44.788Z"
   },
   {
    "duration": 11,
    "start_time": "2024-08-16T16:20:44.801Z"
   },
   {
    "duration": 74,
    "start_time": "2024-08-16T16:20:44.815Z"
   },
   {
    "duration": 74,
    "start_time": "2024-08-16T16:20:44.895Z"
   },
   {
    "duration": 15,
    "start_time": "2024-08-16T16:20:44.972Z"
   },
   {
    "duration": 17,
    "start_time": "2024-08-16T16:20:44.991Z"
   },
   {
    "duration": 903,
    "start_time": "2024-08-16T16:20:45.011Z"
   },
   {
    "duration": 4,
    "start_time": "2024-08-16T16:20:49.880Z"
   },
   {
    "duration": 1483,
    "start_time": "2024-08-16T16:20:49.887Z"
   },
   {
    "duration": 22,
    "start_time": "2024-08-16T16:20:51.373Z"
   },
   {
    "duration": 20,
    "start_time": "2024-08-16T16:20:51.398Z"
   },
   {
    "duration": 47,
    "start_time": "2024-08-16T16:20:51.421Z"
   },
   {
    "duration": 19,
    "start_time": "2024-08-16T16:20:51.472Z"
   },
   {
    "duration": 39,
    "start_time": "2024-08-16T16:20:51.494Z"
   },
   {
    "duration": 326,
    "start_time": "2024-08-16T16:20:51.568Z"
   },
   {
    "duration": 14,
    "start_time": "2024-08-16T16:20:51.900Z"
   },
   {
    "duration": 193,
    "start_time": "2024-08-16T16:20:51.917Z"
   },
   {
    "duration": 212,
    "start_time": "2024-08-16T16:20:52.114Z"
   },
   {
    "duration": 14,
    "start_time": "2024-08-16T16:20:52.329Z"
   },
   {
    "duration": 45,
    "start_time": "2024-08-16T16:20:52.367Z"
   },
   {
    "duration": 12,
    "start_time": "2024-08-16T16:20:52.416Z"
   },
   {
    "duration": 59,
    "start_time": "2024-08-16T16:20:52.432Z"
   },
   {
    "duration": 31,
    "start_time": "2024-08-16T16:20:52.495Z"
   },
   {
    "duration": 39,
    "start_time": "2024-08-16T16:20:52.529Z"
   },
   {
    "duration": 8,
    "start_time": "2024-08-16T16:20:52.572Z"
   },
   {
    "duration": 12,
    "start_time": "2024-08-16T16:20:52.584Z"
   },
   {
    "duration": 8,
    "start_time": "2024-08-16T16:20:52.600Z"
   },
   {
    "duration": 2806,
    "start_time": "2024-08-16T16:20:52.613Z"
   },
   {
    "duration": 1429,
    "start_time": "2024-08-16T16:20:55.424Z"
   },
   {
    "duration": 20,
    "start_time": "2024-08-16T16:20:56.867Z"
   },
   {
    "duration": 17,
    "start_time": "2024-08-16T16:20:56.891Z"
   },
   {
    "duration": 16,
    "start_time": "2024-08-16T16:20:56.912Z"
   },
   {
    "duration": 44,
    "start_time": "2024-08-16T16:20:56.931Z"
   },
   {
    "duration": 22,
    "start_time": "2024-08-16T16:20:56.979Z"
   },
   {
    "duration": 10,
    "start_time": "2024-08-16T16:20:57.005Z"
   },
   {
    "duration": 49,
    "start_time": "2024-08-16T16:20:57.018Z"
   },
   {
    "duration": 30,
    "start_time": "2024-08-16T16:20:57.071Z"
   },
   {
    "duration": 79,
    "start_time": "2024-08-16T16:20:57.104Z"
   },
   {
    "duration": 19,
    "start_time": "2024-08-16T16:20:57.186Z"
   },
   {
    "duration": 12,
    "start_time": "2024-08-16T16:20:57.208Z"
   },
   {
    "duration": 911,
    "start_time": "2024-08-16T16:20:57.223Z"
   },
   {
    "duration": 7,
    "start_time": "2024-08-16T16:20:58.137Z"
   },
   {
    "duration": 10,
    "start_time": "2024-08-16T16:20:58.168Z"
   },
   {
    "duration": 390,
    "start_time": "2024-08-16T16:20:58.181Z"
   },
   {
    "duration": 231,
    "start_time": "2024-08-16T16:20:58.574Z"
   },
   {
    "duration": 407,
    "start_time": "2024-08-16T16:20:58.809Z"
   },
   {
    "duration": 332,
    "start_time": "2024-08-16T16:20:59.219Z"
   },
   {
    "duration": 327,
    "start_time": "2024-08-16T16:20:59.556Z"
   },
   {
    "duration": 504,
    "start_time": "2024-08-16T16:20:59.886Z"
   },
   {
    "duration": 277,
    "start_time": "2024-08-16T16:21:00.393Z"
   },
   {
    "duration": 175,
    "start_time": "2024-08-16T16:21:00.674Z"
   },
   {
    "duration": 35,
    "start_time": "2024-08-16T16:21:00.852Z"
   },
   {
    "duration": 405,
    "start_time": "2024-08-16T16:21:00.891Z"
   },
   {
    "duration": 524,
    "start_time": "2024-08-16T16:21:01.298Z"
   },
   {
    "duration": 5,
    "start_time": "2024-08-16T16:21:01.825Z"
   },
   {
    "duration": 2115,
    "start_time": "2024-08-16T16:21:01.833Z"
   },
   {
    "duration": 12,
    "start_time": "2024-08-16T16:23:47.949Z"
   },
   {
    "duration": 2244,
    "start_time": "2024-08-16T16:23:55.903Z"
   },
   {
    "duration": 310,
    "start_time": "2024-08-16T16:25:17.808Z"
   },
   {
    "duration": 373,
    "start_time": "2024-08-16T16:25:55.151Z"
   },
   {
    "duration": 320,
    "start_time": "2024-08-16T16:26:11.012Z"
   },
   {
    "duration": 432,
    "start_time": "2024-08-16T16:26:40.975Z"
   },
   {
    "duration": 439,
    "start_time": "2024-08-16T16:27:07.241Z"
   },
   {
    "duration": 439,
    "start_time": "2024-08-16T16:27:41.470Z"
   },
   {
    "duration": 2124,
    "start_time": "2024-08-16T16:28:20.097Z"
   },
   {
    "duration": 436,
    "start_time": "2024-08-16T16:28:33.509Z"
   },
   {
    "duration": 501,
    "start_time": "2024-08-16T16:28:59.074Z"
   },
   {
    "duration": 633,
    "start_time": "2024-08-16T16:29:11.633Z"
   },
   {
    "duration": 527,
    "start_time": "2024-08-16T16:29:55.540Z"
   },
   {
    "duration": 560,
    "start_time": "2024-08-16T16:30:08.288Z"
   },
   {
    "duration": 534,
    "start_time": "2024-08-16T16:30:27.023Z"
   },
   {
    "duration": 444,
    "start_time": "2024-08-16T16:30:36.113Z"
   },
   {
    "duration": 623,
    "start_time": "2024-08-16T16:30:47.494Z"
   },
   {
    "duration": 568,
    "start_time": "2024-08-16T16:31:12.629Z"
   },
   {
    "duration": 430,
    "start_time": "2024-08-16T16:31:32.202Z"
   },
   {
    "duration": 452,
    "start_time": "2024-08-16T16:31:42.489Z"
   },
   {
    "duration": 574,
    "start_time": "2024-08-16T16:31:51.627Z"
   },
   {
    "duration": 468,
    "start_time": "2024-08-16T16:33:45.180Z"
   },
   {
    "duration": 476,
    "start_time": "2024-08-16T16:34:03.706Z"
   },
   {
    "duration": 443,
    "start_time": "2024-08-16T16:34:21.133Z"
   },
   {
    "duration": 428,
    "start_time": "2024-08-16T16:34:32.505Z"
   },
   {
    "duration": 1364,
    "start_time": "2024-08-16T16:34:39.005Z"
   },
   {
    "duration": 622,
    "start_time": "2024-08-16T16:34:43.446Z"
   },
   {
    "duration": 1329,
    "start_time": "2024-08-16T16:34:58.837Z"
   },
   {
    "duration": 652,
    "start_time": "2024-08-16T16:35:07.365Z"
   },
   {
    "duration": 466,
    "start_time": "2024-08-16T16:35:14.854Z"
   },
   {
    "duration": 445,
    "start_time": "2024-08-16T16:35:30.507Z"
   },
   {
    "duration": 613,
    "start_time": "2024-08-16T16:36:02.803Z"
   },
   {
    "duration": 462,
    "start_time": "2024-08-16T16:36:17.180Z"
   },
   {
    "duration": 459,
    "start_time": "2024-08-16T16:37:20.756Z"
   },
   {
    "duration": 473,
    "start_time": "2024-08-16T16:38:11.070Z"
   },
   {
    "duration": 513,
    "start_time": "2024-08-16T16:39:47.349Z"
   },
   {
    "duration": 779,
    "start_time": "2024-08-16T16:40:33.292Z"
   },
   {
    "duration": 501,
    "start_time": "2024-08-16T16:43:31.714Z"
   },
   {
    "duration": 552,
    "start_time": "2024-08-16T16:45:06.092Z"
   },
   {
    "duration": 507,
    "start_time": "2024-08-16T16:45:16.639Z"
   },
   {
    "duration": 479,
    "start_time": "2024-08-16T16:45:25.321Z"
   },
   {
    "duration": 486,
    "start_time": "2024-08-16T16:45:32.585Z"
   },
   {
    "duration": 733,
    "start_time": "2024-08-16T16:45:39.441Z"
   },
   {
    "duration": 511,
    "start_time": "2024-08-16T16:45:44.701Z"
   },
   {
    "duration": 473,
    "start_time": "2024-08-16T16:45:56.640Z"
   },
   {
    "duration": 501,
    "start_time": "2024-08-16T16:46:01.221Z"
   },
   {
    "duration": 4376,
    "start_time": "2024-08-16T17:14:09.809Z"
   },
   {
    "duration": 1706,
    "start_time": "2024-08-16T17:14:14.189Z"
   },
   {
    "duration": 37,
    "start_time": "2024-08-16T17:14:15.899Z"
   },
   {
    "duration": 19,
    "start_time": "2024-08-16T17:14:15.940Z"
   },
   {
    "duration": 15,
    "start_time": "2024-08-16T17:14:15.964Z"
   },
   {
    "duration": 53,
    "start_time": "2024-08-16T17:14:15.982Z"
   },
   {
    "duration": 42,
    "start_time": "2024-08-16T17:14:16.037Z"
   },
   {
    "duration": 330,
    "start_time": "2024-08-16T17:14:16.082Z"
   },
   {
    "duration": 23,
    "start_time": "2024-08-16T17:14:16.415Z"
   },
   {
    "duration": 177,
    "start_time": "2024-08-16T17:14:16.442Z"
   },
   {
    "duration": 161,
    "start_time": "2024-08-16T17:14:16.622Z"
   },
   {
    "duration": 12,
    "start_time": "2024-08-16T17:14:16.786Z"
   },
   {
    "duration": 60,
    "start_time": "2024-08-16T17:14:16.800Z"
   },
   {
    "duration": 10,
    "start_time": "2024-08-16T17:14:16.867Z"
   },
   {
    "duration": 55,
    "start_time": "2024-08-16T17:14:16.880Z"
   },
   {
    "duration": 28,
    "start_time": "2024-08-16T17:14:16.938Z"
   },
   {
    "duration": 10,
    "start_time": "2024-08-16T17:14:16.970Z"
   },
   {
    "duration": 49,
    "start_time": "2024-08-16T17:14:16.983Z"
   },
   {
    "duration": 9,
    "start_time": "2024-08-16T17:14:17.035Z"
   },
   {
    "duration": 9,
    "start_time": "2024-08-16T17:14:17.048Z"
   },
   {
    "duration": 2637,
    "start_time": "2024-08-16T17:14:17.060Z"
   },
   {
    "duration": 1296,
    "start_time": "2024-08-16T17:14:19.700Z"
   },
   {
    "duration": 16,
    "start_time": "2024-08-16T17:14:20.999Z"
   },
   {
    "duration": 27,
    "start_time": "2024-08-16T17:14:21.017Z"
   },
   {
    "duration": 14,
    "start_time": "2024-08-16T17:14:21.047Z"
   },
   {
    "duration": 10,
    "start_time": "2024-08-16T17:14:21.064Z"
   },
   {
    "duration": 58,
    "start_time": "2024-08-16T17:14:21.078Z"
   },
   {
    "duration": 9,
    "start_time": "2024-08-16T17:14:21.139Z"
   },
   {
    "duration": 10,
    "start_time": "2024-08-16T17:14:21.151Z"
   },
   {
    "duration": 68,
    "start_time": "2024-08-16T17:14:21.163Z"
   },
   {
    "duration": 53,
    "start_time": "2024-08-16T17:14:21.234Z"
   },
   {
    "duration": 43,
    "start_time": "2024-08-16T17:14:21.290Z"
   },
   {
    "duration": 13,
    "start_time": "2024-08-16T17:14:21.336Z"
   },
   {
    "duration": 863,
    "start_time": "2024-08-16T17:14:21.352Z"
   },
   {
    "duration": 24,
    "start_time": "2024-08-16T17:14:22.218Z"
   },
   {
    "duration": 8,
    "start_time": "2024-08-16T17:14:22.245Z"
   },
   {
    "duration": 430,
    "start_time": "2024-08-16T17:14:22.257Z"
   },
   {
    "duration": 227,
    "start_time": "2024-08-16T17:14:22.690Z"
   },
   {
    "duration": 381,
    "start_time": "2024-08-16T17:14:22.920Z"
   },
   {
    "duration": 321,
    "start_time": "2024-08-16T17:14:23.304Z"
   },
   {
    "duration": 309,
    "start_time": "2024-08-16T17:14:23.637Z"
   },
   {
    "duration": 406,
    "start_time": "2024-08-16T17:14:23.949Z"
   },
   {
    "duration": 279,
    "start_time": "2024-08-16T17:14:24.358Z"
   },
   {
    "duration": 171,
    "start_time": "2024-08-16T17:14:24.640Z"
   },
   {
    "duration": 33,
    "start_time": "2024-08-16T17:14:24.813Z"
   },
   {
    "duration": 430,
    "start_time": "2024-08-16T17:14:24.849Z"
   },
   {
    "duration": 502,
    "start_time": "2024-08-16T17:14:25.282Z"
   },
   {
    "duration": 6,
    "start_time": "2024-08-16T17:14:25.786Z"
   },
   {
    "duration": 590,
    "start_time": "2024-08-16T17:14:25.795Z"
   },
   {
    "duration": 4367,
    "start_time": "2024-08-16T19:42:19.050Z"
   },
   {
    "duration": 1739,
    "start_time": "2024-08-16T19:42:23.421Z"
   },
   {
    "duration": 22,
    "start_time": "2024-08-16T19:42:25.162Z"
   },
   {
    "duration": 35,
    "start_time": "2024-08-16T19:42:25.189Z"
   },
   {
    "duration": 16,
    "start_time": "2024-08-16T19:42:25.227Z"
   },
   {
    "duration": 15,
    "start_time": "2024-08-16T19:42:25.247Z"
   },
   {
    "duration": 80,
    "start_time": "2024-08-16T19:42:25.265Z"
   },
   {
    "duration": 341,
    "start_time": "2024-08-16T19:42:25.349Z"
   },
   {
    "duration": 26,
    "start_time": "2024-08-16T19:42:25.693Z"
   },
   {
    "duration": 188,
    "start_time": "2024-08-16T19:42:25.725Z"
   },
   {
    "duration": 177,
    "start_time": "2024-08-16T19:42:25.916Z"
   },
   {
    "duration": 19,
    "start_time": "2024-08-16T19:42:26.097Z"
   },
   {
    "duration": 35,
    "start_time": "2024-08-16T19:42:26.119Z"
   },
   {
    "duration": 11,
    "start_time": "2024-08-16T19:42:26.157Z"
   },
   {
    "duration": 70,
    "start_time": "2024-08-16T19:42:26.171Z"
   },
   {
    "duration": 26,
    "start_time": "2024-08-16T19:42:26.245Z"
   },
   {
    "duration": 8,
    "start_time": "2024-08-16T19:42:26.273Z"
   },
   {
    "duration": 9,
    "start_time": "2024-08-16T19:42:26.314Z"
   },
   {
    "duration": 9,
    "start_time": "2024-08-16T19:42:26.326Z"
   },
   {
    "duration": 9,
    "start_time": "2024-08-16T19:42:26.338Z"
   },
   {
    "duration": 2696,
    "start_time": "2024-08-16T19:42:26.350Z"
   },
   {
    "duration": 1345,
    "start_time": "2024-08-16T19:42:29.049Z"
   },
   {
    "duration": 25,
    "start_time": "2024-08-16T19:42:30.397Z"
   },
   {
    "duration": 14,
    "start_time": "2024-08-16T19:42:30.425Z"
   },
   {
    "duration": 14,
    "start_time": "2024-08-16T19:42:30.442Z"
   },
   {
    "duration": 13,
    "start_time": "2024-08-16T19:42:30.458Z"
   },
   {
    "duration": 58,
    "start_time": "2024-08-16T19:42:30.473Z"
   },
   {
    "duration": 10,
    "start_time": "2024-08-16T19:42:30.538Z"
   },
   {
    "duration": 10,
    "start_time": "2024-08-16T19:42:30.552Z"
   },
   {
    "duration": 67,
    "start_time": "2024-08-16T19:42:30.568Z"
   },
   {
    "duration": 76,
    "start_time": "2024-08-16T19:42:30.638Z"
   },
   {
    "duration": 14,
    "start_time": "2024-08-16T19:42:30.717Z"
   },
   {
    "duration": 13,
    "start_time": "2024-08-16T19:42:30.734Z"
   },
   {
    "duration": 894,
    "start_time": "2024-08-16T19:42:30.750Z"
   },
   {
    "duration": 7,
    "start_time": "2024-08-16T19:42:31.647Z"
   },
   {
    "duration": 10,
    "start_time": "2024-08-16T19:42:31.665Z"
   },
   {
    "duration": 373,
    "start_time": "2024-08-16T19:42:31.679Z"
   },
   {
    "duration": 287,
    "start_time": "2024-08-16T19:42:32.055Z"
   },
   {
    "duration": 392,
    "start_time": "2024-08-16T19:42:32.345Z"
   },
   {
    "duration": 339,
    "start_time": "2024-08-16T19:42:32.740Z"
   },
   {
    "duration": 338,
    "start_time": "2024-08-16T19:42:33.082Z"
   },
   {
    "duration": 447,
    "start_time": "2024-08-16T19:42:33.424Z"
   },
   {
    "duration": 283,
    "start_time": "2024-08-16T19:42:33.874Z"
   },
   {
    "duration": 179,
    "start_time": "2024-08-16T19:42:34.160Z"
   },
   {
    "duration": 24,
    "start_time": "2024-08-16T19:42:34.341Z"
   },
   {
    "duration": 441,
    "start_time": "2024-08-16T19:42:34.368Z"
   },
   {
    "duration": 557,
    "start_time": "2024-08-16T19:42:34.812Z"
   },
   {
    "duration": 5,
    "start_time": "2024-08-16T19:42:35.373Z"
   },
   {
    "duration": 540,
    "start_time": "2024-08-16T19:42:35.381Z"
   },
   {
    "duration": 479,
    "start_time": "2024-08-16T19:45:02.960Z"
   },
   {
    "duration": 270,
    "start_time": "2024-08-16T19:45:31.478Z"
   },
   {
    "duration": 263,
    "start_time": "2024-08-16T19:45:36.987Z"
   },
   {
    "duration": 259,
    "start_time": "2024-08-16T19:45:48.262Z"
   },
   {
    "duration": 254,
    "start_time": "2024-08-16T19:45:55.867Z"
   },
   {
    "duration": 276,
    "start_time": "2024-08-16T19:46:09.796Z"
   },
   {
    "duration": 286,
    "start_time": "2024-08-16T19:46:15.980Z"
   },
   {
    "duration": 259,
    "start_time": "2024-08-16T19:46:24.149Z"
   },
   {
    "duration": 564,
    "start_time": "2024-08-16T19:50:33.186Z"
   },
   {
    "duration": 6,
    "start_time": "2024-08-16T19:53:00.995Z"
   },
   {
    "duration": 126,
    "start_time": "2024-08-16T19:53:18.960Z"
   },
   {
    "duration": 452,
    "start_time": "2024-08-16T19:55:47.735Z"
   },
   {
    "duration": 443,
    "start_time": "2024-08-16T19:57:02.414Z"
   },
   {
    "duration": 9,
    "start_time": "2024-08-16T19:57:35.737Z"
   },
   {
    "duration": 410,
    "start_time": "2024-08-16T19:57:40.944Z"
   },
   {
    "duration": 4,
    "start_time": "2024-08-16T22:07:30.727Z"
   },
   {
    "duration": 1535,
    "start_time": "2024-08-16T22:07:30.735Z"
   },
   {
    "duration": 20,
    "start_time": "2024-08-16T22:07:32.272Z"
   },
   {
    "duration": 31,
    "start_time": "2024-08-16T22:07:32.295Z"
   },
   {
    "duration": 17,
    "start_time": "2024-08-16T22:07:32.329Z"
   },
   {
    "duration": 17,
    "start_time": "2024-08-16T22:07:32.351Z"
   },
   {
    "duration": 39,
    "start_time": "2024-08-16T22:07:32.414Z"
   },
   {
    "duration": 404,
    "start_time": "2024-08-16T22:07:32.456Z"
   },
   {
    "duration": 12,
    "start_time": "2024-08-16T22:07:32.865Z"
   },
   {
    "duration": 201,
    "start_time": "2024-08-16T22:07:32.880Z"
   },
   {
    "duration": 162,
    "start_time": "2024-08-16T22:07:33.084Z"
   },
   {
    "duration": 11,
    "start_time": "2024-08-16T22:07:33.249Z"
   },
   {
    "duration": 64,
    "start_time": "2024-08-16T22:07:33.263Z"
   },
   {
    "duration": 10,
    "start_time": "2024-08-16T22:07:33.329Z"
   },
   {
    "duration": 37,
    "start_time": "2024-08-16T22:07:33.342Z"
   },
   {
    "duration": 57,
    "start_time": "2024-08-16T22:07:33.382Z"
   },
   {
    "duration": 8,
    "start_time": "2024-08-16T22:07:33.441Z"
   },
   {
    "duration": 9,
    "start_time": "2024-08-16T22:07:33.452Z"
   },
   {
    "duration": 10,
    "start_time": "2024-08-16T22:07:33.465Z"
   },
   {
    "duration": 11,
    "start_time": "2024-08-16T22:07:33.515Z"
   },
   {
    "duration": 2668,
    "start_time": "2024-08-16T22:07:33.529Z"
   },
   {
    "duration": 1333,
    "start_time": "2024-08-16T22:07:36.200Z"
   },
   {
    "duration": 17,
    "start_time": "2024-08-16T22:07:37.535Z"
   },
   {
    "duration": 13,
    "start_time": "2024-08-16T22:07:37.560Z"
   },
   {
    "duration": 46,
    "start_time": "2024-08-16T22:07:37.577Z"
   },
   {
    "duration": 12,
    "start_time": "2024-08-16T22:07:37.626Z"
   },
   {
    "duration": 19,
    "start_time": "2024-08-16T22:07:37.640Z"
   },
   {
    "duration": 50,
    "start_time": "2024-08-16T22:07:37.662Z"
   },
   {
    "duration": 9,
    "start_time": "2024-08-16T22:07:37.716Z"
   },
   {
    "duration": 27,
    "start_time": "2024-08-16T22:07:37.728Z"
   },
   {
    "duration": 87,
    "start_time": "2024-08-16T22:07:37.759Z"
   },
   {
    "duration": 15,
    "start_time": "2024-08-16T22:07:37.849Z"
   },
   {
    "duration": 12,
    "start_time": "2024-08-16T22:07:37.867Z"
   },
   {
    "duration": 861,
    "start_time": "2024-08-16T22:07:37.913Z"
   },
   {
    "duration": 7,
    "start_time": "2024-08-16T22:07:38.777Z"
   },
   {
    "duration": 28,
    "start_time": "2024-08-16T22:07:38.787Z"
   },
   {
    "duration": 341,
    "start_time": "2024-08-16T22:07:38.818Z"
   },
   {
    "duration": 231,
    "start_time": "2024-08-16T22:07:39.162Z"
   },
   {
    "duration": 383,
    "start_time": "2024-08-16T22:07:39.396Z"
   },
   {
    "duration": 317,
    "start_time": "2024-08-16T22:07:39.782Z"
   },
   {
    "duration": 343,
    "start_time": "2024-08-16T22:07:40.104Z"
   },
   {
    "duration": 421,
    "start_time": "2024-08-16T22:07:40.450Z"
   },
   {
    "duration": 287,
    "start_time": "2024-08-16T22:07:40.875Z"
   },
   {
    "duration": 172,
    "start_time": "2024-08-16T22:07:41.165Z"
   },
   {
    "duration": 26,
    "start_time": "2024-08-16T22:07:41.340Z"
   },
   {
    "duration": 423,
    "start_time": "2024-08-16T22:07:41.369Z"
   },
   {
    "duration": 537,
    "start_time": "2024-08-16T22:07:41.795Z"
   },
   {
    "duration": 6,
    "start_time": "2024-08-16T22:07:42.334Z"
   },
   {
    "duration": 605,
    "start_time": "2024-08-16T22:07:42.344Z"
   },
   {
    "duration": 540,
    "start_time": "2024-08-16T22:07:42.952Z"
   },
   {
    "duration": 133,
    "start_time": "2024-08-16T22:07:43.495Z"
   },
   {
    "duration": 429,
    "start_time": "2024-08-16T22:07:43.631Z"
   },
   {
    "duration": 211,
    "start_time": "2024-08-16T22:14:11.953Z"
   },
   {
    "duration": 370,
    "start_time": "2024-08-16T22:14:37.282Z"
   },
   {
    "duration": 229,
    "start_time": "2024-08-16T22:14:47.115Z"
   },
   {
    "duration": 220,
    "start_time": "2024-08-16T22:14:59.322Z"
   },
   {
    "duration": 236,
    "start_time": "2024-08-16T22:15:14.409Z"
   },
   {
    "duration": 219,
    "start_time": "2024-08-16T22:15:24.557Z"
   },
   {
    "duration": 227,
    "start_time": "2024-08-16T22:15:41.229Z"
   },
   {
    "duration": 203,
    "start_time": "2024-08-16T22:16:07.958Z"
   },
   {
    "duration": 3,
    "start_time": "2024-08-16T22:17:00.420Z"
   },
   {
    "duration": 132,
    "start_time": "2024-08-16T22:17:30.152Z"
   },
   {
    "duration": 110,
    "start_time": "2024-08-16T22:23:34.603Z"
   },
   {
    "duration": 101,
    "start_time": "2024-08-16T22:23:41.701Z"
   },
   {
    "duration": 281,
    "start_time": "2024-08-16T22:25:47.388Z"
   },
   {
    "duration": 689,
    "start_time": "2024-08-16T22:28:19.051Z"
   },
   {
    "duration": 1738,
    "start_time": "2024-08-16T22:28:19.743Z"
   },
   {
    "duration": 42,
    "start_time": "2024-08-16T22:28:21.483Z"
   },
   {
    "duration": 21,
    "start_time": "2024-08-16T22:28:21.530Z"
   },
   {
    "duration": 16,
    "start_time": "2024-08-16T22:28:21.555Z"
   },
   {
    "duration": 50,
    "start_time": "2024-08-16T22:28:21.575Z"
   },
   {
    "duration": 41,
    "start_time": "2024-08-16T22:28:21.629Z"
   },
   {
    "duration": 343,
    "start_time": "2024-08-16T22:28:21.673Z"
   },
   {
    "duration": 13,
    "start_time": "2024-08-16T22:28:22.019Z"
   },
   {
    "duration": 192,
    "start_time": "2024-08-16T22:28:22.041Z"
   },
   {
    "duration": 164,
    "start_time": "2024-08-16T22:28:22.236Z"
   },
   {
    "duration": 18,
    "start_time": "2024-08-16T22:28:22.403Z"
   },
   {
    "duration": 36,
    "start_time": "2024-08-16T22:28:22.424Z"
   },
   {
    "duration": 9,
    "start_time": "2024-08-16T22:28:22.463Z"
   },
   {
    "duration": 71,
    "start_time": "2024-08-16T22:28:22.475Z"
   },
   {
    "duration": 32,
    "start_time": "2024-08-16T22:28:22.548Z"
   },
   {
    "duration": 32,
    "start_time": "2024-08-16T22:28:22.583Z"
   },
   {
    "duration": 9,
    "start_time": "2024-08-16T22:28:22.618Z"
   },
   {
    "duration": 8,
    "start_time": "2024-08-16T22:28:22.631Z"
   },
   {
    "duration": 8,
    "start_time": "2024-08-16T22:28:22.642Z"
   },
   {
    "duration": 2720,
    "start_time": "2024-08-16T22:28:22.653Z"
   },
   {
    "duration": 1348,
    "start_time": "2024-08-16T22:28:25.376Z"
   },
   {
    "duration": 16,
    "start_time": "2024-08-16T22:28:26.727Z"
   },
   {
    "duration": 13,
    "start_time": "2024-08-16T22:28:26.746Z"
   },
   {
    "duration": 55,
    "start_time": "2024-08-16T22:28:26.763Z"
   },
   {
    "duration": 10,
    "start_time": "2024-08-16T22:28:26.820Z"
   },
   {
    "duration": 19,
    "start_time": "2024-08-16T22:28:26.834Z"
   },
   {
    "duration": 9,
    "start_time": "2024-08-16T22:28:26.862Z"
   },
   {
    "duration": 46,
    "start_time": "2024-08-16T22:28:26.873Z"
   },
   {
    "duration": 26,
    "start_time": "2024-08-16T22:28:26.922Z"
   },
   {
    "duration": 81,
    "start_time": "2024-08-16T22:28:26.951Z"
   },
   {
    "duration": 15,
    "start_time": "2024-08-16T22:28:27.035Z"
   },
   {
    "duration": 12,
    "start_time": "2024-08-16T22:28:27.053Z"
   },
   {
    "duration": 888,
    "start_time": "2024-08-16T22:28:27.068Z"
   },
   {
    "duration": 8,
    "start_time": "2024-08-16T22:28:27.959Z"
   },
   {
    "duration": 8,
    "start_time": "2024-08-16T22:28:27.970Z"
   },
   {
    "duration": 361,
    "start_time": "2024-08-16T22:28:28.012Z"
   },
   {
    "duration": 228,
    "start_time": "2024-08-16T22:28:28.376Z"
   },
   {
    "duration": 387,
    "start_time": "2024-08-16T22:28:28.607Z"
   },
   {
    "duration": 319,
    "start_time": "2024-08-16T22:28:28.998Z"
   },
   {
    "duration": 323,
    "start_time": "2024-08-16T22:28:29.320Z"
   },
   {
    "duration": 415,
    "start_time": "2024-08-16T22:28:29.646Z"
   },
   {
    "duration": 269,
    "start_time": "2024-08-16T22:28:30.064Z"
   },
   {
    "duration": 176,
    "start_time": "2024-08-16T22:28:30.336Z"
   },
   {
    "duration": 25,
    "start_time": "2024-08-16T22:28:30.515Z"
   },
   {
    "duration": 429,
    "start_time": "2024-08-16T22:28:30.544Z"
   },
   {
    "duration": 524,
    "start_time": "2024-08-16T22:28:30.978Z"
   },
   {
    "duration": 10,
    "start_time": "2024-08-16T22:28:31.504Z"
   },
   {
    "duration": 597,
    "start_time": "2024-08-16T22:28:31.518Z"
   },
   {
    "duration": 519,
    "start_time": "2024-08-16T22:28:32.118Z"
   },
   {
    "duration": 132,
    "start_time": "2024-08-16T22:28:32.640Z"
   },
   {
    "duration": 467,
    "start_time": "2024-08-16T22:28:32.775Z"
   },
   {
    "duration": 4,
    "start_time": "2024-08-16T22:28:33.246Z"
   },
   {
    "duration": 238,
    "start_time": "2024-08-16T22:28:33.254Z"
   },
   {
    "duration": 639,
    "start_time": "2024-08-16T22:41:20.672Z"
   },
   {
    "duration": 1754,
    "start_time": "2024-08-16T22:41:21.314Z"
   },
   {
    "duration": 4,
    "start_time": "2024-08-16T22:41:32.792Z"
   },
   {
    "duration": 1521,
    "start_time": "2024-08-16T22:41:33.128Z"
   },
   {
    "duration": 22,
    "start_time": "2024-08-16T22:41:34.653Z"
   },
   {
    "duration": 4,
    "start_time": "2024-08-16T22:41:42.627Z"
   },
   {
    "duration": 1493,
    "start_time": "2024-08-16T22:41:42.635Z"
   },
   {
    "duration": 20,
    "start_time": "2024-08-16T22:41:44.130Z"
   },
   {
    "duration": 20,
    "start_time": "2024-08-16T22:41:44.153Z"
   },
   {
    "duration": 49,
    "start_time": "2024-08-16T22:41:44.177Z"
   },
   {
    "duration": 20,
    "start_time": "2024-08-16T22:41:44.228Z"
   },
   {
    "duration": 82,
    "start_time": "2024-08-16T22:41:44.251Z"
   },
   {
    "duration": 319,
    "start_time": "2024-08-16T22:41:44.337Z"
   },
   {
    "duration": 16,
    "start_time": "2024-08-16T22:41:44.659Z"
   },
   {
    "duration": 196,
    "start_time": "2024-08-16T22:41:44.678Z"
   },
   {
    "duration": 165,
    "start_time": "2024-08-16T22:41:44.878Z"
   },
   {
    "duration": 13,
    "start_time": "2024-08-16T22:41:45.047Z"
   },
   {
    "duration": 71,
    "start_time": "2024-08-16T22:41:45.062Z"
   },
   {
    "duration": 9,
    "start_time": "2024-08-16T22:41:45.141Z"
   },
   {
    "duration": 62,
    "start_time": "2024-08-16T22:41:45.153Z"
   },
   {
    "duration": 29,
    "start_time": "2024-08-16T22:41:45.219Z"
   },
   {
    "duration": 8,
    "start_time": "2024-08-16T22:41:45.251Z"
   },
   {
    "duration": 53,
    "start_time": "2024-08-16T22:41:45.263Z"
   },
   {
    "duration": 8,
    "start_time": "2024-08-16T22:41:45.320Z"
   },
   {
    "duration": 10,
    "start_time": "2024-08-16T22:41:45.331Z"
   },
   {
    "duration": 2719,
    "start_time": "2024-08-16T22:41:45.345Z"
   },
   {
    "duration": 1340,
    "start_time": "2024-08-16T22:41:48.066Z"
   },
   {
    "duration": 16,
    "start_time": "2024-08-16T22:41:49.412Z"
   },
   {
    "duration": 14,
    "start_time": "2024-08-16T22:41:49.431Z"
   },
   {
    "duration": 15,
    "start_time": "2024-08-16T22:41:49.448Z"
   },
   {
    "duration": 11,
    "start_time": "2024-08-16T22:41:49.514Z"
   },
   {
    "duration": 23,
    "start_time": "2024-08-16T22:41:49.528Z"
   },
   {
    "duration": 13,
    "start_time": "2024-08-16T22:41:49.554Z"
   },
   {
    "duration": 10,
    "start_time": "2024-08-16T22:41:49.613Z"
   },
   {
    "duration": 28,
    "start_time": "2024-08-16T22:41:49.626Z"
   },
   {
    "duration": 88,
    "start_time": "2024-08-16T22:41:49.657Z"
   },
   {
    "duration": 13,
    "start_time": "2024-08-16T22:41:49.749Z"
   },
   {
    "duration": 48,
    "start_time": "2024-08-16T22:41:49.765Z"
   },
   {
    "duration": 845,
    "start_time": "2024-08-16T22:41:49.816Z"
   },
   {
    "duration": 7,
    "start_time": "2024-08-16T22:41:50.663Z"
   },
   {
    "duration": 7,
    "start_time": "2024-08-16T22:41:50.674Z"
   },
   {
    "duration": 400,
    "start_time": "2024-08-16T22:41:50.711Z"
   },
   {
    "duration": 225,
    "start_time": "2024-08-16T22:41:51.115Z"
   },
   {
    "duration": 390,
    "start_time": "2024-08-16T22:41:51.343Z"
   },
   {
    "duration": 317,
    "start_time": "2024-08-16T22:41:51.737Z"
   },
   {
    "duration": 323,
    "start_time": "2024-08-16T22:41:52.066Z"
   },
   {
    "duration": 410,
    "start_time": "2024-08-16T22:41:52.393Z"
   },
   {
    "duration": 285,
    "start_time": "2024-08-16T22:41:52.805Z"
   },
   {
    "duration": 195,
    "start_time": "2024-08-16T22:41:53.093Z"
   },
   {
    "duration": 36,
    "start_time": "2024-08-16T22:41:53.292Z"
   },
   {
    "duration": 498,
    "start_time": "2024-08-16T22:41:53.331Z"
   },
   {
    "duration": 529,
    "start_time": "2024-08-16T22:41:53.833Z"
   },
   {
    "duration": 6,
    "start_time": "2024-08-16T22:41:54.365Z"
   },
   {
    "duration": 521,
    "start_time": "2024-08-16T22:41:54.374Z"
   },
   {
    "duration": 527,
    "start_time": "2024-08-16T22:41:54.898Z"
   },
   {
    "duration": 147,
    "start_time": "2024-08-16T22:41:55.428Z"
   },
   {
    "duration": 421,
    "start_time": "2024-08-16T22:41:55.578Z"
   },
   {
    "duration": 13,
    "start_time": "2024-08-16T22:41:56.002Z"
   },
   {
    "duration": 236,
    "start_time": "2024-08-16T22:41:56.018Z"
   },
   {
    "duration": 0,
    "start_time": "2024-08-16T22:53:59.131Z"
   },
   {
    "duration": 745,
    "start_time": "2024-08-16T22:54:01.194Z"
   },
   {
    "duration": 1388,
    "start_time": "2024-08-16T22:56:30.351Z"
   },
   {
    "duration": 1679,
    "start_time": "2024-08-16T22:56:31.743Z"
   },
   {
    "duration": 25,
    "start_time": "2024-08-16T22:56:33.425Z"
   },
   {
    "duration": 19,
    "start_time": "2024-08-16T22:56:33.455Z"
   },
   {
    "duration": 50,
    "start_time": "2024-08-16T22:56:33.477Z"
   },
   {
    "duration": 15,
    "start_time": "2024-08-16T22:56:33.531Z"
   },
   {
    "duration": 81,
    "start_time": "2024-08-16T22:56:33.550Z"
   },
   {
    "duration": 367,
    "start_time": "2024-08-16T22:56:33.634Z"
   },
   {
    "duration": 20,
    "start_time": "2024-08-16T22:56:34.004Z"
   },
   {
    "duration": 200,
    "start_time": "2024-08-16T22:56:34.031Z"
   },
   {
    "duration": 183,
    "start_time": "2024-08-16T22:56:34.234Z"
   },
   {
    "duration": 12,
    "start_time": "2024-08-16T22:56:34.420Z"
   },
   {
    "duration": 39,
    "start_time": "2024-08-16T22:56:34.435Z"
   },
   {
    "duration": 10,
    "start_time": "2024-08-16T22:56:34.513Z"
   },
   {
    "duration": 38,
    "start_time": "2024-08-16T22:56:34.526Z"
   },
   {
    "duration": 68,
    "start_time": "2024-08-16T22:56:34.567Z"
   },
   {
    "duration": 8,
    "start_time": "2024-08-16T22:56:34.638Z"
   },
   {
    "duration": 9,
    "start_time": "2024-08-16T22:56:34.650Z"
   },
   {
    "duration": 9,
    "start_time": "2024-08-16T22:56:34.662Z"
   },
   {
    "duration": 9,
    "start_time": "2024-08-16T22:56:34.714Z"
   },
   {
    "duration": 2663,
    "start_time": "2024-08-16T22:56:34.726Z"
   },
   {
    "duration": 1328,
    "start_time": "2024-08-16T22:56:37.392Z"
   },
   {
    "duration": 17,
    "start_time": "2024-08-16T22:56:38.723Z"
   },
   {
    "duration": 15,
    "start_time": "2024-08-16T22:56:38.743Z"
   },
   {
    "duration": 52,
    "start_time": "2024-08-16T22:56:38.761Z"
   },
   {
    "duration": 13,
    "start_time": "2024-08-16T22:56:38.816Z"
   },
   {
    "duration": 20,
    "start_time": "2024-08-16T22:56:38.833Z"
   },
   {
    "duration": 55,
    "start_time": "2024-08-16T22:56:38.862Z"
   },
   {
    "duration": 8,
    "start_time": "2024-08-16T22:56:38.921Z"
   },
   {
    "duration": 28,
    "start_time": "2024-08-16T22:56:38.932Z"
   },
   {
    "duration": 90,
    "start_time": "2024-08-16T22:56:38.963Z"
   },
   {
    "duration": 14,
    "start_time": "2024-08-16T22:56:39.056Z"
   },
   {
    "duration": 44,
    "start_time": "2024-08-16T22:56:39.073Z"
   },
   {
    "duration": 893,
    "start_time": "2024-08-16T22:56:39.120Z"
   },
   {
    "duration": 7,
    "start_time": "2024-08-16T22:56:40.016Z"
   },
   {
    "duration": 7,
    "start_time": "2024-08-16T22:56:40.025Z"
   },
   {
    "duration": 396,
    "start_time": "2024-08-16T22:56:40.035Z"
   },
   {
    "duration": 224,
    "start_time": "2024-08-16T22:56:40.434Z"
   },
   {
    "duration": 459,
    "start_time": "2024-08-16T22:56:40.661Z"
   },
   {
    "duration": 325,
    "start_time": "2024-08-16T22:56:41.124Z"
   },
   {
    "duration": 322,
    "start_time": "2024-08-16T22:56:41.451Z"
   },
   {
    "duration": 428,
    "start_time": "2024-08-16T22:56:41.776Z"
   },
   {
    "duration": 277,
    "start_time": "2024-08-16T22:56:42.207Z"
   },
   {
    "duration": 176,
    "start_time": "2024-08-16T22:56:42.488Z"
   },
   {
    "duration": 25,
    "start_time": "2024-08-16T22:56:42.666Z"
   },
   {
    "duration": 467,
    "start_time": "2024-08-16T22:56:42.694Z"
   },
   {
    "duration": 518,
    "start_time": "2024-08-16T22:56:43.164Z"
   },
   {
    "duration": 5,
    "start_time": "2024-08-16T22:56:43.686Z"
   },
   {
    "duration": 535,
    "start_time": "2024-08-16T22:56:43.694Z"
   },
   {
    "duration": 560,
    "start_time": "2024-08-16T22:56:44.232Z"
   },
   {
    "duration": 140,
    "start_time": "2024-08-16T22:56:44.795Z"
   },
   {
    "duration": 435,
    "start_time": "2024-08-16T22:56:44.938Z"
   },
   {
    "duration": 4,
    "start_time": "2024-08-16T22:56:45.376Z"
   },
   {
    "duration": 249,
    "start_time": "2024-08-16T22:56:45.383Z"
   },
   {
    "duration": 5416,
    "start_time": "2024-08-17T23:54:47.934Z"
   },
   {
    "duration": 1168,
    "start_time": "2024-08-17T23:54:53.354Z"
   },
   {
    "duration": 0,
    "start_time": "2024-08-17T23:54:54.534Z"
   },
   {
    "duration": 0,
    "start_time": "2024-08-17T23:54:54.537Z"
   },
   {
    "duration": 0,
    "start_time": "2024-08-17T23:54:54.540Z"
   },
   {
    "duration": 0,
    "start_time": "2024-08-17T23:54:54.542Z"
   },
   {
    "duration": 0,
    "start_time": "2024-08-17T23:54:54.544Z"
   },
   {
    "duration": 0,
    "start_time": "2024-08-17T23:54:54.546Z"
   },
   {
    "duration": 0,
    "start_time": "2024-08-17T23:54:54.547Z"
   },
   {
    "duration": 0,
    "start_time": "2024-08-17T23:54:54.550Z"
   },
   {
    "duration": 0,
    "start_time": "2024-08-17T23:54:54.551Z"
   },
   {
    "duration": 0,
    "start_time": "2024-08-17T23:54:54.553Z"
   },
   {
    "duration": 0,
    "start_time": "2024-08-17T23:54:54.555Z"
   },
   {
    "duration": 0,
    "start_time": "2024-08-17T23:54:54.556Z"
   },
   {
    "duration": 0,
    "start_time": "2024-08-17T23:54:54.558Z"
   },
   {
    "duration": 0,
    "start_time": "2024-08-17T23:54:54.561Z"
   },
   {
    "duration": 0,
    "start_time": "2024-08-17T23:54:54.562Z"
   },
   {
    "duration": 0,
    "start_time": "2024-08-17T23:54:54.565Z"
   },
   {
    "duration": 0,
    "start_time": "2024-08-17T23:54:54.568Z"
   },
   {
    "duration": 0,
    "start_time": "2024-08-17T23:54:54.570Z"
   },
   {
    "duration": 0,
    "start_time": "2024-08-17T23:54:54.573Z"
   },
   {
    "duration": 0,
    "start_time": "2024-08-17T23:54:54.575Z"
   },
   {
    "duration": 0,
    "start_time": "2024-08-17T23:54:54.638Z"
   },
   {
    "duration": 0,
    "start_time": "2024-08-17T23:54:54.641Z"
   },
   {
    "duration": 0,
    "start_time": "2024-08-17T23:54:54.643Z"
   },
   {
    "duration": 0,
    "start_time": "2024-08-17T23:54:54.646Z"
   },
   {
    "duration": 0,
    "start_time": "2024-08-17T23:54:54.648Z"
   },
   {
    "duration": 0,
    "start_time": "2024-08-17T23:54:54.650Z"
   },
   {
    "duration": 0,
    "start_time": "2024-08-17T23:54:54.652Z"
   },
   {
    "duration": 0,
    "start_time": "2024-08-17T23:54:54.656Z"
   },
   {
    "duration": 0,
    "start_time": "2024-08-17T23:54:54.658Z"
   },
   {
    "duration": 0,
    "start_time": "2024-08-17T23:54:54.661Z"
   },
   {
    "duration": 0,
    "start_time": "2024-08-17T23:54:54.663Z"
   },
   {
    "duration": 0,
    "start_time": "2024-08-17T23:54:54.665Z"
   },
   {
    "duration": 0,
    "start_time": "2024-08-17T23:54:54.668Z"
   },
   {
    "duration": 0,
    "start_time": "2024-08-17T23:54:54.671Z"
   },
   {
    "duration": 0,
    "start_time": "2024-08-17T23:54:54.673Z"
   },
   {
    "duration": 0,
    "start_time": "2024-08-17T23:54:54.734Z"
   },
   {
    "duration": 0,
    "start_time": "2024-08-17T23:54:54.737Z"
   },
   {
    "duration": 0,
    "start_time": "2024-08-17T23:54:54.739Z"
   },
   {
    "duration": 0,
    "start_time": "2024-08-17T23:54:54.745Z"
   },
   {
    "duration": 0,
    "start_time": "2024-08-17T23:54:54.747Z"
   },
   {
    "duration": 0,
    "start_time": "2024-08-17T23:54:54.750Z"
   },
   {
    "duration": 0,
    "start_time": "2024-08-17T23:54:54.753Z"
   },
   {
    "duration": 0,
    "start_time": "2024-08-17T23:54:54.755Z"
   },
   {
    "duration": 0,
    "start_time": "2024-08-17T23:54:54.758Z"
   },
   {
    "duration": 0,
    "start_time": "2024-08-17T23:54:54.760Z"
   },
   {
    "duration": 0,
    "start_time": "2024-08-17T23:54:54.762Z"
   },
   {
    "duration": 0,
    "start_time": "2024-08-17T23:54:54.765Z"
   },
   {
    "duration": 0,
    "start_time": "2024-08-17T23:54:54.767Z"
   },
   {
    "duration": 1,
    "start_time": "2024-08-17T23:54:54.769Z"
   },
   {
    "duration": 0,
    "start_time": "2024-08-17T23:54:54.772Z"
   },
   {
    "duration": 0,
    "start_time": "2024-08-17T23:54:54.835Z"
   },
   {
    "duration": 0,
    "start_time": "2024-08-17T23:54:54.841Z"
   },
   {
    "duration": 0,
    "start_time": "2024-08-17T23:54:54.843Z"
   },
   {
    "duration": 0,
    "start_time": "2024-08-17T23:54:54.846Z"
   },
   {
    "duration": 0,
    "start_time": "2024-08-17T23:54:54.849Z"
   },
   {
    "duration": 1652,
    "start_time": "2024-08-18T00:15:40.957Z"
   },
   {
    "duration": 1720,
    "start_time": "2024-08-18T00:16:38.426Z"
   },
   {
    "duration": 22,
    "start_time": "2024-08-18T00:16:40.151Z"
   },
   {
    "duration": 23,
    "start_time": "2024-08-18T00:16:40.176Z"
   },
   {
    "duration": 46,
    "start_time": "2024-08-18T00:16:40.203Z"
   },
   {
    "duration": 17,
    "start_time": "2024-08-18T00:16:40.252Z"
   },
   {
    "duration": 78,
    "start_time": "2024-08-18T00:16:40.272Z"
   },
   {
    "duration": 342,
    "start_time": "2024-08-18T00:16:40.353Z"
   },
   {
    "duration": 54,
    "start_time": "2024-08-18T00:16:40.699Z"
   },
   {
    "duration": 188,
    "start_time": "2024-08-18T00:16:40.758Z"
   },
   {
    "duration": 166,
    "start_time": "2024-08-18T00:16:40.952Z"
   },
   {
    "duration": 19,
    "start_time": "2024-08-18T00:16:41.121Z"
   },
   {
    "duration": 36,
    "start_time": "2024-08-18T00:16:41.143Z"
   },
   {
    "duration": 10,
    "start_time": "2024-08-18T00:16:41.182Z"
   },
   {
    "duration": 70,
    "start_time": "2024-08-18T00:16:41.194Z"
   },
   {
    "duration": 27,
    "start_time": "2024-08-18T00:16:41.267Z"
   },
   {
    "duration": 8,
    "start_time": "2024-08-18T00:16:41.297Z"
   },
   {
    "duration": 9,
    "start_time": "2024-08-18T00:16:41.336Z"
   },
   {
    "duration": 10,
    "start_time": "2024-08-18T00:16:41.347Z"
   },
   {
    "duration": 9,
    "start_time": "2024-08-18T00:16:41.359Z"
   },
   {
    "duration": 2616,
    "start_time": "2024-08-18T00:16:41.371Z"
   },
   {
    "duration": 1281,
    "start_time": "2024-08-18T00:16:43.989Z"
   },
   {
    "duration": 17,
    "start_time": "2024-08-18T00:16:45.273Z"
   },
   {
    "duration": 42,
    "start_time": "2024-08-18T00:16:45.292Z"
   },
   {
    "duration": 14,
    "start_time": "2024-08-18T00:16:45.337Z"
   },
   {
    "duration": 12,
    "start_time": "2024-08-18T00:16:45.354Z"
   },
   {
    "duration": 18,
    "start_time": "2024-08-18T00:16:45.370Z"
   },
   {
    "duration": 50,
    "start_time": "2024-08-18T00:16:45.391Z"
   },
   {
    "duration": 10,
    "start_time": "2024-08-18T00:16:45.449Z"
   },
   {
    "duration": 26,
    "start_time": "2024-08-18T00:16:45.462Z"
   },
   {
    "duration": 86,
    "start_time": "2024-08-18T00:16:45.492Z"
   },
   {
    "duration": 14,
    "start_time": "2024-08-18T00:16:45.581Z"
   },
   {
    "duration": 36,
    "start_time": "2024-08-18T00:16:45.598Z"
   },
   {
    "duration": 885,
    "start_time": "2024-08-18T00:16:45.637Z"
   },
   {
    "duration": 15,
    "start_time": "2024-08-18T00:16:46.525Z"
   },
   {
    "duration": 8,
    "start_time": "2024-08-18T00:16:46.543Z"
   },
   {
    "duration": 384,
    "start_time": "2024-08-18T00:16:46.555Z"
   },
   {
    "duration": 219,
    "start_time": "2024-08-18T00:16:46.945Z"
   },
   {
    "duration": 384,
    "start_time": "2024-08-18T00:16:47.167Z"
   },
   {
    "duration": 324,
    "start_time": "2024-08-18T00:16:47.554Z"
   },
   {
    "duration": 324,
    "start_time": "2024-08-18T00:16:47.881Z"
   },
   {
    "duration": 511,
    "start_time": "2024-08-18T00:16:48.208Z"
   },
   {
    "duration": 285,
    "start_time": "2024-08-18T00:16:48.723Z"
   },
   {
    "duration": 176,
    "start_time": "2024-08-18T00:16:49.013Z"
   },
   {
    "duration": 25,
    "start_time": "2024-08-18T00:16:49.192Z"
   },
   {
    "duration": 547,
    "start_time": "2024-08-18T00:16:49.220Z"
   },
   {
    "duration": 532,
    "start_time": "2024-08-18T00:16:49.770Z"
   },
   {
    "duration": 5,
    "start_time": "2024-08-18T00:16:50.306Z"
   },
   {
    "duration": 550,
    "start_time": "2024-08-18T00:16:50.317Z"
   },
   {
    "duration": 519,
    "start_time": "2024-08-18T00:16:50.871Z"
   },
   {
    "duration": 182,
    "start_time": "2024-08-18T00:16:51.393Z"
   },
   {
    "duration": 507,
    "start_time": "2024-08-18T00:16:51.578Z"
   },
   {
    "duration": 4,
    "start_time": "2024-08-18T00:16:52.088Z"
   },
   {
    "duration": 259,
    "start_time": "2024-08-18T00:16:52.095Z"
   },
   {
    "duration": 350,
    "start_time": "2024-08-18T00:16:52.357Z"
   },
   {
    "duration": 1803,
    "start_time": "2024-08-18T00:16:52.710Z"
   },
   {
    "duration": 21,
    "start_time": "2024-08-18T00:16:54.516Z"
   },
   {
    "duration": 426,
    "start_time": "2024-08-18T00:17:29.499Z"
   },
   {
    "duration": 429,
    "start_time": "2024-08-18T00:18:36.033Z"
   },
   {
    "duration": 4852,
    "start_time": "2024-08-20T15:17:32.025Z"
   },
   {
    "duration": 1706,
    "start_time": "2024-08-20T15:19:05.285Z"
   },
   {
    "duration": 31,
    "start_time": "2024-08-20T15:20:41.631Z"
   },
   {
    "duration": 22,
    "start_time": "2024-08-20T15:20:58.577Z"
   },
   {
    "duration": 20,
    "start_time": "2024-08-20T15:21:05.584Z"
   },
   {
    "duration": 20,
    "start_time": "2024-08-20T15:21:16.295Z"
   },
   {
    "duration": 60,
    "start_time": "2024-08-20T15:21:26.143Z"
   },
   {
    "duration": 306,
    "start_time": "2024-08-20T15:24:35.667Z"
   },
   {
    "duration": 295,
    "start_time": "2024-08-20T15:24:42.151Z"
   },
   {
    "duration": 25,
    "start_time": "2024-08-20T15:25:41.865Z"
   },
   {
    "duration": 169,
    "start_time": "2024-08-20T15:26:07.986Z"
   },
   {
    "duration": 150,
    "start_time": "2024-08-20T15:26:21.249Z"
   },
   {
    "duration": 18,
    "start_time": "2024-08-20T15:26:39.071Z"
   },
   {
    "duration": 37,
    "start_time": "2024-08-20T15:28:00.086Z"
   },
   {
    "duration": 9,
    "start_time": "2024-08-20T15:28:07.703Z"
   },
   {
    "duration": 37,
    "start_time": "2024-08-20T15:28:09.501Z"
   },
   {
    "duration": 29,
    "start_time": "2024-08-20T15:28:16.091Z"
   },
   {
    "duration": 9,
    "start_time": "2024-08-20T15:28:40.539Z"
   },
   {
    "duration": 12,
    "start_time": "2024-08-20T15:28:46.490Z"
   },
   {
    "duration": 33,
    "start_time": "2024-08-20T15:28:54.905Z"
   },
   {
    "duration": 32,
    "start_time": "2024-08-20T15:29:26.485Z"
   },
   {
    "duration": 29,
    "start_time": "2024-08-20T15:30:02.200Z"
   },
   {
    "duration": 10,
    "start_time": "2024-08-20T15:31:12.506Z"
   },
   {
    "duration": 10,
    "start_time": "2024-08-20T15:31:17.061Z"
   },
   {
    "duration": 10,
    "start_time": "2024-08-20T15:31:21.531Z"
   },
   {
    "duration": 9,
    "start_time": "2024-08-20T15:31:36.008Z"
   },
   {
    "duration": 8,
    "start_time": "2024-08-20T15:32:08.657Z"
   },
   {
    "duration": 10,
    "start_time": "2024-08-20T15:32:14.392Z"
   },
   {
    "duration": 12,
    "start_time": "2024-08-20T15:32:27.331Z"
   },
   {
    "duration": 2678,
    "start_time": "2024-08-20T15:33:05.634Z"
   },
   {
    "duration": 1320,
    "start_time": "2024-08-20T15:33:22.265Z"
   },
   {
    "duration": 23,
    "start_time": "2024-08-20T15:34:50.688Z"
   },
   {
    "duration": 18,
    "start_time": "2024-08-20T15:35:10.494Z"
   },
   {
    "duration": 19,
    "start_time": "2024-08-20T15:35:53.826Z"
   },
   {
    "duration": 9,
    "start_time": "2024-08-20T15:37:03.564Z"
   },
   {
    "duration": 9,
    "start_time": "2024-08-20T15:37:14.536Z"
   },
   {
    "duration": 10,
    "start_time": "2024-08-20T15:37:45.627Z"
   },
   {
    "duration": 405,
    "start_time": "2024-08-20T15:39:04.356Z"
   },
   {
    "duration": 11,
    "start_time": "2024-08-20T15:39:17.528Z"
   },
   {
    "duration": 25,
    "start_time": "2024-08-20T15:40:33.580Z"
   },
   {
    "duration": 12,
    "start_time": "2024-08-20T15:40:54.509Z"
   },
   {
    "duration": 10,
    "start_time": "2024-08-20T15:41:02.718Z"
   },
   {
    "duration": 11,
    "start_time": "2024-08-20T15:41:33.038Z"
   },
   {
    "duration": 29,
    "start_time": "2024-08-20T15:42:13.514Z"
   },
   {
    "duration": 48,
    "start_time": "2024-08-20T15:42:30.381Z"
   },
   {
    "duration": 48,
    "start_time": "2024-08-20T15:42:34.067Z"
   },
   {
    "duration": 46,
    "start_time": "2024-08-20T15:42:40.742Z"
   },
   {
    "duration": 19,
    "start_time": "2024-08-20T15:43:11.409Z"
   },
   {
    "duration": 12,
    "start_time": "2024-08-20T15:43:53.360Z"
   },
   {
    "duration": 9,
    "start_time": "2024-08-20T15:43:56.523Z"
   },
   {
    "duration": 12,
    "start_time": "2024-08-20T15:43:59.872Z"
   },
   {
    "duration": 832,
    "start_time": "2024-08-20T15:45:00.727Z"
   },
   {
    "duration": 10,
    "start_time": "2024-08-20T15:47:46.148Z"
   },
   {
    "duration": 8,
    "start_time": "2024-08-20T15:47:53.000Z"
   },
   {
    "duration": 350,
    "start_time": "2024-08-20T15:48:51.150Z"
   },
   {
    "duration": 278,
    "start_time": "2024-08-20T15:49:50.374Z"
   },
   {
    "duration": 204,
    "start_time": "2024-08-20T16:11:34.673Z"
   },
   {
    "duration": 240,
    "start_time": "2024-08-20T16:47:20.284Z"
   },
   {
    "duration": 8,
    "start_time": "2024-08-20T16:47:33.357Z"
   },
   {
    "duration": 234,
    "start_time": "2024-08-20T16:47:40.170Z"
   },
   {
    "duration": 227,
    "start_time": "2024-08-20T16:47:49.802Z"
   },
   {
    "duration": 215,
    "start_time": "2024-08-20T16:48:04.686Z"
   },
   {
    "duration": 8,
    "start_time": "2024-08-20T16:48:10.064Z"
   },
   {
    "duration": 231,
    "start_time": "2024-08-20T16:48:16.748Z"
   },
   {
    "duration": 228,
    "start_time": "2024-08-20T16:48:24.327Z"
   },
   {
    "duration": 230,
    "start_time": "2024-08-20T16:48:38.155Z"
   },
   {
    "duration": 367,
    "start_time": "2024-08-20T16:51:31.588Z"
   },
   {
    "duration": 370,
    "start_time": "2024-08-20T16:51:54.877Z"
   },
   {
    "duration": 4929,
    "start_time": "2024-08-20T20:39:16.431Z"
   },
   {
    "duration": 1662,
    "start_time": "2024-08-20T20:39:21.365Z"
   },
   {
    "duration": 30,
    "start_time": "2024-08-20T20:39:23.029Z"
   },
   {
    "duration": 23,
    "start_time": "2024-08-20T20:39:23.063Z"
   },
   {
    "duration": 22,
    "start_time": "2024-08-20T20:39:23.125Z"
   },
   {
    "duration": 22,
    "start_time": "2024-08-20T20:39:23.150Z"
   },
   {
    "duration": 83,
    "start_time": "2024-08-20T20:39:23.176Z"
   },
   {
    "duration": 333,
    "start_time": "2024-08-20T20:39:23.262Z"
   },
   {
    "duration": 31,
    "start_time": "2024-08-20T20:39:23.598Z"
   },
   {
    "duration": 184,
    "start_time": "2024-08-20T20:39:23.635Z"
   },
   {
    "duration": 161,
    "start_time": "2024-08-20T20:39:23.822Z"
   },
   {
    "duration": 20,
    "start_time": "2024-08-20T20:39:23.986Z"
   },
   {
    "duration": 35,
    "start_time": "2024-08-20T20:39:24.026Z"
   },
   {
    "duration": 13,
    "start_time": "2024-08-20T20:39:24.064Z"
   },
   {
    "duration": 66,
    "start_time": "2024-08-20T20:39:24.080Z"
   },
   {
    "duration": 29,
    "start_time": "2024-08-20T20:39:24.149Z"
   },
   {
    "duration": 17,
    "start_time": "2024-08-20T20:39:24.181Z"
   },
   {
    "duration": 12,
    "start_time": "2024-08-20T20:39:24.228Z"
   },
   {
    "duration": 12,
    "start_time": "2024-08-20T20:39:24.243Z"
   },
   {
    "duration": 11,
    "start_time": "2024-08-20T20:39:24.259Z"
   },
   {
    "duration": 2703,
    "start_time": "2024-08-20T20:39:24.273Z"
   },
   {
    "duration": 1402,
    "start_time": "2024-08-20T20:39:26.980Z"
   },
   {
    "duration": 49,
    "start_time": "2024-08-20T20:39:28.386Z"
   },
   {
    "duration": 22,
    "start_time": "2024-08-20T20:39:28.438Z"
   },
   {
    "duration": 23,
    "start_time": "2024-08-20T20:39:28.463Z"
   },
   {
    "duration": 43,
    "start_time": "2024-08-20T20:39:28.491Z"
   },
   {
    "duration": 34,
    "start_time": "2024-08-20T20:39:28.537Z"
   },
   {
    "duration": 13,
    "start_time": "2024-08-20T20:39:28.582Z"
   },
   {
    "duration": 15,
    "start_time": "2024-08-20T20:39:28.626Z"
   },
   {
    "duration": 35,
    "start_time": "2024-08-20T20:39:28.645Z"
   },
   {
    "duration": 85,
    "start_time": "2024-08-20T20:39:28.683Z"
   },
   {
    "duration": 21,
    "start_time": "2024-08-20T20:39:28.774Z"
   },
   {
    "duration": 35,
    "start_time": "2024-08-20T20:39:28.798Z"
   },
   {
    "duration": 1067,
    "start_time": "2024-08-20T20:39:28.837Z"
   },
   {
    "duration": 21,
    "start_time": "2024-08-20T20:39:29.930Z"
   },
   {
    "duration": 14,
    "start_time": "2024-08-20T20:39:29.956Z"
   },
   {
    "duration": 546,
    "start_time": "2024-08-20T20:39:29.975Z"
   },
   {
    "duration": 343,
    "start_time": "2024-08-20T20:39:30.528Z"
   },
   {
    "duration": 425,
    "start_time": "2024-08-20T20:39:30.877Z"
   },
   {
    "duration": 422,
    "start_time": "2024-08-20T20:39:31.305Z"
   },
   {
    "duration": 496,
    "start_time": "2024-08-20T20:39:31.730Z"
   },
   {
    "duration": 542,
    "start_time": "2024-08-20T20:39:32.229Z"
   },
   {
    "duration": 352,
    "start_time": "2024-08-20T20:39:32.775Z"
   },
   {
    "duration": 219,
    "start_time": "2024-08-20T20:39:33.130Z"
   },
   {
    "duration": 32,
    "start_time": "2024-08-20T20:39:33.352Z"
   },
   {
    "duration": 601,
    "start_time": "2024-08-20T20:39:33.388Z"
   },
   {
    "duration": 641,
    "start_time": "2024-08-20T20:39:33.992Z"
   },
   {
    "duration": 6,
    "start_time": "2024-08-20T20:39:34.636Z"
   },
   {
    "duration": 787,
    "start_time": "2024-08-20T20:39:34.646Z"
   },
   {
    "duration": 652,
    "start_time": "2024-08-20T20:39:35.436Z"
   },
   {
    "duration": 184,
    "start_time": "2024-08-20T20:39:36.091Z"
   },
   {
    "duration": 499,
    "start_time": "2024-08-20T20:39:36.282Z"
   },
   {
    "duration": 5,
    "start_time": "2024-08-20T20:39:36.785Z"
   },
   {
    "duration": 282,
    "start_time": "2024-08-20T20:39:36.794Z"
   },
   {
    "duration": 392,
    "start_time": "2024-08-20T20:39:37.079Z"
   },
   {
    "duration": 2082,
    "start_time": "2024-08-20T20:39:37.475Z"
   },
   {
    "duration": 11,
    "start_time": "2024-08-20T20:39:39.560Z"
   },
   {
    "duration": 571,
    "start_time": "2024-08-20T20:39:39.575Z"
   },
   {
    "duration": 31,
    "start_time": "2024-08-20T20:40:19.942Z"
   },
   {
    "duration": 676,
    "start_time": "2024-08-20T20:40:27.231Z"
   },
   {
    "duration": 32,
    "start_time": "2024-08-20T20:40:32.586Z"
   },
   {
    "duration": 32,
    "start_time": "2024-08-20T20:51:49.717Z"
   },
   {
    "duration": 1122,
    "start_time": "2024-08-20T20:52:09.147Z"
   },
   {
    "duration": 14,
    "start_time": "2024-08-20T20:59:23.096Z"
   },
   {
    "duration": 125,
    "start_time": "2024-08-20T20:59:49.659Z"
   },
   {
    "duration": 7,
    "start_time": "2024-08-20T21:00:17.699Z"
   },
   {
    "duration": 1596,
    "start_time": "2024-08-20T21:00:17.710Z"
   },
   {
    "duration": 37,
    "start_time": "2024-08-20T21:00:19.309Z"
   },
   {
    "duration": 30,
    "start_time": "2024-08-20T21:00:19.349Z"
   },
   {
    "duration": 142,
    "start_time": "2024-08-20T21:00:19.385Z"
   },
   {
    "duration": 22,
    "start_time": "2024-08-20T21:00:19.531Z"
   },
   {
    "duration": 75,
    "start_time": "2024-08-20T21:00:19.555Z"
   },
   {
    "duration": 356,
    "start_time": "2024-08-20T21:00:19.634Z"
   },
   {
    "duration": 37,
    "start_time": "2024-08-20T21:00:19.994Z"
   },
   {
    "duration": 211,
    "start_time": "2024-08-20T21:00:20.034Z"
   },
   {
    "duration": 183,
    "start_time": "2024-08-20T21:00:20.251Z"
   },
   {
    "duration": 19,
    "start_time": "2024-08-20T21:00:20.437Z"
   },
   {
    "duration": 76,
    "start_time": "2024-08-20T21:00:20.459Z"
   },
   {
    "duration": 15,
    "start_time": "2024-08-20T21:00:20.539Z"
   },
   {
    "duration": 78,
    "start_time": "2024-08-20T21:00:20.557Z"
   },
   {
    "duration": 32,
    "start_time": "2024-08-20T21:00:20.639Z"
   },
   {
    "duration": 13,
    "start_time": "2024-08-20T21:00:20.677Z"
   },
   {
    "duration": 40,
    "start_time": "2024-08-20T21:00:20.694Z"
   },
   {
    "duration": 12,
    "start_time": "2024-08-20T21:00:20.737Z"
   },
   {
    "duration": 11,
    "start_time": "2024-08-20T21:00:20.751Z"
   },
   {
    "duration": 1396,
    "start_time": "2024-08-20T21:03:20.003Z"
   },
   {
    "duration": 1755,
    "start_time": "2024-08-20T21:03:21.404Z"
   },
   {
    "duration": 31,
    "start_time": "2024-08-20T21:03:23.162Z"
   },
   {
    "duration": 42,
    "start_time": "2024-08-20T21:03:23.199Z"
   },
   {
    "duration": 23,
    "start_time": "2024-08-20T21:03:23.244Z"
   },
   {
    "duration": 57,
    "start_time": "2024-08-20T21:03:23.271Z"
   },
   {
    "duration": 58,
    "start_time": "2024-08-20T21:03:23.331Z"
   },
   {
    "duration": 382,
    "start_time": "2024-08-20T21:03:23.394Z"
   },
   {
    "duration": 21,
    "start_time": "2024-08-20T21:03:23.779Z"
   },
   {
    "duration": 221,
    "start_time": "2024-08-20T21:03:23.806Z"
   },
   {
    "duration": 176,
    "start_time": "2024-08-20T21:03:24.032Z"
   },
   {
    "duration": 29,
    "start_time": "2024-08-20T21:03:24.211Z"
   },
   {
    "duration": 47,
    "start_time": "2024-08-20T21:03:24.244Z"
   },
   {
    "duration": 38,
    "start_time": "2024-08-20T21:03:24.297Z"
   },
   {
    "duration": 54,
    "start_time": "2024-08-20T21:03:24.341Z"
   },
   {
    "duration": 60,
    "start_time": "2024-08-20T21:03:24.398Z"
   },
   {
    "duration": 12,
    "start_time": "2024-08-20T21:03:24.461Z"
   },
   {
    "duration": 15,
    "start_time": "2024-08-20T21:03:24.477Z"
   },
   {
    "duration": 40,
    "start_time": "2024-08-20T21:03:24.495Z"
   },
   {
    "duration": 11,
    "start_time": "2024-08-20T21:03:24.537Z"
   },
   {
    "duration": 2865,
    "start_time": "2024-08-20T21:03:24.551Z"
   },
   {
    "duration": 1464,
    "start_time": "2024-08-20T21:03:27.419Z"
   },
   {
    "duration": 37,
    "start_time": "2024-08-20T21:03:28.890Z"
   },
   {
    "duration": 20,
    "start_time": "2024-08-20T21:03:28.931Z"
   },
   {
    "duration": 23,
    "start_time": "2024-08-20T21:03:28.955Z"
   },
   {
    "duration": 51,
    "start_time": "2024-08-20T21:03:28.982Z"
   },
   {
    "duration": 31,
    "start_time": "2024-08-20T21:03:29.036Z"
   },
   {
    "duration": 12,
    "start_time": "2024-08-20T21:03:29.078Z"
   },
   {
    "duration": 42,
    "start_time": "2024-08-20T21:03:29.093Z"
   },
   {
    "duration": 32,
    "start_time": "2024-08-20T21:03:29.138Z"
   },
   {
    "duration": 89,
    "start_time": "2024-08-20T21:03:29.173Z"
   },
   {
    "duration": 22,
    "start_time": "2024-08-20T21:03:29.265Z"
   },
   {
    "duration": 41,
    "start_time": "2024-08-20T21:03:29.290Z"
   },
   {
    "duration": 907,
    "start_time": "2024-08-20T21:03:29.334Z"
   },
   {
    "duration": 10,
    "start_time": "2024-08-20T21:03:30.248Z"
   },
   {
    "duration": 9,
    "start_time": "2024-08-20T21:03:30.261Z"
   },
   {
    "duration": 395,
    "start_time": "2024-08-20T21:03:30.273Z"
   },
   {
    "duration": 319,
    "start_time": "2024-08-20T21:03:30.671Z"
   },
   {
    "duration": 439,
    "start_time": "2024-08-20T21:03:30.993Z"
   },
   {
    "duration": 355,
    "start_time": "2024-08-20T21:03:31.435Z"
   },
   {
    "duration": 343,
    "start_time": "2024-08-20T21:03:31.793Z"
   },
   {
    "duration": 448,
    "start_time": "2024-08-20T21:03:32.141Z"
   },
   {
    "duration": 290,
    "start_time": "2024-08-20T21:03:32.595Z"
   },
   {
    "duration": 175,
    "start_time": "2024-08-20T21:03:32.890Z"
   },
   {
    "duration": 29,
    "start_time": "2024-08-20T21:03:33.068Z"
   },
   {
    "duration": 457,
    "start_time": "2024-08-20T21:03:33.102Z"
   },
   {
    "duration": 544,
    "start_time": "2024-08-20T21:03:33.562Z"
   },
   {
    "duration": 6,
    "start_time": "2024-08-20T21:03:34.109Z"
   },
   {
    "duration": 561,
    "start_time": "2024-08-20T21:03:34.118Z"
   },
   {
    "duration": 559,
    "start_time": "2024-08-20T21:03:34.682Z"
   },
   {
    "duration": 150,
    "start_time": "2024-08-20T21:03:35.244Z"
   },
   {
    "duration": 573,
    "start_time": "2024-08-20T21:03:35.397Z"
   },
   {
    "duration": 6,
    "start_time": "2024-08-20T21:03:35.973Z"
   },
   {
    "duration": 287,
    "start_time": "2024-08-20T21:03:35.983Z"
   },
   {
    "duration": 380,
    "start_time": "2024-08-20T21:03:36.274Z"
   },
   {
    "duration": 2131,
    "start_time": "2024-08-20T21:03:36.658Z"
   },
   {
    "duration": 16,
    "start_time": "2024-08-20T21:03:38.791Z"
   },
   {
    "duration": 1252,
    "start_time": "2024-08-20T21:03:38.810Z"
   },
   {
    "duration": 338,
    "start_time": "2024-08-20T21:04:17.782Z"
   },
   {
    "duration": 45,
    "start_time": "2024-08-20T21:04:37.630Z"
   },
   {
    "duration": 457,
    "start_time": "2024-08-20T21:05:02.964Z"
   },
   {
    "duration": 12,
    "start_time": "2024-08-20T21:05:07.189Z"
   },
   {
    "duration": 14,
    "start_time": "2024-08-20T21:05:19.103Z"
   },
   {
    "duration": 13,
    "start_time": "2024-08-20T21:05:35.924Z"
   },
   {
    "duration": 11,
    "start_time": "2024-08-20T21:05:44.048Z"
   },
   {
    "duration": 2961,
    "start_time": "2024-08-20T21:05:50.888Z"
   },
   {
    "duration": 19,
    "start_time": "2024-08-20T21:06:16.426Z"
   },
   {
    "duration": 12,
    "start_time": "2024-08-20T21:06:25.630Z"
   },
   {
    "duration": 420,
    "start_time": "2024-08-20T21:09:51.260Z"
   },
   {
    "duration": 423,
    "start_time": "2024-08-20T21:10:08.145Z"
   }
  ],
  "colab": {
   "provenance": []
  },
  "kernelspec": {
   "display_name": "Python 3 (ipykernel)",
   "language": "python",
   "name": "python3"
  },
  "language_info": {
   "codemirror_mode": {
    "name": "ipython",
    "version": 3
   },
   "file_extension": ".py",
   "mimetype": "text/x-python",
   "name": "python",
   "nbconvert_exporter": "python",
   "pygments_lexer": "ipython3",
   "version": "3.9.19"
  },
  "toc": {
   "base_numbering": 1,
   "nav_menu": {},
   "number_sections": true,
   "sideBar": true,
   "skip_h1_title": true,
   "title_cell": "Table of Contents",
   "title_sidebar": "Contents",
   "toc_cell": false,
   "toc_position": {},
   "toc_section_display": true,
   "toc_window_display": false
  },
  "vscode": {
   "interpreter": {
    "hash": "01a7be9ec63e704a62cefc5fe7a4756944464ee731be31632bdf42a4cb4688cf"
   }
  }
 },
 "nbformat": 4,
 "nbformat_minor": 5
}
