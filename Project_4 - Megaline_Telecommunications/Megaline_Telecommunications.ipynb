{
 "cells": [
  {
   "cell_type": "code",
   "execution_count": null,
   "metadata": {},
   "outputs": [],
   "source": []
  },
  {
   "cell_type": "markdown",
   "metadata": {
    "id": "eAkbw7Ueuj8X"
   },
   "source": [
    "# Qual é o melhor plano?\n",
    "\n",
    "Você trabalha como analista para a empresa de telecomunicações Megaline. A empresa oferece aos clientes dois planos pré-pagos: Surf e Ultimate. O departamento comercial quer saber qual dos planos gera mais receita para ajustar o orçamento de publicidade.\n",
    "\n",
    "Você vai realizar uma análise preliminar dos planos com base em uma pequena seleção de clientes. Você terá dados de 500 clientes da Megaline: que clientes são, de onde eles são, qual plano usam e o número de chamadas e mensagens realizadas em 2018. Seu trabalho é analisar o comportamento dos clientes e determinar qual plano pré-pago gera mais receita."
   ]
  },
  {
   "cell_type": "markdown",
   "metadata": {
    "id": "Z_iOKMX_uj8a"
   },
   "source": [
    "[Fornecemos alguns comentários para guiar sua linha de raciocínio enquanto você trabalha neste projeto. Entretanto, certifique-se de remover todos os comentários entre colchetes antes de enviar o projeto.]\n",
    "\n",
    "[Antes de começar a análise dos dados, explique com suas próprias palavras o propósito do projeto e as ações que planeja realizar.]\n",
    "\n",
    "[Tenha em mente que estudar, modificar e analisar dados é um processo iterativo. É normal retornar a etapas anteriores e corrigir/expandir algo para permitir as próximas etapas.]"
   ]
  },
  {
   "cell_type": "markdown",
   "metadata": {
    "id": "lnomf-3Xuj8b"
   },
   "source": [
    "## Inicialização"
   ]
  },
  {
   "cell_type": "code",
   "execution_count": 56,
   "metadata": {
    "id": "JdJusn5ouj8c"
   },
   "outputs": [],
   "source": [
    "# Carregando todas as bibliotecas\n",
    "\n",
    "from matplotlib import pyplot as plt\n",
    "from scipy.stats import ttest_ind\n",
    "import pandas as pd\n",
    "import numpy as np\n",
    "import seaborn as sns\n",
    "import functools as ft\n"
   ]
  },
  {
   "cell_type": "markdown",
   "metadata": {
    "id": "rzqsCrgquj8d"
   },
   "source": [
    "## Carregue os dados"
   ]
  },
  {
   "cell_type": "code",
   "execution_count": 57,
   "metadata": {
    "id": "HmzmQRXIuj8e"
   },
   "outputs": [],
   "source": [
    "# Carregue os arquivos de dados em diferentes DataFrames\n",
    "\n",
    "# Leitura dados ambiente TripleTen:\n",
    "\n",
    "# df_calls = pd.read_csv('/datasets/megaline_calls.csv')\n",
    "# df_internet = pd.read_csv('/datasets/megaline_internet.csv')\n",
    "# df_messages = pd.read_csv('/datasets/megaline_messages.csv')\n",
    "# df_plans = pd.read_csv('/datasets/megaline_plans.csv')\n",
    "# df_users = pd.read_csv('/datasets/megaline_users.csv')\n",
    "\n",
    "# Leitura dados VsCode:\n",
    "\n",
    "df_calls = pd.read_csv(r'datasets\\megaline_calls.csv')\n",
    "df_internet = pd.read_csv(r'datasets\\megaline_internet.csv')\n",
    "df_messages = pd.read_csv(r'datasets\\megaline_messages.csv')\n",
    "df_plans = pd.read_csv(r'datasets\\megaline_plans.csv')\n",
    "df_users = pd.read_csv(r'datasets\\megaline_users.csv')\n"
   ]
  },
  {
   "cell_type": "markdown",
   "metadata": {
    "id": "XQh-EeiIuj8e"
   },
   "source": [
    "## Prepare os dados"
   ]
  },
  {
   "cell_type": "markdown",
   "metadata": {
    "id": "RmibJmmzuj8e"
   },
   "source": [
    "[Os dados deste projeto estão divididos em várias tabelas. Explore cada uma para obter uma compreensão inicial dos dados. Faça correções em cada tabela, se necessário.]"
   ]
  },
  {
   "cell_type": "markdown",
   "metadata": {
    "id": "TlZUw_Cyuj8f"
   },
   "source": [
    "## Planos"
   ]
  },
  {
   "cell_type": "code",
   "execution_count": 58,
   "metadata": {
    "id": "x9qB5mAOuj8f"
   },
   "outputs": [],
   "source": [
    "# Imprima informações gerais/resumo sobre o DataFrame dos planos\n",
    "\n",
    "df_plans.info()"
   ]
  },
  {
   "cell_type": "code",
   "execution_count": 59,
   "metadata": {
    "id": "9MRo7tyVuj8f"
   },
   "outputs": [
    {
     "data": {},
     "execution_count": 59,
     "metadata": {},
     "output_type": "execute_result"
    }
   ],
   "source": [
    "# Imprima uma amostra de dados dos planos\n",
    "\n",
    "df_plans.head()"
   ]
  },
  {
   "cell_type": "markdown",
   "metadata": {
    "id": "P8hzr-lquj8f"
   },
   "source": [
    "[Descreva o que você nota sobre as informações gerais e sobre a amostra de dados impressa acima. Existem problemas (tipos de dados inadequados, dados ausentes, etc.) que precisam de mais investigação e alterações? Como isso pode ser corrigido?]\n",
    "\n",
    "R: Podemos identificar que o dataframe dos planos tem duas linhas, o que está correto visto que temos apenas 2 planos, e 8 colunas em que estão divididas as informações do plano como gigas incluídos, minutos incluídos e outras informações necessárias. Como podemos ver nas informações imprimidas, não há valores ausentes"
   ]
  },
  {
   "cell_type": "markdown",
   "metadata": {
    "id": "KXtaxmKsuj8f"
   },
   "source": [
    "## Corrija os dados"
   ]
  },
  {
   "cell_type": "markdown",
   "metadata": {
    "id": "9BWuM80Buj8f"
   },
   "source": [
    "[Corrija problemas óbvios com os dados conforme as observações iniciais.]"
   ]
  },
  {
   "cell_type": "code",
   "execution_count": 60,
   "metadata": {
    "id": "Hen8bhG1uj8g"
   },
   "outputs": [],
   "source": [
    "print(df_plans.columns) # imprimir colunas\n",
    "print(df_plans.duplicated().sum()) #imprimir soma dos valores duplicados"
   ]
  },
  {
   "cell_type": "markdown",
   "metadata": {},
   "source": [
    "A linha acima criada apenas para confirmar que todas as colunas estão escritas corretamente, sem espaços no início e fim, bem como checar se não há duplicado (mesmo sendo visivelmente fácil de ver que não temos). Não tendo valores ausentes e todos os dados e tipos das colunas estarem corretos, não temos correções a fazer neste dataframe."
   ]
  },
  {
   "cell_type": "markdown",
   "metadata": {
    "id": "kLcdKu6Duj8g"
   },
   "source": [
    "## Enriqueça os dados"
   ]
  },
  {
   "cell_type": "markdown",
   "metadata": {
    "id": "x1L6F_gmuj8g"
   },
   "source": [
    "[Inclua fatores adicionais aos dados se você acredita que eles podem ser úteis.]"
   ]
  },
  {
   "cell_type": "markdown",
   "metadata": {},
   "source": [
    "Sendo um dataframe que terá a informação dos planos, não tem mais dados úteis que sejam preciso adicionar porque os outros conjuntos de dados são referentes aos dados de utilização dos serviços e dos usuários."
   ]
  },
  {
   "cell_type": "markdown",
   "metadata": {
    "id": "YJg2O9qjuj8g"
   },
   "source": [
    "## Usuários"
   ]
  },
  {
   "cell_type": "code",
   "execution_count": 61,
   "metadata": {
    "id": "7JzxwD2juj8g"
   },
   "outputs": [],
   "source": [
    "# Imprima informações gerais/resumo sobre o DataFrame dos usuários\n",
    "\n",
    "df_users.info()"
   ]
  },
  {
   "cell_type": "code",
   "execution_count": 62,
   "metadata": {
    "id": "5KZ8XmD8uj8g"
   },
   "outputs": [
    {
     "data": {},
     "execution_count": 62,
     "metadata": {},
     "output_type": "execute_result"
    }
   ],
   "source": [
    "# Imprima uma amostra de dados dos usuários\n",
    "\n",
    "df_users.head(10)"
   ]
  },
  {
   "cell_type": "markdown",
   "metadata": {
    "id": "XGCgkfLvuj8h"
   },
   "source": [
    "[Descreva o que você nota sobre as informações gerais e sobre a amostra de dados impressa acima. Existem problemas (tipos de dados inadequados, dados ausentes, etc.) que precisam de mais investigação e alterações? Como isso pode ser corrigido?]\n",
    "\n",
    "R: O dataframe users tem um total de 8 colunas e 500 linhas, onde podemos desde o início identificamos que a coluna churn_date tem valores ausentes (NaN). Essa coluna é referente a data em que o usuário deixou de utilizar o serviço se estiver com valores e para os campos ausentes significa que está ativo. Para nossa análise não é um dado necessário, pois queremos entender qual plano gerou mais receita e por isso podemos remover essa coluna deste dataframe. A coluna user_id está como int64 e neste caso sendo um identificar o mais adequado, uma vez que não teremos operações numéricas com estes números, será substituir para dtype object. Podemos identificar também que a coluna plan está escrita como \"plan\" e está diferente do dataframe dos planos, pelo que precisa ser alterado para não gerar problemas mais ao final da análise."
   ]
  },
  {
   "cell_type": "markdown",
   "metadata": {
    "id": "ppiEfe3luj8i"
   },
   "source": [
    "### Corrija os dados"
   ]
  },
  {
   "cell_type": "markdown",
   "metadata": {
    "id": "os4Gubp_uj8j"
   },
   "source": [
    "[Corrija problemas óbvios com os dados conforme as observações iniciais.]"
   ]
  },
  {
   "cell_type": "code",
   "execution_count": 63,
   "metadata": {
    "id": "Oa1XFooouj8j"
   },
   "outputs": [],
   "source": [
    "df_users = df_users.drop(labels=['churn_date'], axis='columns') # remover coluna com valores ausentes\n",
    "df_users['user_id'] = df_users['user_id'].astype(object) # mudança do tipo da coluna \"user_id\"\n",
    "df_users = df_users.rename(columns = {'plan': 'plan_name'}) # renomeando coluna\n",
    "\n",
    "print(df_users.duplicated().sum()) # imprimi soma valores duplicados para checagem"
   ]
  },
  {
   "cell_type": "code",
   "execution_count": 64,
   "metadata": {},
   "outputs": [
    {
     "data": {},
     "execution_count": 64,
     "metadata": {},
     "output_type": "execute_result"
    }
   ],
   "source": [
    "df_users.info()\n",
    "df_users.head(10)"
   ]
  },
  {
   "cell_type": "markdown",
   "metadata": {
    "id": "f4uSIMuuuj8j"
   },
   "source": [
    "## Chamadas"
   ]
  },
  {
   "cell_type": "code",
   "execution_count": 65,
   "metadata": {
    "id": "hkY01fJnuj8j"
   },
   "outputs": [],
   "source": [
    "# Imprima informações gerais/resumo sobre o DataFrame das chamadas\n",
    "\n",
    "df_calls.info()"
   ]
  },
  {
   "cell_type": "code",
   "execution_count": 66,
   "metadata": {
    "id": "wdBwJG5Yuj8k"
   },
   "outputs": [
    {
     "data": {},
     "execution_count": 66,
     "metadata": {},
     "output_type": "execute_result"
    }
   ],
   "source": [
    "# Imprima uma amostra de dados das chamadas\n",
    "\n",
    "df_calls.head()"
   ]
  },
  {
   "cell_type": "markdown",
   "metadata": {
    "id": "Y8An85-Tuj8k"
   },
   "source": [
    "\n",
    "[Descreva o que você nota sobre as informações gerais e sobre a amostra de dados impressa acima. Existem problemas (tipos de dados inadequados, dados ausentes, etc.) que precisam de mais investigação e alterações? Como isso pode ser corrigido?]\n",
    "\n",
    "R: Para este dataframe não temos valores ausentes e um conjunto de 4 colunas e 137735 linhas. Apenas será preciso mudar o tipo da coluna usar_id como feito nos datasframes anteriores pois é uma coluna que não será usada para operações matemáticas, bem como passar a coluna que temos datas para o datetime."
   ]
  },
  {
   "cell_type": "markdown",
   "metadata": {
    "id": "x5a99U4xuj8k"
   },
   "source": [
    "### Corrija os dados"
   ]
  },
  {
   "cell_type": "markdown",
   "metadata": {
    "id": "MQqkU83Xuj8k"
   },
   "source": [
    "[Corrija problemas óbvios com os dados conforme as observações iniciais.]"
   ]
  },
  {
   "cell_type": "code",
   "execution_count": 67,
   "metadata": {
    "id": "lBjdw0Bnuj8l"
   },
   "outputs": [],
   "source": [
    "df_calls['user_id'] = df_calls['user_id'].astype(object) # mudança do tipo da coluna \"useer_id\"\n",
    "df_calls['call_date'] = pd.to_datetime(df_calls['call_date']) # mudança do tipo da coluna \"call_date\"\n",
    "\n",
    "df_calls.info()"
   ]
  },
  {
   "cell_type": "markdown",
   "metadata": {
    "id": "qLz4FkyRuj8l"
   },
   "source": [
    "## Mensagens"
   ]
  },
  {
   "cell_type": "code",
   "execution_count": 68,
   "metadata": {
    "id": "nFA9DFkCuj8l"
   },
   "outputs": [],
   "source": [
    "# Imprima informações gerais/resumo sobre o DataFrame das mensagens\n",
    "\n",
    "df_messages.info()"
   ]
  },
  {
   "cell_type": "code",
   "execution_count": 69,
   "metadata": {
    "id": "ysEFBZWxuj8m"
   },
   "outputs": [
    {
     "data": {},
     "execution_count": 69,
     "metadata": {},
     "output_type": "execute_result"
    }
   ],
   "source": [
    "# Imprima uma amostra dos dados das mensagens\n",
    "\n",
    "df_messages.head(10)"
   ]
  },
  {
   "cell_type": "markdown",
   "metadata": {
    "id": "GUtt1TqCuj8m"
   },
   "source": [
    "[Descreva o que você nota sobre as informações gerais e sobre a amostra de dados impressa acima. Existem problemas (tipos de dados inadequados, dados ausentes, etc.) que precisam de mais investigação e alterações? Como isso pode ser corrigido?]\n",
    "\n",
    "R: Dataframe de 3 colunas e 76051 linhas, onde apenas será necessário ajustar o tipo da coluna user_id"
   ]
  },
  {
   "cell_type": "markdown",
   "metadata": {
    "id": "tT8N_hc6uj8m"
   },
   "source": [
    "### Corrija os dados"
   ]
  },
  {
   "cell_type": "markdown",
   "metadata": {
    "id": "IgO0SzXKuj8m"
   },
   "source": [
    "[Corrija problemas óbvios com os dados conforme as observações iniciais.]"
   ]
  },
  {
   "cell_type": "code",
   "execution_count": 70,
   "metadata": {
    "id": "SpBqbQHCuj8m"
   },
   "outputs": [],
   "source": [
    "df_messages['user_id'] = df_messages['user_id'].astype(object) # mudança do tipo da coluna \"useer_id\"\n",
    "df_messages['message_date'] = pd.to_datetime(df_messages['message_date']) # mudança do tipo da coluna \"message_date\"\n",
    "df_messages.info()\n",
    "print()\n",
    "print(df_messages.duplicated().sum()) # imprimi soma valores duplicados para checagem"
   ]
  },
  {
   "cell_type": "markdown",
   "metadata": {
    "id": "ZRFaOWzGuj8n"
   },
   "source": [
    "## Internet"
   ]
  },
  {
   "cell_type": "code",
   "execution_count": 71,
   "metadata": {
    "id": "ob3-qv4nuj8n"
   },
   "outputs": [],
   "source": [
    "# Imprima informações gerais/resumo sobre o DataFrame da internet\n",
    "\n",
    "df_internet.info()"
   ]
  },
  {
   "cell_type": "code",
   "execution_count": 72,
   "metadata": {
    "id": "iIHK4fZsuj8n"
   },
   "outputs": [
    {
     "data": {},
     "execution_count": 72,
     "metadata": {},
     "output_type": "execute_result"
    }
   ],
   "source": [
    "#  Imprima uma amostra de dados para o tráfego da internet\n",
    "\n",
    "df_internet.head(10)"
   ]
  },
  {
   "cell_type": "markdown",
   "metadata": {
    "id": "6wpo7ugquj8o"
   },
   "source": [
    "[Descreva o que você nota sobre as informações gerais e sobre a amostra de dados impressa acima. Existem problemas (tipos de dados inadequados, dados ausentes, etc.) que precisam de mais investigação e alterações? Como isso pode ser corrigido?]\n",
    "\n",
    "R: Dataframe com 4 colunas e 104825 linhas, sem valores ausentes. Será preciso alterar o tipo da coluna user_id como feito anteriormente já nos outros datasframes e também está a ser utilizado a contagem em MB para os dados de internet utilizado quando no dataframe \"plans\" é utilizada a contagem em GB, sendo assim, será transformada a coluna de MB para GB para que fique padronizado, renomear a mesma para ter a identificação correta e assim ficar mais fácil de analisar os dados."
   ]
  },
  {
   "cell_type": "markdown",
   "metadata": {
    "id": "Tly90YrTuj8o"
   },
   "source": [
    "### Corrija os dados"
   ]
  },
  {
   "cell_type": "markdown",
   "metadata": {
    "id": "F_yvcX-9uj8o"
   },
   "source": [
    "[Corrija problemas óbvios com os dados conforme as observações iniciais.]"
   ]
  },
  {
   "cell_type": "code",
   "execution_count": 73,
   "metadata": {
    "id": "GCoX7kbmuj8o"
   },
   "outputs": [
    {
     "data": {},
     "execution_count": 73,
     "metadata": {},
     "output_type": "execute_result"
    }
   ],
   "source": [
    "df_internet['user_id'] = df_internet['user_id'].astype(object) # mudança do tipo da coluna \"useer_id\"\n",
    "df_internet['mb_used'] = df_internet['mb_used'] / 1024 # linha para transformar MB em GB\n",
    "df_internet = df_internet.rename(columns = {'mb_used': 'gb_used'}) # renomear coluna\n",
    "df_internet['session_date'] = pd.to_datetime(df_internet['session_date']) # mudança do tipo da coluna \"message_date\"\n",
    "df_internet.info()\n",
    "print()\n",
    "print(df_internet.duplicated().sum()) # imprimi soma valores duplicados para checagem\n",
    "print()\n",
    "df_internet.head(10)"
   ]
  },
  {
   "cell_type": "markdown",
   "metadata": {
    "id": "bnOX4ARJuj8p"
   },
   "source": [
    "## Estude as condições dos planos"
   ]
  },
  {
   "cell_type": "markdown",
   "metadata": {
    "id": "vMu9_L8quj8p"
   },
   "source": [
    "[É fundamental entender como os planos funcionam, ou seja, como as cobranças dos usuários são feitas com base na assinatura. Sugerimos imprimir as informações sobre os planos para visualizar novamente as condições.]"
   ]
  },
  {
   "cell_type": "code",
   "execution_count": 74,
   "metadata": {
    "id": "vMXVndWEuj8p"
   },
   "outputs": [
    {
     "data": {},
     "execution_count": 74,
     "metadata": {},
     "output_type": "execute_result"
    }
   ],
   "source": [
    "# Imprima as condições dos planos e certifique-se de que elas fazem sentido para você\n",
    "\n",
    "df_plans.info()\n",
    "df_plans.head()"
   ]
  },
  {
   "cell_type": "markdown",
   "metadata": {
    "id": "1v1EshDmuj8q"
   },
   "source": [
    "## Agregue os dados por usuário\n",
    "\n",
    "[Agora, como os dados estão limpos, os agregue por usuário e por período para ter apenas um registro dessas informações. Isso vai facilitar muito as próximas análises.]"
   ]
  },
  {
   "cell_type": "code",
   "execution_count": 75,
   "metadata": {
    "id": "4hmb2pSPuj8q"
   },
   "outputs": [
    {
     "data": {},
     "execution_count": 75,
     "metadata": {},
     "output_type": "execute_result"
    }
   ],
   "source": [
    "# Calcule o número de chamadas feitas por cada usuário por mês. Salve o resultado.\n",
    "\n",
    "df_calls['month'] = df_calls['call_date'].dt.to_period('M') # converter linha para período mensal de modo a facilitar a análise\n",
    "monthly_calls = df_calls.groupby(['user_id', 'month']).size().reset_index(name = 'call_count')\n",
    "\n",
    "monthly_calls.sample(20)"
   ]
  },
  {
   "cell_type": "code",
   "execution_count": 76,
   "metadata": {
    "id": "yHgBWCJJuj8q"
   },
   "outputs": [
    {
     "data": {},
     "execution_count": 76,
     "metadata": {},
     "output_type": "execute_result"
    }
   ],
   "source": [
    "# Calcule a quantidade de minutos gastos por cada usuário por mês. Salve o resultado.\n",
    "\n",
    "df_calls['month'] = df_calls['call_date'].dt.to_period('M') # converter linha para período mensal de modo a facilitar a análise\n",
    "monthly_minutes_durations = df_calls.groupby(['user_id', 'month'])['duration'].sum().reset_index(name='total_duration')\n",
    "\n",
    "monthly_minutes_durations.sample(20)"
   ]
  },
  {
   "cell_type": "code",
   "execution_count": 77,
   "metadata": {
    "id": "MaM_cPxauj8q"
   },
   "outputs": [
    {
     "data": {},
     "execution_count": 77,
     "metadata": {},
     "output_type": "execute_result"
    }
   ],
   "source": [
    "# Calcule o número de mensagens enviadas por cada usuário por mês. Salve o resultado.\n",
    "\n",
    "df_messages['month'] = df_messages['message_date'].dt.to_period('M') # converter linha para período mensal de modo a facilitar a análise\n",
    "monthly_messages = df_messages.groupby(['user_id', 'month'])['id'].count().reset_index(name='total_messages')\n",
    "\n",
    "monthly_messages.sample(20)"
   ]
  },
  {
   "cell_type": "code",
   "execution_count": 78,
   "metadata": {
    "id": "WsCEZJ_xuj8q"
   },
   "outputs": [
    {
     "data": {},
     "execution_count": 78,
     "metadata": {},
     "output_type": "execute_result"
    }
   ],
   "source": [
    "# Calcule o volume de tráfego de internet usado por cada usuário por mês. Salve o resultado.\n",
    "\n",
    "df_internet['month'] = df_internet['session_date'].dt.to_period('M') # converter linha para período mensal de modo a facilitar a análise\n",
    "monthly_internet = df_internet.groupby(['user_id', 'month'])['gb_used'].sum().reset_index(name='total_gb')\n",
    "\n",
    "monthly_internet.sample(20)"
   ]
  },
  {
   "cell_type": "markdown",
   "metadata": {
    "id": "6nBsD4hduj8q"
   },
   "source": [
    "[Coloque os dados agregados em um DataFrame para que cada registro nele represente o que cada usuário consumiu em um determinado mês.]"
   ]
  },
  {
   "cell_type": "code",
   "execution_count": 79,
   "metadata": {
    "id": "SW-sgLaHuj8r"
   },
   "outputs": [
    {
     "data": {},
     "execution_count": 79,
     "metadata": {},
     "output_type": "execute_result"
    }
   ],
   "source": [
    "# Junte os dados de chamadas, minutos, mensagens e internet com base em user_id e month\n",
    "# Adicione as informações sobre o plano\n",
    "\n",
    "all_data = monthly_internet.merge(monthly_messages, on = ['user_id', 'month'], how = 'outer') # linha para iniciar a combinação de todos dos dataframes limpos, visto ser preciso fazer estes passo para cada dataframe\n",
    "all_data = all_data.merge(monthly_calls, on = ['user_id', 'month'], how = 'outer') # segunda linha para a combinação de todos os dataframes limpos\n",
    "all_data = all_data.merge(monthly_minutes_durations, on = ['user_id', 'month'], how = 'outer') # terceira linha para a combinação de todos os dataframes limpos\n",
    "all_data = all_data.merge(df_users[['user_id', 'plan_name']], on = ['user_id'], how = 'outer') # quarta linha para a combinação de todos os dataframes limpos\n",
    "all_data = all_data.merge(df_plans, on = ['plan_name'], how = 'outer') # última linha de combinação dos dataframes limpos\n",
    "\n",
    "all_data['mb_per_month_included'] = all_data['mb_per_month_included'] / 1024 # linha para transformar MB em GB\n",
    "all_data = all_data.rename(columns = {'mb_per_month_included': 'gb_per_month_included'}) # renomear coluna\n",
    "\n",
    "all_data['total_duration'] = all_data['total_messages'].fillna(0) # substituir valores NaN\n",
    "all_data['total_messages'] = all_data['total_messages'].fillna(0) # substituir valores NaN\n",
    "\n",
    "all_data\n"
   ]
  },
  {
   "cell_type": "markdown",
   "metadata": {
    "id": "mU8dKHTQuj8r"
   },
   "source": [
    "[Calcule a receita mensal para cada usuário: subtraia o limite gratuito do pacote do número total de chamadas, mensagens de texto e dados; multiplique o resultado pelo valor do plano; adicione o preço mensal dependendo do plano. Importante: isso talvez não seja tão simples e necessite de várias linhas, considerando as condições do plano. Portanto, não se preocupe se você passar algum tempo nesta etapa.]"
   ]
  },
  {
   "cell_type": "code",
   "execution_count": 80,
   "metadata": {
    "id": "JiPHXbQAuj8r"
   },
   "outputs": [],
   "source": [
    "# Calcule a receita mensal para cada usuário\n",
    "\n",
    "all_data['revenue'] = all_data['usd_monthly_pay'] # cálculo receita mensal\n",
    "all_data['used_minutes'] = all_data['total_duration'] - all_data['minutes_included'] # cálculo valor a ser cobrado chamadas\n",
    "all_data['used_messages'] = all_data['total_messages'] - all_data['messages_included'] # cálculo valor a ser cobrado chamadas\n",
    "all_data['used_internet'] = all_data['total_gb'] - all_data['gb_per_month_included'] # cálculo valor a ser cobrado chamadas\n",
    "\n",
    "all_data.loc[all_data['used_minutes'] < 0, 'used_minutes'] = 0 # substituição de valores negativos para 0\n",
    "all_data.loc[all_data['used_messages'] < 0, 'used_messages'] = 0 # substituição de valores negativos para 0\n",
    "all_data.loc[all_data['used_internet'] < 0, 'used_internet'] = 0 # substituição de valores negativos para 0\n",
    "\n",
    "all_data['revenue'] = all_data['revenue'] + all_data['used_minutes'] * all_data['usd_per_minute'] # cálculo receita mensal chamadas\n",
    "all_data['revenue'] = all_data['revenue'] + all_data['used_messages'] * all_data['usd_per_message'] # cálculo receita mensal mensagens\n",
    "all_data['revenue'] = all_data['revenue'] + all_data['used_internet'] * all_data['usd_per_gb'] # cálculo receita mensal internet\n",
    "\n",
    "all_data['revenue'] = all_data['revenue'].fillna(0)"
   ]
  },
  {
   "cell_type": "markdown",
   "metadata": {
    "id": "0HFWXKTQuj8r"
   },
   "source": [
    "## Estude o comportamento do usuário"
   ]
  },
  {
   "cell_type": "markdown",
   "metadata": {
    "id": "i6gGFggkuj8s"
   },
   "source": [
    "[Calcule algumas estatísticas descritivas úteis para os dados agregados, o que costuma revelar uma imagem geral capturada pelos dados. Desenhe gráficos úteis para ajudar na compreensão. Já que a tarefa principal é comparar os planos e decidir qual é mais rentável, as estatísticas e os gráficos devem ser calculados por plano.]\n",
    "\n",
    "[Existem dicas relevantes nos comentários para as chamadas. Essas dicas não foram fornecidas para as mensagens e internet, mas o princípio do estudo estatístico é o mesmo em todos os casos.]"
   ]
  },
  {
   "cell_type": "markdown",
   "metadata": {
    "id": "umaMfSLxuj8s"
   },
   "source": [
    "### Chamadas"
   ]
  },
  {
   "cell_type": "code",
   "execution_count": 81,
   "metadata": {
    "id": "0236-tJnuj8t"
   },
   "outputs": [
    {
     "data": {
      "image/png": "[encoded data removed]"
     },
     "metadata": {},
     "output_type": "display_data"
    }
   ],
   "source": [
    "# Compare a duração média das chamadas de cada plano para cada mês. Crie um gráfico de barras para visualizar o resultado.\n",
    "\n",
    "mean_duration_plan = all_data.groupby('plan_name')['total_duration'].mean().reset_index() # cálculo da média\n",
    "\n",
    "# abaixo são as linhas de códigos para criação do gráfico em barras\n",
    "\n",
    "call_bar_graphic = sns.barplot(\n",
    "    data = mean_duration_plan,\n",
    "    x = 'plan_name',\n",
    "    y = 'total_duration'\n",
    ")\n",
    "\n",
    "for container in call_bar_graphic.containers: # linha 13 e 14 feita com ajuda do instrutor Pedro. Estas linhas servem para aparecer o resultado da média calculada no gráfico\n",
    "    call_bar_graphic.bar_label(container) \n",
    "\n",
    "call_bar_graphic.set(\n",
    "    title = 'Mean Call Duration',\n",
    "    xlabel = 'Plan Name',\n",
    "    ylabel = 'Total Duration'\n",
    ");"
   ]
  },
  {
   "cell_type": "code",
   "execution_count": 82,
   "metadata": {
    "id": "9sCQ1lP8uj8u"
   },
   "outputs": [
    {
     "data": {
      "image/png": "[encoded data removed]"
     },
     "metadata": {},
     "output_type": "display_data"
    }
   ],
   "source": [
    "# Compare o número de minutos que os usuários de cada plano necessitam a cada mês. Construa um histograma.\n",
    "\n",
    "plt.hist(all_data['total_duration'], bins = 30, edgecolor='black')\n",
    "plt.title('Mean Call Duration')\n",
    "plt.xlabel('Total Duration')\n",
    "plt.ylabel('Frequency');\n"
   ]
  },
  {
   "cell_type": "markdown",
   "metadata": {
    "id": "_x1pRDFtuj8u"
   },
   "source": [
    "[Calcule a média e a variância da duração das chamadas para refletir se os usuários de cada plano possuem comportamentos diferentes sobre as chamadas.]"
   ]
  },
  {
   "cell_type": "code",
   "execution_count": 83,
   "metadata": {
    "id": "cIdodPExuj8u"
   },
   "outputs": [
    {
     "data": {},
     "execution_count": 83,
     "metadata": {},
     "output_type": "execute_result"
    }
   ],
   "source": [
    "# Calcule a média e a variância da duração mensal das chamadas\n",
    "\n",
    "mean_duration_calls = all_data['total_duration'].mean() # cálculo média\n",
    "median_duration_calls = all_data['total_duration'].median() # cálculo mediana\n",
    "\n",
    "mean_duration_calls"
   ]
  },
  {
   "cell_type": "code",
   "execution_count": 84,
   "metadata": {},
   "outputs": [
    {
     "data": {},
     "execution_count": 84,
     "metadata": {},
     "output_type": "execute_result"
    }
   ],
   "source": [
    "median_duration_calls"
   ]
  },
  {
   "cell_type": "code",
   "execution_count": 85,
   "metadata": {
    "id": "DW7vTypxuj8u"
   },
   "outputs": [
    {
     "data": {
      "image/png": "[encoded data removed]"
     },
     "metadata": {},
     "output_type": "display_data"
    }
   ],
   "source": [
    "# Faça um diagrama de caixa para visualizar a distribuição da duração mensal das chamadas\n",
    "\n",
    "call_box_graphic = sns.boxplot(\n",
    "    data = all_data,\n",
    "    x = 'total_duration'\n",
    ")\n",
    "\n",
    "call_box_graphic.set(\n",
    "    title = 'Call Distribution',\n",
    "    xlabel = 'Total Duration',\n",
    "    ylabel = 'Frequency'\n",
    ");"
   ]
  },
  {
   "cell_type": "markdown",
   "metadata": {
    "id": "Uyt3rWn7uj8u"
   },
   "source": [
    "Como podemos ver na análise, a duração média das chamadas são maiores no plano ultimate do que no plano surf com uma diferença de basicamente 6.30 minutos, contudo, também identificamos que a frequência de chamadas está mais concentrada entre 0 e 25/30 tendo assim muito mais chamadas curtas efetuadas no geral do que chamadas longas."
   ]
  },
  {
   "cell_type": "markdown",
   "metadata": {
    "id": "2hWSPtrnuj8v"
   },
   "source": [
    "### Mensagens"
   ]
  },
  {
   "cell_type": "code",
   "execution_count": 86,
   "metadata": {},
   "outputs": [
    {
     "data": {},
     "execution_count": 86,
     "metadata": {},
     "output_type": "execute_result"
    }
   ],
   "source": [
    "all_data"
   ]
  },
  {
   "cell_type": "code",
   "execution_count": 87,
   "metadata": {
    "id": "9kPlAhOJuj8v"
   },
   "outputs": [
    {
     "data": {
      "image/png": "[encoded data removed]"
     },
     "metadata": {},
     "output_type": "display_data"
    }
   ],
   "source": [
    "# Compare o número de mensagens que os usuários de cada plano costumam enviar a cada mês\n",
    "\n",
    "messages_plan = all_data.groupby('plan_name')['total_messages'].mean().reset_index()\n",
    "\n",
    "message_bar_graphic = sns.barplot(\n",
    "    data = messages_plan,\n",
    "    x = 'plan_name',\n",
    "    y = 'total_messages'\n",
    ")\n",
    "\n",
    "for container in message_bar_graphic.containers: # Estas linhas servem para aparecer o resultado da média calculada no gráfico\n",
    "    message_bar_graphic.bar_label(container)\n",
    "\n",
    "message_bar_graphic.set(\n",
    "    title = 'Messages per Plan',\n",
    "    xlabel = 'Plan Name',\n",
    "    ylabel = 'Total Messages'\n",
    ");\n"
   ]
  },
  {
   "cell_type": "code",
   "execution_count": 88,
   "metadata": {},
   "outputs": [
    {
     "data": {
      "image/png": "[encoded data removed]"
     },
     "metadata": {},
     "output_type": "display_data"
    }
   ],
   "source": [
    "message_box_graphic = sns.boxplot(\n",
    "    data = all_data,\n",
    "    x = 'total_messages'\n",
    ")\n",
    "\n",
    "message_box_graphic.set(\n",
    "     title = 'Messages per Plan',\n",
    "    xlabel = 'Total Messages',\n",
    "    ylabel = 'Frequency'\n",
    ");"
   ]
  },
  {
   "cell_type": "code",
   "execution_count": 89,
   "metadata": {},
   "outputs": [
    {
     "data": {
      "image/png": "[encoded data removed]"
     },
     "metadata": {},
     "output_type": "display_data"
    }
   ],
   "source": [
    "plt.hist(all_data['total_messages'], bins = 30, edgecolor='black')\n",
    "plt.title('Messages per Plan')\n",
    "plt.xlabel('Total Messages')\n",
    "plt.ylabel('Frequency');"
   ]
  },
  {
   "cell_type": "code",
   "execution_count": 90,
   "metadata": {
    "id": "di6wucOLuj8v"
   },
   "outputs": [
    {
     "data": {},
     "execution_count": 90,
     "metadata": {},
     "output_type": "execute_result"
    }
   ],
   "source": [
    "mean_total_messages = all_data['total_messages'].mean()\n",
    "median_total_messages = all_data['total_messages'].median()\n",
    "\n",
    "mean_total_messages"
   ]
  },
  {
   "cell_type": "code",
   "execution_count": 91,
   "metadata": {},
   "outputs": [
    {
     "data": {},
     "execution_count": 91,
     "metadata": {},
     "output_type": "execute_result"
    }
   ],
   "source": [
    "median_total_messages"
   ]
  },
  {
   "cell_type": "markdown",
   "metadata": {
    "id": "v6QELMtcuj8v"
   },
   "source": [
    "Assim como nas chamadas verificamos que o plano ultimate tem uma utilização maior das mensagens quando tirada a média, tendo também os dados de modo geral concentrados na parte inicial do histograma e do boxplot indicando que apesar da diferença, a maioria dos usuários usam uma quantidade entre 0 e 25/30."
   ]
  },
  {
   "cell_type": "markdown",
   "metadata": {
    "id": "nHUCwAnauj8w"
   },
   "source": [
    "### Internet"
   ]
  },
  {
   "cell_type": "code",
   "execution_count": 92,
   "metadata": {
    "id": "EEm27RaRuj8w"
   },
   "outputs": [
    {
     "data": {
      "image/png": "[encoded data removed]"
     },
     "metadata": {},
     "output_type": "display_data"
    }
   ],
   "source": [
    "# Compare a quantidade de tráfego de internet consumido pelos usuários por plano\n",
    "\n",
    "internet_plan = all_data.groupby('plan_name')['total_gb'].mean().reset_index()\n",
    "\n",
    "internet_bar_graphic = sns.barplot(\n",
    "    data = internet_plan,\n",
    "    x = 'plan_name',\n",
    "    y = 'total_gb'\n",
    ")\n",
    "\n",
    "for container in internet_bar_graphic.containers: # # Estas linhas servem para aparecer o resultado da média calculada no gráfico\n",
    "    internet_bar_graphic.bar_label(container)\n",
    "\n",
    "internet_bar_graphic.set(\n",
    "    title = 'Internet per Plan',\n",
    "    xlabel = 'Plan Name',\n",
    "    ylabel = 'Total Internet'\n",
    ");"
   ]
  },
  {
   "cell_type": "code",
   "execution_count": 93,
   "metadata": {},
   "outputs": [
    {
     "data": {
      "image/png": "[encoded data removed]"
     },
     "metadata": {},
     "output_type": "display_data"
    }
   ],
   "source": [
    "internet_box_graphic = sns.boxplot(\n",
    "    data = all_data,\n",
    "    x = 'total_gb'\n",
    ")\n",
    "\n",
    "internet_box_graphic.set(\n",
    "     title = 'Internet per Plan',\n",
    "    xlabel = 'Total GB',\n",
    "    ylabel = 'Frequency'\n",
    ");"
   ]
  },
  {
   "cell_type": "code",
   "execution_count": 94,
   "metadata": {},
   "outputs": [
    {
     "data": {
      "image/png": "[encoded data removed]"
     },
     "metadata": {},
     "output_type": "display_data"
    }
   ],
   "source": [
    "plt.hist(all_data['total_gb'], bins = 30, edgecolor='black')\n",
    "plt.title('Internet per Plan')\n",
    "plt.xlabel('Total GB')\n",
    "plt.ylabel('Frequency');"
   ]
  },
  {
   "cell_type": "code",
   "execution_count": 95,
   "metadata": {
    "id": "1zsw31_cuj8w"
   },
   "outputs": [
    {
     "data": {},
     "execution_count": 95,
     "metadata": {},
     "output_type": "execute_result"
    }
   ],
   "source": [
    "mean_total_internet = all_data['total_messages'].mean() #cálculo média\n",
    "median_total_internet = all_data['total_messages'].median() # cálculo mediana\n",
    "\n",
    "mean_total_internet"
   ]
  },
  {
   "cell_type": "code",
   "execution_count": 96,
   "metadata": {},
   "outputs": [
    {
     "data": {},
     "execution_count": 96,
     "metadata": {},
     "output_type": "execute_result"
    }
   ],
   "source": [
    "median_total_internet"
   ]
  },
  {
   "cell_type": "markdown",
   "metadata": {
    "id": "GsHkFpGmuj8w"
   },
   "source": [
    "Neste caso podemos ver que a diferença entre a média de uso de internet é basicamente mesma tendo uma diferença de apenas 0.509 entre os planos com o ultimate mais uma vez tendo resultados maiores. Além disso, podemos identificar que temos uma parte de usuários que utilizam menos internet tendo a grande maioria concentrada nos valores de 12GB e 22GB"
   ]
  },
  {
   "cell_type": "markdown",
   "metadata": {
    "id": "g23qXaYNuj8x"
   },
   "source": [
    "## Receita"
   ]
  },
  {
   "cell_type": "markdown",
   "metadata": {
    "id": "qI9oKXFZuj8y"
   },
   "source": [
    "[Da mesma forma que você estudou o comportamento dos usuários, descreva estatisticamente as receitas dos planos.]"
   ]
  },
  {
   "cell_type": "code",
   "execution_count": 97,
   "metadata": {
    "id": "CGuBwYRyuj8y"
   },
   "outputs": [
    {
     "data": {
      "image/png": "[encoded data removed]"
     },
     "metadata": {},
     "output_type": "display_data"
    }
   ],
   "source": [
    "revenue_plan = all_data.groupby('plan_name')['revenue'].mean().reset_index()\n",
    "\n",
    "revenue_bar_graphic = sns.barplot(\n",
    "    data = revenue_plan,\n",
    "    x = 'plan_name',\n",
    "    y = 'revenue'\n",
    ")\n",
    "\n",
    "for container in revenue_bar_graphic.containers: # Estas linhas servem para aparecer o resultado da média calculada no gráfico\n",
    "    revenue_bar_graphic.bar_label(container)\n",
    "\n",
    "revenue_bar_graphic.set(\n",
    "    title = 'Revenue per Plan',\n",
    "    xlabel = 'Plan Name',\n",
    "    ylabel = 'Revenue'\n",
    ");"
   ]
  },
  {
   "cell_type": "code",
   "execution_count": 98,
   "metadata": {},
   "outputs": [
    {
     "data": {
      "image/png": "[encoded data removed]"
     },
     "metadata": {},
     "output_type": "display_data"
    }
   ],
   "source": [
    "revenue_box_graphic = sns.boxplot(\n",
    "    data = all_data,\n",
    "    x = 'revenue'\n",
    ")\n",
    "\n",
    "revenue_box_graphic.set(\n",
    "     title = 'Revenue per Plan',\n",
    "    xlabel = 'Plan Name',\n",
    "    ylabel = 'Revenue'\n",
    ");"
   ]
  },
  {
   "cell_type": "code",
   "execution_count": 99,
   "metadata": {},
   "outputs": [
    {
     "data": {
      "image/png": "[encoded data removed]"
     },
     "metadata": {},
     "output_type": "display_data"
    }
   ],
   "source": [
    "plt.hist(all_data['revenue'], bins = 30, edgecolor='black')\n",
    "plt.title('Revenue per Plan')\n",
    "plt.xlabel('Plan Name')\n",
    "plt.ylabel('Frequency');"
   ]
  },
  {
   "cell_type": "code",
   "execution_count": 100,
   "metadata": {
    "id": "qJSyfvUguj8y"
   },
   "outputs": [
    {
     "data": {},
     "execution_count": 100,
     "metadata": {},
     "output_type": "execute_result"
    }
   ],
   "source": [
    "mean_revenue = all_data['revenue'].mean() # cálculo média\n",
    "median_revenue = all_data['revenue'].median() # cálculo mediana\n",
    "\n",
    "mean_revenue"
   ]
  },
  {
   "cell_type": "code",
   "execution_count": 101,
   "metadata": {
    "id": "KUSxMW71uj8z"
   },
   "outputs": [
    {
     "data": {},
     "execution_count": 101,
     "metadata": {},
     "output_type": "execute_result"
    }
   ],
   "source": [
    "median_revenue"
   ]
  },
  {
   "cell_type": "markdown",
   "metadata": {
    "id": "6X34EwHpuj8z"
   },
   "source": [
    "Temos uma grande diferença na receita em que a média geral onde o plano ultimate tem uma diferença positiva de 16.21 em relação ao plano surf. Contudo, ao avaliar mais afundo conseguimos perceber que no geral está concentrada a receita no valores corretos do plano (20 e 70) tendo uma minoria das pessoas com gastos que não são o valor base."
   ]
  },
  {
   "cell_type": "markdown",
   "metadata": {
    "id": "xJ6Mu-KAuj8z"
   },
   "source": [
    "## Teste hipóteses estatísticas"
   ]
  },
  {
   "cell_type": "markdown",
   "metadata": {
    "id": "lop_0j4Duj8z"
   },
   "source": [
    "[Teste a hipótese de que a receita média dos usuários dos planos Ultimate e Surf são diferentes.]"
   ]
  },
  {
   "cell_type": "markdown",
   "metadata": {
    "id": "-X2l1R8Luj80"
   },
   "source": [
    "[Formule as hipóteses nula e alternativa, escolha o teste estatístico, escolha o valor alfa.]"
   ]
  },
  {
   "cell_type": "code",
   "execution_count": 102,
   "metadata": {
    "id": "LyGrPhpUuj80"
   },
   "outputs": [
    {
     "data": {},
     "execution_count": 102,
     "metadata": {},
     "output_type": "execute_result"
    }
   ],
   "source": [
    "# Teste as hipóteses\n",
    "\n",
    "surf_plan = all_data[all_data['plan_name'] == 'surf']['revenue'] # seleção da receita referente o plano surf\n",
    "ultimate_plan = all_data[all_data['plan_name'] == 'ultimate']['revenue'] # seleção da receita referente o plano ultimate\n",
    "\n",
    "plan_result = ttest_ind(surf_plan, ultimate_plan) # teste hipóstese nula e alternativa\n",
    "\n",
    "alpha = 0.05\n",
    "plan_result.pvalue < alpha"
   ]
  },
  {
   "cell_type": "code",
   "execution_count": 103,
   "metadata": {},
   "outputs": [
    {
     "data": {
      "image/png": "[encoded data removed]"
     },
     "metadata": {},
     "output_type": "display_data"
    }
   ],
   "source": [
    "plt.hist(surf_plan, bins = 15, edgecolor='black')\n",
    "plt.title('Revenue per Plan')\n",
    "plt.xlabel('Surf Plan')\n",
    "plt.ylabel('Frequency');"
   ]
  },
  {
   "cell_type": "code",
   "execution_count": 104,
   "metadata": {},
   "outputs": [
    {
     "data": {
      "image/png": "[encoded data removed]"
     },
     "metadata": {},
     "output_type": "display_data"
    }
   ],
   "source": [
    "plt.hist(ultimate_plan, bins = 15, edgecolor='black')\n",
    "plt.title('Revenue per Plan')\n",
    "plt.xlabel('Ultimate Plan')\n",
    "plt.ylabel('Frequency');"
   ]
  },
  {
   "cell_type": "code",
   "execution_count": 110,
   "metadata": {},
   "outputs": [],
   "source": [
    "print(plan_result.pvalue)\n",
    "if plan_result.pvalue < alpha:\n",
    "    print(\"Rejeitamos a hipótese nula: há uma diferença significativa na receita média entre os planos Surf e Ultimate.\")\n",
    "else:\n",
    "    print(\"Não rejeitamos a hipótese nula: não há diferença significativa na receita média entre os planos Surf e Ultimate.\")"
   ]
  },
  {
   "cell_type": "markdown",
   "metadata": {},
   "source": [
    "Hipótese estatística receita dos planos serem diferentes - Como já visto anteriormente e comprovado no teste realizado, existe uma diferença na receita dos planos Surf e Ultimate sendo assim a hipótese alternativa válida e a hipótese nula descartada."
   ]
  },
  {
   "cell_type": "markdown",
   "metadata": {
    "id": "Cz6rwE56uj80"
   },
   "source": [
    "[Teste a hipótese de que a receita média dos usuários da área de NY-NJ difere dos usuários das demais regiões.]"
   ]
  },
  {
   "cell_type": "markdown",
   "metadata": {
    "id": "kMHim5__uj80"
   },
   "source": [
    "[Formule as hipóteses nula e alternativa, escolha o teste estatístico, escolha o valor alfa.]"
   ]
  },
  {
   "cell_type": "code",
   "execution_count": 106,
   "metadata": {},
   "outputs": [
    {
     "data": {},
     "execution_count": 106,
     "metadata": {},
     "output_type": "execute_result"
    }
   ],
   "source": [
    "# Teste as hipóteses\n",
    "\n",
    "all_data = all_data.merge(df_users[['user_id', 'city']], on = ['user_id'], how = 'outer') # adicionar coluna city ao dataframe\n",
    "\n",
    "revenue_plan_NY_NJ = all_data[all_data['city'].str.contains('NY-NJ')]['revenue'] # seleção da receita referente o plano em NY-NJ\n",
    "revenue_plan_others = all_data[~all_data['city'].str.contains('NY-NJ')]['revenue'] # seleção da receita referente o plano nas demais cidades\n",
    "\n",
    "plan_result_two = ttest_ind(revenue_plan_NY_NJ, revenue_plan_others) # teste hipóstese nula e alternativa\n",
    "\n",
    "alpha = 0.05\n",
    "plan_result_two.pvalue < alpha"
   ]
  },
  {
   "cell_type": "code",
   "execution_count": 107,
   "metadata": {
    "id": "98t8iiJyuj80"
   },
   "outputs": [
    {
     "data": {
      "image/png": "[encoded data removed]"
     },
     "metadata": {},
     "output_type": "display_data"
    }
   ],
   "source": [
    "plt.hist(revenue_plan_NY_NJ, bins = 30, edgecolor='black')\n",
    "plt.title('Revenue in NY-NJ')\n",
    "plt.xlabel('NY-NJ')\n",
    "plt.ylabel('Frequency');"
   ]
  },
  {
   "cell_type": "code",
   "execution_count": 108,
   "metadata": {},
   "outputs": [
    {
     "data": {
      "image/png": "[encoded data removed]"
     },
     "metadata": {},
     "output_type": "display_data"
    }
   ],
   "source": [
    "plt.hist(revenue_plan_others, bins = 30, edgecolor='black')\n",
    "plt.title('Revenue Other Cities')\n",
    "plt.xlabel('Other Cities')\n",
    "plt.ylabel('Frequency');"
   ]
  },
  {
   "cell_type": "code",
   "execution_count": 109,
   "metadata": {},
   "outputs": [],
   "source": [
    "print(plan_result_two.pvalue)\n",
    "if plan_result_two.pvalue < alpha:\n",
    "    print(\"Rejeitamos a hipótese nula: há uma diferença significativa na receita média entre os usuários da área de NY-NJ e os usuários das demais regiões.\")\n",
    "else:\n",
    "    print(\"Não rejeitamos a hipótese nula: não há diferença significativa na receita média entre os usuários da área de NY-NJ e os usuários das demais regiões.\")"
   ]
  },
  {
   "cell_type": "markdown",
   "metadata": {},
   "source": [
    "Hipótese estatística receita dos planos serem diferentes entre NY-NJ e as demais cidades - Nesta situação a receita dos planos também são diferentes a cidade de NY-NJ para as demais cidades. Podemos ver que NY-NJ tem uma grande concentração e receita nos 20 e 70, contudo contém dados dispersos em outros valores de usuários que ultrapassam o valor base do plano. Já nas demais cidades, temos a mesma situação e NY-NJ onde a maior concentração está em 20 e 70, contudo, a distribuição no restantes dos valores é menor do que na cidade de NY-NJ."
   ]
  },
  {
   "cell_type": "markdown",
   "metadata": {
    "id": "M8WycwWFuj81"
   },
   "source": [
    "## Conclusão geral\n",
    "\n",
    "Podemos concluir que existe uma diferença na receita dos planos e apesar do plano ultimate ser mais caro, tem uma quantidade significativa de usuários  com isso acaba por ser o que maior valor para a empresa. Referente aos dados, a maioria dos usuários utilizada o que tem disponível no plano escolhido, de modo que não seja ultrapassado as condições contratadas e pague mais que o valor base acordado. Pode-se adicionar a essa informação e que a receita de modo geral entre as cidades são iguais, tendo uma pequena diferença apenas no caso das pessoas que gastam mais do que o contratado."
   ]
  },
  {
   "cell_type": "markdown",
   "metadata": {},
   "source": [
    "## Comentário correção\n",
    "\n",
    "Após entrega inicial do projeto, foram dadas algumas dicas de como poderia ser feito de um modo diferente algumas linhas que estavam certa, contudo, a parte da hipótese estava errada sendo indicado que era preciso analisar o p-valor e adicionar as frases se rejeitamos ou não a hipótese, para deixar a análise mais completa.\n",
    "\n",
    "Fiquei com dúvida sobre o que fazer na parte de analisar melhor o p-valor, tendo apenas adicionado uma linha para imprimir o resultado e assim conseguir perceber a diferença existente para a conclusão que cheguei."
   ]
  },
  {
   "cell_type": "code",
   "execution_count": null,
   "metadata": {},
   "outputs": [],
   "source": []
  }
 ],
 "metadata": {
  "ExecuteTimeLog": [
   {
    "duration": 828,
    "start_time": "2021-11-16T09:21:11.304Z"
   },
   {
    "duration": 893,
    "start_time": "2021-11-16T09:21:17.728Z"
   },
   {
    "duration": 1150,
    "start_time": "2021-11-16T09:21:29.568Z"
   },
   {
    "duration": 3,
    "start_time": "2021-11-16T09:24:14.495Z"
   },
   {
    "duration": 120,
    "start_time": "2021-11-16T09:24:46.630Z"
   },
   {
    "duration": 3,
    "start_time": "2021-11-16T09:28:27.882Z"
   },
   {
    "duration": 4,
    "start_time": "2021-11-16T09:29:54.281Z"
   },
   {
    "duration": 3,
    "start_time": "2021-11-16T09:30:45.936Z"
   },
   {
    "duration": 4,
    "start_time": "2021-11-16T09:31:06.300Z"
   },
   {
    "duration": 113,
    "start_time": "2021-11-16T09:31:37.208Z"
   },
   {
    "duration": 143,
    "start_time": "2021-11-16T09:31:48.656Z"
   },
   {
    "duration": 98,
    "start_time": "2021-11-16T09:31:55.678Z"
   },
   {
    "duration": 3,
    "start_time": "2021-11-16T09:32:08.535Z"
   },
   {
    "duration": 111,
    "start_time": "2021-11-16T09:32:10.120Z"
   },
   {
    "duration": 3,
    "start_time": "2021-11-16T09:32:15.732Z"
   },
   {
    "duration": 4,
    "start_time": "2021-11-16T09:32:29.423Z"
   },
   {
    "duration": 3,
    "start_time": "2021-11-16T10:03:03.074Z"
   },
   {
    "duration": 3,
    "start_time": "2021-11-16T10:10:01.288Z"
   },
   {
    "duration": 3,
    "start_time": "2021-11-16T10:10:46.923Z"
   },
   {
    "duration": 121,
    "start_time": "2021-11-16T10:37:46.494Z"
   },
   {
    "duration": 125,
    "start_time": "2021-11-16T10:38:20.632Z"
   },
   {
    "duration": 112,
    "start_time": "2021-11-16T10:46:53.001Z"
   },
   {
    "duration": 110,
    "start_time": "2021-11-16T10:48:25.775Z"
   },
   {
    "duration": 3,
    "start_time": "2021-11-16T10:50:18.720Z"
   },
   {
    "duration": 4,
    "start_time": "2021-11-16T10:50:37.649Z"
   },
   {
    "duration": 2,
    "start_time": "2021-11-16T10:50:51.884Z"
   },
   {
    "duration": 3,
    "start_time": "2021-11-16T10:51:56.237Z"
   },
   {
    "duration": 101,
    "start_time": "2021-11-16T10:53:13.791Z"
   },
   {
    "duration": 3,
    "start_time": "2021-11-16T10:55:59.186Z"
   },
   {
    "duration": 3,
    "start_time": "2021-11-16T10:56:10.751Z"
   },
   {
    "duration": 3,
    "start_time": "2021-11-16T10:56:49.038Z"
   },
   {
    "duration": 3,
    "start_time": "2021-11-16T10:56:49.174Z"
   },
   {
    "duration": 4,
    "start_time": "2021-11-16T10:56:49.414Z"
   },
   {
    "duration": 3,
    "start_time": "2021-11-16T10:56:49.680Z"
   },
   {
    "duration": 3,
    "start_time": "2021-11-16T10:56:50.370Z"
   },
   {
    "duration": 114,
    "start_time": "2021-11-16T10:59:34.518Z"
   },
   {
    "duration": 3,
    "start_time": "2021-11-16T11:01:41.201Z"
   },
   {
    "duration": 116,
    "start_time": "2021-11-16T11:01:48.754Z"
   },
   {
    "duration": 3,
    "start_time": "2021-11-16T11:02:16.685Z"
   },
   {
    "duration": 3,
    "start_time": "2021-11-16T11:02:19.479Z"
   },
   {
    "duration": 3,
    "start_time": "2021-11-16T11:02:47.067Z"
   },
   {
    "duration": 3,
    "start_time": "2021-11-16T11:02:49.353Z"
   },
   {
    "duration": 3,
    "start_time": "2021-11-16T11:03:07.835Z"
   },
   {
    "duration": 3,
    "start_time": "2021-11-16T11:03:07.953Z"
   },
   {
    "duration": 112,
    "start_time": "2021-11-16T11:07:52.072Z"
   },
   {
    "duration": 187,
    "start_time": "2021-11-16T11:09:23.468Z"
   },
   {
    "duration": 4,
    "start_time": "2021-11-16T11:10:01.455Z"
   },
   {
    "duration": 3,
    "start_time": "2021-11-16T11:10:05.069Z"
   },
   {
    "duration": 4,
    "start_time": "2021-11-16T11:10:13.376Z"
   },
   {
    "duration": 3,
    "start_time": "2021-11-16T11:10:14.434Z"
   },
   {
    "duration": 3,
    "start_time": "2021-11-16T11:10:22.853Z"
   },
   {
    "duration": 4,
    "start_time": "2021-11-16T11:27:29.279Z"
   },
   {
    "duration": 4,
    "start_time": "2021-11-16T11:29:08.919Z"
   },
   {
    "duration": 118,
    "start_time": "2021-11-16T11:29:46.703Z"
   },
   {
    "duration": 437,
    "start_time": "2021-11-16T11:36:02.181Z"
   },
   {
    "duration": 157,
    "start_time": "2021-11-16T11:36:14.388Z"
   },
   {
    "duration": 207,
    "start_time": "2021-11-16T11:47:15.898Z"
   },
   {
    "duration": 3,
    "start_time": "2021-11-16T11:53:52.092Z"
   },
   {
    "duration": 3,
    "start_time": "2021-11-16T11:53:52.236Z"
   },
   {
    "duration": 3,
    "start_time": "2021-11-16T11:59:12.005Z"
   },
   {
    "duration": 112,
    "start_time": "2021-11-16T12:00:33.446Z"
   },
   {
    "duration": 3,
    "start_time": "2021-11-16T12:02:14.453Z"
   },
   {
    "duration": 3,
    "start_time": "2021-11-16T12:02:39.512Z"
   },
   {
    "duration": 106,
    "start_time": "2021-11-16T12:03:03.460Z"
   },
   {
    "duration": 3,
    "start_time": "2021-11-17T20:37:21.139Z"
   },
   {
    "duration": 3,
    "start_time": "2021-11-17T20:37:22.229Z"
   },
   {
    "duration": 3,
    "start_time": "2021-11-17T20:38:38.806Z"
   },
   {
    "duration": 3,
    "start_time": "2021-11-17T20:38:41.958Z"
   },
   {
    "duration": 3,
    "start_time": "2021-11-17T20:43:46.551Z"
   },
   {
    "duration": 4,
    "start_time": "2021-11-17T20:58:21.835Z"
   },
   {
    "duration": 3,
    "start_time": "2021-11-17T20:59:21.872Z"
   },
   {
    "duration": 4,
    "start_time": "2021-11-17T20:59:45.352Z"
   },
   {
    "duration": 4,
    "start_time": "2021-11-17T20:59:49.646Z"
   },
   {
    "duration": 159,
    "start_time": "2021-11-17T21:02:26.949Z"
   },
   {
    "duration": 3,
    "start_time": "2021-11-17T21:03:53.461Z"
   },
   {
    "duration": 3,
    "start_time": "2021-11-17T21:03:53.694Z"
   },
   {
    "duration": 3,
    "start_time": "2021-11-17T21:05:28.145Z"
   },
   {
    "duration": 116,
    "start_time": "2021-11-17T21:05:57.787Z"
   },
   {
    "duration": 3,
    "start_time": "2021-11-17T21:06:37.993Z"
   },
   {
    "duration": 3,
    "start_time": "2021-11-17T21:06:38.261Z"
   },
   {
    "duration": 3,
    "start_time": "2021-11-17T21:11:54.358Z"
   },
   {
    "duration": 3,
    "start_time": "2021-11-17T21:12:43.846Z"
   },
   {
    "duration": 4,
    "start_time": "2021-11-17T21:13:08.773Z"
   },
   {
    "duration": 3,
    "start_time": "2021-11-17T21:14:44.441Z"
   },
   {
    "duration": 3,
    "start_time": "2021-11-17T21:15:42.059Z"
   },
   {
    "duration": 4,
    "start_time": "2021-11-17T21:15:51.995Z"
   },
   {
    "duration": 3,
    "start_time": "2021-11-17T21:15:53.923Z"
   },
   {
    "duration": 3,
    "start_time": "2021-11-17T21:15:55.282Z"
   },
   {
    "duration": 3,
    "start_time": "2021-11-17T21:16:28.492Z"
   },
   {
    "duration": 3,
    "start_time": "2021-11-17T21:16:32.603Z"
   },
   {
    "duration": 3,
    "start_time": "2021-11-17T21:17:06.941Z"
   },
   {
    "duration": 98,
    "start_time": "2021-11-17T21:18:05.733Z"
   },
   {
    "duration": 4,
    "start_time": "2021-11-17T21:21:35.255Z"
   },
   {
    "duration": 3,
    "start_time": "2021-11-17T21:21:37.804Z"
   },
   {
    "duration": 4,
    "start_time": "2021-11-17T21:23:06.071Z"
   },
   {
    "duration": 3,
    "start_time": "2021-11-17T21:23:24.799Z"
   },
   {
    "duration": 3,
    "start_time": "2021-11-17T21:23:32.591Z"
   },
   {
    "duration": 98,
    "start_time": "2021-11-17T21:28:31.559Z"
   },
   {
    "duration": 3,
    "start_time": "2021-11-17T21:28:45.448Z"
   },
   {
    "duration": 3,
    "start_time": "2021-11-17T21:29:17.303Z"
   },
   {
    "duration": 3,
    "start_time": "2021-11-17T21:29:29.617Z"
   },
   {
    "duration": 3,
    "start_time": "2021-11-17T21:29:32.681Z"
   },
   {
    "duration": 3,
    "start_time": "2021-11-17T21:36:11.474Z"
   },
   {
    "duration": 3,
    "start_time": "2021-11-17T21:36:14.791Z"
   },
   {
    "duration": 3,
    "start_time": "2021-11-17T21:36:53.943Z"
   },
   {
    "duration": 3,
    "start_time": "2021-11-17T21:36:56.165Z"
   },
   {
    "duration": 4,
    "start_time": "2021-11-17T21:37:16.590Z"
   },
   {
    "duration": 3,
    "start_time": "2021-11-17T21:37:22.702Z"
   },
   {
    "duration": 4,
    "start_time": "2021-11-17T21:38:03.479Z"
   },
   {
    "duration": 3,
    "start_time": "2021-11-17T21:38:08.601Z"
   },
   {
    "duration": 3,
    "start_time": "2021-11-17T21:38:12.928Z"
   },
   {
    "duration": 3,
    "start_time": "2021-11-17T21:38:48.896Z"
   },
   {
    "duration": 2,
    "start_time": "2021-11-17T21:38:49.171Z"
   },
   {
    "duration": 4,
    "start_time": "2021-11-17T21:39:57.889Z"
   },
   {
    "duration": 3,
    "start_time": "2021-11-17T21:39:58.057Z"
   },
   {
    "duration": 3,
    "start_time": "2021-11-17T21:41:20.108Z"
   },
   {
    "duration": 3,
    "start_time": "2021-11-17T21:41:20.629Z"
   },
   {
    "duration": 3,
    "start_time": "2021-11-17T21:42:49.136Z"
   },
   {
    "duration": 3,
    "start_time": "2021-11-17T21:43:15.137Z"
   },
   {
    "duration": 4,
    "start_time": "2021-11-17T21:43:16.766Z"
   },
   {
    "duration": 4,
    "start_time": "2021-11-17T21:43:31.711Z"
   },
   {
    "duration": 3,
    "start_time": "2021-11-17T21:43:36.312Z"
   },
   {
    "duration": 4,
    "start_time": "2021-11-17T21:45:08.825Z"
   },
   {
    "duration": 4,
    "start_time": "2021-11-17T21:45:10.119Z"
   },
   {
    "duration": 4,
    "start_time": "2021-11-17T21:45:13.748Z"
   },
   {
    "duration": 3,
    "start_time": "2021-11-17T21:45:22.219Z"
   },
   {
    "duration": 3,
    "start_time": "2021-11-17T21:45:33.412Z"
   },
   {
    "duration": 2,
    "start_time": "2021-11-17T21:46:01.885Z"
   },
   {
    "duration": 3,
    "start_time": "2021-11-17T21:46:03.628Z"
   },
   {
    "duration": 107,
    "start_time": "2021-11-17T21:47:32.512Z"
   },
   {
    "duration": 103,
    "start_time": "2021-11-17T21:50:36.243Z"
   },
   {
    "duration": 3,
    "start_time": "2021-11-18T06:28:31.440Z"
   },
   {
    "duration": 3,
    "start_time": "2021-11-18T06:29:00.168Z"
   },
   {
    "duration": 3,
    "start_time": "2021-11-18T06:31:27.008Z"
   },
   {
    "duration": 2,
    "start_time": "2021-11-18T06:35:34.288Z"
   },
   {
    "duration": 2,
    "start_time": "2021-11-18T06:38:04.527Z"
   }
  ],
  "colab": {
   "provenance": []
  },
  "kernelspec": {
   "display_name": "Python 3 (ipykernel)",
   "language": "python",
   "name": "python3"
  },
  "language_info": {
   "codemirror_mode": {
    "name": "ipython",
    "version": 3
   },
   "file_extension": ".py",
   "mimetype": "text/x-python",
   "name": "python",
   "nbconvert_exporter": "python",
   "pygments_lexer": "ipython3",
   "version": "3.9.19"
  },
  "toc": {
   "base_numbering": 1,
   "nav_menu": {},
   "number_sections": true,
   "sideBar": true,
   "skip_h1_title": false,
   "title_cell": "Table of Contents",
   "title_sidebar": "Contents",
   "toc_cell": false,
   "toc_position": {
    "height": "calc(100% - 180px)",
    "left": "10px",
    "top": "150px",
    "width": "255.594px"
   },
   "toc_section_display": true,
   "toc_window_display": true
  }
 },
 "nbformat": 4,
 "nbformat_minor": 1
}
